{
 "cells": [
  {
   "cell_type": "code",
   "execution_count": 6,
   "metadata": {},
   "outputs": [
    {
     "name": "stdout",
     "output_type": "stream",
     "text": [
      "POG\n",
      "POG\n",
      "POG041\n",
      "POG041\n",
      "POG130\n",
      "POG130\n",
      "POG248\n",
      "POG248\n",
      "POG482\n",
      "POG482\n",
      "POG713\n",
      "POG713\n",
      "POG783\n",
      "POG783\n"
     ]
    }
   ],
   "source": [
    "%%bash\n",
    "while read i;do for x in {1..2}; do echo \"$i\";done;done < a.tmp"
   ]
  },
  {
   "cell_type": "code",
   "execution_count": null,
   "metadata": {},
   "outputs": [],
   "source": [
    "%% bash\n",
    "(moffitt_venv) (base) [szong@gphost08 production]$ cat setup.sh\n",
    "#! /usr/bin/bash\n",
    "\n",
    "HOME=\"$( cd \"$( dirname \"${BASH_SOURCE[0]}\" )\" && pwd )\"\n",
    "ENV_PATH=$HOME/moffitt_venv\n",
    "\n",
    "# Set group write permissions\n",
    "umask a+w\n",
    "# Create a virtual environment from any python.  Here put in folder venv\n",
    "/gsc/pipelines/envs/default_python -m venv $ENV_PATH\n",
    "# activate the virtual environment\n",
    "source $ENV_PATH/bin/activate\n",
    "# make sure the setup.py install modules are up to date.\n",
    "pip install -U pip setuptools\n",
    "# Run the installation script.\n",
    "python setup.py install\n",
    "# Precompile everything with group write permissions to prevent file permission problems\n",
    "python -m compileall"
   ]
  }
 ],
 "metadata": {
  "kernelspec": {
   "display_name": "Python 3",
   "language": "python",
   "name": "python3"
  },
  "language_info": {
   "codemirror_mode": {
    "name": "ipython",
    "version": 3
   },
   "file_extension": ".py",
   "mimetype": "text/x-python",
   "name": "python",
   "nbconvert_exporter": "python",
   "pygments_lexer": "ipython3",
   "version": "3.7.3"
  }
 },
 "nbformat": 4,
 "nbformat_minor": 2
}
