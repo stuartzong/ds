{
 "cells": [
  {
   "cell_type": "code",
   "execution_count": 42,
   "metadata": {},
   "outputs": [],
   "source": [
    "import pandas as pd\n",
    "import numpy as np\n",
    "import matplotlib.pyplot as plt\n",
    "import seaborn as sns\n",
    "import matplotlib.transforms as transforms\n",
    "# import matplotlib\n",
    "from matplotlib import gridspec\n",
    "from scipy import cluster\n",
    "from scipy.cluster.hierarchy import dendrogram, linkage, fcluster, fclusterdata, leaves_list, cophenet\n",
    "from scipy.spatial.distance import pdist\n",
    "matplotlib.style.use('ggplot')\n",
    "%matplotlib inline\n",
    "matplotlib.rcParams['figure.figsize'] = (7, 5)\n",
    "import warnings\n",
    "warnings.filterwarnings(\"ignore\")\n",
    "from IPython.core.interactiveshell import InteractiveShell\n",
    "InteractiveShell.ast_node_interactivity = \"all\"\n"
   ]
  },
  {
   "cell_type": "markdown",
   "metadata": {},
   "source": [
    "colors: http://colorbrewer2.org/#type=sequential&scheme=Greys&n=8"
   ]
  },
  {
   "cell_type": "markdown",
   "metadata": {},
   "source": []
  },
  {
   "cell_type": "markdown",
   "metadata": {},
   "source": [
    "# example 2D hierachical clustering and visualization code"
   ]
  },
  {
   "cell_type": "markdown",
   "metadata": {},
   "source": [
    "https://joernhees.de/blog/2015/08/26/scipy-hierarchical-clustering-and-dendrogram-tutorial/"
   ]
  },
  {
   "cell_type": "code",
   "execution_count": 8,
   "metadata": {},
   "outputs": [
    {
     "data": {
      "text/html": [
       "<div>\n",
       "<style scoped>\n",
       "    .dataframe tbody tr th:only-of-type {\n",
       "        vertical-align: middle;\n",
       "    }\n",
       "\n",
       "    .dataframe tbody tr th {\n",
       "        vertical-align: top;\n",
       "    }\n",
       "\n",
       "    .dataframe thead th {\n",
       "        text-align: right;\n",
       "    }\n",
       "</style>\n",
       "<table border=\"1\" class=\"dataframe\">\n",
       "  <thead>\n",
       "    <tr style=\"text-align: right;\">\n",
       "      <th></th>\n",
       "      <th>a_x</th>\n",
       "      <th>b_x</th>\n",
       "      <th>c_x</th>\n",
       "      <th>d_x</th>\n",
       "      <th>e_x</th>\n",
       "      <th>a_y</th>\n",
       "      <th>b_y</th>\n",
       "      <th>c_y</th>\n",
       "      <th>d_y</th>\n",
       "      <th>e_y</th>\n",
       "    </tr>\n",
       "  </thead>\n",
       "  <tbody>\n",
       "    <tr>\n",
       "      <td>0</td>\n",
       "      <td>3</td>\n",
       "      <td>7</td>\n",
       "      <td>3</td>\n",
       "      <td>8</td>\n",
       "      <td>9</td>\n",
       "      <td>103</td>\n",
       "      <td>107</td>\n",
       "      <td>103</td>\n",
       "      <td>108</td>\n",
       "      <td>109</td>\n",
       "    </tr>\n",
       "    <tr>\n",
       "      <td>1</td>\n",
       "      <td>8</td>\n",
       "      <td>1</td>\n",
       "      <td>8</td>\n",
       "      <td>4</td>\n",
       "      <td>4</td>\n",
       "      <td>108</td>\n",
       "      <td>101</td>\n",
       "      <td>108</td>\n",
       "      <td>104</td>\n",
       "      <td>104</td>\n",
       "    </tr>\n",
       "  </tbody>\n",
       "</table>\n",
       "</div>"
      ],
      "text/plain": [
       "   a_x  b_x  c_x  d_x  e_x  a_y  b_y  c_y  d_y  e_y\n",
       "0    3    7    3    8    9  103  107  103  108  109\n",
       "1    8    1    8    4    4  108  101  108  104  104"
      ]
     },
     "execution_count": 8,
     "metadata": {},
     "output_type": "execute_result"
    },
    {
     "data": {
      "text/html": [
       "<div>\n",
       "<style scoped>\n",
       "    .dataframe tbody tr th:only-of-type {\n",
       "        vertical-align: middle;\n",
       "    }\n",
       "\n",
       "    .dataframe tbody tr th {\n",
       "        vertical-align: top;\n",
       "    }\n",
       "\n",
       "    .dataframe thead th {\n",
       "        text-align: right;\n",
       "    }\n",
       "</style>\n",
       "<table border=\"1\" class=\"dataframe\">\n",
       "  <thead>\n",
       "    <tr style=\"text-align: right;\">\n",
       "      <th></th>\n",
       "      <th>a_x</th>\n",
       "      <th>b_x</th>\n",
       "      <th>c_x</th>\n",
       "      <th>d_x</th>\n",
       "      <th>e_x</th>\n",
       "      <th>a_y</th>\n",
       "      <th>b_y</th>\n",
       "      <th>c_y</th>\n",
       "      <th>d_y</th>\n",
       "      <th>e_y</th>\n",
       "    </tr>\n",
       "  </thead>\n",
       "  <tbody>\n",
       "    <tr>\n",
       "      <td>18</td>\n",
       "      <td>106</td>\n",
       "      <td>102</td>\n",
       "      <td>102</td>\n",
       "      <td>103</td>\n",
       "      <td>102</td>\n",
       "      <td>206</td>\n",
       "      <td>202</td>\n",
       "      <td>202</td>\n",
       "      <td>203</td>\n",
       "      <td>202</td>\n",
       "    </tr>\n",
       "    <tr>\n",
       "      <td>19</td>\n",
       "      <td>102</td>\n",
       "      <td>109</td>\n",
       "      <td>108</td>\n",
       "      <td>108</td>\n",
       "      <td>102</td>\n",
       "      <td>202</td>\n",
       "      <td>209</td>\n",
       "      <td>208</td>\n",
       "      <td>208</td>\n",
       "      <td>202</td>\n",
       "    </tr>\n",
       "  </tbody>\n",
       "</table>\n",
       "</div>"
      ],
      "text/plain": [
       "    a_x  b_x  c_x  d_x  e_x  a_y  b_y  c_y  d_y  e_y\n",
       "18  106  102  102  103  102  206  202  202  203  202\n",
       "19  102  109  108  108  102  202  209  208  208  202"
      ]
     },
     "execution_count": 8,
     "metadata": {},
     "output_type": "execute_result"
    },
    {
     "data": {
      "text/plain": [
       "(20, 10)"
      ]
     },
     "execution_count": 8,
     "metadata": {},
     "output_type": "execute_result"
    }
   ],
   "source": [
    "df1 = pd.DataFrame(np.random.randint(1,10,size=(10,5)), columns=list('abcde'))\n",
    "df2 = pd.DataFrame(100+np.random.randint(1,10,size=(10,5)), columns=list('abcde'))\n",
    "df = pd.concat([df1,df2])\n",
    "df = df.reset_index(drop=True)\n",
    "df3 = df+100\n",
    "df4 = pd.merge(df, df3, left_index=True, right_index=True)\n",
    "df4.head(2)\n",
    "df4.tail(2)\n",
    "df4.shape"
   ]
  },
  {
   "cell_type": "code",
   "execution_count": 16,
   "metadata": {},
   "outputs": [
    {
     "data": {
      "text/plain": [
       "array([[12. , 13. ,  0.4,  2. ],\n",
       "       [ 0. ,  5. ,  0.6,  2. ],\n",
       "       [ 1. ,  8. ,  0.6,  2. ],\n",
       "       [ 2. ,  7. ,  0.6,  2. ],\n",
       "       [ 3. , 23. ,  0.6,  3. ],\n",
       "       [11. , 19. ,  0.6,  2. ],\n",
       "       [17. , 18. ,  0.6,  2. ],\n",
       "       [21. , 22. ,  0.8,  4. ],\n",
       "       [24. , 27. ,  0.8,  7. ],\n",
       "       [ 4. , 28. ,  0.8,  8. ],\n",
       "       [ 6. , 29. ,  0.8,  9. ],\n",
       "       [ 9. , 30. ,  0.8, 10. ],\n",
       "       [10. , 14. ,  0.8,  2. ],\n",
       "       [15. , 32. ,  0.8,  3. ],\n",
       "       [25. , 33. ,  0.8,  5. ],\n",
       "       [20. , 34. ,  0.8,  7. ],\n",
       "       [16. , 35. ,  0.8,  8. ],\n",
       "       [26. , 36. ,  0.8, 10. ],\n",
       "       [31. , 37. ,  1. , 20. ]])"
      ]
     },
     "execution_count": 16,
     "metadata": {},
     "output_type": "execute_result"
    },
    {
     "data": {
      "text/plain": [
       "(19, 4)"
      ]
     },
     "execution_count": 16,
     "metadata": {},
     "output_type": "execute_result"
    },
    {
     "data": {
      "image/png": "[encoded data removed]",
      "text/plain": [
       "<Figure size 864x144 with 1 Axes>"
      ]
     },
     "metadata": {
      "needs_background": "light"
     },
     "output_type": "display_data"
    }
   ],
   "source": [
    "# cluster by rows\n",
    "Z_rows = linkage(df4.values, metric='hamming')\n",
    "Z_rows\n",
    "Z_rows.shape\n",
    "f, ax = plt.subplots(figsize=(12, 2))\n",
    "_ = dendrogram(Z_rows, labels=df4.index.values)\n",
    "# https://stackoverflow.com/questions/9838861/scipy-linkage-format\n",
    "# point 16 and 19 close to form cluster 20,Within-Cluster Distance (WCD) of 0.4.last column is the number of datapoint clustered \n",
    "# point 0 and 1 closed to form cluster 21,\n",
    "# point 3 and 8 close to form cluster 22,\n",
    "# point 5 merged into newly formed cluster 22 to form cluster 23"
   ]
  },
  {
   "cell_type": "markdown",
   "metadata": {},
   "source": [
    "Another thing you can and should definitely do is check the Cophenetic Correlation Coefficient of your clustering with help of the cophenet() function. This (very very briefly) compares (correlates) the actual pairwise distances of all your samples to those implied by the hierarchical clustering. The closer the value is to 1, the better the clustering preserves the original distances"
   ]
  },
  {
   "cell_type": "code",
   "execution_count": 11,
   "metadata": {},
   "outputs": [
    {
     "data": {
      "text/plain": [
       "0.8960975487064936"
      ]
     },
     "execution_count": 11,
     "metadata": {},
     "output_type": "execute_result"
    }
   ],
   "source": [
    "c, coph_dists = cophenet(Z_rows, pdist(df4.values))\n",
    "c"
   ]
  },
  {
   "cell_type": "code",
   "execution_count": 17,
   "metadata": {},
   "outputs": [
    {
     "data": {
      "text/plain": [
       "array([[ 0.  ,  2.  ,  0.8 ,  2.  ],\n",
       "       [ 5.  ,  7.  ,  0.8 ,  2.  ],\n",
       "       [ 1.  , 10.  ,  0.85,  3.  ],\n",
       "       [ 3.  , 12.  ,  0.85,  4.  ],\n",
       "       [ 6.  , 11.  ,  0.85,  3.  ],\n",
       "       [ 8.  , 14.  ,  0.85,  4.  ],\n",
       "       [ 4.  , 13.  ,  0.9 ,  5.  ],\n",
       "       [ 9.  , 15.  ,  0.9 ,  5.  ],\n",
       "       [16.  , 17.  ,  1.  , 10.  ]])"
      ]
     },
     "execution_count": 17,
     "metadata": {},
     "output_type": "execute_result"
    },
    {
     "data": {
      "image/png": "[encoded data removed]",
      "text/plain": [
       "<Figure size 864x144 with 1 Axes>"
      ]
     },
     "metadata": {
      "needs_background": "light"
     },
     "output_type": "display_data"
    }
   ],
   "source": [
    "# cluster by columns\n",
    "Z_columns = linkage(df4.T.values, metric='hamming')\n",
    "Z_columns\n",
    "f, ax = plt.subplots(figsize=(12, 2))\n",
    "_ = dendrogram(Z_columns, labels=df4.T.index.values)"
   ]
  },
  {
   "cell_type": "code",
   "execution_count": 19,
   "metadata": {},
   "outputs": [
    {
     "data": {
      "text/html": [
       "<div>\n",
       "<style scoped>\n",
       "    .dataframe tbody tr th:only-of-type {\n",
       "        vertical-align: middle;\n",
       "    }\n",
       "\n",
       "    .dataframe tbody tr th {\n",
       "        vertical-align: top;\n",
       "    }\n",
       "\n",
       "    .dataframe thead th {\n",
       "        text-align: right;\n",
       "    }\n",
       "</style>\n",
       "<table border=\"1\" class=\"dataframe\">\n",
       "  <thead>\n",
       "    <tr style=\"text-align: right;\">\n",
       "      <th></th>\n",
       "      <th>a_x</th>\n",
       "      <th>b_x</th>\n",
       "      <th>c_x</th>\n",
       "      <th>d_x</th>\n",
       "      <th>e_x</th>\n",
       "      <th>a_y</th>\n",
       "      <th>b_y</th>\n",
       "      <th>c_y</th>\n",
       "      <th>d_y</th>\n",
       "      <th>e_y</th>\n",
       "    </tr>\n",
       "  </thead>\n",
       "  <tbody>\n",
       "    <tr>\n",
       "      <td>0</td>\n",
       "      <td>3</td>\n",
       "      <td>7</td>\n",
       "      <td>3</td>\n",
       "      <td>8</td>\n",
       "      <td>9</td>\n",
       "      <td>103</td>\n",
       "      <td>107</td>\n",
       "      <td>103</td>\n",
       "      <td>108</td>\n",
       "      <td>109</td>\n",
       "    </tr>\n",
       "    <tr>\n",
       "      <td>1</td>\n",
       "      <td>8</td>\n",
       "      <td>1</td>\n",
       "      <td>8</td>\n",
       "      <td>4</td>\n",
       "      <td>4</td>\n",
       "      <td>108</td>\n",
       "      <td>101</td>\n",
       "      <td>108</td>\n",
       "      <td>104</td>\n",
       "      <td>104</td>\n",
       "    </tr>\n",
       "  </tbody>\n",
       "</table>\n",
       "</div>"
      ],
      "text/plain": [
       "   a_x  b_x  c_x  d_x  e_x  a_y  b_y  c_y  d_y  e_y\n",
       "0    3    7    3    8    9  103  107  103  108  109\n",
       "1    8    1    8    4    4  108  101  108  104  104"
      ]
     },
     "execution_count": 19,
     "metadata": {},
     "output_type": "execute_result"
    }
   ],
   "source": [
    "df4.head(2)"
   ]
  },
  {
   "cell_type": "code",
   "execution_count": 22,
   "metadata": {},
   "outputs": [],
   "source": [
    "# reorder rows and columns based on the cluster linkage order\n",
    "x_idxes = leaves_list(Z_rows)\n",
    "x_idxes = list(reversed(x_idxes)) # reverse a list\n",
    "y_idxes = leaves_list(Z_columns)"
   ]
  },
  {
   "cell_type": "code",
   "execution_count": 24,
   "metadata": {},
   "outputs": [
    {
     "data": {
      "text/plain": [
       "[14, 10, 15, 19, 11, 13, 12, 16, 18, 17, 8, 1, 5, 0, 7, 2, 3, 4, 6, 9]"
      ]
     },
     "execution_count": 24,
     "metadata": {},
     "output_type": "execute_result"
    },
    {
     "data": {
      "text/plain": [
       "array([4, 3, 1, 0, 2, 9, 8, 6, 5, 7], dtype=int32)"
      ]
     },
     "execution_count": 24,
     "metadata": {},
     "output_type": "execute_result"
    }
   ],
   "source": [
    "x_idxes\n",
    "y_idxes"
   ]
  },
  {
   "cell_type": "code",
   "execution_count": 30,
   "metadata": {},
   "outputs": [
    {
     "data": {
      "text/html": [
       "<div>\n",
       "<style scoped>\n",
       "    .dataframe tbody tr th:only-of-type {\n",
       "        vertical-align: middle;\n",
       "    }\n",
       "\n",
       "    .dataframe tbody tr th {\n",
       "        vertical-align: top;\n",
       "    }\n",
       "\n",
       "    .dataframe thead th {\n",
       "        text-align: right;\n",
       "    }\n",
       "</style>\n",
       "<table border=\"1\" class=\"dataframe\">\n",
       "  <thead>\n",
       "    <tr style=\"text-align: right;\">\n",
       "      <th></th>\n",
       "      <th>e_x</th>\n",
       "      <th>d_x</th>\n",
       "      <th>b_x</th>\n",
       "      <th>a_x</th>\n",
       "      <th>c_x</th>\n",
       "      <th>e_y</th>\n",
       "      <th>d_y</th>\n",
       "      <th>b_y</th>\n",
       "      <th>a_y</th>\n",
       "      <th>c_y</th>\n",
       "    </tr>\n",
       "  </thead>\n",
       "  <tbody>\n",
       "    <tr>\n",
       "      <td>14</td>\n",
       "      <td>104</td>\n",
       "      <td>102</td>\n",
       "      <td>107</td>\n",
       "      <td>106</td>\n",
       "      <td>109</td>\n",
       "      <td>204</td>\n",
       "      <td>202</td>\n",
       "      <td>207</td>\n",
       "      <td>206</td>\n",
       "      <td>209</td>\n",
       "    </tr>\n",
       "    <tr>\n",
       "      <td>10</td>\n",
       "      <td>102</td>\n",
       "      <td>105</td>\n",
       "      <td>107</td>\n",
       "      <td>103</td>\n",
       "      <td>106</td>\n",
       "      <td>202</td>\n",
       "      <td>205</td>\n",
       "      <td>207</td>\n",
       "      <td>203</td>\n",
       "      <td>206</td>\n",
       "    </tr>\n",
       "  </tbody>\n",
       "</table>\n",
       "</div>"
      ],
      "text/plain": [
       "    e_x  d_x  b_x  a_x  c_x  e_y  d_y  b_y  a_y  c_y\n",
       "14  104  102  107  106  109  204  202  207  206  209\n",
       "10  102  105  107  103  106  202  205  207  203  206"
      ]
     },
     "execution_count": 30,
     "metadata": {},
     "output_type": "execute_result"
    }
   ],
   "source": [
    "# df = df4.ix[x_idxes][y_idxes]\n",
    "df = df4.iloc[x_idxes, y_idxes]\n",
    "df.head(2)"
   ]
  },
  {
   "cell_type": "code",
   "execution_count": 36,
   "metadata": {},
   "outputs": [
    {
     "data": {
      "text/plain": [
       "[]"
      ]
     },
     "execution_count": 36,
     "metadata": {},
     "output_type": "execute_result"
    },
    {
     "data": {
      "text/plain": [
       "[]"
      ]
     },
     "execution_count": 36,
     "metadata": {},
     "output_type": "execute_result"
    },
    {
     "data": {
      "text/plain": [
       "[]"
      ]
     },
     "execution_count": 36,
     "metadata": {},
     "output_type": "execute_result"
    },
    {
     "data": {
      "text/plain": [
       "[]"
      ]
     },
     "execution_count": 36,
     "metadata": {},
     "output_type": "execute_result"
    },
    {
     "data": {
      "image/png": "[encoded data removed]",
      "text/plain": [
       "<Figure size 288x576 with 4 Axes>"
      ]
     },
     "metadata": {},
     "output_type": "display_data"
    }
   ],
   "source": [
    "fig = plt.figure(figsize=(4, 8), facecolor='white')\n",
    "\n",
    "gs = gridspec.GridSpec(2, 3, height_ratios=[1,10], width_ratios=[1, 16, 0.5], \n",
    "                       wspace=0.2, # horizontal space\n",
    "                       hspace=0.05  # vertical space\n",
    "                      )\n",
    "\n",
    "X_ax = fig.add_subplot(gs[1])\n",
    "col_func = lambda x: 'black'\n",
    "_ = dendrogram(Z_columns, ax=X_ax,  leaf_font_size=10, link_color_func=col_func, labels=df4.columns.values)\n",
    "X_ax.set_frame_on(False)\n",
    "X_ax.axes.get_yaxis().set_visible(False)\n",
    "\n",
    "Y_ax = fig.add_subplot(gs[3])\n",
    "_ = dendrogram(Z_rows, ax=Y_ax, orientation='left', labels=df4.index.values,  link_color_func=col_func)\n",
    "Y_ax.set_frame_on(False)\n",
    "Y_ax.axes.get_xaxis().set_visible(False)\n",
    "\n",
    "ax_mut = fig.add_subplot(gs[4])\n",
    "ax_mut.xaxis.tick_top()\n",
    "im = ax_mut.imshow(df.values,\n",
    "#                    origin='lower',\n",
    "                   interpolation='none',\n",
    "#                    extent=list(Y_ax.get_xlim()) + list(X_ax.get_ylim()),\n",
    "                   aspect='auto',\n",
    "                   cmap='gist_ncar_r', \n",
    "                   vmin=0, vmax=df.values.max())\n",
    "\n",
    "xtick_labels = df.columns.values.tolist()\n",
    "ytick_labels = df.index.values.tolist()\n",
    "\n",
    "# ticklabels follow major ticks\n",
    "_ = ax_mut.set_xticks(np.arange(len(xtick_labels)), minor=False)\n",
    "_ = ax_mut.set_yticks(np.arange(len(ytick_labels)), minor=False)\n",
    "ax_mut.minorticks_off()\n",
    "\n",
    "_ = ax_mut.set_xticklabels(xtick_labels, rotation=90, ha='center')\n",
    "_ = ax_mut.set_yticklabels(ytick_labels, va='center')\n",
    "\n",
    "Y_ax.set_xticklabels([])\n",
    "Y_ax.set_yticklabels([])\n",
    "X_ax.set_xticklabels([])\n",
    "X_ax.set_yticklabels([])\n",
    "\n",
    "ax_mut.grid(color='green', which='major', linestyle='--')\n",
    "# ax_mut.grid(False)\n",
    "\n",
    "ax_leg = fig.add_subplot(gs[5])\n",
    "ax_leg.set_frame_on(False)\n",
    "# ax_leg.set_axis_off()\n",
    "cb = fig.colorbar(im, cax=ax_leg)\n",
    "\n",
    "for ax in [Y_ax, X_ax, ax_mut, ax_leg]:\n",
    "    ax.patch.set_facecolor('white')\n",
    "    ax.patch.set_alpha(1)\n",
    "\n",
    "# # plt.savefig('./candidate_genes_mutational_profile_{0}.jpg'.format(char_code), \n",
    "# #             dpi=200, bbox_inches='tight')"
   ]
  },
  {
   "cell_type": "markdown",
   "metadata": {
    "collapsed": true
   },
   "source": [
    "# another example of clustering"
   ]
  },
  {
   "cell_type": "code",
   "execution_count": 37,
   "metadata": {},
   "outputs": [],
   "source": [
    "import sklearn.datasets\n",
    "X, y = sklearn.datasets.make_blobs(n_samples=10,\n",
    "                  cluster_std=2.5,\n",
    "                  random_state=77)"
   ]
  },
  {
   "cell_type": "code",
   "execution_count": 38,
   "metadata": {},
   "outputs": [
    {
     "data": {
      "text/plain": [
       "array([[  9.54837905,  -2.09286075],\n",
       "       [  9.14690493,   5.75376739],\n",
       "       [ 12.3031729 ,   1.03192444],\n",
       "       [  9.07105067,  -1.09560093],\n",
       "       [ -8.52559273,   4.01758113],\n",
       "       [ -8.43839071,   5.35880273],\n",
       "       [  1.85895634,  -7.68661259],\n",
       "       [  3.47661761,  -2.97013556],\n",
       "       [-10.76813606,   4.77867854],\n",
       "       [  2.45150612,  -9.65515365]])"
      ]
     },
     "execution_count": 38,
     "metadata": {},
     "output_type": "execute_result"
    }
   ],
   "source": [
    "X"
   ]
  },
  {
   "cell_type": "code",
   "execution_count": 39,
   "metadata": {},
   "outputs": [
    {
     "data": {
      "text/plain": [
       "array([0, 0, 0, 0, 2, 2, 1, 1, 2, 1])"
      ]
     },
     "execution_count": 39,
     "metadata": {},
     "output_type": "execute_result"
    }
   ],
   "source": [
    "y"
   ]
  },
  {
   "cell_type": "code",
   "execution_count": 44,
   "metadata": {},
   "outputs": [
    {
     "data": {
      "image/png": "[encoded data removed]",
      "text/plain": [
       "<Figure size 432x144 with 1 Axes>"
      ]
     },
     "metadata": {
      "needs_background": "light"
     },
     "output_type": "display_data"
    }
   ],
   "source": [
    "f, ax = plt.subplots(figsize=(6, 2))\n",
    "Z = cluster.hierarchy.linkage(X, \"complete\")\n",
    "cluster.hierarchy.dendrogram(Z);"
   ]
  },
  {
   "cell_type": "code",
   "execution_count": 47,
   "metadata": {},
   "outputs": [
    {
     "data": {
      "text/plain": [
       "{'icoord': [[15.0, 15.0, 25.0, 25.0],\n",
       "  [5.0, 5.0, 20.0, 20.0],\n",
       "  [55.0, 55.0, 65.0, 65.0],\n",
       "  [45.0, 45.0, 60.0, 60.0],\n",
       "  [35.0, 35.0, 52.5, 52.5],\n",
       "  [85.0, 85.0, 95.0, 95.0],\n",
       "  [75.0, 75.0, 90.0, 90.0],\n",
       "  [43.75, 43.75, 82.5, 82.5],\n",
       "  [12.5, 12.5, 63.125, 63.125]],\n",
       " 'dcoord': [[0.0, 0.0, 0.0, 0.0],\n",
       "  [0.0, 9.064933036736789e-17, 9.064933036736789e-17, 0.0],\n",
       "  [0.0, 0.0, 0.0, 0.0],\n",
       "  [0.0, 0.0, 0.0, 0.0],\n",
       "  [0.0, 0.0, 0.0, 0.0],\n",
       "  [0.0, 0.0, 0.0, 0.0],\n",
       "  [0.0, 9.064933036736789e-17, 9.064933036736789e-17, 0.0],\n",
       "  [0.0, 1.7470376089555441e-16, 1.7470376089555441e-16, 9.064933036736789e-17],\n",
       "  [9.064933036736789e-17,\n",
       "   4.098780306383839,\n",
       "   4.098780306383839,\n",
       "   1.7470376089555441e-16]],\n",
       " 'ivl': ['8', '4', '5', '9', '2', '0', '1', '7', '3', '6'],\n",
       " 'leaves': [8, 4, 5, 9, 2, 0, 1, 7, 3, 6],\n",
       " 'color_list': ['g', 'g', 'r', 'r', 'r', 'r', 'r', 'r', 'b']}"
      ]
     },
     "execution_count": 47,
     "metadata": {},
     "output_type": "execute_result"
    },
    {
     "data": {
      "image/png": "[encoded data removed]",
      "text/plain": [
       "<Figure size 432x144 with 1 Axes>"
      ]
     },
     "metadata": {
      "needs_background": "light"
     },
     "output_type": "display_data"
    }
   ],
   "source": [
    "f, ax = plt.subplots(figsize=(6, 2))\n",
    "dist='correlation'\n",
    "link='ward'\n",
    "Z = linkage(pdist(X, dist), link)\n",
    "dendrogram(Z)"
   ]
  }
 ],
 "metadata": {
  "kernelspec": {
   "display_name": "Python 3",
   "language": "python",
   "name": "python3"
  },
  "language_info": {
   "codemirror_mode": {
    "name": "ipython",
    "version": 3
   },
   "file_extension": ".py",
   "mimetype": "text/x-python",
   "name": "python",
   "nbconvert_exporter": "python",
   "pygments_lexer": "ipython3",
   "version": "3.7.3"
  }
 },
 "nbformat": 4,
 "nbformat_minor": 2
}
