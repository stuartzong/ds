{
 "cells": [
  {
   "cell_type": "markdown",
   "metadata": {},
   "source": [
    "### go over grade 9 curriculum"
   ]
  },
  {
   "cell_type": "markdown",
   "metadata": {},
   "source": [
    "\n",
    "https://curriculum.gov.bc.ca/curriculum/mathematics/8"
   ]
  },
  {
   "cell_type": "markdown",
   "metadata": {},
   "source": [
    "### square and cube roots\n",
    "finding the cube root of 125  \n",
    "finding the square root of 16/169  \n",
    "estimating the square root of 30  "
   ]
  },
  {
   "cell_type": "code",
   "execution_count": null,
   "metadata": {},
   "outputs": [],
   "source": []
  },
  {
   "cell_type": "markdown",
   "metadata": {},
   "source": [
    "### exercise"
   ]
  },
  {
   "cell_type": "markdown",
   "metadata": {},
   "source": [
    "$\\sqrt {49}$"
   ]
  },
  {
   "cell_type": "code",
   "execution_count": null,
   "metadata": {},
   "outputs": [],
   "source": []
  },
  {
   "cell_type": "markdown",
   "metadata": {},
   "source": [
    "$\\sqrt[3] {125}$  "
   ]
  },
  {
   "cell_type": "code",
   "execution_count": null,
   "metadata": {},
   "outputs": [],
   "source": []
  },
  {
   "cell_type": "markdown",
   "metadata": {},
   "source": [
    "$\\sqrt{81}\\times \\sqrt[3]{216}$"
   ]
  },
  {
   "cell_type": "code",
   "execution_count": null,
   "metadata": {},
   "outputs": [],
   "source": []
  },
  {
   "cell_type": "code",
   "execution_count": null,
   "metadata": {},
   "outputs": [],
   "source": []
  },
  {
   "cell_type": "markdown",
   "metadata": {},
   "source": [
    "### percent\n",
    "A worker’s salary increased 122% in three years. If her salary is now $93,940, what was it originally? \n",
    "\n",
    "What is ½% of 1 billion?\n",
    "\n",
    "The population of Vancouver increased by 3.25%. What is the population if it was approximately 603,500 people last year?\n",
    "\n",
    "beading"
   ]
  },
  {
   "cell_type": "code",
   "execution_count": null,
   "metadata": {},
   "outputs": [],
   "source": []
  },
  {
   "cell_type": "markdown",
   "metadata": {},
   "source": [
    "### excercise"
   ]
  },
  {
   "cell_type": "markdown",
   "metadata": {},
   "source": [
    "$25\\% \\times 122$"
   ]
  },
  {
   "cell_type": "code",
   "execution_count": null,
   "metadata": {},
   "outputs": [],
   "source": []
  },
  {
   "cell_type": "markdown",
   "metadata": {},
   "source": [
    "$12\\%\\times 2/5 \\times 20\\%$"
   ]
  },
  {
   "cell_type": "code",
   "execution_count": null,
   "metadata": {},
   "outputs": [],
   "source": []
  },
  {
   "cell_type": "markdown",
   "metadata": {},
   "source": [
    "$4.25\\%\\times 50\\times 1/2$"
   ]
  },
  {
   "cell_type": "code",
   "execution_count": null,
   "metadata": {},
   "outputs": [],
   "source": []
  },
  {
   "cell_type": "markdown",
   "metadata": {},
   "source": [
    "$(6/7)\\%\\times (-14/12) + 30\\%$"
   ]
  },
  {
   "cell_type": "code",
   "execution_count": null,
   "metadata": {},
   "outputs": [],
   "source": []
  },
  {
   "cell_type": "code",
   "execution_count": null,
   "metadata": {},
   "outputs": [],
   "source": []
  },
  {
   "cell_type": "markdown",
   "metadata": {},
   "source": [
    "### proportional reasoning"
   ]
  },
  {
   "cell_type": "markdown",
   "metadata": {},
   "source": [
    "two-term and three-term ratios, real-life examples and problems \n",
    "\n",
    "A string is cut into three pieces whose lengths form a ratio of 3:5:7. If the string was 105 cm long, how long are the pieces?\n",
    "\n",
    "creating a cedar drum box of proportions that use ratios to create differences in pitch and tone\n",
    "\n",
    "paddle making"
   ]
  },
  {
   "cell_type": "code",
   "execution_count": null,
   "metadata": {},
   "outputs": [],
   "source": []
  },
  {
   "cell_type": "markdown",
   "metadata": {},
   "source": [
    "## Day 2 Jun 21, 2019"
   ]
  },
  {
   "cell_type": "markdown",
   "metadata": {},
   "source": [
    "### fractions\n",
    "addition, subtraction, multiplication, division, and order of operations"
   ]
  },
  {
   "cell_type": "markdown",
   "metadata": {},
   "source": [
    "includes the use of brackets, but excludes exponents \n",
    "\n",
    "using pattern blocks or Cuisenaire Rods\n",
    "\n",
    "simplifying ½ ÷ 9/6 x (7 – 4/5)\n",
    "\n",
    "drumming and song: 1/2, 1/4, 1/8, whole notes, dot bars, rests = one beat\n",
    "\n",
    "changing tempos of traditional songs dependent on context of use\n",
    "\n",
    "proportional sharing of harvests based on family size"
   ]
  },
  {
   "cell_type": "code",
   "execution_count": null,
   "metadata": {},
   "outputs": [],
   "source": []
  },
  {
   "cell_type": "markdown",
   "metadata": {},
   "source": [
    "### discrete linear relations"
   ]
  },
  {
   "cell_type": "markdown",
   "metadata": {},
   "source": [
    "two-variable discrete linear relations \n",
    "\n",
    "expressions, table of values, and graphs\n",
    "\n",
    "scale values (e.g., tick marks on axis represent 5 units instead of 1)\n",
    "\n",
    "four quadrants, integral coordinates"
   ]
  }
 ],
 "metadata": {
  "kernelspec": {
   "display_name": "Python 3",
   "language": "python",
   "name": "python3"
  },
  "language_info": {
   "codemirror_mode": {
    "name": "ipython",
    "version": 3
   },
   "file_extension": ".py",
   "mimetype": "text/x-python",
   "name": "python",
   "nbconvert_exporter": "python",
   "pygments_lexer": "ipython3",
   "version": "3.6.7"
  }
 },
 "nbformat": 4,
 "nbformat_minor": 2
}
