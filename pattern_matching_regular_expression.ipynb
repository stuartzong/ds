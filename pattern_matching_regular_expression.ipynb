{
 "cells": [
  {
   "cell_type": "code",
   "execution_count": 2,
   "metadata": {},
   "outputs": [],
   "source": [
    "import re\n",
    "from IPython.core.interactiveshell import InteractiveShell\n",
    "InteractiveShell.ast_node_interactivity = \"all\""
   ]
  },
  {
   "cell_type": "markdown",
   "metadata": {},
   "source": [
    "reference:\n",
    "https://docs.python.org/2/library/re.html\n",
    "\n",
    "\n",
    "backslash character ('\\') to indicate special charactor\n",
    "\n",
    "raw string notation, r'\\n' means raw two character string: \\ and n, not newline character\n",
    "\n",
    "Some characters, like '|' or '(', are special.\n",
    "\n",
    "\n",
    "'.': any character except a newline\n",
    "\n",
    "'^': start of the string\n",
    "\n",
    "'$': end of the string\n",
    "\n",
    "'*':  match 0 or more repetitions of the preceding RE\n",
    "\n",
    "'+': match 1 or more repetitions of the preceding RE\n",
    "\n",
    "'?': match 0 or 1 repetitions of the preceding RE\n",
    "\n",
    "*?, +?, ??: Adding ? after the qualifier makes it perform the match in non-greedy\n",
    "    \n",
    "{m}: exactly m copies of the previous RE should be matched\n",
    "\n",
    "{m,n}: match from m to n repetitions of the preceding RE, attempting to match as many repetitions as possible\n",
    "\n",
    "'\\': escapes special characters (permitting you to match characters like '*', '?'\n",
    "\n",
    "[]: a set of characters, [amk] will match 'a', 'm', or 'k'.\n",
    "Ranges of characters can be indicated by giving two characters and separating them by a '-', for example [a-z] will match any lowercase ASCII letter, [0-5][0-9] will match all the two-digits numbers from 00 to 59, \n",
    "\n",
    "Special characters lose their special meaning inside sets. For example, [(+*)] will match any of the literal characters '(', '+', '*', or ')'.\n",
    "\n",
    "'|': A|B, where A and B can be arbitrary REs, creates a regular expression that will match either A or B. \n",
    "\n",
    "\\s: matches any whitespace character\n",
    "\n",
    "\\S: matches any non-whitespace character\n",
    "\n",
    "\\w: matches any alphanumeric character and the underscore\n",
    "\n",
    "\\W: matches any non-alphanumeric character; this is equivalent to the set [^a-zA-Z0-9_]\n"
   ]
  },
  {
   "cell_type": "markdown",
   "metadata": {},
   "source": [
    "re.match() checks for a match only at the beginning of the string\n",
    "\n",
    "re.search() checks for a match anywhere in the string \n",
    "\n"
   ]
  },
  {
   "cell_type": "code",
   "execution_count": 4,
   "metadata": {},
   "outputs": [],
   "source": [
    "text = 'matches any non-alphanumeric character; this is equivalent to the set [^a-zA-Z0-9_]'\n",
    "m = re.match('o', text)\n",
    "m"
   ]
  },
  {
   "cell_type": "code",
   "execution_count": 6,
   "metadata": {},
   "outputs": [
    {
     "data": {
      "text/plain": [
       "'no'"
      ]
     },
     "execution_count": 6,
     "metadata": {},
     "output_type": "execute_result"
    },
    {
     "data": {
      "text/plain": [
       "<re.Match object; span=(12, 14), match='no'>"
      ]
     },
     "execution_count": 6,
     "metadata": {},
     "output_type": "execute_result"
    }
   ],
   "source": [
    "m = re.search(r'\\wo.*?', text)\n",
    "m.group(0)\n",
    "m"
   ]
  },
  {
   "cell_type": "code",
   "execution_count": 9,
   "metadata": {},
   "outputs": [
    {
     "data": {
      "text/plain": [
       "re.compile(r't.{2,5}', re.UNICODE)"
      ]
     },
     "execution_count": 9,
     "metadata": {},
     "output_type": "execute_result"
    },
    {
     "data": {
      "text/plain": [
       "['tches ', 'ter; t', 't to t', 't [^a-']"
      ]
     },
     "execution_count": 9,
     "metadata": {},
     "output_type": "execute_result"
    }
   ],
   "source": [
    "pattern = re.compile(r't.{2,5}')\n",
    "pattern\n",
    "pattern.findall(text)"
   ]
  },
  {
   "cell_type": "code",
   "execution_count": 32,
   "metadata": {},
   "outputs": [
    {
     "data": {
      "text/plain": [
       "'S07'"
      ]
     },
     "execution_count": 32,
     "metadata": {},
     "output_type": "execute_result"
    },
    {
     "data": {
      "text/plain": [
       "<re.Match object; span=(2, 3), match='A'>"
      ]
     },
     "execution_count": 32,
     "metadata": {},
     "output_type": "execute_result"
    },
    {
     "name": "stdout",
     "output_type": "stream",
     "text": [
      "A\n",
      "['A', 'C', 'a', 't', 'B']\n"
     ]
    }
   ],
   "source": [
    "import re\n",
    "\n",
    "aa = re.search(\"[a-zA-Z]\\d{2}\", \"S07E01 - Meet the New Boss.avi\")\n",
    "aa.group(0)\n",
    "# simplify stages\n",
    "# p = r'[ab]'\n",
    "# re.search(p, 'a')\n",
    "p = '[ABCat]' # match A or B or C or a or t\n",
    "# p = '(B|Cat|a)' # match A or B or Cat\n",
    "# p = '[AB]\\d*'\n",
    "re.search(p, 'IIA')\n",
    "\n",
    "\n",
    "m = re.search(p, 'IIA87CatB')\n",
    "if m:\n",
    "    print(m.group(0))\n",
    "    \n",
    "m = re.compile(p).findall('IIA87CatB')\n",
    "if m:\n",
    "    print(m)\n",
    "# df_cov.loc['clinical_stage',:]"
   ]
  },
  {
   "cell_type": "code",
   "execution_count": 4,
   "metadata": {},
   "outputs": [
    {
     "data": {
      "text/plain": [
       "'kert 4 )'"
      ]
     },
     "execution_count": 4,
     "metadata": {},
     "output_type": "execute_result"
    },
    {
     "data": {
      "text/plain": [
       "['Beautiful', 'is', 'better', 'than', 'ugly']"
      ]
     },
     "execution_count": 4,
     "metadata": {},
     "output_type": "execute_result"
    }
   ],
   "source": [
    "' '.join(re.split('\\(|%', 'kert(4%)'))\n",
    "a='Beautiful, is; better*than\\nugly'\n",
    "re.split('; |, |\\*|\\n',a)"
   ]
  }
 ],
 "metadata": {
  "kernelspec": {
   "display_name": "Python 3",
   "language": "python",
   "name": "python3"
  },
  "language_info": {
   "codemirror_mode": {
    "name": "ipython",
    "version": 3
   },
   "file_extension": ".py",
   "mimetype": "text/x-python",
   "name": "python",
   "nbconvert_exporter": "python",
   "pygments_lexer": "ipython3",
   "version": "3.7.3"
  }
 },
 "nbformat": 4,
 "nbformat_minor": 2
}
