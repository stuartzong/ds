{
 "cells": [
  {
   "cell_type": "code",
   "execution_count": 8,
   "metadata": {},
   "outputs": [],
   "source": [
    "import numpy as np\n",
    "from IPython.core.interactiveshell import InteractiveShell\n",
    "InteractiveShell.ast_node_interactivity = \"all\""
   ]
  },
  {
   "cell_type": "code",
   "execution_count": 8,
   "metadata": {},
   "outputs": [],
   "source": [
    "import numpy as np\n",
    "from IPython.core.interactiveshell import InteractiveShell\n",
    "InteractiveShell.ast_node_interactivity = \"all\""
   ]
  },
  {
   "cell_type": "code",
   "execution_count": 1,
   "metadata": {},
   "outputs": [],
   "source": [
    "A = [5, 8, -1, 3, 3,  9, 0, 2, 4, 12]\n",
    "def solution(A):\n",
    "    if len(A) < 3:\n",
    "        raise Exception(\"invalid input\")\n",
    " \n",
    "    A.sort()\n",
    "     \n",
    "    for i in range(len(A)-2):\n",
    "        if A[i] + A[i+1] > A[i+2]:\n",
    "            return 1\n",
    "             \n",
    "    return 0"
   ]
  },
  {
   "cell_type": "code",
   "execution_count": 2,
   "metadata": {},
   "outputs": [
    {
     "data": {
      "text/plain": [
       "1"
      ]
     },
     "execution_count": 2,
     "metadata": {},
     "output_type": "execute_result"
    }
   ],
   "source": [
    "solution(A)"
   ]
  },
  {
   "cell_type": "code",
   "execution_count": 4,
   "metadata": {},
   "outputs": [
    {
     "data": {
      "text/plain": [
       "1"
      ]
     },
     "execution_count": 4,
     "metadata": {},
     "output_type": "execute_result"
    }
   ],
   "source": [
    "A = [3, 3, 3]\n",
    "solution(A)"
   ]
  },
  {
   "cell_type": "markdown",
   "metadata": {},
   "source": [
    "A non-empty array A consisting of N integers is given. Array A represents numbers on a tape.\n",
    "\n",
    "Any integer P, such that 0 < P < N, splits this tape into two non-empty parts: A[0], A[1], ..., A[P − 1] and A[P], A[P + 1], ..., A[N − 1].\n",
    "\n",
    "The difference between the two parts is the value of: |(A[0] + A[1] + ... + A[P − 1]) − (A[P] + A[P + 1] + ... + A[N − 1])|\n",
    "\n",
    "In other words, it is the absolute difference between the sum of the first part and the sum of the second part.\n",
    "\n",
    "For example, consider array A such that:\n",
    "\n",
    "  A[0] = 3\n",
    "  A[1] = 1\n",
    "  A[2] = 2\n",
    "  A[3] = 4\n",
    "  A[4] = 3\n",
    "We can split this tape in four places:\n",
    "\n",
    "P = 1, difference = |3 − 10| = 7 \n",
    "P = 2, difference = |4 − 9| = 5 \n",
    "P = 3, difference = |6 − 7| = 1 \n",
    "P = 4, difference = |10 − 3| = 7 \n",
    "Write a function:\n",
    "\n",
    "def solution(A)\n",
    "\n",
    "that, given a non-empty array A of N integers, returns the minimal difference that can be achieved.\n",
    "\n",
    "For example, given:\n",
    "\n",
    "  A[0] = 3\n",
    "  A[1] = 1\n",
    "  A[2] = 2\n",
    "  A[3] = 4\n",
    "  A[4] = 3\n",
    "the function should return 1, as explained above.\n",
    "\n",
    "Write an efficient algorithm for the following assumptions:\n",
    "\n",
    "N is an integer within the range [2..100,000];\n",
    "each element of array A is an integer within the range [−1,000..1,000].\n"
   ]
  },
  {
   "cell_type": "code",
   "execution_count": 23,
   "metadata": {},
   "outputs": [],
   "source": [
    "# failed performance\n",
    "def solution(A):  \n",
    "    diffs = []\n",
    "    N = len(A)\n",
    "    if N == 0:\n",
    "        raise Exception('empty list!')\n",
    "    for i in range(1, N):\n",
    "        idx1 = range(i)\n",
    "        idx2 = range(i, N)\n",
    "        print(idx1, idx2)\n",
    "        sum1 = sum([A[j] for j in idx1])\n",
    "        sum2 = sum([A[j] for j in idx2])\n",
    "        diff = abs(sum1 - sum2)\n",
    "        diffs.append(diff)\n",
    "        print(diff)\n",
    "    return min(diffs)"
   ]
  },
  {
   "cell_type": "code",
   "execution_count": 27,
   "metadata": {},
   "outputs": [],
   "source": [
    "# time complexity O(N)\n",
    "import sys\n",
    "def solution(A):\n",
    "    minimum = sys.maxsize\n",
    "    total = sum(A)\n",
    "    leftSum = 0\n",
    "    for i in range(0, len(A)-1):\n",
    "        leftSum += A[i]\n",
    "        rightSum = total - leftSum\n",
    "        dif = abs(rightSum - leftSum)\n",
    "        minimum = min(minimum, dif)\n",
    "    return minimum"
   ]
  },
  {
   "cell_type": "code",
   "execution_count": 28,
   "metadata": {},
   "outputs": [
    {
     "data": {
      "text/plain": [
       "2"
      ]
     },
     "execution_count": 28,
     "metadata": {},
     "output_type": "execute_result"
    }
   ],
   "source": [
    "A = [3, 5, 4, -4, 0]\n",
    "solution(A)"
   ]
  },
  {
   "cell_type": "markdown",
   "metadata": {},
   "source": [
    "A small frog wants to get to the other side of the road. The frog is currently located at position X and wants to get to a position greater than or equal to Y. The small frog always jumps a fixed distance, D.\n",
    "\n",
    "Count the minimal number of jumps that the small frog must perform to reach its target.\n",
    "\n",
    "Write a function:\n",
    "\n",
    "def solution(X, Y, D)\n",
    "\n",
    "that, given three integers X, Y and D, returns the minimal number of jumps from position X to a position equal to or greater than Y.\n",
    "\n",
    "For example, given:\n",
    "\n",
    "  X = 10  \n",
    "  Y = 85  \n",
    "  D = 30  \n",
    "the function should return 3, because the frog will be positioned as follows:\n",
    "\n",
    "after the first jump, at position 10 + 30 = 40  \n",
    "after the second jump, at position 10 + 30 + 30 = 70  \n",
    "after the third jump, at position 10 + 30 + 30 + 30 = 100  \n",
    "Write an efficient algorithm for the following assumptions:  \n",
    "\n",
    "X, Y and D are integers within the range [1..1,000,000,000];\n",
    "X ≤ Y."
   ]
  },
  {
   "cell_type": "code",
   "execution_count": 33,
   "metadata": {},
   "outputs": [],
   "source": [
    "def solution(X, Y, D):    \n",
    "    if Y < X:\n",
    "        raise Exception('wrong input: end less than start!')\n",
    "    jumps = int((Y-X)/D)\n",
    "    if (Y - X) % D == 0:\n",
    "        jumps = jumps\n",
    "    else:\n",
    "        jumps = jumps + 1\n",
    "    return jumps"
   ]
  },
  {
   "cell_type": "code",
   "execution_count": 32,
   "metadata": {},
   "outputs": [
    {
     "data": {
      "text/plain": [
       "3"
      ]
     },
     "execution_count": 32,
     "metadata": {},
     "output_type": "execute_result"
    }
   ],
   "source": [
    "X = 10\n",
    "Y = 85\n",
    "D = 30\n",
    "solution(X, Y, D)"
   ]
  },
  {
   "cell_type": "markdown",
   "metadata": {},
   "source": [
    "An array A consisting of N different integers is given. The array contains integers in the range [1..(N + 1)], which means that exactly one element is missing.\n",
    "\n",
    "Your goal is to find that missing element.\n",
    "\n",
    "Write a function:\n",
    "\n",
    "def solution(A)\n",
    "\n",
    "that, given an array A, returns the value of the missing element.\n",
    "\n",
    "For example, given array A such that:\n",
    "\n",
    "  A[0] = 2  \n",
    "  A[1] = 3  \n",
    "  A[2] = 1  \n",
    "  A[3] = 5  \n",
    "the function should return 4, as it is the missing element.\n",
    "\n",
    "Write an efficient algorithm for the following assumptions:\n",
    "\n",
    "N is an integer within the range [0..100,000];  \n",
    "the elements of A are all distinct;  \n",
    "each element of array A is an integer within the range [1..(N + 1)].\n"
   ]
  },
  {
   "cell_type": "code",
   "execution_count": 24,
   "metadata": {},
   "outputs": [],
   "source": [
    "# pass correctness failed performance\n",
    "def solution1(A):\n",
    "    N = len(A)    \n",
    "    for i in range(1, N+2):\n",
    "        if i not in A:\n",
    "            return i\n",
    "        "
   ]
  },
  {
   "cell_type": "code",
   "execution_count": 6,
   "metadata": {},
   "outputs": [],
   "source": [
    "\n",
    "# 100% correctness and performance\n",
    "def solution(A):\n",
    "    N = len(A)\n",
    "    return sum(range(1, N+2)) - sum(A)"
   ]
  },
  {
   "cell_type": "code",
   "execution_count": 7,
   "metadata": {},
   "outputs": [
    {
     "data": {
      "text/plain": [
       "4"
      ]
     },
     "execution_count": 7,
     "metadata": {},
     "output_type": "execute_result"
    }
   ],
   "source": [
    "# A = [2, 3, 1, 5]\n",
    "A = np.ran\n",
    "solution(A)"
   ]
  },
  {
   "cell_type": "code",
   "execution_count": 12,
   "metadata": {},
   "outputs": [],
   "source": [
    "A = list(range(1, 100000))\n",
    "# .rembove(99999)"
   ]
  },
  {
   "cell_type": "code",
   "execution_count": 14,
   "metadata": {},
   "outputs": [
    {
     "data": {
      "text/plain": [
       "[2, 3, 1, 5]"
      ]
     },
     "execution_count": 14,
     "metadata": {},
     "output_type": "execute_result"
    }
   ],
   "source": [
    "A[:30]"
   ]
  },
  {
   "cell_type": "code",
   "execution_count": 25,
   "metadata": {},
   "outputs": [
    {
     "data": {
      "text/plain": [
       "[1, 2, 3]"
      ]
     },
     "execution_count": 25,
     "metadata": {},
     "output_type": "execute_result"
    },
    {
     "data": {
      "text/plain": [
       "[99996, 99997, 99998]"
      ]
     },
     "execution_count": 25,
     "metadata": {},
     "output_type": "execute_result"
    },
    {
     "name": "stdout",
     "output_type": "stream",
     "text": [
      "2.71 ms ± 233 µs per loop (mean ± std. dev. of 7 runs, 100 loops each)\n",
      "1min 6s ± 139 ms per loop (mean ± std. dev. of 7 runs, 1 loop each)\n"
     ]
    }
   ],
   "source": [
    "A = list(range(1, 100000))\n",
    "A.remove(99999)\n",
    "A[:3]\n",
    "A[-3:]\n",
    "%timeit solution(A)\n",
    "%timeit solution1(A)"
   ]
  },
  {
   "cell_type": "code",
   "execution_count": null,
   "metadata": {},
   "outputs": [],
   "source": []
  },
  {
   "cell_type": "markdown",
   "metadata": {},
   "source": [
    "A non-empty array A consisting of N integers is given.\n",
    "\n",
    "A permutation is a sequence containing each element from 1 to N once, and only once.\n",
    "\n",
    "For example, array A such that:\n",
    "\n",
    "    A[0] = 4  \n",
    "    A[1] = 1  \n",
    "    A[2] = 3  \n",
    "    A[3] = 2  \n",
    "is a permutation, but array A such that:\n",
    "\n",
    "    A[0] = 4  \n",
    "    A[1] = 1  \n",
    "    A[2] = 3  \n",
    "is not a permutation, because value 2 is missing.\n",
    "\n",
    "The goal is to check whether array A is a permutation.\n",
    "\n",
    "Write a function:\n",
    "\n",
    "def solution(A)\n",
    "\n",
    "that, given an array A, returns 1 if array A is a permutation and 0 if it is not.\n",
    "\n",
    "For example, given array A such that:\n",
    "\n",
    "    A[0] = 4  \n",
    "    A[1] = 1  \n",
    "    A[2] = 3  \n",
    "    A[3] = 2  \n",
    "the function should return 1.\n",
    "\n",
    "Given array A such that:\n",
    "\n",
    "    A[0] = 4  \n",
    "    A[1] = 1  \n",
    "    A[2] = 3  \n",
    "the function should return 0.\n",
    "\n",
    "Write an efficient algorithm for the following assumptions:\n",
    "\n",
    "N is an integer within the range [1..100,000];\n",
    "each element of array A is an integer within the range [1..1,000,000,000]."
   ]
  },
  {
   "cell_type": "code",
   "execution_count": 37,
   "metadata": {},
   "outputs": [
    {
     "data": {
      "text/plain": [
       "0"
      ]
     },
     "execution_count": 37,
     "metadata": {},
     "output_type": "execute_result"
    },
    {
     "name": "stdout",
     "output_type": "stream",
     "text": [
      "5.47 ms ± 340 µs per loop (mean ± std. dev. of 7 runs, 100 loops each)\n",
      "3.64 ms ± 168 µs per loop (mean ± std. dev. of 7 runs, 100 loops each)\n"
     ]
    }
   ],
   "source": [
    "# 100% correctness and performance\n",
    "def solution(A):\n",
    "    N = len(A)\n",
    "    if len(set(A)) == N:\n",
    "        if (max(A) == N) and (min(A) == 1):\n",
    "            return 1\n",
    "    return 0\n",
    "\n",
    "A = [0, 3, 4, 5, 1, 2]\n",
    "solution(A)\n",
    "\n",
    "A = list(range(1, 100000))\n",
    "%timeit solution(A)\n",
    "\n",
    "A.remove(99994)\n",
    "%timeit solution(A)"
   ]
  },
  {
   "cell_type": "code",
   "execution_count": null,
   "metadata": {},
   "outputs": [],
   "source": []
  },
  {
   "cell_type": "markdown",
   "metadata": {},
   "source": [
    "A small frog wants to get to the other side of a river. The frog is initially located on one bank of the river (position 0) and wants to get to the opposite bank (position X+1). Leaves fall from a tree onto the surface of the river.\n",
    "\n",
    "You are given an array A consisting of N integers representing the falling leaves. A[K] represents the position where one leaf falls at time K, measured in seconds.\n",
    "\n",
    "The goal is to find the earliest time when the frog can jump to the other side of the river. The frog can cross only when leaves appear at every position across the river from 1 to X (that is, we want to find the earliest moment when all the positions from 1 to X are covered by leaves). You may assume that the speed of the current in the river is negligibly small, i.e. the leaves do not change their positions once they fall in the river.\n",
    "\n",
    "For example, you are given integer X = 5 and array A such that:\n",
    "\n",
    "  A[0] = 1  \n",
    "  A[1] = 3  \n",
    "  A[2] = 1  \n",
    "  A[3] = 4  \n",
    "  A[4] = 2  \n",
    "  A[5] = 3  \n",
    "  A[6] = 5  \n",
    "  A[7] = 4  \n",
    "In second 6, a leaf falls into position 5. This is the earliest time when leaves appear in every position across the river.\n",
    "\n",
    "Write a function:\n",
    "\n",
    "def solution(X, A)\n",
    "\n",
    "that, given a non-empty array A consisting of N integers and integer X, returns the earliest time when the frog can jump to the other side of the river.\n",
    "\n",
    "If the frog is never able to jump to the other side of the river, the function should return −1.\n",
    "\n",
    "For example, given X = 5 and array A such that:\n",
    " \n",
    "  A[0] = 1  \n",
    "  A[1] = 3  \n",
    "  A[2] = 1  \n",
    "  A[3] = 4  \n",
    "  A[4] = 2  \n",
    "  A[5] = 3  \n",
    "  A[6] = 5  \n",
    "  A[7] = 4  \n",
    "the function should return 6, as explained above.\n",
    "\n",
    "Write an efficient algorithm for the following assumptions:\n",
    "\n",
    "N and X are integers within the range [1..100,000]; \n",
    "\n",
    "each element of array A is an integer within the range [1..X].\n"
   ]
  },
  {
   "cell_type": "code",
   "execution_count": 71,
   "metadata": {},
   "outputs": [],
   "source": [
    "# 100% correctness and performance\n",
    "def solution(X, A):\n",
    "    s = set()\n",
    "    for i in range(len(A)):\n",
    "        if A[i] <= X: #Add leaf position if matters\n",
    "             s.add(A[i])\n",
    "        if len(s) == X: #By this time s = {5,4,3,2,1,0}\n",
    "            return i\n",
    "    return -1\n",
    "\n"
   ]
  },
  {
   "cell_type": "code",
   "execution_count": 72,
   "metadata": {},
   "outputs": [
    {
     "data": {
      "text/plain": [
       "-1"
      ]
     },
     "execution_count": 72,
     "metadata": {},
     "output_type": "execute_result"
    },
    {
     "name": "stdout",
     "output_type": "stream",
     "text": [
      "23.2 ms ± 99.4 µs per loop (mean ± std. dev. of 7 runs, 10 loops each)\n",
      "24.4 ms ± 2.61 ms per loop (mean ± std. dev. of 7 runs, 10 loops each)\n"
     ]
    }
   ],
   "source": [
    "X = 1\n",
    "# A = [1, 3, 5, 2, 4, 2, 8, 4]\n",
    "A = [3]\n",
    "solution(X, A)\n",
    "X = 89999\n",
    "A = list(range(1, 100000))\n",
    "%timeit solution(X, A)\n",
    "\n",
    "A.remove(99994)\n",
    "%timeit solution(X, A)"
   ]
  },
  {
   "cell_type": "markdown",
   "metadata": {},
   "source": [
    "You are given N counters, initially set to 0, and you have two possible operations on them:\n",
    "\n",
    "increase(X) − counter X is increased by 1,\n",
    "max counter − all counters are set to the maximum value of any counter.\n",
    "A non-empty array A of M integers is given. This array represents consecutive operations:\n",
    "\n",
    "if A[K] = X, such that 1 ≤ X ≤ N, then operation K is increase(X),\n",
    "if A[K] = N + 1 then operation K is max counter.\n",
    "For example, given integer N = 5 and array A such that:\n",
    "\n",
    "    A[0] = 3  \n",
    "    A[1] = 4  \n",
    "    A[2] = 4  \n",
    "    A[3] = 6  \n",
    "    A[4] = 1  \n",
    "    A[5] = 4  \n",
    "    A[6] = 4  \n",
    "the values of the counters after each consecutive operation will be:\n",
    "\n",
    "    (0, 0, 1, 0, 0)  \n",
    "    (0, 0, 1, 1, 0)  \n",
    "    (0, 0, 1, 2, 0)  \n",
    "    (2, 2, 2, 2, 2)  \n",
    "    (3, 2, 2, 2, 2)  \n",
    "    (3, 2, 2, 3, 2)  \n",
    "    (3, 2, 2, 4, 2)  \n",
    "The goal is to calculate the value of every counter after all operations.\n",
    "\n",
    "Write a function:\n",
    "\n",
    "def solution(N, A)\n",
    "\n",
    "that, given an integer N and a non-empty array A consisting of M integers, returns a sequence of integers representing the values of the counters.\n",
    "\n",
    "Result array should be returned as an array of integers.\n",
    "\n",
    "For example, given:\n",
    "\n",
    "    A[0] = 3  \n",
    "    A[1] = 4  \n",
    "    A[2] = 4  \n",
    "    A[3] = 6  \n",
    "    A[4] = 1  \n",
    "    A[5] = 4  \n",
    "    A[6] = 4  \n",
    "the function should return [3, 2, 2, 4, 2], as explained above.\n",
    "\n",
    "Write an efficient algorithm for the following assumptions:\n",
    "\n",
    "N and M are integers within the range [1..100,000];  \n",
    "each element of array A is an integer within the range [1..N + 1]."
   ]
  },
  {
   "cell_type": "code",
   "execution_count": 95,
   "metadata": {},
   "outputs": [],
   "source": [
    "# 100% correctness, 20% performance\n",
    "def solution(N, A):\n",
    "    C = [0] * N\n",
    "    for i in A:\n",
    "        if (i >= 1) and (i <= N):\n",
    "            C[i-1] += 1\n",
    "        elif i == N + 1:\n",
    "            C = [max(C)] * N\n",
    "        else:\n",
    "            raise Exception('invalid value in A')\n",
    "    return C\n",
    "    "
   ]
  },
  {
   "cell_type": "code",
   "execution_count": 96,
   "metadata": {},
   "outputs": [
    {
     "data": {
      "text/plain": [
       "[3, 2, 2, 4, 2]"
      ]
     },
     "execution_count": 96,
     "metadata": {},
     "output_type": "execute_result"
    },
    {
     "name": "stdout",
     "output_type": "stream",
     "text": [
      "63.5 ms ± 2.24 ms per loop (mean ± std. dev. of 7 runs, 10 loops each)\n"
     ]
    }
   ],
   "source": [
    "N = 5\n",
    "A = [3, 4,4,6,1,4,4]\n",
    "solution(N, A)\n",
    "N = 89999\n",
    "A = list(np.random.randint(1, N+2, 99999))\n",
    "# solution(N, A)\n",
    "%timeit solution(N, A)\n",
    "\n"
   ]
  },
  {
   "cell_type": "markdown",
   "metadata": {},
   "source": [
    "This is a demo task.\n",
    "\n",
    "Write a function:\n",
    "\n",
    "def solution(A)\n",
    "\n",
    "that, given an array A of N integers, returns the smallest positive integer (greater than 0) that does not occur in A.\n",
    "\n",
    "For example, given A = [1, 3, 6, 4, 1, 2], the function should return 5.\n",
    "\n",
    "Given A = [1, 2, 3], the function should return 4.\n",
    "\n",
    "Given A = [−1, −3], the function should return 1.\n",
    "\n",
    "Write an efficient algorithm for the following assumptions:\n",
    "\n",
    "N is an integer within the range [1..100,000];\n",
    "each element of array A is an integer within the range [−1,000,000..1,000,000]."
   ]
  },
  {
   "cell_type": "code",
   "execution_count": 120,
   "metadata": {},
   "outputs": [],
   "source": [
    "# 100% for both but not as clean as below\n",
    "def solution(A):\n",
    "    if len(A) == 0:\n",
    "        raise Exception('empty list!')\n",
    "    A = list(set(A))\n",
    "    A.sort()    \n",
    "    if A[-1] <= 0:\n",
    "        return 1\n",
    "    A = [a for a in A if a>0]\n",
    "    N = len(A)\n",
    "    B = list(range(1, N+1))\n",
    "    SA = 0\n",
    "    SB = 0\n",
    "    for i in range(N):\n",
    "        SA += A[i]\n",
    "        SB += B[i]\n",
    "        if SA != SB:\n",
    "            return B[i]\n",
    "    return B[i] + 1"
   ]
  },
  {
   "cell_type": "code",
   "execution_count": 130,
   "metadata": {},
   "outputs": [],
   "source": [
    "# 100% for both\n",
    "def solution(A):\n",
    "    seen = [False] * len(A)\n",
    "    for value in A:\n",
    "        if 0 < value <= len(A):\n",
    "            seen[value-1] = True\n",
    " \n",
    "    for idx in range(len(seen)):\n",
    "        if seen[idx] == False:\n",
    "            return idx + 1\n",
    " \n",
    "    return len(A)+1"
   ]
  },
  {
   "cell_type": "code",
   "execution_count": 132,
   "metadata": {},
   "outputs": [
    {
     "data": {
      "text/plain": [
       "7"
      ]
     },
     "execution_count": 132,
     "metadata": {},
     "output_type": "execute_result"
    }
   ],
   "source": [
    "A = [3, 2,4,-4,6,1,4,4,5]\n",
    "# A = []\n",
    "# A = [-1, -3]\n",
    "solution(A)\n",
    "# X = 89999\n",
    "# A = list(range(1, 100000))\n",
    "# A.remove(X)\n",
    "# %timeit solution(A)\n",
    "# solution(A)"
   ]
  },
  {
   "cell_type": "markdown",
   "metadata": {},
   "source": [
    "A non-empty array A consisting of N integers is given. The consecutive elements of array A represent consecutive cars on a road.\n",
    "\n",
    "Array A contains only 0s and/or 1s:\n",
    "\n",
    "0 represents a car traveling east,\n",
    "1 represents a car traveling west.\n",
    "The goal is to count passing cars. We say that a pair of cars (P, Q), where 0 ≤ P < Q < N, is passing when P is traveling to the east and Q is traveling to the west.\n",
    "\n",
    "For example, consider array A such that:\n",
    "\n",
    "  A[0] = 0  \n",
    "  A[1] = 1  \n",
    "  A[2] = 0  \n",
    "  A[3] = 1  \n",
    "  A[4] = 1  \n",
    "We have five pairs of passing cars: (0, 1), (0, 3), (0, 4), (2, 3), (2, 4).\n",
    "\n",
    "Write a function:\n",
    "\n",
    "def solution(A)\n",
    "\n",
    "that, given a non-empty array A of N integers, returns the number of pairs of passing cars.\n",
    "\n",
    "The function should return −1 if the number of pairs of passing cars exceeds 1,000,000,000.\n",
    "\n",
    "For example, given:\n",
    "\n",
    "  A[0] = 0  \n",
    "  A[1] = 1  \n",
    "  A[2] = 0  \n",
    "  A[3] = 1  \n",
    "  A[4] = 1  \n",
    "the function should return 5, as explained above.\n",
    "\n",
    "Write an efficient algorithm for the following assumptions:\n",
    "\n",
    "N is an integer within the range [1..100,000];\n",
    "each element of array A is an integer that can have one of the following values: 0, 1.\n"
   ]
  },
  {
   "cell_type": "code",
   "execution_count": 219,
   "metadata": {},
   "outputs": [
    {
     "name": "stdout",
     "output_type": "stream",
     "text": [
      "5\n",
      "4\n",
      "3\n",
      "2\n",
      "1\n",
      "0\n"
     ]
    }
   ],
   "source": [
    "for i in range(5, -1, -1):\n",
    "    print(i)"
   ]
  },
  {
   "cell_type": "code",
   "execution_count": 224,
   "metadata": {},
   "outputs": [],
   "source": [
    "# 100% correctness and performance\n",
    "def solution(A):\n",
    "    west_cars = 0\n",
    "    passings = 0 \n",
    "    for idx in range(len(A)-1, -1, -1):\n",
    "        if A[idx] == 0:\n",
    "            passings += west_cars\n",
    "            if passings > 1000000000:\n",
    "                return -1\n",
    "        else:\n",
    "            west_cars += 1 \n",
    "    return passings"
   ]
  },
  {
   "cell_type": "code",
   "execution_count": 227,
   "metadata": {},
   "outputs": [],
   "source": [
    "# 100% correctness and 0% performance\n",
    "# def solution(A):\n",
    "#     total = 0\n",
    "#     for i, a in enumerate(A):\n",
    "#         if a == 0:\n",
    "#             pcars = sum(A[i+1:])\n",
    "#             total += pcars\n",
    "#         if total > 1e9:\n",
    "#             return -1\n",
    "#     return total"
   ]
  },
  {
   "cell_type": "code",
   "execution_count": 225,
   "metadata": {},
   "outputs": [
    {
     "data": {
      "text/plain": [
       "5"
      ]
     },
     "execution_count": 225,
     "metadata": {},
     "output_type": "execute_result"
    },
    {
     "name": "stdout",
     "output_type": "stream",
     "text": [
      "3.22 ms ± 190 µs per loop (mean ± std. dev. of 7 runs, 100 loops each)\n"
     ]
    }
   ],
   "source": [
    "A = [0,1,0,1,1]\n",
    "# A = [1]\n",
    "# A[3:]\n",
    "# sum([])\n",
    "solution(A)\n",
    "A = np.random.randint(0, 2, 10000)\n",
    "%timeit solution(A)"
   ]
  },
  {
   "cell_type": "code",
   "execution_count": 226,
   "metadata": {},
   "outputs": [],
   "source": [
    "# A = [1]\n",
    "# A[3:] # slicing return a sliced copy of the list, invalid start/end return a empty list\n",
    "# A[300:]\n",
    "# A[5] # out of index error, can not access the element"
   ]
  },
  {
   "cell_type": "markdown",
   "metadata": {},
   "source": [
    "A DNA sequence can be represented as a string consisting of the letters A, C, G and T, which correspond to the types of successive nucleotides in the sequence. Each nucleotide has an impact factor, which is an integer. Nucleotides of types A, C, G and T have impact factors of 1, 2, 3 and 4, respectively. You are going to answer several queries of the form: What is the minimal impact factor of nucleotides contained in a particular part of the given DNA sequence?\n",
    "\n",
    "The DNA sequence is given as a non-empty string S = S[0]S[1]...S[N-1] consisting of N characters. There are M queries, which are given in non-empty arrays P and Q, each consisting of M integers. The K-th query (0 ≤ K < M) requires you to find the minimal impact factor of nucleotides contained in the DNA sequence between positions P[K] and Q[K] (inclusive).\n",
    "\n",
    "For example, consider string S = CAGCCTA and arrays P, Q such that:\n",
    "\n",
    "    P[0] = 2    Q[0] = 4  \n",
    "    P[1] = 5    Q[1] = 5  \n",
    "    P[2] = 0    Q[2] = 6  \n",
    "The answers to these M = 3 queries are as follows:\n",
    "\n",
    "The part of the DNA between positions 2 and 4 contains nucleotides G and C (twice), whose impact factors are 3 and 2 respectively, so the answer is 2.\n",
    "\n",
    "The part between positions 5 and 5 contains a single nucleotide T, whose impact factor is 4, so the answer is 4.\n",
    "\n",
    "The part between positions 0 and 6 (the whole string) contains all nucleotides, in particular nucleotide A whose impact factor is 1, so the answer is 1.\n",
    "Write a function:\n",
    "\n",
    "def solution(S, P, Q)\n",
    "\n",
    "that, given a non-empty string S consisting of N characters and two non-empty arrays P and Q consisting of M integers, returns an array consisting of M integers specifying the consecutive answers to all queries.\n",
    "\n",
    "Result array should be returned as an array of integers.\n",
    "\n",
    "For example, given the string S = CAGCCTA and arrays P, Q such that:\n",
    "\n",
    "    P[0] = 2    Q[0] = 4  \n",
    "    P[1] = 5    Q[1] = 5  \n",
    "    P[2] = 0    Q[2] = 6  \n",
    "the function should return the values [2, 4, 1], as explained above.\n",
    "\n",
    "Write an efficient algorithm for the following assumptions:\n",
    "\n",
    "N is an integer within the range [1..100,000];  \n",
    "M is an integer within the range [1..50,000];  \n",
    "each element of arrays P, Q is an integer within the range [0..N − 1];\n",
    "\n",
    "P[K] ≤ Q[K], where 0 ≤ K < M;\n",
    "\n",
    "string S consists only of upper-case English letters A, C, G, T."
   ]
  },
  {
   "cell_type": "code",
   "execution_count": 253,
   "metadata": {},
   "outputs": [],
   "source": [
    "# 100% for both\n",
    "def solution(S, P, Q):\n",
    "    d = {'A':1, 'C':2, 'G':3, 'T':4}\n",
    "    min_bases = []\n",
    "    for i, (start, end) in enumerate(zip(P, Q)): \n",
    "        s = S[start:end+1]\n",
    "        for base in ['A', 'C', 'G', 'T']:\n",
    "            if base in s:\n",
    "                min_bases.append(base)\n",
    "                break\n",
    "    impact = [d[b] for b in min_bases]\n",
    "    return impact"
   ]
  },
  {
   "cell_type": "code",
   "execution_count": 254,
   "metadata": {},
   "outputs": [
    {
     "name": "stdout",
     "output_type": "stream",
     "text": [
      "0 2 4 GCC\n",
      "C break out of loop!\n",
      "1 5 5 T\n",
      "T break out of loop!\n",
      "2 0 6 CAGCCTA\n",
      "A break out of loop!\n"
     ]
    },
    {
     "data": {
      "text/plain": [
       "[2, 4, 1]"
      ]
     },
     "execution_count": 254,
     "metadata": {},
     "output_type": "execute_result"
    }
   ],
   "source": [
    "S = 'CAGCCTATAG'\n",
    "P = [2,5,0]\n",
    "Q = [4,5,6]\n",
    "solution(S, P, Q)\n",
    "# P = np.random.randint(0, 100000, 40000)\n",
    "# D = np.random.randint(0, 1000, 40000)\n",
    "# Q = [i  if i <100000 else 100000 for i in P + D]\n",
    "# S = S * 4000\n",
    "# %timeit solution(S, P, Q)"
   ]
  },
  {
   "cell_type": "markdown",
   "metadata": {},
   "source": [
    "A non-empty array A consisting of N integers is given. A pair of integers (P, Q), such that 0 ≤ P < Q < N, is called a slice of array A (notice that the slice contains at least two elements). The average of a slice (P, Q) is the sum of A[P] + A[P + 1] + ... + A[Q] divided by the length of the slice. To be precise, the average equals (A[P] + A[P + 1] + ... + A[Q]) / (Q − P + 1).\n",
    "\n",
    "For example, array A such that:\n",
    "\n",
    "    A[0] = 4  \n",
    "    A[1] = 2  \n",
    "    A[2] = 2  \n",
    "    A[3] = 5  \n",
    "    A[4] = 1  \n",
    "    A[5] = 5  \n",
    "    A[6] = 8  \n",
    "contains the following example slices:\n",
    "\n",
    "slice (1, 2), whose average is (2 + 2) / 2 = 2;  \n",
    "slice (3, 4), whose average is (5 + 1) / 2 = 3;  \n",
    "slice (1, 4), whose average is (2 + 2 + 5 + 1) / 4 = 2.5.  \n",
    "The goal is to find the starting position of a slice whose average is minimal.\n",
    "\n",
    "Write a function:\n",
    "\n",
    "def solution(A)\n",
    "\n",
    "that, given a non-empty array A consisting of N integers, returns the starting position of the slice with the minimal average. If there is more than one slice with a minimal average, you should return the smallest starting position of such a slice.\n",
    "\n",
    "For example, given array A such that:\n",
    "\n",
    "    A[0] = 4  \n",
    "    A[1] = 2  \n",
    "    A[2] = 2  \n",
    "    A[3] = 5  \n",
    "    A[4] = 1  \n",
    "    A[5] = 5  \n",
    "    A[6] = 8  \n",
    "the function should return 1, as explained above.\n",
    "\n",
    "Write an efficient algorithm for the following assumptions:\n",
    "\n",
    "N is an integer within the range [2..100,000];\n",
    "\n",
    "each element of array A is an integer within the range [−10,000..10,000]."
   ]
  },
  {
   "cell_type": "code",
   "execution_count": 178,
   "metadata": {},
   "outputs": [],
   "source": [
    "# 100% correctness and performance, only need to consider 2 or 3 elements slices\n",
    "def solution(A):\n",
    "    min_idx = 0\n",
    "    min_value = 10001 \n",
    "    for idx in range(0, len(A)-1):\n",
    "        avg2 = sum(A[idx:idx+2])/2.0        \n",
    "        if  avg2 < min_value:\n",
    "            min_idx = idx\n",
    "            min_value = avg2\n",
    "        if idx < len(A)-2:\n",
    "            avg3 = sum(A[idx:idx+3])/3.0\n",
    "            if avg3 < min_value:\n",
    "                min_idx = idx\n",
    "                min_value = avg3 \n",
    "    return min_idx"
   ]
  },
  {
   "cell_type": "code",
   "execution_count": 180,
   "metadata": {},
   "outputs": [
    {
     "name": "stdout",
     "output_type": "stream",
     "text": [
      "558 µs ± 8.08 µs per loop (mean ± std. dev. of 7 runs, 1000 loops each)\n"
     ]
    }
   ],
   "source": [
    "%timeit solution(A)"
   ]
  },
  {
   "cell_type": "code",
   "execution_count": 183,
   "metadata": {},
   "outputs": [
    {
     "data": {
      "text/plain": [
       "2"
      ]
     },
     "execution_count": 183,
     "metadata": {},
     "output_type": "execute_result"
    }
   ],
   "source": [
    "A = [3, 2,4,-4,6,1,4,4,5]\n",
    "solution(A)"
   ]
  },
  {
   "cell_type": "code",
   "execution_count": null,
   "metadata": {},
   "outputs": [],
   "source": []
  },
  {
   "cell_type": "markdown",
   "metadata": {},
   "source": [
    "Write a function:\n",
    "\n",
    "def solution(A, B, K)\n",
    "\n",
    "that, given three integers A, B and K, returns the number of integers within the range [A..B] that are divisible by K, i.e.:\n",
    "\n",
    "{ i : A ≤ i ≤ B, i mod K = 0 }\n",
    "\n",
    "For example, for A = 6, B = 11 and K = 2, your function should return 3, because there are three numbers divisible by 2 within the range [6..11], namely 6, 8 and 10.\n",
    "\n",
    "Write an efficient algorithm for the following assumptions:\n",
    "\n",
    "A and B are integers within the range [0..2,000,000,000];\n",
    "\n",
    "K is an integer within the range [1..2,000,000,000];\n",
    "A ≤ B."
   ]
  },
  {
   "cell_type": "code",
   "execution_count": 255,
   "metadata": {},
   "outputs": [],
   "source": [
    "# bad performance\n",
    "# def solution(A, B, K):\n",
    "#     ints = range(A, B+1)\n",
    "#     counts = 0\n",
    "#     for i in ints:\n",
    "#         if i % K == 0:\n",
    "#             counts += 1\n",
    "#     return countsb\n",
    "\n",
    "            "
   ]
  },
  {
   "cell_type": "code",
   "execution_count": 264,
   "metadata": {},
   "outputs": [],
   "source": [
    "# 100% for both\n",
    "def solution(A, B, K):\n",
    "    diffs = B//K - A//K\n",
    "    if A % K == 0:\n",
    "        diffs += 1\n",
    "    return diffs"
   ]
  },
  {
   "cell_type": "code",
   "execution_count": 268,
   "metadata": {},
   "outputs": [
    {
     "data": {
      "text/plain": [
       "1"
      ]
     },
     "execution_count": 268,
     "metadata": {},
     "output_type": "execute_result"
    },
    {
     "name": "stdout",
     "output_type": "stream",
     "text": [
      "348 ns ± 27.6 ns per loop (mean ± std. dev. of 7 runs, 1000000 loops each)\n"
     ]
    }
   ],
   "source": [
    "A = 12; B = 12; K = 2\n",
    "solution(A, B, K)\n",
    "A = 6\n",
    "B = 2000000000\n",
    "K = 3\n",
    "%timeit solution(A, B, K)"
   ]
  },
  {
   "cell_type": "markdown",
   "metadata": {},
   "source": [
    "An array A consisting of N integers is given. A triplet (P, Q, R) is triangular if 0 ≤ P < Q < R < N and:\n",
    "  \n",
    "A[P] + A[Q] > A[R],  \n",
    "A[Q] + A[R] > A[P],  \n",
    "A[R] + A[P] > A[Q].  \n",
    "For example, consider array A such that:\n",
    "\n",
    "  A[0] = 10    A[1] = 2    A[2] = 5  \n",
    "  A[3] = 1     A[4] = 8    A[5] = 20  \n",
    "Triplet (0, 2, 4) is triangular.\n",
    "\n",
    "Write a function:\n",
    "\n",
    "def solution(A)\n",
    "\n",
    "that, given an array A consisting of N integers, returns 1 if there exists a triangular triplet for this array and returns 0 otherwise.\n",
    "\n",
    "For example, given array A such that:\n",
    " \n",
    "  A[0] = 10    A[1] = 2    A[2] = 5  \n",
    "  A[3] = 1     A[4] = 8    A[5] = 20  \n",
    "the function should return 1, as explained above. Given array A such that:\n",
    "\n",
    "  A[0] = 10    A[1] = 50    A[2] = 5  \n",
    "  A[3] = 1\n",
    "the function should return 0.\n",
    "\n",
    "Write an efficient algorithm for the following assumptions:\n",
    "\n",
    "N is an integer within the range [0..100,000];\n",
    "\n",
    "each element of array A is an integer within the range [−2,147,483,648..2,147,483,647]."
   ]
  },
  {
   "cell_type": "code",
   "execution_count": 276,
   "metadata": {},
   "outputs": [],
   "source": [
    "# 100% for both\n",
    "def solution(A):\n",
    "    if len(A) < 3:\n",
    "        return 0\n",
    "    A.sort()\n",
    "    for i in range(2, len(A)):\n",
    "        if A[i-1] + A[i-2] > A[i]:\n",
    "            return 1\n",
    "    return 0\n",
    "        "
   ]
  },
  {
   "cell_type": "code",
   "execution_count": 277,
   "metadata": {},
   "outputs": [
    {
     "data": {
      "text/plain": [
       "0"
      ]
     },
     "execution_count": 277,
     "metadata": {},
     "output_type": "execute_result"
    },
    {
     "name": "stdout",
     "output_type": "stream",
     "text": [
      "21.8 ms ± 1.29 ms per loop (mean ± std. dev. of 7 runs, 10 loops each)\n"
     ]
    }
   ],
   "source": [
    "A =[10,2,5,1,8,20]\n",
    "A = [3,4]\n",
    "solution(A)\n",
    "A = np.random.randint(-2147483648, 2147483647, 90000)\n",
    "%timeit solution(A)"
   ]
  },
  {
   "cell_type": "markdown",
   "metadata": {},
   "source": [
    "Write a function\n",
    "\n",
    "def solution(A)\n",
    "\n",
    "that, given an array A consisting of N integers, returns the number of distinct values in array A.\n",
    "\n",
    "For example, given array A consisting of six elements such that:\n",
    "\n",
    " A[0] = 2    A[1] = 1    A[2] = 1  \n",
    " A[3] = 2    A[4] = 3    A[5] = 1  \n",
    "the function should return 3, because there are 3 distinct values appearing in array A, namely 1, 2 and 3.\n",
    "\n",
    "Write an efficient algorithm for the following assumptions:\n",
    "\n",
    "N is an integer within the range [0..100,000];  \n",
    "each element of array A is an integer within the range [−1,000,000..1,000,000]."
   ]
  },
  {
   "cell_type": "code",
   "execution_count": 278,
   "metadata": {},
   "outputs": [],
   "source": [
    "def solution(A):\n",
    "    return len(set(A))"
   ]
  },
  {
   "cell_type": "code",
   "execution_count": 282,
   "metadata": {},
   "outputs": [
    {
     "data": {
      "text/plain": [
       "88035"
      ]
     },
     "execution_count": 282,
     "metadata": {},
     "output_type": "execute_result"
    }
   ],
   "source": [
    "A = [0,1,1 ,2]\n",
    "A = np.random.randint(-1000000, 1000000, 90000)\n",
    "solution(A)"
   ]
  },
  {
   "cell_type": "markdown",
   "metadata": {},
   "source": [
    "A non-empty array A consisting of N integers is given. The product of triplet (P, Q, R) equates to A[P] * A[Q] * A[R] (0 ≤ P < Q < R < N).\n",
    "\n",
    "For example, array A such that:\n",
    "\n",
    "  A[0] = -3  \n",
    "  A[1] = 1  \n",
    "  A[2] = 2  \n",
    "  A[3] = -2  \n",
    "  A[4] = 5  \n",
    "  A[5] = 6  \n",
    "contains the following example triplets:\n",
    "\n",
    "(0, 1, 2), product is −3 * 1 * 2 = −6  \n",
    "(1, 2, 4), product is 1 * 2 * 5 = 10  \n",
    "(2, 4, 5), product is 2 * 5 * 6 = 60  \n",
    "Your goal is to find the maximal product of any triplet.\n",
    "\n",
    "Write a function:\n",
    "\n",
    "def solution(A)\n",
    "\n",
    "that, given a non-empty array A, returns the value of the maximal product of any triplet.\n",
    "\n",
    "For example, given array A such that:\n",
    "\n",
    "  A[0] = -3  \n",
    "  A[1] = 1  \n",
    "  A[2] = 2  \n",
    "  A[3] = -2  \n",
    "  A[4] = 5  \n",
    "  A[5] = 6  \n",
    "the function should return 60, as the product of triplet (2, 4, 5) is maximal.\n",
    "\n",
    "Write an efficient algorithm for the following assumptions:\n",
    "\n",
    "N is an integer within the range [3..100,000];\n",
    "\n",
    "each element of array A is an integer within the range [−1,000..1,000]."
   ]
  },
  {
   "cell_type": "code",
   "execution_count": 314,
   "metadata": {},
   "outputs": [],
   "source": [
    "#100% for both\n",
    "def solution(A):\n",
    "    A.sort()\n",
    "    print(A)\n",
    "    return max(A[0]*A[1]*A[-1], A[-1]*A[-2]*A[-3])"
   ]
  },
  {
   "cell_type": "code",
   "execution_count": 313,
   "metadata": {},
   "outputs": [
    {
     "name": "stdout",
     "output_type": "stream",
     "text": [
      "[-3, -2, 1, 2, 300]\n"
     ]
    },
    {
     "data": {
      "text/plain": [
       "1800"
      ]
     },
     "execution_count": 313,
     "metadata": {},
     "output_type": "execute_result"
    }
   ],
   "source": [
    "A = [-2, -3,1,2,300]\n",
    "solution(A)\n",
    "# A = np.random.randint(-1000, 1000, 90000)\n",
    "# %timeit solution(A)"
   ]
  },
  {
   "cell_type": "markdown",
   "metadata": {},
   "source": [
    "A string S consisting of N characters is considered to be properly nested if any of the following conditions is true:\n",
    "\n",
    "S is empty;\n",
    "\n",
    "S has the form \"(U)\" or \"[U]\" or \"{U}\" where U is a properly nested string; \n",
    "\n",
    "S has the form \"VW\" where V and W are properly nested strings.\n",
    "\n",
    "For example, the string \"{[()()]}\" is properly nested but \"([)()]\" is not.\n",
    "\n",
    "Write a function:\n",
    "\n",
    "def solution(S)\n",
    "\n",
    "that, given a string S consisting of N characters, returns 1 if S is properly nested and 0 otherwise.\n",
    "\n",
    "For example, given S = \"{[()()]}\", the function should return 1 and given S = \"([)()]\", the function should return 0, as explained above.\n",
    "\n",
    "Write an efficient algorithm for the following assumptions:\n",
    "\n",
    "N is an integer within the range [0..200,000];\n",
    "\n",
    "string S consists only of the following characters: \"(\", \"{\", \"[\", \"]\", \"}\" and/or \")\"."
   ]
  },
  {
   "cell_type": "code",
   "execution_count": 331,
   "metadata": {},
   "outputs": [],
   "source": [
    "# 100% for both\n",
    "def solution(S):\n",
    "    opens = ['(', '{', '[']\n",
    "    matches = {'(':')', '{':'}', '[':']'}\n",
    "    stack = []\n",
    "    if len(S) == 0:\n",
    "        return 1\n",
    "    for s in S:\n",
    "        if s in opens:\n",
    "            stack.append(s)\n",
    "            print(stack)\n",
    "        else:\n",
    "            if len(stack) == 0:\n",
    "                return 0\n",
    "            if not matches[stack.pop()] == s:\n",
    "                return 0\n",
    "            print(stack)\n",
    "    if len(stack) != 0:\n",
    "        return 0\n",
    "    return 1\n",
    "            "
   ]
  },
  {
   "cell_type": "code",
   "execution_count": 332,
   "metadata": {},
   "outputs": [
    {
     "name": "stdout",
     "output_type": "stream",
     "text": [
      "['{']\n",
      "['{', '[']\n",
      "['{', '[', '(']\n",
      "['{', '[']\n",
      "['{', '[', '(']\n",
      "['{', '[']\n",
      "['{']\n",
      "[]\n"
     ]
    },
    {
     "data": {
      "text/plain": [
       "1"
      ]
     },
     "execution_count": 332,
     "metadata": {},
     "output_type": "execute_result"
    }
   ],
   "source": [
    "S = \"{[()()]}\"\n",
    "# S = \"([)()]\"\n",
    "# S = \"\"\n",
    "solution(S)"
   ]
  },
  {
   "cell_type": "markdown",
   "metadata": {},
   "source": [
    "You are going to build a stone wall. The wall should be straight and N meters long, and its thickness should be constant; however, it should have different heights in different places. The height of the wall is specified by an array H of N positive integers. H[I] is the height of the wall from I to I+1 meters to the right of its left end. In particular, H[0] is the height of the wall's left end and H[N−1] is the height of the wall's right end.\n",
    "\n",
    "The wall should be built of cuboid stone blocks (that is, all sides of such blocks are rectangular). Your task is to compute the minimum number of blocks needed to build the wall.\n",
    "\n",
    "Write a function:\n",
    "\n",
    "def solution(H)\n",
    "\n",
    "that, given an array H of N positive integers specifying the height of the wall, returns the minimum number of blocks needed to build it.\n",
    "\n",
    "For example, given array H containing N = 9 integers:\n",
    "\n",
    "  H[0] = 8    H[1] = 8    H[2] = 5  \n",
    "  H[3] = 7    H[4] = 9    H[5] = 8  \n",
    "  H[6] = 7    H[7] = 4    H[8] = 8  \n",
    "the function should return 7. The figure shows one possible arrangement of seven blocks.\n",
    "\n",
    "\n",
    "\n",
    "Write an efficient algorithm for the following assumptions:\n",
    "\n",
    "N is an integer within the range [1..100,000];  \n",
    "each element of array H is an integer within the range [1..1,000,000,000]."
   ]
  },
  {
   "cell_type": "code",
   "execution_count": 344,
   "metadata": {},
   "outputs": [],
   "source": [
    "def stone_wall(H):\n",
    "    N = len(H)\n",
    "    stones = 0\n",
    "    stack = [0] * N\n",
    "    stack_num = 0\n",
    "\n",
    "    for i in range(N):\n",
    "        while stack_num > 0 and stack[stack_num - 1] > H[i]:\n",
    "            stack_num -= 1\n",
    "        if stack_num > 0 and stack[stack_num - 1] == H[i]:\n",
    "            print('pass')\n",
    "            pass\n",
    "        else:\n",
    "            \n",
    "            stones += 1\n",
    "            stack[stack_num] = H[i]\n",
    "            stack_num += 1\n",
    "        print(H[i], stones, stack_num, stack)\n",
    "    return stones\n"
   ]
  },
  {
   "cell_type": "code",
   "execution_count": 345,
   "metadata": {},
   "outputs": [
    {
     "name": "stdout",
     "output_type": "stream",
     "text": [
      "8 1 1 [8, 0, 0, 0, 0, 0, 0, 0, 0]\n",
      "pass\n",
      "8 1 1 [8, 0, 0, 0, 0, 0, 0, 0, 0]\n",
      "5 2 1 [5, 0, 0, 0, 0, 0, 0, 0, 0]\n",
      "7 3 2 [5, 7, 0, 0, 0, 0, 0, 0, 0]\n",
      "9 4 3 [5, 7, 9, 0, 0, 0, 0, 0, 0]\n",
      "8 5 3 [5, 7, 8, 0, 0, 0, 0, 0, 0]\n",
      "pass\n",
      "7 5 2 [5, 7, 8, 0, 0, 0, 0, 0, 0]\n",
      "4 6 1 [4, 7, 8, 0, 0, 0, 0, 0, 0]\n",
      "8 7 2 [4, 8, 8, 0, 0, 0, 0, 0, 0]\n"
     ]
    },
    {
     "data": {
      "text/plain": [
       "7"
      ]
     },
     "execution_count": 345,
     "metadata": {},
     "output_type": "execute_result"
    }
   ],
   "source": [
    "H = [8,8,5,7,9,8,7,4,8]\n",
    "stone_wall(H)"
   ]
  },
  {
   "cell_type": "code",
   "execution_count": 350,
   "metadata": {},
   "outputs": [],
   "source": [
    "def solution(H):\n",
    "    block_cnt = 0     \n",
    "    stack = []     \n",
    "    for height in H:\n",
    "        # remove all blocks that are bigger than my height\n",
    "        while len(stack) != 0 and stack[-1] > height:\n",
    "            stack.pop()\n",
    "         \n",
    "        if len(stack) != 0 and stack[-1] == height:\n",
    "            # we already paid for this size\n",
    "            pass\n",
    "        else:\n",
    "            # new block is required, push it's size to the stack\n",
    "            block_cnt += 1\n",
    "            stack.append(height)\n",
    "        print(height, block_cnt, stack)\n",
    "             \n",
    "    return block_cnt"
   ]
  },
  {
   "cell_type": "code",
   "execution_count": 351,
   "metadata": {},
   "outputs": [
    {
     "name": "stdout",
     "output_type": "stream",
     "text": [
      "8 1 [8]\n",
      "8 1 [8]\n",
      "5 2 [5]\n",
      "7 3 [5, 7]\n",
      "9 4 [5, 7, 9]\n",
      "8 5 [5, 7, 8]\n",
      "7 5 [5, 7]\n",
      "4 6 [4]\n",
      "8 7 [4, 8]\n"
     ]
    },
    {
     "data": {
      "text/plain": [
       "7"
      ]
     },
     "execution_count": 351,
     "metadata": {},
     "output_type": "execute_result"
    }
   ],
   "source": [
    "H = [8,8,5,7,9,8,7,4,8]\n",
    "solution(H)"
   ]
  },
  {
   "cell_type": "markdown",
   "metadata": {},
   "source": [
    "You are given two non-empty arrays A and B consisting of N integers. Arrays A and B represent N voracious fish in a river, ordered downstream along the flow of the river.\n",
    "\n",
    "The fish are numbered from 0 to N − 1. If P and Q are two fish and P < Q, then fish P is initially upstream of fish Q. Initially, each fish has a unique position.\n",
    "\n",
    "Fish number P is represented by A[P] and B[P]. Array A contains the sizes of the fish. All its elements are unique. Array B contains the directions of the fish. It contains only 0s and/or 1s, where:\n",
    "\n",
    "0 represents a fish flowing upstream,  \n",
    "1 represents a fish flowing downstream.  \n",
    "If two fish move in opposite directions and there are no other (living) fish between them, they will eventually meet each other. Then only one fish can stay alive − the larger fish eats the smaller one. More precisely, we say that two fish P and Q meet each other when P < Q, B[P] = 1 and B[Q] = 0, and there are no living fish between them. After they meet:\n",
    "\n",
    "If A[P] > A[Q] then P eats Q, and P will still be flowing downstream,  \n",
    "If A[Q] > A[P] then Q eats P, and Q will still be flowing upstream.  \n",
    "We assume that all the fish are flowing at the same speed. That is, fish moving in the same direction never meet.   The goal is to calculate the number of fish that will stay alive.\n",
    "\n",
    "For example, consider arrays A and B such that:\n",
    "\n",
    "  A[0] = 4    B[0] = 0  \n",
    "  A[1] = 3    B[1] = 1  \n",
    "  A[2] = 2    B[2] = 0  \n",
    "  A[3] = 1    B[3] = 0  \n",
    "  A[4] = 5    B[4] = 0  \n",
    "Initially all the fish are alive and all except fish number 1 are moving upstream. Fish number 1 meets fish number 2 and eats it, then it meets fish number 3 and eats it too. Finally, it meets fish number 4 and is eaten by it. The remaining two fish, number 0 and 4, never meet and therefore stay alive.\n",
    "\n",
    "Write a function:\n",
    "\n",
    "def solution(A, B)\n",
    "\n",
    "that, given two non-empty arrays A and B consisting of N integers, returns the number of fish that will stay alive.\n",
    "\n",
    "For example, given the arrays shown above, the function should return 2, as explained above.\n",
    "\n",
    "Write an efficient algorithm for the following assumptions:\n",
    "\n",
    "N is an integer within the range [1..100,000];\n",
    "\n",
    "each element of array A is an integer within the range [0..1,000,000,000];\n",
    "\n",
    "each element of array B is an integer that can have one of the following values: 0, 1;\n",
    "the elements of A are all distinct."
   ]
  },
  {
   "cell_type": "code",
   "execution_count": 354,
   "metadata": {},
   "outputs": [],
   "source": [
    "# 100% for both, clever solution\n",
    "def solution(A, B):\n",
    "    dead = 0\n",
    "    stack = []     \n",
    "    for idx in range(len(A)):\n",
    "        if B[idx] == 1:\n",
    "            stack.append(A[idx])\n",
    "        else:\n",
    "            while len(stack) > 0:\n",
    "                dead += 1\n",
    "                if stack[-1] > A[idx]:\n",
    "                    break\n",
    "                else:\n",
    "                    stack.pop()\n",
    "     \n",
    "    return len(A) - dead"
   ]
  },
  {
   "cell_type": "code",
   "execution_count": 355,
   "metadata": {},
   "outputs": [
    {
     "data": {
      "text/plain": [
       "2"
      ]
     },
     "execution_count": 355,
     "metadata": {},
     "output_type": "execute_result"
    }
   ],
   "source": [
    "A = [4,3,2,1,5]\n",
    "B = [0,1,0,0,0]\n",
    "solution(A, B)"
   ]
  },
  {
   "cell_type": "markdown",
   "metadata": {},
   "source": [
    "An array A consisting of N integers is given. The dominator of array A is the value that occurs in more than half of the elements of A.\n",
    "\n",
    "For example, consider array A such that\n",
    "\n",
    " A[0] = 3    A[1] = 4    A[2] =  3  \n",
    " A[3] = 2    A[4] = 3    A[5] = -1  \n",
    " A[6] = 3    A[7] = 3  \n",
    "The dominator of A is 3 because it occurs in 5 out of 8 elements of A (namely in those with indices 0, 2, 4, 6 and 7) and 5 is more than a half of 8.\n",
    "\n",
    "Write a function\n",
    "\n",
    "def solution(A)\n",
    "\n",
    "that, given an array A consisting of N integers, returns index of any element of array A in which the dominator of A occurs. The function should return −1 if array A does not have a dominator.\n",
    "\n",
    "For example, given array A such that\n",
    "\n",
    " A[0] = 3    A[1] = 4    A[2] =  3  \n",
    " A[3] = 2    A[4] = 3    A[5] = -1  \n",
    " A[6] = 3    A[7] = 3\n",
    "the function may return 0, 2, 4, 6 or 7, as explained above.\n",
    "\n",
    "Write an efficient algorithm for the following assumptions:\n",
    "\n",
    "N is an integer within the range [0..100,000];\n",
    "\n",
    "each element of array A is an integer within the range [−2,147,483,648..2,147,483,647].\n"
   ]
  },
  {
   "cell_type": "code",
   "execution_count": 373,
   "metadata": {},
   "outputs": [],
   "source": [
    "# 100% for both\n",
    "def solution(A):\n",
    "    cnt_d = {k: 0 for k in set(A)}\n",
    "    idx_d = {k: [] for k in set(A)}    \n",
    "    for i, a in enumerate(A):\n",
    "        cnt_d[a] += 1\n",
    "        if len(idx_d[a]) == 0:\n",
    "            idx_d[a].append(i) \n",
    "        if cnt_d[a] > 0.5 * len(A):\n",
    "            return idx_d[a][0]\n",
    "    return -1\n",
    "        \n",
    "        \n",
    "        "
   ]
  },
  {
   "cell_type": "code",
   "execution_count": 374,
   "metadata": {},
   "outputs": [
    {
     "data": {
      "text/plain": [
       "0"
      ]
     },
     "execution_count": 374,
     "metadata": {},
     "output_type": "execute_result"
    },
    {
     "name": "stdout",
     "output_type": "stream",
     "text": [
      "258 ms ± 9.75 ms per loop (mean ± std. dev. of 7 runs, 1 loop each)\n"
     ]
    }
   ],
   "source": [
    "A = [3,4,3,2,3,-1,3,3]\n",
    "solution(A)\n",
    "A = np.random.randint(-2147483648, 2147483647, 99000)\n",
    "%timeit solution(A)"
   ]
  },
  {
   "cell_type": "markdown",
   "metadata": {},
   "source": [
    "A non-empty array A consisting of N integers is given.\n",
    "\n",
    "The leader of this array is the value that occurs in more than half of the elements of A.\n",
    "\n",
    "An equi leader is an index S such that 0 ≤ S < N − 1 and two sequences A[0], A[1], ..., A[S] and A[S + 1], A[S + 2], ..., A[N − 1] have leaders of the same value.\n",
    "\n",
    "For example, given array A such that:\n",
    "\n",
    "    A[0] = 4  \n",
    "    A[1] = 3  \n",
    "    A[2] = 4  \n",
    "    A[3] = 4  \n",
    "    A[4] = 4  \n",
    "    A[5] = 2  \n",
    "we can find two equi leaders:\n",
    "\n",
    "0, because sequences: (4) and (3, 4, 4, 4, 2) have the same leader, whose value is 4.  \n",
    "2, because sequences: (4, 3, 4) and (4, 4, 2) have the same leader, whose value is 4.  \n",
    "The goal is to count the number of equi leaders.\n",
    "\n",
    "Write a function:\n",
    "\n",
    "def solution(A)\n",
    "\n",
    "that, given a non-empty array A consisting of N integers, returns the number of equi leaders.\n",
    "\n",
    "For example, given:\n",
    "\n",
    "    A[0] = 4  \n",
    "    A[1] = 3  \n",
    "    A[2] = 4  \n",
    "    A[3] = 4  \n",
    "    A[4] = 4  \n",
    "    A[5] = 2  \n",
    "the function should return 2, as explained above.\n",
    "\n",
    "Write an efficient algorithm for the following assumptions:\n",
    "\n",
    "N is an integer within the range [1..100,000];\n",
    "\n",
    "each element of array A is an integer within the range [−1,000,000,000..1,000,000,000]."
   ]
  },
  {
   "cell_type": "code",
   "execution_count": 392,
   "metadata": {},
   "outputs": [],
   "source": [
    "# 100% correctness, 0% performance\n",
    "def find_leader(A):\n",
    "    cnt_d = {k: 0 for k in set(A)} \n",
    "    for a in A:\n",
    "        cnt_d[a] += 1        \n",
    "        if cnt_d[a] > 0.5 * len(A):\n",
    "            return a\n",
    "    return -1\n",
    "\n",
    "def solution(A):\n",
    "    equilrs = 0\n",
    "    for i in range(len(A)-1):\n",
    "        A1 = A[:i+1]\n",
    "        A2 = A[i+1:]\n",
    "        print(A1, A2)\n",
    "        l1 = find_leader(A1)\n",
    "        if l1 == -1:\n",
    "            continue\n",
    "        l2 = find_leader(A2)\n",
    "        if l2 == -1:\n",
    "            continue\n",
    "        if l1 == l2:\n",
    "            equilrs += 1\n",
    "    return equilrs      \n",
    "    "
   ]
  },
  {
   "cell_type": "code",
   "execution_count": 393,
   "metadata": {},
   "outputs": [
    {
     "name": "stdout",
     "output_type": "stream",
     "text": [
      "[4] [3, 4, 4, 4, 2]\n",
      "[4, 3] [4, 4, 4, 2]\n",
      "[4, 3, 4] [4, 4, 2]\n",
      "[4, 3, 4, 4] [4, 2]\n",
      "[4, 3, 4, 4, 4] [2]\n"
     ]
    },
    {
     "data": {
      "text/plain": [
       "2"
      ]
     },
     "execution_count": 393,
     "metadata": {},
     "output_type": "execute_result"
    }
   ],
   "source": [
    "A = [3,4,3,2,3,-1,3,3]\n",
    "A = [4,3,4,4,4, 2]\n",
    "solution(A)"
   ]
  },
  {
   "cell_type": "markdown",
   "metadata": {},
   "source": [
    "An array A consisting of N integers is given. It contains daily prices of a stock share for a period of N consecutive days. If a single share was bought on day P and sold on day Q, where 0 ≤ P ≤ Q < N, then the profit of such transaction is equal to A[Q] − A[P], provided that A[Q] ≥ A[P]. Otherwise, the transaction brings loss of A[P] − A[Q].\n",
    "\n",
    "For example, consider the following array A consisting of six elements such that:\n",
    "\n",
    "  A[0] = 23171  \n",
    "  A[1] = 21011  \n",
    "  A[2] = 21123  \n",
    "  A[3] = 21366  \n",
    "  A[4] = 21013  \n",
    "  A[5] = 21367  \n",
    "If a share was bought on day 0 and sold on day 2, a loss of 2048 would occur because A[2] − A[0] = 21123 − 23171 = −2048. If a share was bought on day 4 and sold on day 5, a profit of 354 would occur because A[5] − A[4] = 21367 − 21013 = 354. Maximum possible profit was 356. It would occur if a share was bought on day 1 and sold on day 5.\n",
    "\n",
    "Write a function,\n",
    "\n",
    "def solution(A)\n",
    "\n",
    "that, given an array A consisting of N integers containing daily prices of a stock share for a period of N consecutive days, returns the maximum possible profit from one transaction during this period. The function should return 0 if it was impossible to gain any profit.\n",
    "\n",
    "For example, given array A consisting of six elements such that:\n",
    "\n",
    "\n",
    "  A[0] = 23171  \n",
    "  A[1] = 21011  \n",
    "  A[2] = 21123  \n",
    "  A[3] = 21366  \n",
    "  A[4] = 21013  \n",
    "  A[5] = 21367  \n",
    "the function should return 356, as explained above.\n",
    "\n",
    "Write an efficient algorithm for the following assumptions:\n",
    "\n",
    "N is an integer within the range [0..400,000];\n",
    "\n",
    "each element of array A is an integer within the range [0..200,000]."
   ]
  },
  {
   "cell_type": "code",
   "execution_count": 404,
   "metadata": {},
   "outputs": [],
   "source": [
    "# 100% for both\n",
    "def solution(A):\n",
    "    max_profit = 0\n",
    "    min_price = 200000\n",
    "    max_price = 0\n",
    "    for price in A:\n",
    "        min_price = min(min_price, price)\n",
    "        print(f'min_price so far is: {min_price}')\n",
    "        max_profit = max(max_profit, price - min_price)\n",
    "        print(max_profit)\n",
    "    return max_profit"
   ]
  },
  {
   "cell_type": "code",
   "execution_count": 402,
   "metadata": {},
   "outputs": [
    {
     "name": "stdout",
     "output_type": "stream",
     "text": [
      "min_price so far is: 2\n",
      "0\n",
      "min_price so far is: 2\n",
      "2\n",
      "min_price so far is: 2\n",
      "4\n",
      "min_price so far is: 1\n",
      "4\n",
      "min_price so far is: 1\n",
      "4\n",
      "min_price so far is: 1\n",
      "6\n"
     ]
    },
    {
     "data": {
      "text/plain": [
       "6"
      ]
     },
     "execution_count": 402,
     "metadata": {},
     "output_type": "execute_result"
    }
   ],
   "source": [
    "A = [2,4,6,1,4,7]\n",
    "solution(A)"
   ]
  },
  {
   "cell_type": "markdown",
   "metadata": {},
   "source": [
    "A non-empty array A consisting of N integers is given. A pair of integers (P, Q), such that 0 ≤ P ≤ Q < N, is called a slice of array A. The sum of a slice (P, Q) is the total of A[P] + A[P+1] + ... + A[Q].\n",
    "\n",
    "Write a function:\n",
    "\n",
    "def solution(A)\n",
    "\n",
    "that, given an array A consisting of N integers, returns the maximum sum of any slice of A.\n",
    "\n",
    "For example, given array A such that:\n",
    "\n",
    "A[0] = 3  A[1] = 2  A[2] = -6  \n",
    "A[3] = 4  A[4] = 0  \n",
    "the function should return 5 because:\n",
    "\n",
    "(3, 4) is a slice of A that has sum 4,  \n",
    "(2, 2) is a slice of A that has sum −6,  \n",
    "(0, 1) is a slice of A that has sum 5,  \n",
    "no other slice of A has sum greater than (0, 1).  \n",
    "Write an efficient algorithm for the following assumptions:\n",
    "\n",
    "N is an integer within the range [1..1,000,000];\n",
    "\n",
    "each element of array A is an integer within the range [−1,000,000..1,000,000];\n",
    "\n",
    "the result will be an integer within the range [−2,147,483,648..2,147,483,647]."
   ]
  },
  {
   "cell_type": "code",
   "execution_count": 415,
   "metadata": {},
   "outputs": [],
   "source": [
    "# 100% for both\n",
    "def solution(A):\n",
    "    local_max = global_max = -1000000\n",
    "    for a in A:\n",
    "        local_max = max(a, local_max +a)\n",
    "        global_max = max(global_max, local_max)\n",
    "        print(local_max, global_max)\n",
    "    return global_max"
   ]
  },
  {
   "cell_type": "code",
   "execution_count": 416,
   "metadata": {},
   "outputs": [
    {
     "name": "stdout",
     "output_type": "stream",
     "text": [
      "2 2\n",
      "6 6\n",
      "-3 6\n",
      "1 6\n",
      "5 6\n",
      "12 12\n",
      "11 12\n",
      "9 12\n",
      "109 109\n",
      "106 109\n"
     ]
    },
    {
     "data": {
      "text/plain": [
       "109"
      ]
     },
     "execution_count": 416,
     "metadata": {},
     "output_type": "execute_result"
    }
   ],
   "source": [
    "A = [2,4,-9,1,4,7,-1,-2,100, -3]\n",
    "solution(A)"
   ]
  },
  {
   "cell_type": "markdown",
   "metadata": {},
   "source": [
    "A non-empty array A consisting of N integers is given.\n",
    "\n",
    "A triplet (X, Y, Z), such that 0 ≤ X < Y < Z < N, is called a double slice.\n",
    "\n",
    "The sum of double slice (X, Y, Z) is the total of A[X + 1] + A[X + 2] + ... + A[Y − 1] + A[Y + 1] + A[Y + 2] + ... + A[Z − 1].\n",
    "\n",
    "For example, array A such that:\n",
    "\n",
    "    A[0] = 3  \n",
    "    A[1] = 2  \n",
    "    A[2] = 6  \n",
    "    A[3] = -1  \n",
    "    A[4] = 4  \n",
    "    A[5] = 5  \n",
    "    A[6] = -1  \n",
    "    A[7] = 2  \n",
    "contains the following example double slices:\n",
    "\n",
    "double slice (0, 3, 6), sum is 2 + 6 + 4 + 5 = 17,  \n",
    "double slice (0, 3, 7), sum is 2 + 6 + 4 + 5 − 1 = 16,  \n",
    "double slice (3, 4, 5), sum is 0.  \n",
    "The goal is to find the maximal sum of any double slice.  \n",
    "\n",
    "Write a function:\n",
    "\n",
    "def solution(A)\n",
    "\n",
    "that, given a non-empty array A consisting of N integers, returns the maximal sum of any double slice.\n",
    "\n",
    "For example, given:\n",
    "\n",
    "    A[0] = 3  \n",
    "    A[1] = 2  \n",
    "    A[2] = 6  \n",
    "    A[3] = -1  \n",
    "    A[4] = 4  \n",
    "    A[5] = 5  \n",
    "    A[6] = -1  \n",
    "    A[7] = 2  \n",
    "the function should return 17, because no double slice of array A has a sum of greater than 17.\n",
    "\n",
    "Write an efficient algorithm for the following assumptions:\n",
    "\n",
    "N is an integer within the range [3..100,000];\n",
    "\n",
    "each element of array A is an integer within the range [−10,000..10,000]."
   ]
  },
  {
   "cell_type": "markdown",
   "metadata": {},
   "source": [
    "pay attention there are two slices: A[X+1:Y] and A[Y+1:Z-1], not including index Y"
   ]
  },
  {
   "cell_type": "code",
   "execution_count": 1,
   "metadata": {},
   "outputs": [],
   "source": [
    "# very clever solution\n",
    "def solution(A):\n",
    "    fw_cum_max = [0] * len(A) # forward cumulative max, non-negative \n",
    "    bw_cum_max = [0] * len(A)\n",
    "    print(A)\n",
    "    for idx in range(1, len(A)):\n",
    "        fw_cum_max[idx] = max(0, fw_cum_max[idx-1] + A[idx])\n",
    "    print(idx, fw_cum_max)     \n",
    "    for idx in reversed(range(len(A)-1)):\n",
    "        bw_cum_max[idx] = max(0, bw_cum_max[idx+1] + A[idx])\n",
    "    print(idx, bw_cum_max)\n",
    "    double_slice_max = 0     \n",
    "    for idx in range(1, len(A)-1):\n",
    "        double_slice_max = max(double_slice_max, bw_cum_max[idx+1] + fw_cum_max[idx-1])\n",
    "        print(idx, fw_cum_max[idx-1], bw_cum_max[idx+1], double_slice_max)           \n",
    "    return double_slice_max"
   ]
  },
  {
   "cell_type": "code",
   "execution_count": 452,
   "metadata": {},
   "outputs": [
    {
     "name": "stdout",
     "output_type": "stream",
     "text": [
      "[3, 20, 2, 6, -1, -4, 6, -1, 2]\n",
      "8 [0, 20, 22, 28, 27, 23, 29, 28, 30]\n",
      "0 [32, 29, 9, 7, 1, 2, 6, 0, 0]\n",
      "1 0 9 9\n",
      "2 20 7 27\n",
      "3 22 1 27\n",
      "4 28 2 30\n",
      "5 27 6 33\n",
      "6 23 0 33\n",
      "7 29 0 33\n"
     ]
    }
   ],
   "source": [
    "A = [3,20,2,6,-1,-4,6,-1,2]\n",
    "solution(A)"
   ]
  },
  {
   "cell_type": "code",
   "execution_count": null,
   "metadata": {},
   "outputs": [],
   "source": []
  },
  {
   "cell_type": "markdown",
   "metadata": {},
   "source": [
    "An integer N is given, representing the area of some rectangle.\n",
    "\n",
    "The area of a rectangle whose sides are of length A and B is A * B, and the perimeter is 2 * (A + B).\n",
    "\n",
    "The goal is to find the minimal perimeter of any rectangle whose area equals N. The sides of this rectangle should be only integers.\n",
    "\n",
    "For example, given integer N = 30, rectangles of area 30 are:\n",
    "\n",
    "(1, 30), with a perimeter of 62,  \n",
    "(2, 15), with a perimeter of 34,  \n",
    "(3, 10), with a perimeter of 26,  \n",
    "(5, 6), with a perimeter of 22.  \n",
    "Write a function:\n",
    "\n",
    "def solution(N)\n",
    "\n",
    "that, given an integer N, returns the minimal perimeter of any rectangle whose area is exactly equal to N.\n",
    "\n",
    "For example, given an integer N = 30, the function should return 22, as explained above.\n",
    "\n",
    "Write an efficient algorithm for the following assumptions:\n",
    "\n",
    "N is an integer within the range [1..1,000,000,000]."
   ]
  },
  {
   "cell_type": "code",
   "execution_count": 7,
   "metadata": {},
   "outputs": [],
   "source": [
    "import math\n",
    "# look for the largest factor\n",
    "def solution(N):\n",
    "    if N <= 0:\n",
    "        return 0   \n",
    "    for i in range(int(math.sqrt(N)), 0, -1):\n",
    "        if N % i == 0:\n",
    "            return int(2*(i + N/i))\n",
    "        "
   ]
  },
  {
   "cell_type": "code",
   "execution_count": 8,
   "metadata": {},
   "outputs": [
    {
     "data": {
      "text/plain": [
       "22"
      ]
     },
     "execution_count": 8,
     "metadata": {},
     "output_type": "execute_result"
    }
   ],
   "source": [
    "N = 30\n",
    "solution(30)"
   ]
  },
  {
   "cell_type": "markdown",
   "metadata": {},
   "source": [
    "A positive integer D is a factor of a positive integer N if there exists an integer M such that N = D * M.\n",
    "\n",
    "For example, 6 is a factor of 24, because M = 4 satisfies the above condition (24 = 6 * 4).\n",
    "\n",
    "Write a function:\n",
    "\n",
    "def solution(N)\n",
    "\n",
    "that, given a positive integer N, returns the number of its factors.\n",
    "\n",
    "For example, given N = 24, the function should return 8, because 24 has 8 factors, namely 1, 2, 3, 4, 6, 8, 12, 24. There are no other factors of 24.\n",
    "\n",
    "Write an efficient algorithm for the following assumptions:\n",
    "\n",
    "N is an integer within the range [1..2,147,483,647]."
   ]
  },
  {
   "cell_type": "code",
   "execution_count": 9,
   "metadata": {},
   "outputs": [],
   "source": [
    "def solution(N):\n",
    "    cnt = 0\n",
    "    i = 1\n",
    "    while ( i * i <= N):\n",
    "        if (N % i == 0):\n",
    "            if i * i == N:\n",
    "               cnt += 1\n",
    "            else:\n",
    "                cnt += 2\n",
    "        i += 1\n",
    "    return cnt"
   ]
  },
  {
   "cell_type": "markdown",
   "metadata": {},
   "source": [
    "A non-empty array A consisting of N integers is given.\n",
    "\n",
    "A peak is an array element which is larger than its neighbors. More precisely, it is an index P such that 0 < P < N − 1,  A[P − 1] < A[P] and A[P] > A[P + 1].\n",
    "\n",
    "For example, the following array A:\n",
    "\n",
    "    A[0] = 1  \n",
    "    A[1] = 2  \n",
    "    A[2] = 3  \n",
    "    A[3] = 4  \n",
    "    A[4] = 3  \n",
    "    A[5] = 4  \n",
    "    A[6] = 1  \n",
    "    A[7] = 2  \n",
    "    A[8] = 3  \n",
    "    A[9] = 4  \n",
    "    A[10] = 6  \n",
    "    A[11] = 2  \n",
    "has exactly three peaks: 3, 5, 10.\n",
    "\n",
    "We want to divide this array into blocks containing the same number of elements. More precisely, we want to choose a number K that will yield the following blocks:\n",
    "\n",
    "A[0], A[1], ..., A[K − 1],  \n",
    "A[K], A[K + 1], ..., A[2K − 1],  \n",
    "...\n",
    "A[N − K], A[N − K + 1], ..., A[N − 1].  \n",
    "What's more, every block should contain at least one peak. Notice that extreme elements of the blocks (for example A[K − 1] or A[K]) can also be peaks, but only if they have both neighbors (including one in an adjacent blocks).\n",
    "\n",
    "The goal is to find the maximum number of blocks into which the array A can be divided.\n",
    "\n",
    "Array A can be divided into blocks as follows:\n",
    "\n",
    "one block (1, 2, 3, 4, 3, 4, 1, 2, 3, 4, 6, 2). This block contains three peaks.  \n",
    "two blocks (1, 2, 3, 4, 3, 4) and (1, 2, 3, 4, 6, 2). Every block has a peak.  \n",
    "three blocks (1, 2, 3, 4), (3, 4, 1, 2), (3, 4, 6, 2). Every block has a peak. Notice in particular that the first block (1, 2, 3, 4) has a peak at A[3], because A[2] < A[3] > A[4], even though A[4] is in the adjacent block.\n",
    "\n",
    "However, array A cannot be divided into four blocks, (1, 2, 3), (4, 3, 4), (1, 2, 3) and (4, 6, 2), because the (1, 2, 3) blocks do not contain a peak. Notice in particular that the (4, 3, 4) block contains two peaks: A[3] and A[5].\n",
    "\n",
    "The maximum number of blocks that array A can be divided into is three.\n",
    "\n",
    "Write a function:\n",
    "\n",
    "def solution(A)\n",
    "\n",
    "that, given a non-empty array A consisting of N integers, returns the maximum number of blocks into which A can be divided.\n",
    "\n",
    "If A cannot be divided into some number of blocks, the function should return 0.\n",
    "\n",
    "For example, given:\n",
    "\n",
    "    A[0] = 1  \n",
    "    A[1] = 2  \n",
    "    A[2] = 3  \n",
    "    A[3] = 4  \n",
    "    A[4] = 3  \n",
    "    A[5] = 4  \n",
    "    A[6] = 1  \n",
    "    A[7] = 2  \n",
    "    A[8] = 3  \n",
    "    A[9] = 4  \n",
    "    A[10] = 6  \n",
    "    A[11] = 2  \n",
    "the function should return 3, as explained above.\n",
    "\n",
    "Write an efficient algorithm for the following assumptions:\n",
    "\n",
    "N is an integer within the range [1..100,000];\n",
    "\n",
    "each element of array A is an integer within the range [0..1,000,000,000]."
   ]
  },
  {
   "cell_type": "code",
   "execution_count": 7,
   "metadata": {},
   "outputs": [],
   "source": [
    "# 100% for both\n",
    "def solution(A):\n",
    "    peak_idxs = [] \n",
    "    for idx in range(1, len(A)-1):\n",
    "        if A[idx-1] < A[idx] > A[idx+1]:\n",
    "            peak_idxs.append(idx)\n",
    "    print(peak_idxs)\n",
    "    if len(peak_idxs) == 0:\n",
    "        return 0\n",
    " \n",
    "    for num_blocks in range(len(peak_idxs), 0, -1):        \n",
    "        if len(A) % num_blocks == 0:\n",
    "            num_elements = len(A) // num_blocks\n",
    "            has_peaks = [False] * num_blocks\n",
    "            blocks_with_peak = 0\n",
    "            for idx in peak_idxs:\n",
    "                block_idx = idx//num_elements                \n",
    "                if has_peaks[block_idx] == False:\n",
    "                    has_peaks[block_idx] = True\n",
    "                    blocks_with_peak += 1 \n",
    "                print(idx, block_idx, num_elements, blocks_with_peak, num_blocks, has_peaks)\n",
    "            if blocks_with_peak == num_blocks:\n",
    "                return num_blocks \n",
    "    return 0"
   ]
  },
  {
   "cell_type": "code",
   "execution_count": 8,
   "metadata": {},
   "outputs": [
    {
     "name": "stdout",
     "output_type": "stream",
     "text": [
      "[1, 3, 5, 10]\n",
      "1 0 3 1 4 [True, False, False, False]\n",
      "3 1 3 2 4 [True, True, False, False]\n",
      "5 1 3 2 4 [True, True, False, False]\n",
      "10 3 3 3 4 [True, True, False, True]\n",
      "1 0 4 1 3 [True, False, False]\n",
      "3 0 4 1 3 [True, False, False]\n",
      "5 1 4 2 3 [True, True, False]\n",
      "10 2 4 3 3 [True, True, True]\n"
     ]
    },
    {
     "data": {
      "text/plain": [
       "3"
      ]
     },
     "execution_count": 8,
     "metadata": {},
     "output_type": "execute_result"
    }
   ],
   "source": [
    "A = [1, 4, 2, 4, 3, 4, 3,  1, 3, 4, 6, 2]\n",
    "solution(A)"
   ]
  }
 ],
 "metadata": {
  "kernelspec": {
   "display_name": "Python 3",
   "language": "python",
   "name": "python3"
  },
  "language_info": {
   "codemirror_mode": {
    "name": "ipython",
    "version": 3
   },
   "file_extension": ".py",
   "mimetype": "text/x-python",
   "name": "python",
   "nbconvert_exporter": "python",
   "pygments_lexer": "ipython3",
   "version": "3.6.7"
  }
 },
 "nbformat": 4,
 "nbformat_minor": 2
}
