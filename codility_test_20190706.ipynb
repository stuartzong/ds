{
 "cells": [
  {
   "cell_type": "code",
   "execution_count": 6,
   "metadata": {},
   "outputs": [],
   "source": [
    "import numpy as np\n",
    "import pandas as pd\n",
    "import sys\n",
    "from IPython.core.interactiveshell import InteractiveShell\n",
    "InteractiveShell.ast_node_interactivity = \"all\""
   ]
  },
  {
   "cell_type": "code",
   "execution_count": 7,
   "metadata": {},
   "outputs": [],
   "source": [
    "\n",
    "# 100% correctness and performance\n",
    "def solution(A):\n",
    "    N = len(A)\n",
    "    return sum(range(1, N+2)) - sum(A)"
   ]
  },
  {
   "cell_type": "code",
   "execution_count": 8,
   "metadata": {},
   "outputs": [
    {
     "data": {
      "text/plain": [
       "3"
      ]
     },
     "execution_count": 8,
     "metadata": {},
     "output_type": "execute_result"
    },
    {
     "data": {
      "text/plain": [
       "[1, 2, 3]"
      ]
     },
     "execution_count": 8,
     "metadata": {},
     "output_type": "execute_result"
    },
    {
     "data": {
      "text/plain": [
       "[99996, 99997, 99998]"
      ]
     },
     "execution_count": 8,
     "metadata": {},
     "output_type": "execute_result"
    }
   ],
   "source": [
    "A = [2, 3, 1, 5]\n",
    "A = []\n",
    "A = [2]\n",
    "A = [0, 3]\n",
    "solution(A)\n",
    "A = list(range(1, 100000))\n",
    "A.remove(99999)\n",
    "A[:3]\n",
    "A[-3:]\n",
    "# %timeit solution(A)\n",
    "# %timeit solution1(A)"
   ]
  },
  {
   "cell_type": "code",
   "execution_count": 84,
   "metadata": {},
   "outputs": [
    {
     "data": {
      "text/plain": [
       "array([ 0,  1,  2,  3,  4,  5,  6,  7,  8,  9, 10, 11, 12, 13, 14, 15, 16,\n",
       "       17, 18, 19])"
      ]
     },
     "execution_count": 84,
     "metadata": {},
     "output_type": "execute_result"
    },
    {
     "data": {
      "text/plain": [
       "array([[ 0,  1,  2,  3,  4],\n",
       "       [ 5,  6,  7,  8,  9],\n",
       "       [10, 11, 12, 13, 14],\n",
       "       [15, 16, 17, 18, 19]])"
      ]
     },
     "execution_count": 84,
     "metadata": {},
     "output_type": "execute_result"
    }
   ],
   "source": [
    "a = np.array([i for i in range(20)])\n",
    "a\n",
    "A = a.reshape(4,5)\n",
    "A"
   ]
  },
  {
   "cell_type": "code",
   "execution_count": 110,
   "metadata": {},
   "outputs": [
    {
     "data": {
      "text/plain": [
       "array([[19, 18, 17, 16, 15],\n",
       "       [14, 13, 12, 11, 10],\n",
       "       [ 9,  8,  7,  6,  5],\n",
       "       [ 4,  3,  2,  1,  0]])"
      ]
     },
     "execution_count": 110,
     "metadata": {},
     "output_type": "execute_result"
    }
   ],
   "source": [
    "A[::-1,::-1]"
   ]
  },
  {
   "cell_type": "code",
   "execution_count": 114,
   "metadata": {},
   "outputs": [
    {
     "data": {
      "text/plain": [
       "[array([0, 1, 2, 3, 4]), array([5, 6, 7, 8, 9]), array([10, 11, 12, 13, 14])]"
      ]
     },
     "execution_count": 114,
     "metadata": {},
     "output_type": "execute_result"
    },
    {
     "data": {
      "text/plain": [
       "array([15, 16, 17, 18, 19])"
      ]
     },
     "execution_count": 114,
     "metadata": {},
     "output_type": "execute_result"
    }
   ],
   "source": [
    "*a, b= A\n",
    "a\n",
    "b"
   ]
  },
  {
   "cell_type": "code",
   "execution_count": 100,
   "metadata": {},
   "outputs": [
    {
     "data": {
      "text/plain": [
       "[(19, 14, 9, 4),\n",
       " (18, 13, 8, 3),\n",
       " (17, 12, 7, 2),\n",
       " (16, 11, 6, 1),\n",
       " (15, 10, 5, 0)]"
      ]
     },
     "execution_count": 100,
     "metadata": {},
     "output_type": "execute_result"
    }
   ],
   "source": [
    "# A[1:,:3]\n",
    "# A[0,:]\n",
    "# A[-1, :]\n",
    "# A[1:-1, :]\n",
    "# list(zip(*A))\n",
    "list(zip(*A[::-1,::-1]))"
   ]
  },
  {
   "cell_type": "code",
   "execution_count": 73,
   "metadata": {},
   "outputs": [],
   "source": [
    "def solution(A):\n",
    "    n, m = A.shape\n",
    "    up_spiral = []\n",
    "    low_spiral = []\n",
    "    for i in range(n):\n",
    "        print(i, j)\n",
    "        if A.shape[0] > 0:   \n",
    "            up_spiral += A[0,:]\n",
    "            A = A[1:, :]\n",
    "        if A.shape[0] > 0:\n",
    "            low_spiral += A[-1,:]\n",
    "            A = A[:-1, :]\n",
    "\n",
    "        if A.shape[0] > 0:\n",
    "            A[] = \n",
    "            \n",
    "    \n",
    "    "
   ]
  },
  {
   "cell_type": "code",
   "execution_count": 74,
   "metadata": {},
   "outputs": [
    {
     "name": "stdout",
     "output_type": "stream",
     "text": [
      "0 0\n",
      "0 1\n",
      "0 2\n",
      "0 3\n",
      "0 4\n",
      "1 0\n",
      "1 1\n",
      "1 2\n",
      "1 3\n",
      "1 4\n",
      "2 0\n",
      "2 1\n",
      "2 2\n",
      "2 3\n",
      "2 4\n",
      "3 0\n",
      "3 1\n",
      "3 2\n",
      "3 3\n",
      "3 4\n"
     ]
    }
   ],
   "source": [
    "solution(A)"
   ]
  },
  {
   "cell_type": "code",
   "execution_count": 27,
   "metadata": {},
   "outputs": [],
   "source": [
    "\n",
    "def solution(N):\n",
    "    L = 0\n",
    "    R = 1\n",
    "    ops = ['L', 'R']\n",
    "    success = False\n",
    "#     comL = 2*L - R\n",
    "#     comR = 2*R - L\n",
    "     \n",
    "#     for i in range(1, N+1):\n",
    "    while not success:\n",
    "        if L \n",
    "        for op in ops:\n",
    "            if op == 'L':\n",
    "                L = 2*L -R\n",
    "            elif op == 'R':\n",
    "                R = 2*R -L\n",
    "            if L == N or R == N:\n",
    "                print('ok')\n",
    "                success = True\n",
    "            print(op, L, R)\n",
    "    return 'impossible'\n",
    "            \n",
    "    "
   ]
  },
  {
   "cell_type": "code",
   "execution_count": 53,
   "metadata": {},
   "outputs": [],
   "source": [
    "\n",
    "def solution(N):\n",
    "    L = 0\n",
    "    R = 1\n",
    "    if N == 0 or N == 1:\n",
    "        print('no operaton need')\n",
    "        return 'impossible'\n",
    "    \n",
    "    while N - R > 0:\n",
    "        R = 2*R -L\n",
    "        print(L, R)\n",
    "    while N - L < 0:\n",
    "        L = 2*L -R\n",
    "        print(L, R)\n",
    "    if N ==R or N ==L:\n",
    "        \n",
    "        \n",
    "        print(L, R)\n",
    "    return 'impossible'\n",
    "            \n",
    "    "
   ]
  },
  {
   "cell_type": "code",
   "execution_count": 54,
   "metadata": {},
   "outputs": [
    {
     "name": "stdout",
     "output_type": "stream",
     "text": [
      "-1 1\n",
      "-3 1\n",
      "-7 1\n",
      "-15 1\n"
     ]
    },
    {
     "data": {
      "text/plain": [
       "'impossible'"
      ]
     },
     "execution_count": 54,
     "metadata": {},
     "output_type": "execute_result"
    }
   ],
   "source": [
    "solution(-11)"
   ]
  },
  {
   "cell_type": "code",
   "execution_count": null,
   "metadata": {},
   "outputs": [],
   "source": []
  },
  {
   "cell_type": "code",
   "execution_count": null,
   "metadata": {},
   "outputs": [],
   "source": []
  },
  {
   "cell_type": "code",
   "execution_count": null,
   "metadata": {},
   "outputs": [],
   "source": []
  }
 ],
 "metadata": {
  "kernelspec": {
   "display_name": "Python 3",
   "language": "python",
   "name": "python3"
  },
  "language_info": {
   "codemirror_mode": {
    "name": "ipython",
    "version": 3
   },
   "file_extension": ".py",
   "mimetype": "text/x-python",
   "name": "python",
   "nbconvert_exporter": "python",
   "pygments_lexer": "ipython3",
   "version": "3.7.3"
  }
 },
 "nbformat": 4,
 "nbformat_minor": 2
}
