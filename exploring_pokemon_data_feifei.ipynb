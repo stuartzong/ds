{
 "cells": [
  {
   "cell_type": "code",
   "execution_count": 28,
   "metadata": {},
   "outputs": [],
   "source": [
    "import pandas as pd\n",
    "import numpy as np\n",
    "import matplotlib.pyplot as plt\n",
    "%matplotlib inline\n",
    "from IPython.core.interactiveshell import InteractiveShell\n",
    "InteractiveShell.ast_node_interactivity = \"all\""
   ]
  },
  {
   "cell_type": "markdown",
   "metadata": {},
   "source": [
    "### pokemon"
   ]
  },
  {
   "cell_type": "code",
   "execution_count": 2,
   "metadata": {},
   "outputs": [
    {
     "data": {
      "text/plain": [
       "(746, 16)"
      ]
     },
     "execution_count": 2,
     "metadata": {},
     "output_type": "execute_result"
    },
    {
     "data": {
      "text/html": [
       "<div>\n",
       "<style scoped>\n",
       "    .dataframe tbody tr th:only-of-type {\n",
       "        vertical-align: middle;\n",
       "    }\n",
       "\n",
       "    .dataframe tbody tr th {\n",
       "        vertical-align: top;\n",
       "    }\n",
       "\n",
       "    .dataframe thead th {\n",
       "        text-align: right;\n",
       "    }\n",
       "</style>\n",
       "<table border=\"1\" class=\"dataframe\">\n",
       "  <thead>\n",
       "    <tr style=\"text-align: right;\">\n",
       "      <th></th>\n",
       "      <th>id</th>\n",
       "      <th>identifier</th>\n",
       "      <th>generation_id</th>\n",
       "      <th>type_id</th>\n",
       "      <th>power</th>\n",
       "      <th>pp</th>\n",
       "      <th>accuracy</th>\n",
       "      <th>priority</th>\n",
       "      <th>target_id</th>\n",
       "      <th>damage_class_id</th>\n",
       "      <th>effect_id</th>\n",
       "      <th>effect_chance</th>\n",
       "      <th>contest_type_id</th>\n",
       "      <th>contest_effect_id</th>\n",
       "      <th>super_contest_effect_id</th>\n",
       "      <th>pokemon_habitat_id</th>\n",
       "    </tr>\n",
       "  </thead>\n",
       "  <tbody>\n",
       "    <tr>\n",
       "      <th>0</th>\n",
       "      <td>1</td>\n",
       "      <td>pound</td>\n",
       "      <td>1</td>\n",
       "      <td>1</td>\n",
       "      <td>40.0</td>\n",
       "      <td>35.0</td>\n",
       "      <td>100.0</td>\n",
       "      <td>0</td>\n",
       "      <td>10</td>\n",
       "      <td>2</td>\n",
       "      <td>1</td>\n",
       "      <td>NaN</td>\n",
       "      <td>5.0</td>\n",
       "      <td>1.0</td>\n",
       "      <td>5.0</td>\n",
       "      <td>1</td>\n",
       "    </tr>\n",
       "    <tr>\n",
       "      <th>1</th>\n",
       "      <td>2</td>\n",
       "      <td>karate-chop</td>\n",
       "      <td>1</td>\n",
       "      <td>2</td>\n",
       "      <td>50.0</td>\n",
       "      <td>25.0</td>\n",
       "      <td>100.0</td>\n",
       "      <td>0</td>\n",
       "      <td>10</td>\n",
       "      <td>2</td>\n",
       "      <td>44</td>\n",
       "      <td>NaN</td>\n",
       "      <td>5.0</td>\n",
       "      <td>2.0</td>\n",
       "      <td>5.0</td>\n",
       "      <td>7</td>\n",
       "    </tr>\n",
       "  </tbody>\n",
       "</table>\n",
       "</div>"
      ],
      "text/plain": [
       "   id   identifier  generation_id  type_id  power    pp  accuracy  priority  \\\n",
       "0   1        pound              1        1   40.0  35.0     100.0         0   \n",
       "1   2  karate-chop              1        2   50.0  25.0     100.0         0   \n",
       "\n",
       "   target_id  damage_class_id  effect_id  effect_chance  contest_type_id  \\\n",
       "0         10                2          1            NaN              5.0   \n",
       "1         10                2         44            NaN              5.0   \n",
       "\n",
       "   contest_effect_id  super_contest_effect_id  pokemon_habitat_id  \n",
       "0                1.0                      5.0                   1  \n",
       "1                2.0                      5.0                   7  "
      ]
     },
     "execution_count": 2,
     "metadata": {},
     "output_type": "execute_result"
    },
    {
     "data": {
      "text/plain": [
       "Index(['id', 'identifier', 'generation_id', 'type_id', 'power', 'pp',\n",
       "       'accuracy', 'priority', 'target_id', 'damage_class_id', 'effect_id',\n",
       "       'effect_chance', 'contest_type_id', 'contest_effect_id',\n",
       "       'super_contest_effect_id', 'pokemon_habitat_id'],\n",
       "      dtype='object')"
      ]
     },
     "execution_count": 2,
     "metadata": {},
     "output_type": "execute_result"
    }
   ],
   "source": [
    "f = '/projects/trans_scratch/validations/workspace/szong/development/data/moves.csv'\n",
    "df = pd.read_csv(f, sep='\\t') #df is a data frame, basically an excel table\n",
    "df.shape # show number of rows and columns (#rows, #columns)\n",
    "df.head(2) # list first 2 rows\n",
    "df.columns # show all column names"
   ]
  },
  {
   "cell_type": "code",
   "execution_count": 3,
   "metadata": {},
   "outputs": [
    {
     "name": "stdout",
     "output_type": "stream",
     "text": [
      "id\tidentifier\tgeneration_id\ttype_id\tpower\tpp\taccuracy\tpriority\ttarget_id\tdamage_class_id\teffect_id\teffect_chance\tcontest_type_id\tcontest_effect_id\tsuper_contest_effect_id\tpokemon_habitat_id\n",
      "1\tpound\t1\t1\t40.0\t35.0\t100.0\t0\t10\t2\t1\t\t5.0\t1.0\t5.0\t1\n",
      "2\tkarate-chop\t1\t2\t50.0\t25.0\t100.0\t0\t10\t2\t44\t\t5.0\t2.0\t5.0\t7\n",
      "3\tdouble-slap\t1\t1\t15.0\t10.0\t85.0\t0\t10\t2\t30\t\t5.0\t10.0\t7.0\t7\n",
      "4\tcomet-punch\t1\t1\t18.0\t15.0\t85.0\t0\t10\t2\t30\t\t5.0\t12.0\t7.0\t9\n",
      "747 /projects/trans_scratch/validations/workspace/szong/development/data/moves.csv\n"
     ]
    }
   ],
   "source": [
    "# you can run linux command by prefix the command with a '!', like what you do in a terminal\n",
    "! head -5 /projects/trans_scratch/validations/workspace/szong/development/data/moves.csv\n",
    "! wc -l /projects/trans_scratch/validations/workspace/szong/development/data/moves.csv"
   ]
  },
  {
   "cell_type": "code",
   "execution_count": 4,
   "metadata": {},
   "outputs": [
    {
     "data": {
      "text/html": [
       "<div>\n",
       "<style scoped>\n",
       "    .dataframe tbody tr th:only-of-type {\n",
       "        vertical-align: middle;\n",
       "    }\n",
       "\n",
       "    .dataframe tbody tr th {\n",
       "        vertical-align: top;\n",
       "    }\n",
       "\n",
       "    .dataframe thead th {\n",
       "        text-align: right;\n",
       "    }\n",
       "</style>\n",
       "<table border=\"1\" class=\"dataframe\">\n",
       "  <thead>\n",
       "    <tr style=\"text-align: right;\">\n",
       "      <th></th>\n",
       "      <th>id</th>\n",
       "      <th>identifier</th>\n",
       "      <th>generation_id</th>\n",
       "    </tr>\n",
       "  </thead>\n",
       "  <tbody>\n",
       "    <tr>\n",
       "      <th>0</th>\n",
       "      <td>1</td>\n",
       "      <td>pound</td>\n",
       "      <td>1</td>\n",
       "    </tr>\n",
       "    <tr>\n",
       "      <th>1</th>\n",
       "      <td>2</td>\n",
       "      <td>karate-chop</td>\n",
       "      <td>1</td>\n",
       "    </tr>\n",
       "  </tbody>\n",
       "</table>\n",
       "</div>"
      ],
      "text/plain": [
       "   id   identifier  generation_id\n",
       "0   1        pound              1\n",
       "1   2  karate-chop              1"
      ]
     },
     "execution_count": 4,
     "metadata": {},
     "output_type": "execute_result"
    }
   ],
   "source": [
    "# select a few columns\n",
    "df[['id', 'identifier', 'generation_id']].head(2)"
   ]
  },
  {
   "cell_type": "code",
   "execution_count": 5,
   "metadata": {},
   "outputs": [
    {
     "data": {
      "text/plain": [
       "'karate-chop'"
      ]
     },
     "execution_count": 5,
     "metadata": {},
     "output_type": "execute_result"
    },
    {
     "data": {
      "text/html": [
       "<div>\n",
       "<style scoped>\n",
       "    .dataframe tbody tr th:only-of-type {\n",
       "        vertical-align: middle;\n",
       "    }\n",
       "\n",
       "    .dataframe tbody tr th {\n",
       "        vertical-align: top;\n",
       "    }\n",
       "\n",
       "    .dataframe thead th {\n",
       "        text-align: right;\n",
       "    }\n",
       "</style>\n",
       "<table border=\"1\" class=\"dataframe\">\n",
       "  <thead>\n",
       "    <tr style=\"text-align: right;\">\n",
       "      <th></th>\n",
       "      <th>id</th>\n",
       "      <th>identifier</th>\n",
       "      <th>generation_id</th>\n",
       "      <th>type_id</th>\n",
       "      <th>power</th>\n",
       "    </tr>\n",
       "  </thead>\n",
       "  <tbody>\n",
       "    <tr>\n",
       "      <th>0</th>\n",
       "      <td>1</td>\n",
       "      <td>pound</td>\n",
       "      <td>1</td>\n",
       "      <td>1</td>\n",
       "      <td>40.0</td>\n",
       "    </tr>\n",
       "    <tr>\n",
       "      <th>1</th>\n",
       "      <td>2</td>\n",
       "      <td>karate-chop</td>\n",
       "      <td>1</td>\n",
       "      <td>2</td>\n",
       "      <td>50.0</td>\n",
       "    </tr>\n",
       "    <tr>\n",
       "      <th>2</th>\n",
       "      <td>3</td>\n",
       "      <td>double-slap</td>\n",
       "      <td>1</td>\n",
       "      <td>1</td>\n",
       "      <td>15.0</td>\n",
       "    </tr>\n",
       "    <tr>\n",
       "      <th>3</th>\n",
       "      <td>4</td>\n",
       "      <td>comet-punch</td>\n",
       "      <td>1</td>\n",
       "      <td>1</td>\n",
       "      <td>18.0</td>\n",
       "    </tr>\n",
       "    <tr>\n",
       "      <th>4</th>\n",
       "      <td>5</td>\n",
       "      <td>mega-punch</td>\n",
       "      <td>1</td>\n",
       "      <td>1</td>\n",
       "      <td>80.0</td>\n",
       "    </tr>\n",
       "  </tbody>\n",
       "</table>\n",
       "</div>"
      ],
      "text/plain": [
       "   id   identifier  generation_id  type_id  power\n",
       "0   1        pound              1        1   40.0\n",
       "1   2  karate-chop              1        2   50.0\n",
       "2   3  double-slap              1        1   15.0\n",
       "3   4  comet-punch              1        1   18.0\n",
       "4   5   mega-punch              1        1   80.0"
      ]
     },
     "execution_count": 5,
     "metadata": {},
     "output_type": "execute_result"
    }
   ],
   "source": [
    "# select a few rows\n",
    "df.iloc[1, 1]\n",
    "df.iloc[:5, :5]"
   ]
  },
  {
   "cell_type": "markdown",
   "metadata": {},
   "source": [
    "##### how many different types of pokemon do we have here?\n",
    "\n",
    "#### what are they?"
   ]
  },
  {
   "cell_type": "code",
   "execution_count": 9,
   "metadata": {},
   "outputs": [
    {
     "data": {
      "text/plain": [
       "array([    1,     2,    10,    15,    13,     3,    12,     5,     4,\n",
       "           7,    17,    11,    14,    16,     6,     8,    18,     9,\n",
       "       10002])"
      ]
     },
     "execution_count": 9,
     "metadata": {},
     "output_type": "execute_result"
    }
   ],
   "source": [
    "df.type_id.unique()"
   ]
  },
  {
   "cell_type": "code",
   "execution_count": 4,
   "metadata": {},
   "outputs": [
    {
     "data": {
      "text/plain": [
       "array([    1,     2,    10,    15,    13,     3,    12,     5,     4,\n",
       "           7,    17,    11,    14,    16,     6,     8,    18,     9,\n",
       "       10002])"
      ]
     },
     "execution_count": 4,
     "metadata": {},
     "output_type": "execute_result"
    },
    {
     "data": {
      "text/plain": [
       "19"
      ]
     },
     "execution_count": 4,
     "metadata": {},
     "output_type": "execute_result"
    }
   ],
   "source": [
    "df.type_id.unique() # show unique values in column 'type_id' of data frame 'df'\n",
    "df.type_id.nunique() # show number of unique values in column 'type_id' of data frame 'df'"
   ]
  },
  {
   "cell_type": "markdown",
   "metadata": {},
   "source": [
    "##### which pokemon has the most power? show the power distribuation in a graph"
   ]
  },
  {
   "cell_type": "code",
   "execution_count": 13,
   "metadata": {},
   "outputs": [
    {
     "data": {
      "text/plain": [
       "array([ 40.,  50.,  15.,  18.,  80.,  75.,  55.,  nan,  60.,  90.,  45.,\n",
       "        65.,  30., 120., 100.,  70.,  85.,  25., 110., 150.,  35.,  20.,\n",
       "       200., 130.,  10., 140., 250.,  95., 180., 210., 125., 195., 175.,\n",
       "       185., 160., 190.])"
      ]
     },
     "execution_count": 13,
     "metadata": {},
     "output_type": "execute_result"
    },
    {
     "data": {
      "text/plain": [
       "250.0"
      ]
     },
     "execution_count": 13,
     "metadata": {},
     "output_type": "execute_result"
    },
    {
     "data": {
      "text/html": [
       "<div>\n",
       "<style scoped>\n",
       "    .dataframe tbody tr th:only-of-type {\n",
       "        vertical-align: middle;\n",
       "    }\n",
       "\n",
       "    .dataframe tbody tr th {\n",
       "        vertical-align: top;\n",
       "    }\n",
       "\n",
       "    .dataframe thead th {\n",
       "        text-align: right;\n",
       "    }\n",
       "</style>\n",
       "<table border=\"1\" class=\"dataframe\">\n",
       "  <thead>\n",
       "    <tr style=\"text-align: right;\">\n",
       "      <th></th>\n",
       "      <th>id</th>\n",
       "      <th>identifier</th>\n",
       "      <th>generation_id</th>\n",
       "      <th>type_id</th>\n",
       "      <th>power</th>\n",
       "      <th>pp</th>\n",
       "      <th>accuracy</th>\n",
       "      <th>priority</th>\n",
       "      <th>target_id</th>\n",
       "      <th>damage_class_id</th>\n",
       "      <th>effect_id</th>\n",
       "      <th>effect_chance</th>\n",
       "      <th>contest_type_id</th>\n",
       "      <th>contest_effect_id</th>\n",
       "      <th>super_contest_effect_id</th>\n",
       "      <th>pokemon_habitat_id</th>\n",
       "    </tr>\n",
       "  </thead>\n",
       "  <tbody>\n",
       "    <tr>\n",
       "      <th>152</th>\n",
       "      <td>153</td>\n",
       "      <td>explosion</td>\n",
       "      <td>1</td>\n",
       "      <td>1</td>\n",
       "      <td>250.0</td>\n",
       "      <td>5.0</td>\n",
       "      <td>100.0</td>\n",
       "      <td>0</td>\n",
       "      <td>9</td>\n",
       "      <td>2</td>\n",
       "      <td>8</td>\n",
       "      <td>NaN</td>\n",
       "      <td>2.0</td>\n",
       "      <td>7.0</td>\n",
       "      <td>9.0</td>\n",
       "      <td>6</td>\n",
       "    </tr>\n",
       "  </tbody>\n",
       "</table>\n",
       "</div>"
      ],
      "text/plain": [
       "      id identifier  generation_id  type_id  power   pp  accuracy  priority  \\\n",
       "152  153  explosion              1        1  250.0  5.0     100.0         0   \n",
       "\n",
       "     target_id  damage_class_id  effect_id  effect_chance  contest_type_id  \\\n",
       "152          9                2          8            NaN              2.0   \n",
       "\n",
       "     contest_effect_id  super_contest_effect_id  pokemon_habitat_id  \n",
       "152                7.0                      9.0                   6  "
      ]
     },
     "execution_count": 13,
     "metadata": {},
     "output_type": "execute_result"
    }
   ],
   "source": [
    "df.power.unique()\n",
    "df.power.max()\n",
    "df[df.power == 250]"
   ]
  },
  {
   "cell_type": "code",
   "execution_count": 5,
   "metadata": {},
   "outputs": [
    {
     "data": {
      "text/plain": [
       "250.0"
      ]
     },
     "execution_count": 5,
     "metadata": {},
     "output_type": "execute_result"
    }
   ],
   "source": [
    "df.power.max() # show the maximum value in column 'power' of data frame 'df'"
   ]
  },
  {
   "cell_type": "code",
   "execution_count": 14,
   "metadata": {},
   "outputs": [
    {
     "data": {
      "text/plain": [
       "<matplotlib.axes._subplots.AxesSubplot at 0x7fc6e5239e48>"
      ]
     },
     "execution_count": 14,
     "metadata": {},
     "output_type": "execute_result"
    },
    {
     "data": {
      "image/png": "[encoded data removed]",
      "text/plain": [
       "<Figure size 432x288 with 1 Axes>"
      ]
     },
     "metadata": {},
     "output_type": "display_data"
    }
   ],
   "source": [
    "df.power.hist(bins=25) # plot histogram of values in column power"
   ]
  },
  {
   "cell_type": "markdown",
   "metadata": {},
   "source": [
    "### exercise"
   ]
  },
  {
   "cell_type": "markdown",
   "metadata": {},
   "source": [
    "#### what are the damage classes we see in these pokemon?"
   ]
  },
  {
   "cell_type": "code",
   "execution_count": 20,
   "metadata": {},
   "outputs": [
    {
     "data": {
      "text/plain": [
       "array([2, 3, 1])"
      ]
     },
     "execution_count": 20,
     "metadata": {},
     "output_type": "execute_result"
    }
   ],
   "source": [
    "df.damage_class_id.unique()\n"
   ]
  },
  {
   "cell_type": "markdown",
   "metadata": {},
   "source": [
    "#### how much pokemon do we have in this data set?"
   ]
  },
  {
   "cell_type": "code",
   "execution_count": 22,
   "metadata": {},
   "outputs": [
    {
     "data": {
      "text/plain": [
       "(746, 16)"
      ]
     },
     "execution_count": 22,
     "metadata": {},
     "output_type": "execute_result"
    }
   ],
   "source": [
    "df.shape"
   ]
  },
  {
   "cell_type": "markdown",
   "metadata": {},
   "source": [
    "#### how many generations of pokemon do we have?"
   ]
  },
  {
   "cell_type": "code",
   "execution_count": 25,
   "metadata": {},
   "outputs": [
    {
     "data": {
      "text/plain": [
       "<bound method Series.unique of 0      1\n",
       "1      1\n",
       "2      1\n",
       "3      1\n",
       "4      1\n",
       "5      1\n",
       "6      1\n",
       "7      1\n",
       "8      1\n",
       "9      1\n",
       "10     1\n",
       "11     1\n",
       "12     1\n",
       "13     1\n",
       "14     1\n",
       "15     1\n",
       "16     1\n",
       "17     1\n",
       "18     1\n",
       "19     1\n",
       "20     1\n",
       "21     1\n",
       "22     1\n",
       "23     1\n",
       "24     1\n",
       "25     1\n",
       "26     1\n",
       "27     1\n",
       "28     1\n",
       "29     1\n",
       "      ..\n",
       "716    7\n",
       "717    7\n",
       "718    7\n",
       "719    7\n",
       "720    7\n",
       "721    7\n",
       "722    7\n",
       "723    7\n",
       "724    7\n",
       "725    7\n",
       "726    7\n",
       "727    7\n",
       "728    3\n",
       "729    3\n",
       "730    3\n",
       "731    3\n",
       "732    3\n",
       "733    3\n",
       "734    3\n",
       "735    3\n",
       "736    3\n",
       "737    3\n",
       "738    3\n",
       "739    3\n",
       "740    3\n",
       "741    3\n",
       "742    3\n",
       "743    3\n",
       "744    3\n",
       "745    3\n",
       "Name: generation_id, Length: 746, dtype: int64>"
      ]
     },
     "execution_count": 25,
     "metadata": {},
     "output_type": "execute_result"
    }
   ],
   "source": [
    "df.generation_id.unique()"
   ]
  },
  {
   "cell_type": "markdown",
   "metadata": {},
   "source": [
    "### pokemon habitats"
   ]
  },
  {
   "cell_type": "code",
   "execution_count": 7,
   "metadata": {},
   "outputs": [
    {
     "data": {
      "text/html": [
       "<div>\n",
       "<style scoped>\n",
       "    .dataframe tbody tr th:only-of-type {\n",
       "        vertical-align: middle;\n",
       "    }\n",
       "\n",
       "    .dataframe tbody tr th {\n",
       "        vertical-align: top;\n",
       "    }\n",
       "\n",
       "    .dataframe thead th {\n",
       "        text-align: right;\n",
       "    }\n",
       "</style>\n",
       "<table border=\"1\" class=\"dataframe\">\n",
       "  <thead>\n",
       "    <tr style=\"text-align: right;\">\n",
       "      <th></th>\n",
       "      <th>pokemon_habitat_id</th>\n",
       "      <th>local_language_id</th>\n",
       "      <th>name</th>\n",
       "    </tr>\n",
       "  </thead>\n",
       "  <tbody>\n",
       "    <tr>\n",
       "      <th>0</th>\n",
       "      <td>1</td>\n",
       "      <td>5</td>\n",
       "      <td>grottes</td>\n",
       "    </tr>\n",
       "    <tr>\n",
       "      <th>1</th>\n",
       "      <td>1</td>\n",
       "      <td>9</td>\n",
       "      <td>cave</td>\n",
       "    </tr>\n",
       "  </tbody>\n",
       "</table>\n",
       "</div>"
      ],
      "text/plain": [
       "   pokemon_habitat_id  local_language_id     name\n",
       "0                   1                  5  grottes\n",
       "1                   1                  9     cave"
      ]
     },
     "execution_count": 7,
     "metadata": {},
     "output_type": "execute_result"
    },
    {
     "data": {
      "text/plain": [
       "(18, 3)"
      ]
     },
     "execution_count": 7,
     "metadata": {},
     "output_type": "execute_result"
    },
    {
     "data": {
      "text/plain": [
       "array(['grottes', 'cave', 'forêts', 'forest', 'champs', 'grassland',\n",
       "       'montagnes', 'mountain', 'rares', 'rare', 'milieux hostiles',\n",
       "       'rough terrain', 'mers', 'sea', 'urbains', 'urban', 'marécages',\n",
       "       \"water's edge\"], dtype=object)"
      ]
     },
     "execution_count": 7,
     "metadata": {},
     "output_type": "execute_result"
    }
   ],
   "source": [
    "f2 = '/projects/trans_scratch/validations/workspace/szong/development/data/pokemon_habitat_names.csv'\n",
    "df2 = pd.read_csv(f2, sep='\\t')\n",
    "df2.head(2)\n",
    "df2.shape\n",
    "\n",
    "df2.name.unique()"
   ]
  },
  {
   "cell_type": "markdown",
   "metadata": {},
   "source": [
    "sometimes, we need merge to tables because the information we need spread in them. To merge two tables, we need to find one column in each table where the same type of information is recorded, for example a person's full name.\n",
    "\n",
    "In this case, both tables have a column called \"pokemon_habitat_id\". we could merge based on this column."
   ]
  },
  {
   "cell_type": "code",
   "execution_count": 8,
   "metadata": {},
   "outputs": [
    {
     "data": {
      "text/html": [
       "<div>\n",
       "<style scoped>\n",
       "    .dataframe tbody tr th:only-of-type {\n",
       "        vertical-align: middle;\n",
       "    }\n",
       "\n",
       "    .dataframe tbody tr th {\n",
       "        vertical-align: top;\n",
       "    }\n",
       "\n",
       "    .dataframe thead th {\n",
       "        text-align: right;\n",
       "    }\n",
       "</style>\n",
       "<table border=\"1\" class=\"dataframe\">\n",
       "  <thead>\n",
       "    <tr style=\"text-align: right;\">\n",
       "      <th></th>\n",
       "      <th>id</th>\n",
       "      <th>identifier</th>\n",
       "      <th>generation_id</th>\n",
       "      <th>type_id</th>\n",
       "      <th>power</th>\n",
       "      <th>pp</th>\n",
       "      <th>accuracy</th>\n",
       "      <th>priority</th>\n",
       "      <th>target_id</th>\n",
       "      <th>damage_class_id</th>\n",
       "      <th>effect_id</th>\n",
       "      <th>effect_chance</th>\n",
       "      <th>contest_type_id</th>\n",
       "      <th>contest_effect_id</th>\n",
       "      <th>super_contest_effect_id</th>\n",
       "      <th>pokemon_habitat_id</th>\n",
       "      <th>local_language_id</th>\n",
       "      <th>name</th>\n",
       "    </tr>\n",
       "  </thead>\n",
       "  <tbody>\n",
       "    <tr>\n",
       "      <th>0</th>\n",
       "      <td>1</td>\n",
       "      <td>pound</td>\n",
       "      <td>1</td>\n",
       "      <td>1</td>\n",
       "      <td>40.0</td>\n",
       "      <td>35.0</td>\n",
       "      <td>100.0</td>\n",
       "      <td>0</td>\n",
       "      <td>10</td>\n",
       "      <td>2</td>\n",
       "      <td>1</td>\n",
       "      <td>NaN</td>\n",
       "      <td>5.0</td>\n",
       "      <td>1.0</td>\n",
       "      <td>5.0</td>\n",
       "      <td>1</td>\n",
       "      <td>5</td>\n",
       "      <td>grottes</td>\n",
       "    </tr>\n",
       "    <tr>\n",
       "      <th>1</th>\n",
       "      <td>1</td>\n",
       "      <td>pound</td>\n",
       "      <td>1</td>\n",
       "      <td>1</td>\n",
       "      <td>40.0</td>\n",
       "      <td>35.0</td>\n",
       "      <td>100.0</td>\n",
       "      <td>0</td>\n",
       "      <td>10</td>\n",
       "      <td>2</td>\n",
       "      <td>1</td>\n",
       "      <td>NaN</td>\n",
       "      <td>5.0</td>\n",
       "      <td>1.0</td>\n",
       "      <td>5.0</td>\n",
       "      <td>1</td>\n",
       "      <td>9</td>\n",
       "      <td>cave</td>\n",
       "    </tr>\n",
       "  </tbody>\n",
       "</table>\n",
       "</div>"
      ],
      "text/plain": [
       "   id identifier  generation_id  type_id  power    pp  accuracy  priority  \\\n",
       "0   1      pound              1        1   40.0  35.0     100.0         0   \n",
       "1   1      pound              1        1   40.0  35.0     100.0         0   \n",
       "\n",
       "   target_id  damage_class_id  effect_id  effect_chance  contest_type_id  \\\n",
       "0         10                2          1            NaN              5.0   \n",
       "1         10                2          1            NaN              5.0   \n",
       "\n",
       "   contest_effect_id  super_contest_effect_id  pokemon_habitat_id  \\\n",
       "0                1.0                      5.0                   1   \n",
       "1                1.0                      5.0                   1   \n",
       "\n",
       "   local_language_id     name  \n",
       "0                  5  grottes  \n",
       "1                  9     cave  "
      ]
     },
     "execution_count": 8,
     "metadata": {},
     "output_type": "execute_result"
    }
   ],
   "source": [
    "dfm = df.merge(df2, left_on='pokemon_habitat_id', right_on= 'pokemon_habitat_id', how='outer')\n",
    "dfm.head(2)"
   ]
  },
  {
   "cell_type": "markdown",
   "metadata": {},
   "source": [
    "### excercise"
   ]
  },
  {
   "cell_type": "markdown",
   "metadata": {},
   "source": [
    "#### where do the following pokemon live? what local language do they speak?\n",
    "\n",
    "plasma-fists  \n",
    "photon-geyser  \n",
    "light-that-burns-the-sky  \n",
    "searing-sunraze-smash  \n",
    "menacing-moonraze-maelstrom  \n",
    "lets-snuggle-forever"
   ]
  },
  {
   "cell_type": "code",
   "execution_count": null,
   "metadata": {},
   "outputs": [],
   "source": []
  },
  {
   "cell_type": "code",
   "execution_count": null,
   "metadata": {},
   "outputs": [],
   "source": []
  }
 ],
 "metadata": {
  "kernelspec": {
   "display_name": "Python 3",
   "language": "python",
   "name": "python3"
  },
  "language_info": {
   "codemirror_mode": {
    "name": "ipython",
    "version": 3
   },
   "file_extension": ".py",
   "mimetype": "text/x-python",
   "name": "python",
   "nbconvert_exporter": "python",
   "pygments_lexer": "ipython3",
   "version": "3.6.7"
  }
 },
 "nbformat": 4,
 "nbformat_minor": 2
}
