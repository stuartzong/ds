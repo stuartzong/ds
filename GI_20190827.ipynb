{
 "cells": [
  {
   "cell_type": "code",
   "execution_count": 11,
   "metadata": {},
   "outputs": [],
   "source": [
    "import pandas as pd\n",
    "from IPython.core.interactiveshell import InteractiveShell\n",
    "InteractiveShell.ast_node_interactivity = \"all\""
   ]
  },
  {
   "cell_type": "code",
   "execution_count": 12,
   "metadata": {},
   "outputs": [
    {
     "data": {
      "text/html": [
       "<div>\n",
       "<style scoped>\n",
       "    .dataframe tbody tr th:only-of-type {\n",
       "        vertical-align: middle;\n",
       "    }\n",
       "\n",
       "    .dataframe tbody tr th {\n",
       "        vertical-align: top;\n",
       "    }\n",
       "\n",
       "    .dataframe thead th {\n",
       "        text-align: right;\n",
       "    }\n",
       "</style>\n",
       "<table border=\"1\" class=\"dataframe\">\n",
       "  <thead>\n",
       "    <tr style=\"text-align: right;\">\n",
       "      <th></th>\n",
       "      <th>rsID</th>\n",
       "      <th>Chr</th>\n",
       "      <th>BPa</th>\n",
       "      <th>Cytogenetic band</th>\n",
       "      <th>Ref</th>\n",
       "      <th>Alt</th>\n",
       "      <th>RefF</th>\n",
       "      <th>Z-score</th>\n",
       "      <th>P-value</th>\n",
       "      <th>Direction</th>\n",
       "      <th>...</th>\n",
       "      <th>P_ERF</th>\n",
       "      <th>N_ERF</th>\n",
       "      <th>P_GENR</th>\n",
       "      <th>N_GENR</th>\n",
       "      <th>P_HU</th>\n",
       "      <th>N_HU</th>\n",
       "      <th>P_MCTFR</th>\n",
       "      <th>N_MCTFR</th>\n",
       "      <th>P_STR</th>\n",
       "      <th>N_STR</th>\n",
       "    </tr>\n",
       "  </thead>\n",
       "  <tbody>\n",
       "    <tr>\n",
       "      <th>0</th>\n",
       "      <td>rs2490272</td>\n",
       "      <td>6</td>\n",
       "      <td>108895386</td>\n",
       "      <td>6q21</td>\n",
       "      <td>t</td>\n",
       "      <td>c</td>\n",
       "      <td>0.6308</td>\n",
       "      <td>7.441</td>\n",
       "      <td>9.960000e-14</td>\n",
       "      <td>++++-+++</td>\n",
       "      <td>...</td>\n",
       "      <td>0.575358</td>\n",
       "      <td>1076</td>\n",
       "      <td>0.8443</td>\n",
       "      <td>3701</td>\n",
       "      <td>0.03652</td>\n",
       "      <td>389</td>\n",
       "      <td>0.170009</td>\n",
       "      <td>3366</td>\n",
       "      <td>0.0004839</td>\n",
       "      <td>3215</td>\n",
       "    </tr>\n",
       "    <tr>\n",
       "      <th>1</th>\n",
       "      <td>rs768023</td>\n",
       "      <td>6</td>\n",
       "      <td>108876002</td>\n",
       "      <td>6q21</td>\n",
       "      <td>a</td>\n",
       "      <td>g</td>\n",
       "      <td>0.6309</td>\n",
       "      <td>7.432</td>\n",
       "      <td>1.070000e-13</td>\n",
       "      <td>++++-+++</td>\n",
       "      <td>...</td>\n",
       "      <td>0.441472</td>\n",
       "      <td>1076</td>\n",
       "      <td>0.9082</td>\n",
       "      <td>3701</td>\n",
       "      <td>0.04157</td>\n",
       "      <td>389</td>\n",
       "      <td>0.18478</td>\n",
       "      <td>3366</td>\n",
       "      <td>0.0004948</td>\n",
       "      <td>3215</td>\n",
       "    </tr>\n",
       "  </tbody>\n",
       "</table>\n",
       "<p>2 rows × 42 columns</p>\n",
       "</div>"
      ],
      "text/plain": [
       "        rsID  Chr        BPa Cytogenetic band Ref Alt    RefF  Z-score  \\\n",
       "0  rs2490272    6  108895386             6q21   t   c  0.6308    7.441   \n",
       "1   rs768023    6  108876002             6q21   a   g  0.6309    7.432   \n",
       "\n",
       "        P-value Direction  ...     P_ERF  N_ERF  P_GENR N_GENR     P_HU N_HU  \\\n",
       "0  9.960000e-14  ++++-+++  ...  0.575358   1076  0.8443   3701  0.03652  389   \n",
       "1  1.070000e-13  ++++-+++  ...  0.441472   1076  0.9082   3701  0.04157  389   \n",
       "\n",
       "    P_MCTFR N_MCTFR      P_STR  N_STR  \n",
       "0  0.170009    3366  0.0004839   3215  \n",
       "1   0.18478    3366  0.0004948   3215  \n",
       "\n",
       "[2 rows x 42 columns]"
      ]
     },
     "execution_count": 12,
     "metadata": {},
     "output_type": "execute_result"
    },
    {
     "data": {
      "text/plain": [
       "(336, 42)"
      ]
     },
     "execution_count": 12,
     "metadata": {},
     "output_type": "execute_result"
    }
   ],
   "source": [
    "f = '/home/szong/Downloads/ng.3869-S2.xlsx'\n",
    "df = pd.read_excel(f, sheet_name='Supplementary Table 4', skiprows=11)\n",
    "df.head(2)\n",
    "df.shape"
   ]
  },
  {
   "cell_type": "code",
   "execution_count": 26,
   "metadata": {},
   "outputs": [],
   "source": [
    "df['snps'] = df[['Chr', 'BPa', 'Ref', 'Alt']].astype(str).apply(lambda x: '_'.join(x), axis=1)"
   ]
  },
  {
   "cell_type": "code",
   "execution_count": 27,
   "metadata": {},
   "outputs": [
    {
     "data": {
      "text/html": [
       "<div>\n",
       "<style scoped>\n",
       "    .dataframe tbody tr th:only-of-type {\n",
       "        vertical-align: middle;\n",
       "    }\n",
       "\n",
       "    .dataframe tbody tr th {\n",
       "        vertical-align: top;\n",
       "    }\n",
       "\n",
       "    .dataframe thead th {\n",
       "        text-align: right;\n",
       "    }\n",
       "</style>\n",
       "<table border=\"1\" class=\"dataframe\">\n",
       "  <thead>\n",
       "    <tr style=\"text-align: right;\">\n",
       "      <th></th>\n",
       "      <th>rsID</th>\n",
       "      <th>Chr</th>\n",
       "      <th>BPa</th>\n",
       "      <th>Cytogenetic band</th>\n",
       "      <th>Ref</th>\n",
       "      <th>Alt</th>\n",
       "      <th>RefF</th>\n",
       "      <th>Z-score</th>\n",
       "      <th>P-value</th>\n",
       "      <th>Direction</th>\n",
       "      <th>...</th>\n",
       "      <th>N_ERF</th>\n",
       "      <th>P_GENR</th>\n",
       "      <th>N_GENR</th>\n",
       "      <th>P_HU</th>\n",
       "      <th>N_HU</th>\n",
       "      <th>P_MCTFR</th>\n",
       "      <th>N_MCTFR</th>\n",
       "      <th>P_STR</th>\n",
       "      <th>N_STR</th>\n",
       "      <th>snps</th>\n",
       "    </tr>\n",
       "  </thead>\n",
       "  <tbody>\n",
       "    <tr>\n",
       "      <th>0</th>\n",
       "      <td>rs2490272</td>\n",
       "      <td>6</td>\n",
       "      <td>108895386</td>\n",
       "      <td>6q21</td>\n",
       "      <td>t</td>\n",
       "      <td>c</td>\n",
       "      <td>0.6308</td>\n",
       "      <td>7.441</td>\n",
       "      <td>9.960000e-14</td>\n",
       "      <td>++++-+++</td>\n",
       "      <td>...</td>\n",
       "      <td>1076</td>\n",
       "      <td>0.8443</td>\n",
       "      <td>3701</td>\n",
       "      <td>0.03652</td>\n",
       "      <td>389</td>\n",
       "      <td>0.170009</td>\n",
       "      <td>3366</td>\n",
       "      <td>0.0004839</td>\n",
       "      <td>3215</td>\n",
       "      <td>6_108895386_t_c</td>\n",
       "    </tr>\n",
       "    <tr>\n",
       "      <th>1</th>\n",
       "      <td>rs768023</td>\n",
       "      <td>6</td>\n",
       "      <td>108876002</td>\n",
       "      <td>6q21</td>\n",
       "      <td>a</td>\n",
       "      <td>g</td>\n",
       "      <td>0.6309</td>\n",
       "      <td>7.432</td>\n",
       "      <td>1.070000e-13</td>\n",
       "      <td>++++-+++</td>\n",
       "      <td>...</td>\n",
       "      <td>1076</td>\n",
       "      <td>0.9082</td>\n",
       "      <td>3701</td>\n",
       "      <td>0.04157</td>\n",
       "      <td>389</td>\n",
       "      <td>0.18478</td>\n",
       "      <td>3366</td>\n",
       "      <td>0.0004948</td>\n",
       "      <td>3215</td>\n",
       "      <td>6_108876002_a_g</td>\n",
       "    </tr>\n",
       "  </tbody>\n",
       "</table>\n",
       "<p>2 rows × 43 columns</p>\n",
       "</div>"
      ],
      "text/plain": [
       "        rsID  Chr        BPa Cytogenetic band Ref Alt    RefF  Z-score  \\\n",
       "0  rs2490272    6  108895386             6q21   t   c  0.6308    7.441   \n",
       "1   rs768023    6  108876002             6q21   a   g  0.6309    7.432   \n",
       "\n",
       "        P-value Direction  ...  N_ERF  P_GENR N_GENR     P_HU N_HU   P_MCTFR  \\\n",
       "0  9.960000e-14  ++++-+++  ...   1076  0.8443   3701  0.03652  389  0.170009   \n",
       "1  1.070000e-13  ++++-+++  ...   1076  0.9082   3701  0.04157  389   0.18478   \n",
       "\n",
       "  N_MCTFR      P_STR  N_STR             snps  \n",
       "0    3366  0.0004839   3215  6_108895386_t_c  \n",
       "1    3366  0.0004948   3215  6_108876002_a_g  \n",
       "\n",
       "[2 rows x 43 columns]"
      ]
     },
     "execution_count": 27,
     "metadata": {},
     "output_type": "execute_result"
    }
   ],
   "source": [
    "df.head(2)"
   ]
  },
  {
   "cell_type": "code",
   "execution_count": 28,
   "metadata": {},
   "outputs": [],
   "source": [
    "varlist = df.snps"
   ]
  },
  {
   "cell_type": "code",
   "execution_count": 14,
   "metadata": {},
   "outputs": [
    {
     "data": {
      "text/plain": [
       "array([ 6,  7, 13, 22,  3,  2,  1, 16, 20,  5, 17,  9])"
      ]
     },
     "execution_count": 14,
     "metadata": {},
     "output_type": "execute_result"
    },
    {
     "data": {
      "text/plain": [
       "array(['6q21', '6q16.1', '7p14.3', '13q33.2', '22q13.2', '3p24.2', '7q33',\n",
       "       '2q22.3', '1p34.2', '1p31.1', '16p11.2', '20q13.13', '5q14.3',\n",
       "       '2q11.2', '17q21.32', '9q21.11', '2p13.2', '3p24.3'], dtype=object)"
      ]
     },
     "execution_count": 14,
     "metadata": {},
     "output_type": "execute_result"
    }
   ],
   "source": [
    "df.Chr.unique()\n",
    "df['Cytogenetic band'].unique()"
   ]
  },
  {
   "cell_type": "markdown",
   "metadata": {},
   "source": [
    "# read in variant calls"
   ]
  },
  {
   "cell_type": "code",
   "execution_count": 21,
   "metadata": {},
   "outputs": [
    {
     "data": {
      "text/html": [
       "<div>\n",
       "<style scoped>\n",
       "    .dataframe tbody tr th:only-of-type {\n",
       "        vertical-align: middle;\n",
       "    }\n",
       "\n",
       "    .dataframe tbody tr th {\n",
       "        vertical-align: top;\n",
       "    }\n",
       "\n",
       "    .dataframe thead th {\n",
       "        text-align: right;\n",
       "    }\n",
       "</style>\n",
       "<table border=\"1\" class=\"dataframe\">\n",
       "  <thead>\n",
       "    <tr style=\"text-align: right;\">\n",
       "      <th></th>\n",
       "      <th>patient</th>\n",
       "      <th>strelka_snv_vcf</th>\n",
       "      <th>strelka_indel_vcf</th>\n",
       "    </tr>\n",
       "  </thead>\n",
       "  <tbody>\n",
       "    <tr>\n",
       "      <th>0</th>\n",
       "      <td>HTMCP-03-06-02001</td>\n",
       "      <td>/projects/somatic/NCI_SAIC_HIV_Cervical/HTMCP-...</td>\n",
       "      <td>/projects/somatic/NCI_SAIC_HIV_Cervical/HTMCP-...</td>\n",
       "    </tr>\n",
       "    <tr>\n",
       "      <th>1</th>\n",
       "      <td>HTMCP-03-06-02002</td>\n",
       "      <td>/projects/somatic/NCI_SAIC_HIV_Cervical/HTMCP-...</td>\n",
       "      <td>/projects/somatic/NCI_SAIC_HIV_Cervical/HTMCP-...</td>\n",
       "    </tr>\n",
       "  </tbody>\n",
       "</table>\n",
       "</div>"
      ],
      "text/plain": [
       "             patient                                    strelka_snv_vcf  \\\n",
       "0  HTMCP-03-06-02001  /projects/somatic/NCI_SAIC_HIV_Cervical/HTMCP-...   \n",
       "1  HTMCP-03-06-02002  /projects/somatic/NCI_SAIC_HIV_Cervical/HTMCP-...   \n",
       "\n",
       "                                   strelka_indel_vcf  \n",
       "0  /projects/somatic/NCI_SAIC_HIV_Cervical/HTMCP-...  \n",
       "1  /projects/somatic/NCI_SAIC_HIV_Cervical/HTMCP-...  "
      ]
     },
     "execution_count": 21,
     "metadata": {},
     "output_type": "execute_result"
    }
   ],
   "source": [
    "f2 = '/projects/trans_scratch/validations/workspace/szong/Cervical/variant_bwamem/124_patients/124_patients_bam_vcf.txt'\n",
    "df2 = pd.read_csv(f2, sep='\\t', usecols=['patient', 'strelka_snv_vcf', 'strelka_indel_vcf'])\n",
    "df2.head(2)"
   ]
  },
  {
   "cell_type": "code",
   "execution_count": 20,
   "metadata": {
    "scrolled": true
   },
   "outputs": [
    {
     "data": {
      "text/plain": [
       "Index(['patient', 'HIV_status', 'DNA_lib', 'source', 'status', 'RNA_lib',\n",
       "       'ribodepleted_lib', 'DNA_bam', 'RNA_bam', 'DNA_single_vcf',\n",
       "       'paired_mpileup_vcf', 'strelka_snv_vcf', 'strelka_indel_vcf',\n",
       "       'mutseq_snv_vcf', 'RNA_single_vcf', 'other_vcf', 'DNA_tc', 'RNA_tc',\n",
       "       'cnv', 'bbt_transcriptome', 'bbt_genome',\n",
       "       'bbt_transcriptome_other_bacterial', 'bbt_genome_other_bacterial',\n",
       "       'bbt_transcriptome_other_viral', 'bbt_genome_other_viral'],\n",
       "      dtype='object')"
      ]
     },
     "execution_count": 20,
     "metadata": {},
     "output_type": "execute_result"
    }
   ],
   "source": [
    "df2.columns"
   ]
  },
  {
   "cell_type": "code",
   "execution_count": 65,
   "metadata": {},
   "outputs": [],
   "source": [
    "tf = '/projects/trans_scratch/validations/workspace/szong/Cervical/variant_bwamem/germline/HTMCP-03-06-02216.txt'"
   ]
  },
  {
   "cell_type": "code",
   "execution_count": 66,
   "metadata": {},
   "outputs": [
    {
     "name": "stderr",
     "output_type": "stream",
     "text": [
      "/projects/da_workspace/software/miniconda/envs/da/lib/python3.7/site-packages/IPython/core/interactiveshell.py:3057: DtypeWarning: Columns (0,1,5,7,8,9,10) have mixed types. Specify dtype option on import or set low_memory=False.\n",
      "  interactivity=interactivity, compiler=compiler, result=result)\n"
     ]
    },
    {
     "data": {
      "text/html": [
       "<div>\n",
       "<style scoped>\n",
       "    .dataframe tbody tr th:only-of-type {\n",
       "        vertical-align: middle;\n",
       "    }\n",
       "\n",
       "    .dataframe tbody tr th {\n",
       "        vertical-align: top;\n",
       "    }\n",
       "\n",
       "    .dataframe thead th {\n",
       "        text-align: right;\n",
       "    }\n",
       "</style>\n",
       "<table border=\"1\" class=\"dataframe\">\n",
       "  <thead>\n",
       "    <tr style=\"text-align: right;\">\n",
       "      <th></th>\n",
       "      <th>0</th>\n",
       "      <th>1</th>\n",
       "      <th>2</th>\n",
       "      <th>3</th>\n",
       "      <th>4</th>\n",
       "      <th>5</th>\n",
       "      <th>6</th>\n",
       "      <th>7</th>\n",
       "      <th>8</th>\n",
       "      <th>9</th>\n",
       "      <th>10</th>\n",
       "      <th>snps</th>\n",
       "    </tr>\n",
       "  </thead>\n",
       "  <tbody>\n",
       "    <tr>\n",
       "      <th>0</th>\n",
       "      <td>CHROM</td>\n",
       "      <td>POS</td>\n",
       "      <td>ID</td>\n",
       "      <td>REF</td>\n",
       "      <td>ALT</td>\n",
       "      <td>QUAL</td>\n",
       "      <td>FORMAT</td>\n",
       "      <td>coverage</td>\n",
       "      <td>ref_count</td>\n",
       "      <td>alt_count</td>\n",
       "      <td>allele_frequency</td>\n",
       "      <td>chrom_pos_ref_alt</td>\n",
       "    </tr>\n",
       "    <tr>\n",
       "      <th>1</th>\n",
       "      <td>10</td>\n",
       "      <td>61372</td>\n",
       "      <td>rs147855157</td>\n",
       "      <td>CA</td>\n",
       "      <td>C</td>\n",
       "      <td>65.5</td>\n",
       "      <td>GT:PL:GQ</td>\n",
       "      <td>51</td>\n",
       "      <td>35</td>\n",
       "      <td>14</td>\n",
       "      <td>0.29</td>\n",
       "      <td>10_61372_ca_c</td>\n",
       "    </tr>\n",
       "    <tr>\n",
       "      <th>2</th>\n",
       "      <td>10</td>\n",
       "      <td>61419</td>\n",
       "      <td>.</td>\n",
       "      <td>G</td>\n",
       "      <td>A</td>\n",
       "      <td>98.0</td>\n",
       "      <td>GT:PL:GQ</td>\n",
       "      <td>56</td>\n",
       "      <td>37</td>\n",
       "      <td>19</td>\n",
       "      <td>0.34</td>\n",
       "      <td>10_61419_g_a</td>\n",
       "    </tr>\n",
       "    <tr>\n",
       "      <th>3</th>\n",
       "      <td>10</td>\n",
       "      <td>62057</td>\n",
       "      <td>.</td>\n",
       "      <td>G</td>\n",
       "      <td>A</td>\n",
       "      <td>70.0</td>\n",
       "      <td>GT:PL:GQ</td>\n",
       "      <td>84</td>\n",
       "      <td>64</td>\n",
       "      <td>19</td>\n",
       "      <td>0.23</td>\n",
       "      <td>10_62057_g_a</td>\n",
       "    </tr>\n",
       "    <tr>\n",
       "      <th>4</th>\n",
       "      <td>10</td>\n",
       "      <td>64767</td>\n",
       "      <td>rs201243043</td>\n",
       "      <td>C</td>\n",
       "      <td>T</td>\n",
       "      <td>35.0</td>\n",
       "      <td>GT:PL:GQ</td>\n",
       "      <td>52</td>\n",
       "      <td>20</td>\n",
       "      <td>32</td>\n",
       "      <td>0.62</td>\n",
       "      <td>10_64767_c_t</td>\n",
       "    </tr>\n",
       "  </tbody>\n",
       "</table>\n",
       "</div>"
      ],
      "text/plain": [
       "       0      1            2    3    4     5         6         7          8  \\\n",
       "0  CHROM    POS           ID  REF  ALT  QUAL    FORMAT  coverage  ref_count   \n",
       "1     10  61372  rs147855157   CA    C  65.5  GT:PL:GQ        51         35   \n",
       "2     10  61419            .    G    A  98.0  GT:PL:GQ        56         37   \n",
       "3     10  62057            .    G    A  70.0  GT:PL:GQ        84         64   \n",
       "4     10  64767  rs201243043    C    T  35.0  GT:PL:GQ        52         20   \n",
       "\n",
       "           9                10               snps  \n",
       "0  alt_count  allele_frequency  chrom_pos_ref_alt  \n",
       "1         14              0.29      10_61372_ca_c  \n",
       "2         19              0.34       10_61419_g_a  \n",
       "3         19              0.23       10_62057_g_a  \n",
       "4         32              0.62       10_64767_c_t  "
      ]
     },
     "execution_count": 66,
     "metadata": {},
     "output_type": "execute_result"
    },
    {
     "data": {
      "text/plain": [
       "(5249768, 12)"
      ]
     },
     "execution_count": 66,
     "metadata": {},
     "output_type": "execute_result"
    }
   ],
   "source": [
    "dftmp = pd.read_csv(tf, sep='\\t', comment='#',header=None, low_memory=False)#skiprows=324)\n",
    "dftmp['snps'] = dftmp[[0,1,3,4]].astype(str).apply(lambda x: '_'.join(x).lower(), axis=1)\n",
    "dftmp.head()\n",
    "dftmp.shape"
   ]
  },
  {
   "cell_type": "code",
   "execution_count": 68,
   "metadata": {},
   "outputs": [
    {
     "data": {
      "text/plain": [
       "(63, 12)"
      ]
     },
     "execution_count": 68,
     "metadata": {},
     "output_type": "execute_result"
    }
   ],
   "source": [
    "dftmp[dftmp.snps.isin(varlist)].shape"
   ]
  },
  {
   "cell_type": "code",
   "execution_count": 64,
   "metadata": {},
   "outputs": [
    {
     "data": {
      "text/plain": [
       "'6_108895386_t_c'"
      ]
     },
     "execution_count": 64,
     "metadata": {},
     "output_type": "execute_result"
    }
   ],
   "source": [
    "varlist[0]"
   ]
  }
 ],
 "metadata": {
  "kernelspec": {
   "display_name": "Python 3",
   "language": "python",
   "name": "python3"
  },
  "language_info": {
   "codemirror_mode": {
    "name": "ipython",
    "version": 3
   },
   "file_extension": ".py",
   "mimetype": "text/x-python",
   "name": "python",
   "nbconvert_exporter": "python",
   "pygments_lexer": "ipython3",
   "version": "3.7.3"
  }
 },
 "nbformat": 4,
 "nbformat_minor": 2
}
