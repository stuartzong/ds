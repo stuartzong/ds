{
 "cells": [
  {
   "cell_type": "code",
   "execution_count": 1,
   "metadata": {},
   "outputs": [],
   "source": [
    "#  ! pip install cufflinks --upgrade"
   ]
  },
  {
   "cell_type": "code",
   "execution_count": 2,
   "metadata": {},
   "outputs": [
    {
     "data": {
      "text/html": [
       "        <script type=\"text/javascript\">\n",
       "        window.PlotlyConfig = {MathJaxConfig: 'local'};\n",
       "        if (window.MathJax) {MathJax.Hub.Config({SVG: {font: \"STIX-Web\"}});}\n",
       "        if (typeof require !== 'undefined') {\n",
       "        require.undef(\"plotly\");\n",
       "        requirejs.config({\n",
       "            paths: {\n",
       "                'plotly': ['https://cdn.plot.ly/plotly-latest.min']\n",
       "            }\n",
       "        });\n",
       "        require(['plotly'], function(Plotly) {\n",
       "            window._Plotly = Plotly;\n",
       "        });\n",
       "        }\n",
       "        </script>\n",
       "        "
      ]
     },
     "metadata": {},
     "output_type": "display_data"
    },
    {
     "data": {
      "text/html": [
       "        <script type=\"text/javascript\">\n",
       "        window.PlotlyConfig = {MathJaxConfig: 'local'};\n",
       "        if (window.MathJax) {MathJax.Hub.Config({SVG: {font: \"STIX-Web\"}});}\n",
       "        if (typeof require !== 'undefined') {\n",
       "        require.undef(\"plotly\");\n",
       "        requirejs.config({\n",
       "            paths: {\n",
       "                'plotly': ['https://cdn.plot.ly/plotly-latest.min']\n",
       "            }\n",
       "        });\n",
       "        require(['plotly'], function(Plotly) {\n",
       "            window._Plotly = Plotly;\n",
       "        });\n",
       "        }\n",
       "        </script>\n",
       "        "
      ]
     },
     "metadata": {},
     "output_type": "display_data"
    },
    {
     "data": {
      "text/html": [
       "        <script type=\"text/javascript\">\n",
       "        window.PlotlyConfig = {MathJaxConfig: 'local'};\n",
       "        if (window.MathJax) {MathJax.Hub.Config({SVG: {font: \"STIX-Web\"}});}\n",
       "        if (typeof require !== 'undefined') {\n",
       "        require.undef(\"plotly\");\n",
       "        requirejs.config({\n",
       "            paths: {\n",
       "                'plotly': ['https://cdn.plot.ly/plotly-latest.min']\n",
       "            }\n",
       "        });\n",
       "        require(['plotly'], function(Plotly) {\n",
       "            window._Plotly = Plotly;\n",
       "        });\n",
       "        }\n",
       "        </script>\n",
       "        "
      ]
     },
     "metadata": {},
     "output_type": "display_data"
    },
    {
     "data": {
      "text/html": [
       "        <script type=\"text/javascript\">\n",
       "        window.PlotlyConfig = {MathJaxConfig: 'local'};\n",
       "        if (window.MathJax) {MathJax.Hub.Config({SVG: {font: \"STIX-Web\"}});}\n",
       "        if (typeof require !== 'undefined') {\n",
       "        require.undef(\"plotly\");\n",
       "        requirejs.config({\n",
       "            paths: {\n",
       "                'plotly': ['https://cdn.plot.ly/plotly-latest.min']\n",
       "            }\n",
       "        });\n",
       "        require(['plotly'], function(Plotly) {\n",
       "            window._Plotly = Plotly;\n",
       "        });\n",
       "        }\n",
       "        </script>\n",
       "        "
      ]
     },
     "metadata": {},
     "output_type": "display_data"
    }
   ],
   "source": [
    "import pandas as pd\n",
    "import numpy as np\n",
    "import matplotlib.pyplot as plt\n",
    "import seaborn as sns\n",
    "from matplotlib import style, colors\n",
    "# from scipy.stats import binom\n",
    "# import  statsmodels.stats.multitest as multitest\n",
    "# from scipy.stats import ttest_ind\n",
    "# import scipy.stats as stats\n",
    "# import scipy.stats as ss\n",
    "# import sys\n",
    "# sys.path.append('/projects/trans_scratch/validations/workspace/szong/Cervical/notebook')\n",
    "# import sz_toolbox as szt\n",
    "%matplotlib inline\n",
    "\n",
    "import chart_studio.plotly as py\n",
    "# import plotly.plotly as py\n",
    "import plotly\n",
    "import plotly.graph_objs as go\n",
    "import plotly.io as pio\n",
    "from plotly.offline import iplot\n",
    "\n",
    "# cufflinks binds plotly directly to python dataframe\n",
    "import cufflinks as cf\n",
    "cf.go_offline()\n",
    "# Set the global theme\n",
    "cf.set_config_file(world_readable=True, theme='pearl', offline=True)\n",
    "plotly.offline.init_notebook_mode(connected=True)\n",
    "\n",
    "\n",
    "from IPython.core.interactiveshell import InteractiveShell\n",
    "InteractiveShell.ast_node_interactivity = \"all\"\n",
    "\n",
    "# to enable jupyter ipython widgets run following line at command line\n",
    "# jupyter nbextension enable --py widgetsnbextension\n",
    "# to import ipywidgets in jupyter notebook\n",
    "import ipywidgets as widgets\n",
    "from ipywidgets import interact, interact_manual"
   ]
  },
  {
   "cell_type": "markdown",
   "metadata": {},
   "source": [
    "# RPKMS"
   ]
  },
  {
   "cell_type": "code",
   "execution_count": 3,
   "metadata": {
    "scrolled": true
   },
   "outputs": [
    {
     "data": {
      "text/html": [
       "<div>\n",
       "<style scoped>\n",
       "    .dataframe tbody tr th:only-of-type {\n",
       "        vertical-align: middle;\n",
       "    }\n",
       "\n",
       "    .dataframe tbody tr th {\n",
       "        vertical-align: top;\n",
       "    }\n",
       "\n",
       "    .dataframe thead th {\n",
       "        text-align: right;\n",
       "    }\n",
       "</style>\n",
       "<table border=\"1\" class=\"dataframe\">\n",
       "  <thead>\n",
       "    <tr style=\"text-align: right;\">\n",
       "      <th></th>\n",
       "      <th>patient</th>\n",
       "      <th>gene</th>\n",
       "      <th>rpkm</th>\n",
       "      <th>HIV_status</th>\n",
       "      <th>mut_status</th>\n",
       "    </tr>\n",
       "  </thead>\n",
       "  <tbody>\n",
       "    <tr>\n",
       "      <td>0</td>\n",
       "      <td>HTMCP-03-06-02001</td>\n",
       "      <td>CASP8</td>\n",
       "      <td>1.5312</td>\n",
       "      <td>Positive</td>\n",
       "      <td>mut</td>\n",
       "    </tr>\n",
       "    <tr>\n",
       "      <td>1</td>\n",
       "      <td>HTMCP-03-06-02001</td>\n",
       "      <td>FAT1</td>\n",
       "      <td>23.6036</td>\n",
       "      <td>Positive</td>\n",
       "      <td>wt</td>\n",
       "    </tr>\n",
       "  </tbody>\n",
       "</table>\n",
       "</div>"
      ],
      "text/plain": [
       "             patient   gene     rpkm HIV_status mut_status\n",
       "0  HTMCP-03-06-02001  CASP8   1.5312   Positive        mut\n",
       "1  HTMCP-03-06-02001   FAT1  23.6036   Positive         wt"
      ]
     },
     "execution_count": 3,
     "metadata": {},
     "output_type": "execute_result"
    },
    {
     "data": {
      "text/plain": [
       "<matplotlib.axes._subplots.AxesSubplot at 0x7fcf261acef0>"
      ]
     },
     "execution_count": 3,
     "metadata": {},
     "output_type": "execute_result"
    },
    {
     "data": {
      "text/plain": [
       "Text(0.5, 0, 'SMGs')"
      ]
     },
     "execution_count": 3,
     "metadata": {},
     "output_type": "execute_result"
    },
    {
     "data": {
      "text/plain": [
       "Text(0, 0.5, 'RPKM')"
      ]
     },
     "execution_count": 3,
     "metadata": {},
     "output_type": "execute_result"
    },
    {
     "data": {
      "text/plain": [
       "Text(0.5, 1.0, 'SMGs expression')"
      ]
     },
     "execution_count": 3,
     "metadata": {},
     "output_type": "execute_result"
    },
    {
     "data": {
      "image/png": "[encoded data removed]",
      "text/plain": [
       "<Figure size 1296x432 with 1 Axes>"
      ]
     },
     "metadata": {
      "needs_background": "light"
     },
     "output_type": "display_data"
    }
   ],
   "source": [
    "### grouped box plot with points overlayed and colored by additional categories\n",
    "of = '/projects/trans_scratch/validations/workspace/szong/Cervical/expression/smgs_expression_20190607.csv'\n",
    "dfm = pd.read_csv(of)\n",
    "dfm.head(2)\n",
    "\n",
    "\n",
    "f, ax = plt.subplots(figsize=(18,6))\n",
    "s = sns.boxplot(x='gene', y='rpkm', data=dfm, hue='mut_status', palette=\"Set2\", fliersize=0, ax=ax)\n",
    "\n",
    "\n",
    "ticks = ax.get_xticks()\n",
    "labels = [ t.get_text() for t in ax.get_xticklabels()]\n",
    "tlmap_dict = {k:v for v, k in zip(ticks-.3, labels)}\n",
    "tlmap2_dict = {k:v for v, k in zip(ticks+.1, labels)}\n",
    "\n",
    "\n",
    "dfm1 = dfm[dfm.mut_status=='mut']\n",
    "dfm1['xs'] = dfm1['gene'].map(tlmap_dict) + np.random.uniform(0.0, 0.2, size=dfm1.shape[0])\n",
    "dfm2 = dfm[dfm.mut_status=='wt']\n",
    "dfm2['xs'] = dfm2['gene'].map(tlmap2_dict) + np.random.uniform(0.0, 0.2, size=dfm2.shape[0])\n",
    "\n",
    "dfc = pd.concat([dfm1, dfm2])\n",
    "\n",
    "\n",
    "\n",
    "sns.scatterplot(x='xs', y='rpkm', data=dfc, hue='HIV_status', x_jitter=True) # jitter does not work\n",
    "\n",
    "\n",
    "ax.set_yscale('log')\n",
    "ax.set_xlabel('SMGs')\n",
    "ax.set_ylabel('RPKM')\n",
    "ax.set_title('SMGs expression')\n",
    "\n",
    "\n",
    "\n",
    "of = '/projects/trans_scratch/validations/workspace/szong/Cervical/variant_bwamem/124_patients_new/SMGs_expression_boxlot_20190610.pdf'\n",
    "# plt.savefig(of, bbox_inches='tight', dpi=300)\n",
    "plt.show()"
   ]
  },
  {
   "cell_type": "code",
   "execution_count": 4,
   "metadata": {},
   "outputs": [
    {
     "data": {
      "text/plain": [
       "<matplotlib.axes._subplots.AxesSubplot at 0x7fcefd8f6908>"
      ]
     },
     "execution_count": 4,
     "metadata": {},
     "output_type": "execute_result"
    },
    {
     "data": {
      "text/plain": [
       "<matplotlib.axes._subplots.AxesSubplot at 0x7fcefd8f6908>"
      ]
     },
     "execution_count": 4,
     "metadata": {},
     "output_type": "execute_result"
    },
    {
     "data": {
      "text/plain": [
       "<matplotlib.legend.Legend at 0x7fcefc2b9d68>"
      ]
     },
     "execution_count": 4,
     "metadata": {},
     "output_type": "execute_result"
    },
    {
     "data": {
      "text/plain": [
       "Text(0.5, 0, '')"
      ]
     },
     "execution_count": 4,
     "metadata": {},
     "output_type": "execute_result"
    },
    {
     "data": {
      "image/png": "[encoded data removed]",
      "text/plain": [
       "<Figure size 720x72 with 1 Axes>"
      ]
     },
     "metadata": {
      "needs_background": "light"
     },
     "output_type": "display_data"
    },
    {
     "data": {
      "image/png": "[encoded data removed]",
      "text/plain": [
       "<Figure size 864x360 with 1 Axes>"
      ]
     },
     "metadata": {
      "needs_background": "light"
     },
     "output_type": "display_data"
    }
   ],
   "source": [
    "### seaborn boxplot overlay points, with hue for points, use a list colors\n",
    "# default 10 plotly colors \n",
    "clrs = [\n",
    "'#1f77b4',  # muted blue\n",
    "'#ff7f0e',  # safety orange\n",
    "'#2ca02c',  # cooked asparagus green\n",
    "'#d62728',  # brick red\n",
    "'#9467bd',  # muted purple\n",
    "'#8c564b',  # chestnut brown\n",
    "'#e377c2',  # raspberry yogurt pink\n",
    "'#7f7f7f',  # middle gray\n",
    "'#bcbd22',  # curry yellow-green\n",
    "'#17becf'   # blue-teal\n",
    "]\n",
    "sns.palplot(clrs)\n",
    "f = '/projects/trans_scratch/validations/workspace/szong/development/genomics_data_analysis/visualization/rpkms_long.csv'\n",
    "# f = '/projects/trans_scratch/validations/workspace/szong/development/genomics_data_analysis/visualization/rpkms.csv'\n",
    "df = pd.read_csv(f)\n",
    "fig = plt.figure(figsize=(12, 5))\n",
    "ax = fig.add_subplot(111)\n",
    "_ = ax.set_yscale('log')\n",
    "sns.boxplot('gene', 'rpkm',  data=df, fliersize=0, color=clrs[4])\n",
    "sns.swarmplot('gene', 'rpkm',  data=df, hue='integration', palette = [clrs[0], clrs[3]],\n",
    "              size=4)\n",
    "ax.legend(loc='lower left')\n",
    "ax.set_xlabel('')\n",
    "of = '/projects/trans_scratch/validations/workspace/szong/Cervical/integration/integration_expression_box_swarmplot.pdf'\n",
    "# plt.savefig(of, bbox_inches='tight', dpi=300)\n",
    "plt.show()"
   ]
  },
  {
   "cell_type": "code",
   "execution_count": 5,
   "metadata": {},
   "outputs": [
    {
     "data": {
      "text/html": [
       "<div>\n",
       "<style scoped>\n",
       "    .dataframe tbody tr th:only-of-type {\n",
       "        vertical-align: middle;\n",
       "    }\n",
       "\n",
       "    .dataframe tbody tr th {\n",
       "        vertical-align: top;\n",
       "    }\n",
       "\n",
       "    .dataframe thead th {\n",
       "        text-align: right;\n",
       "    }\n",
       "</style>\n",
       "<table border=\"1\" class=\"dataframe\">\n",
       "  <thead>\n",
       "    <tr style=\"text-align: right;\">\n",
       "      <th></th>\n",
       "      <th>sample</th>\n",
       "      <th>QC_metrics</th>\n",
       "      <th>metrics_value</th>\n",
       "    </tr>\n",
       "  </thead>\n",
       "  <tbody>\n",
       "    <tr>\n",
       "      <td>0</td>\n",
       "      <td>HTMCP-03-06-02025-01A-01D</td>\n",
       "      <td>X coverage (incl. duplicate reads)</td>\n",
       "      <td>183.899176</td>\n",
       "    </tr>\n",
       "    <tr>\n",
       "      <td>1</td>\n",
       "      <td>HTMCP-03-06-02025-10A-01D</td>\n",
       "      <td>X coverage (incl. duplicate reads)</td>\n",
       "      <td>285.534514</td>\n",
       "    </tr>\n",
       "  </tbody>\n",
       "</table>\n",
       "</div>"
      ],
      "text/plain": [
       "                      sample                          QC_metrics  \\\n",
       "0  HTMCP-03-06-02025-01A-01D  X coverage (incl. duplicate reads)   \n",
       "1  HTMCP-03-06-02025-10A-01D  X coverage (incl. duplicate reads)   \n",
       "\n",
       "   metrics_value  \n",
       "0     183.899176  \n",
       "1     285.534514  "
      ]
     },
     "execution_count": 5,
     "metadata": {},
     "output_type": "execute_result"
    },
    {
     "data": {
      "text/plain": [
       "<matplotlib.axes._subplots.AxesSubplot at 0x7fcefd7daa20>"
      ]
     },
     "execution_count": 5,
     "metadata": {},
     "output_type": "execute_result"
    },
    {
     "data": {
      "image/png": "[encoded data removed]",
      "text/plain": [
       "<Figure size 432x288 with 1 Axes>"
      ]
     },
     "metadata": {
      "needs_background": "light"
     },
     "output_type": "display_data"
    }
   ],
   "source": [
    "### seaborn simple boxplot\n",
    "f = '/projects/trans_scratch/validations/workspace/szong/development/genomics_data_analysis/visualization/QC.csv'\n",
    "df = pd.read_csv(f)\n",
    "df.head(2)\n",
    "\n",
    "f, ax = plt.subplots(figsize=(6,4))\n",
    "sns.boxplot(x='QC_metrics', y='metrics_value', data=df, fliersize=2.5, ax=ax)\n",
    "# ax.set to set ax properties\n",
    "_ = ax.set(xlabel='target sequencing QCs')\n",
    "xticklabels = ax.get_xticklabels()\n",
    "_ = ax.set_xticklabels(xticklabels, rotation=-30, fontweight='bold', fontsize=20, horizontalalignment='left')\n",
    "# use plt.setp to set property for any object\n",
    "# props = {\"rotation\" : -30}\n",
    "# plt.setp(ax.get_xticklabels(), **props)"
   ]
  },
  {
   "cell_type": "code",
   "execution_count": 6,
   "metadata": {},
   "outputs": [
    {
     "data": {
      "text/html": [
       "<div>\n",
       "<style scoped>\n",
       "    .dataframe tbody tr th:only-of-type {\n",
       "        vertical-align: middle;\n",
       "    }\n",
       "\n",
       "    .dataframe tbody tr th {\n",
       "        vertical-align: top;\n",
       "    }\n",
       "\n",
       "    .dataframe thead th {\n",
       "        text-align: right;\n",
       "    }\n",
       "</style>\n",
       "<table border=\"1\" class=\"dataframe\">\n",
       "  <thead>\n",
       "    <tr style=\"text-align: right;\">\n",
       "      <th></th>\n",
       "      <th>sample</th>\n",
       "      <th>QC_metrics</th>\n",
       "      <th>metrics_value</th>\n",
       "    </tr>\n",
       "  </thead>\n",
       "  <tbody>\n",
       "    <tr>\n",
       "      <td>0</td>\n",
       "      <td>HTMCP-03-06-02025-01A-01D</td>\n",
       "      <td>X coverage (incl. duplicate reads)</td>\n",
       "      <td>183.899176</td>\n",
       "    </tr>\n",
       "    <tr>\n",
       "      <td>1</td>\n",
       "      <td>HTMCP-03-06-02025-10A-01D</td>\n",
       "      <td>X coverage (incl. duplicate reads)</td>\n",
       "      <td>285.534514</td>\n",
       "    </tr>\n",
       "  </tbody>\n",
       "</table>\n",
       "</div>"
      ],
      "text/plain": [
       "                      sample                          QC_metrics  \\\n",
       "0  HTMCP-03-06-02025-01A-01D  X coverage (incl. duplicate reads)   \n",
       "1  HTMCP-03-06-02025-10A-01D  X coverage (incl. duplicate reads)   \n",
       "\n",
       "   metrics_value  \n",
       "0     183.899176  \n",
       "1     285.534514  "
      ]
     },
     "execution_count": 6,
     "metadata": {},
     "output_type": "execute_result"
    },
    {
     "data": {
      "image/png": "[encoded data removed]",
      "text/plain": [
       "<Figure size 576x576 with 6 Axes>"
      ]
     },
     "metadata": {
      "needs_background": "light"
     },
     "output_type": "display_data"
    }
   ],
   "source": [
    "### seaborn boxplot in subplots access subplots programatically\n",
    "f = '/projects/trans_scratch/validations/workspace/szong/development/genomics_data_analysis/visualization/QC.csv'\n",
    "df = pd.read_csv(f)\n",
    "df.head(2)\n",
    "\n",
    "f, axes = plt.subplots(2, 3, figsize=(8,8))\n",
    "cols = df.QC_metrics.unique()\n",
    "# flatten axes in multiple rows and columns to access programatically\n",
    "for c, ax in zip(cols, axes.flatten()):\n",
    "    _ = sns.boxplot(x='QC_metrics', y='metrics_value', data=df[df['QC_metrics']==c], fliersize=2.5, ax=ax)\n",
    "    # ax.set set ax properties\n",
    "    _ = ax.set(xlabel='QCs', ylabel='xxxx')\n",
    "of = '/projects/trans_scratch/validations/workspace/szong/Cervical/variant_bwamem/validation/validation_qc.png'\n",
    "# plt.savefig(of, bbox_inches='tight')\n"
   ]
  },
  {
   "cell_type": "code",
   "execution_count": 7,
   "metadata": {
    "scrolled": true
   },
   "outputs": [
    {
     "data": {
      "text/html": [
       "<div>\n",
       "<style scoped>\n",
       "    .dataframe tbody tr th:only-of-type {\n",
       "        vertical-align: middle;\n",
       "    }\n",
       "\n",
       "    .dataframe tbody tr th {\n",
       "        vertical-align: top;\n",
       "    }\n",
       "\n",
       "    .dataframe thead th {\n",
       "        text-align: right;\n",
       "    }\n",
       "</style>\n",
       "<table border=\"1\" class=\"dataframe\">\n",
       "  <thead>\n",
       "    <tr style=\"text-align: right;\">\n",
       "      <th></th>\n",
       "      <th>patient</th>\n",
       "      <th>gene</th>\n",
       "      <th>rpkm</th>\n",
       "      <th>integration</th>\n",
       "    </tr>\n",
       "  </thead>\n",
       "  <tbody>\n",
       "    <tr>\n",
       "      <td>354</td>\n",
       "      <td>HTMCP-03-06-02001</td>\n",
       "      <td>MYC</td>\n",
       "      <td>44.4223</td>\n",
       "      <td>wt</td>\n",
       "    </tr>\n",
       "    <tr>\n",
       "      <td>355</td>\n",
       "      <td>HTMCP-03-06-02002</td>\n",
       "      <td>MYC</td>\n",
       "      <td>47.1335</td>\n",
       "      <td>wt</td>\n",
       "    </tr>\n",
       "  </tbody>\n",
       "</table>\n",
       "</div>"
      ],
      "text/plain": [
       "               patient gene     rpkm integration\n",
       "354  HTMCP-03-06-02001  MYC  44.4223          wt\n",
       "355  HTMCP-03-06-02002  MYC  47.1335          wt"
      ]
     },
     "execution_count": 7,
     "metadata": {},
     "output_type": "execute_result"
    },
    {
     "data": {
      "text/plain": [
       "<matplotlib.axes._subplots.AxesSubplot at 0x7fcef73d9668>"
      ]
     },
     "execution_count": 7,
     "metadata": {},
     "output_type": "execute_result"
    },
    {
     "data": {
      "image/png": "[encoded data removed]",
      "text/plain": [
       "<Figure size 432x288 with 1 Axes>"
      ]
     },
     "metadata": {
      "needs_background": "light"
     },
     "output_type": "display_data"
    }
   ],
   "source": [
    "### sns violin plot overlay points\n",
    "\n",
    "f = '/projects/trans_scratch/validations/workspace/szong/development/genomics_data_analysis/visualization/rpkms_long.csv'\n",
    "df = pd.read_csv(f)\n",
    "df = df[df.gene == 'MYC']\n",
    "df.head(2)\n",
    "ax = sns.violinplot('integration', 'rpkm', data=df, color='yellow')\n",
    "sns.swarmplot('integration', 'rpkm', data=df)\n",
    "plt.show()"
   ]
  },
  {
   "cell_type": "code",
   "execution_count": 8,
   "metadata": {
    "scrolled": true
   },
   "outputs": [
    {
     "data": {
      "application/vnd.jupyter.widget-view+json": {
       "model_id": "f0c5c7accd2c45bebfafe0a89ef62405",
       "version_major": 2,
       "version_minor": 0
      },
      "text/plain": [
       "interactive(children=(Dropdown(description='genes', options=('ARFGAP3', 'KLF12', 'LRP1B', 'MYC', 'NEGR1', 'NFK…"
      ]
     },
     "metadata": {},
     "output_type": "display_data"
    }
   ],
   "source": [
    "### ipython interact boxplot of expression for a list of genes\n",
    "# f = '/projects/trans_scratch/validations/workspace/szong/development/genomics_data_analysis/visualization/rpkms.csv'\n",
    "f = '/projects/trans_scratch/validations/workspace/szong/development/genomics_data_analysis/visualization/rpkms_long.csv'\n",
    "df = pd.read_csv(f)\n",
    "@interact\n",
    "def splot(genes=list( df['gene'].unique())):\n",
    "    fig = plt.figure(figsize=(6, 8))\n",
    "    ax = fig.add_subplot(111)\n",
    "    ax.set_yscale('log')\n",
    "    dftmp =  df[ df.gene==genes]\n",
    "    sns.boxplot('gene', 'rpkm',  data=dftmp, color='yellow', fliersize=0, width=0.3)\n",
    "    sns.swarmplot('gene', 'rpkm', data=dftmp, hue='integration', palette=[\"#3D9970\",\"#FF4136\"])\n",
    "    sns.set_style(\"ticks\", {\"xtick.major.size\": 8, \"ytick.major.size\": 8})\n",
    "    ax.tick_params(labelsize=15)\n",
    "    ax.set(xlabel='', ylabel='RPKM')\n",
    "    \n",
    "    of = f'/projects/trans_scratch/validations/workspace/szong/Cervical/integration/{genes}_integration_expression_box_swarmplot.png'\n",
    "#     plt.savefig(of, dpi=200, bbox_inches='tight')\n",
    "    plt.show()"
   ]
  },
  {
   "cell_type": "code",
   "execution_count": 9,
   "metadata": {},
   "outputs": [
    {
     "data": {
      "text/html": [
       "<div>\n",
       "<style scoped>\n",
       "    .dataframe tbody tr th:only-of-type {\n",
       "        vertical-align: middle;\n",
       "    }\n",
       "\n",
       "    .dataframe tbody tr th {\n",
       "        vertical-align: top;\n",
       "    }\n",
       "\n",
       "    .dataframe thead th {\n",
       "        text-align: right;\n",
       "    }\n",
       "</style>\n",
       "<table border=\"1\" class=\"dataframe\">\n",
       "  <thead>\n",
       "    <tr style=\"text-align: right;\">\n",
       "      <th></th>\n",
       "      <th>Unnamed: 0</th>\n",
       "      <th>ARFGAP3</th>\n",
       "      <th>KLF12</th>\n",
       "      <th>LRP1B</th>\n",
       "      <th>MYC</th>\n",
       "      <th>NEGR1</th>\n",
       "      <th>NFKB1</th>\n",
       "      <th>NFKB2</th>\n",
       "      <th>POU5F1B</th>\n",
       "      <th>SCAF11</th>\n",
       "      <th>STK11</th>\n",
       "    </tr>\n",
       "  </thead>\n",
       "  <tbody>\n",
       "    <tr>\n",
       "      <td>0</td>\n",
       "      <td>HTMCP-03-06-02001</td>\n",
       "      <td>19.5059</td>\n",
       "      <td>1.2406</td>\n",
       "      <td>0.0591</td>\n",
       "      <td>44.4223</td>\n",
       "      <td>0.1510</td>\n",
       "      <td>28.2237</td>\n",
       "      <td>25.3240</td>\n",
       "      <td>0.0614</td>\n",
       "      <td>8.1612</td>\n",
       "      <td>7.7324</td>\n",
       "    </tr>\n",
       "    <tr>\n",
       "      <td>1</td>\n",
       "      <td>HTMCP-03-06-02002</td>\n",
       "      <td>15.5748</td>\n",
       "      <td>0.3155</td>\n",
       "      <td>0.0177</td>\n",
       "      <td>47.1335</td>\n",
       "      <td>0.0664</td>\n",
       "      <td>24.0621</td>\n",
       "      <td>11.3559</td>\n",
       "      <td>0.1385</td>\n",
       "      <td>8.6626</td>\n",
       "      <td>3.7501</td>\n",
       "    </tr>\n",
       "  </tbody>\n",
       "</table>\n",
       "</div>"
      ],
      "text/plain": [
       "          Unnamed: 0  ARFGAP3   KLF12   LRP1B      MYC   NEGR1    NFKB1  \\\n",
       "0  HTMCP-03-06-02001  19.5059  1.2406  0.0591  44.4223  0.1510  28.2237   \n",
       "1  HTMCP-03-06-02002  15.5748  0.3155  0.0177  47.1335  0.0664  24.0621   \n",
       "\n",
       "     NFKB2  POU5F1B  SCAF11   STK11  \n",
       "0  25.3240   0.0614  8.1612  7.7324  \n",
       "1  11.3559   0.1385  8.6626  3.7501  "
      ]
     },
     "execution_count": 9,
     "metadata": {},
     "output_type": "execute_result"
    },
    {
     "data": {
      "application/vnd.jupyter.widget-view+json": {
       "model_id": "81b209cdeb4547628638a486af9ceb9e",
       "version_major": 2,
       "version_minor": 0
      },
      "text/plain": [
       "interactive(children=(Dropdown(description='column', options=('MYC', 'KLF12'), value='MYC'), IntSlider(value=9…"
      ]
     },
     "metadata": {},
     "output_type": "display_data"
    }
   ],
   "source": [
    "### use ipython interact widgets to dynamically inspect data\n",
    "f = '/projects/trans_scratch/validations/workspace/szong/development/genomics_data_analysis/visualization/rpkms.csv'\n",
    "df = pd.read_csv(f)\n",
    "df.head(2)\n",
    "\n",
    "@interact\n",
    "def show_gene(column=['MYC', 'KLF12'], rpkm=(1, 200, 10)):\n",
    "### use ipython interact widgets to dynamically inspect data    \n",
    "    return df.loc[(df[column] > rpkm)][['MYC', 'KLF12']]"
   ]
  },
  {
   "cell_type": "code",
   "execution_count": 6,
   "metadata": {},
   "outputs": [
    {
     "data": {
      "text/plain": [
       "(51595, 118)"
      ]
     },
     "execution_count": 6,
     "metadata": {},
     "output_type": "execute_result"
    },
    {
     "data": {
      "text/html": [
       "<div>\n",
       "<style scoped>\n",
       "    .dataframe tbody tr th:only-of-type {\n",
       "        vertical-align: middle;\n",
       "    }\n",
       "\n",
       "    .dataframe tbody tr th {\n",
       "        vertical-align: top;\n",
       "    }\n",
       "\n",
       "    .dataframe thead th {\n",
       "        text-align: right;\n",
       "    }\n",
       "</style>\n",
       "<table border=\"1\" class=\"dataframe\">\n",
       "  <thead>\n",
       "    <tr style=\"text-align: right;\">\n",
       "      <th></th>\n",
       "      <th>HTMCP-03-06-02001</th>\n",
       "      <th>HTMCP-03-06-02002</th>\n",
       "      <th>HTMCP-03-06-02003</th>\n",
       "      <th>HTMCP-03-06-02006</th>\n",
       "      <th>HTMCP-03-06-02008</th>\n",
       "      <th>HTMCP-03-06-02012</th>\n",
       "      <th>HTMCP-03-06-02013</th>\n",
       "      <th>HTMCP-03-06-02020</th>\n",
       "      <th>HTMCP-03-06-02036</th>\n",
       "      <th>HTMCP-03-06-02037</th>\n",
       "      <th>...</th>\n",
       "      <th>HTMCP-03-06-02417</th>\n",
       "      <th>HTMCP-03-06-02424</th>\n",
       "      <th>HTMCP-03-06-02427</th>\n",
       "      <th>HTMCP-03-06-02428</th>\n",
       "      <th>HTMCP-03-06-02434</th>\n",
       "      <th>HTMCP-03-06-02435</th>\n",
       "      <th>HTMCP-03-06-02437</th>\n",
       "      <th>HTMCP-03-06-02441</th>\n",
       "      <th>HTMCP-03-06-02442</th>\n",
       "      <th>HTMCP-03-06-02447</th>\n",
       "    </tr>\n",
       "    <tr>\n",
       "      <th>gene</th>\n",
       "      <th></th>\n",
       "      <th></th>\n",
       "      <th></th>\n",
       "      <th></th>\n",
       "      <th></th>\n",
       "      <th></th>\n",
       "      <th></th>\n",
       "      <th></th>\n",
       "      <th></th>\n",
       "      <th></th>\n",
       "      <th></th>\n",
       "      <th></th>\n",
       "      <th></th>\n",
       "      <th></th>\n",
       "      <th></th>\n",
       "      <th></th>\n",
       "      <th></th>\n",
       "      <th></th>\n",
       "      <th></th>\n",
       "      <th></th>\n",
       "      <th></th>\n",
       "    </tr>\n",
       "  </thead>\n",
       "  <tbody>\n",
       "    <tr>\n",
       "      <td>10_PPIB</td>\n",
       "      <td>0.0</td>\n",
       "      <td>0.0</td>\n",
       "      <td>0.0</td>\n",
       "      <td>0.0</td>\n",
       "      <td>0.0</td>\n",
       "      <td>0.0</td>\n",
       "      <td>0.0</td>\n",
       "      <td>0.0</td>\n",
       "      <td>0.0</td>\n",
       "      <td>0.0</td>\n",
       "      <td>...</td>\n",
       "      <td>0.0</td>\n",
       "      <td>0.0</td>\n",
       "      <td>0.0</td>\n",
       "      <td>0.0</td>\n",
       "      <td>0.0</td>\n",
       "      <td>0.0</td>\n",
       "      <td>0.0</td>\n",
       "      <td>0.0</td>\n",
       "      <td>0.0</td>\n",
       "      <td>0.0</td>\n",
       "    </tr>\n",
       "    <tr>\n",
       "      <td>12_FKBP10</td>\n",
       "      <td>0.0</td>\n",
       "      <td>0.0</td>\n",
       "      <td>0.0</td>\n",
       "      <td>0.0</td>\n",
       "      <td>0.0</td>\n",
       "      <td>0.0</td>\n",
       "      <td>0.0</td>\n",
       "      <td>0.0</td>\n",
       "      <td>0.0</td>\n",
       "      <td>0.0</td>\n",
       "      <td>...</td>\n",
       "      <td>0.0</td>\n",
       "      <td>0.0</td>\n",
       "      <td>0.0</td>\n",
       "      <td>0.0</td>\n",
       "      <td>0.0</td>\n",
       "      <td>0.0</td>\n",
       "      <td>0.0</td>\n",
       "      <td>0.0</td>\n",
       "      <td>0.0</td>\n",
       "      <td>0.0</td>\n",
       "    </tr>\n",
       "  </tbody>\n",
       "</table>\n",
       "<p>2 rows × 118 columns</p>\n",
       "</div>"
      ],
      "text/plain": [
       "           HTMCP-03-06-02001  HTMCP-03-06-02002  HTMCP-03-06-02003  \\\n",
       "gene                                                                 \n",
       "10_PPIB                  0.0                0.0                0.0   \n",
       "12_FKBP10                0.0                0.0                0.0   \n",
       "\n",
       "           HTMCP-03-06-02006  HTMCP-03-06-02008  HTMCP-03-06-02012  \\\n",
       "gene                                                                 \n",
       "10_PPIB                  0.0                0.0                0.0   \n",
       "12_FKBP10                0.0                0.0                0.0   \n",
       "\n",
       "           HTMCP-03-06-02013  HTMCP-03-06-02020  HTMCP-03-06-02036  \\\n",
       "gene                                                                 \n",
       "10_PPIB                  0.0                0.0                0.0   \n",
       "12_FKBP10                0.0                0.0                0.0   \n",
       "\n",
       "           HTMCP-03-06-02037  ...  HTMCP-03-06-02417  HTMCP-03-06-02424  \\\n",
       "gene                          ...                                         \n",
       "10_PPIB                  0.0  ...                0.0                0.0   \n",
       "12_FKBP10                0.0  ...                0.0                0.0   \n",
       "\n",
       "           HTMCP-03-06-02427  HTMCP-03-06-02428  HTMCP-03-06-02434  \\\n",
       "gene                                                                 \n",
       "10_PPIB                  0.0                0.0                0.0   \n",
       "12_FKBP10                0.0                0.0                0.0   \n",
       "\n",
       "           HTMCP-03-06-02435  HTMCP-03-06-02437  HTMCP-03-06-02441  \\\n",
       "gene                                                                 \n",
       "10_PPIB                  0.0                0.0                0.0   \n",
       "12_FKBP10                0.0                0.0                0.0   \n",
       "\n",
       "           HTMCP-03-06-02442  HTMCP-03-06-02447  \n",
       "gene                                             \n",
       "10_PPIB                  0.0                0.0  \n",
       "12_FKBP10                0.0                0.0  \n",
       "\n",
       "[2 rows x 118 columns]"
      ]
     },
     "execution_count": 6,
     "metadata": {},
     "output_type": "execute_result"
    }
   ],
   "source": [
    "f = '/projects/trans_scratch/validations/workspace/szong/Cervical/expression/118_patient_rpkm.csv'\n",
    "expr = pd.read_csv(f, index_col='gene')\n",
    "expr.shape\n",
    "expr.head(2)"
   ]
  },
  {
   "cell_type": "code",
   "execution_count": 7,
   "metadata": {},
   "outputs": [
    {
     "data": {
      "text/html": [
       "<div>\n",
       "<style scoped>\n",
       "    .dataframe tbody tr th:only-of-type {\n",
       "        vertical-align: middle;\n",
       "    }\n",
       "\n",
       "    .dataframe tbody tr th {\n",
       "        vertical-align: top;\n",
       "    }\n",
       "\n",
       "    .dataframe thead th {\n",
       "        text-align: right;\n",
       "    }\n",
       "</style>\n",
       "<table border=\"1\" class=\"dataframe\">\n",
       "  <thead>\n",
       "    <tr style=\"text-align: right;\">\n",
       "      <th>gene</th>\n",
       "      <th>10_PPIB</th>\n",
       "      <th>12_FKBP10</th>\n",
       "      <th>13_CALCA</th>\n",
       "      <th>15_UBE3A</th>\n",
       "      <th>16_ADA</th>\n",
       "      <th>17_AICDA</th>\n",
       "      <th>18_AIRE</th>\n",
       "      <th>1_COL1A1</th>\n",
       "      <th>21_BLNK</th>\n",
       "      <th>22_C1QA</th>\n",
       "      <th>...</th>\n",
       "      <th>ZWINT</th>\n",
       "      <th>ZXDA</th>\n",
       "      <th>ZXDB</th>\n",
       "      <th>ZXDC</th>\n",
       "      <th>ZYG11A</th>\n",
       "      <th>ZYG11AP1</th>\n",
       "      <th>ZYG11B</th>\n",
       "      <th>ZYX</th>\n",
       "      <th>ZZEF1</th>\n",
       "      <th>ZZZ3</th>\n",
       "    </tr>\n",
       "  </thead>\n",
       "  <tbody>\n",
       "    <tr>\n",
       "      <td>HTMCP-03-06-02001</td>\n",
       "      <td>0.0</td>\n",
       "      <td>0.0</td>\n",
       "      <td>0.0</td>\n",
       "      <td>0.0</td>\n",
       "      <td>0.0</td>\n",
       "      <td>0.0</td>\n",
       "      <td>0.0</td>\n",
       "      <td>0.0</td>\n",
       "      <td>0.0</td>\n",
       "      <td>0.0</td>\n",
       "      <td>...</td>\n",
       "      <td>46.9183</td>\n",
       "      <td>0.5696</td>\n",
       "      <td>2.6186</td>\n",
       "      <td>7.061</td>\n",
       "      <td>2.0182</td>\n",
       "      <td>0.0</td>\n",
       "      <td>6.8391</td>\n",
       "      <td>39.2288</td>\n",
       "      <td>4.6830</td>\n",
       "      <td>8.7451</td>\n",
       "    </tr>\n",
       "    <tr>\n",
       "      <td>HTMCP-03-06-02002</td>\n",
       "      <td>0.0</td>\n",
       "      <td>0.0</td>\n",
       "      <td>0.0</td>\n",
       "      <td>0.0</td>\n",
       "      <td>0.0</td>\n",
       "      <td>0.0</td>\n",
       "      <td>0.0</td>\n",
       "      <td>0.0</td>\n",
       "      <td>0.0</td>\n",
       "      <td>0.0</td>\n",
       "      <td>...</td>\n",
       "      <td>39.1353</td>\n",
       "      <td>1.2758</td>\n",
       "      <td>3.2289</td>\n",
       "      <td>4.329</td>\n",
       "      <td>0.2457</td>\n",
       "      <td>0.0</td>\n",
       "      <td>6.4751</td>\n",
       "      <td>79.9902</td>\n",
       "      <td>3.9416</td>\n",
       "      <td>6.7653</td>\n",
       "    </tr>\n",
       "  </tbody>\n",
       "</table>\n",
       "<p>2 rows × 51595 columns</p>\n",
       "</div>"
      ],
      "text/plain": [
       "gene               10_PPIB  12_FKBP10  13_CALCA  15_UBE3A  16_ADA  17_AICDA  \\\n",
       "HTMCP-03-06-02001      0.0        0.0       0.0       0.0     0.0       0.0   \n",
       "HTMCP-03-06-02002      0.0        0.0       0.0       0.0     0.0       0.0   \n",
       "\n",
       "gene               18_AIRE  1_COL1A1  21_BLNK  22_C1QA  ...    ZWINT    ZXDA  \\\n",
       "HTMCP-03-06-02001      0.0       0.0      0.0      0.0  ...  46.9183  0.5696   \n",
       "HTMCP-03-06-02002      0.0       0.0      0.0      0.0  ...  39.1353  1.2758   \n",
       "\n",
       "gene                 ZXDB   ZXDC  ZYG11A  ZYG11AP1  ZYG11B      ZYX   ZZEF1  \\\n",
       "HTMCP-03-06-02001  2.6186  7.061  2.0182       0.0  6.8391  39.2288  4.6830   \n",
       "HTMCP-03-06-02002  3.2289  4.329  0.2457       0.0  6.4751  79.9902  3.9416   \n",
       "\n",
       "gene                 ZZZ3  \n",
       "HTMCP-03-06-02001  8.7451  \n",
       "HTMCP-03-06-02002  6.7653  \n",
       "\n",
       "[2 rows x 51595 columns]"
      ]
     },
     "execution_count": 7,
     "metadata": {},
     "output_type": "execute_result"
    }
   ],
   "source": [
    "adf = expr.T\n",
    "adf.head(2)"
   ]
  },
  {
   "cell_type": "code",
   "execution_count": 8,
   "metadata": {},
   "outputs": [
    {
     "data": {
      "text/html": [
       "<div>\n",
       "<style scoped>\n",
       "    .dataframe tbody tr th:only-of-type {\n",
       "        vertical-align: middle;\n",
       "    }\n",
       "\n",
       "    .dataframe tbody tr th {\n",
       "        vertical-align: top;\n",
       "    }\n",
       "\n",
       "    .dataframe thead th {\n",
       "        text-align: right;\n",
       "    }\n",
       "</style>\n",
       "<table border=\"1\" class=\"dataframe\">\n",
       "  <thead>\n",
       "    <tr style=\"text-align: right;\">\n",
       "      <th>gene</th>\n",
       "      <th>10_PPIB</th>\n",
       "      <th>12_FKBP10</th>\n",
       "      <th>13_CALCA</th>\n",
       "      <th>15_UBE3A</th>\n",
       "      <th>16_ADA</th>\n",
       "      <th>17_AICDA</th>\n",
       "      <th>18_AIRE</th>\n",
       "      <th>1_COL1A1</th>\n",
       "      <th>21_BLNK</th>\n",
       "      <th>22_C1QA</th>\n",
       "      <th>...</th>\n",
       "      <th>ZWINT</th>\n",
       "      <th>ZXDA</th>\n",
       "      <th>ZXDB</th>\n",
       "      <th>ZXDC</th>\n",
       "      <th>ZYG11A</th>\n",
       "      <th>ZYG11AP1</th>\n",
       "      <th>ZYG11B</th>\n",
       "      <th>ZYX</th>\n",
       "      <th>ZZEF1</th>\n",
       "      <th>ZZZ3</th>\n",
       "    </tr>\n",
       "  </thead>\n",
       "  <tbody>\n",
       "    <tr>\n",
       "      <td>HTMCP-03-06-02075</td>\n",
       "      <td>0.0</td>\n",
       "      <td>0.0</td>\n",
       "      <td>0.0</td>\n",
       "      <td>0.0</td>\n",
       "      <td>0.0</td>\n",
       "      <td>0.0</td>\n",
       "      <td>0.0</td>\n",
       "      <td>0.0</td>\n",
       "      <td>0.0</td>\n",
       "      <td>0.0</td>\n",
       "      <td>...</td>\n",
       "      <td>18.1712</td>\n",
       "      <td>0.7293</td>\n",
       "      <td>2.4798</td>\n",
       "      <td>4.9006</td>\n",
       "      <td>0.6989</td>\n",
       "      <td>0.0</td>\n",
       "      <td>7.9852</td>\n",
       "      <td>47.7038</td>\n",
       "      <td>2.8363</td>\n",
       "      <td>3.5696</td>\n",
       "    </tr>\n",
       "    <tr>\n",
       "      <td>HTMCP-03-06-02210</td>\n",
       "      <td>0.0</td>\n",
       "      <td>0.0</td>\n",
       "      <td>0.0</td>\n",
       "      <td>0.0</td>\n",
       "      <td>0.0</td>\n",
       "      <td>0.0</td>\n",
       "      <td>0.0</td>\n",
       "      <td>0.0</td>\n",
       "      <td>0.0</td>\n",
       "      <td>0.0</td>\n",
       "      <td>...</td>\n",
       "      <td>52.2486</td>\n",
       "      <td>0.6917</td>\n",
       "      <td>2.3739</td>\n",
       "      <td>8.7193</td>\n",
       "      <td>1.6169</td>\n",
       "      <td>0.0</td>\n",
       "      <td>4.2990</td>\n",
       "      <td>49.3276</td>\n",
       "      <td>4.2569</td>\n",
       "      <td>4.8234</td>\n",
       "    </tr>\n",
       "  </tbody>\n",
       "</table>\n",
       "<p>2 rows × 51595 columns</p>\n",
       "</div>"
      ],
      "text/plain": [
       "gene               10_PPIB  12_FKBP10  13_CALCA  15_UBE3A  16_ADA  17_AICDA  \\\n",
       "HTMCP-03-06-02075      0.0        0.0       0.0       0.0     0.0       0.0   \n",
       "HTMCP-03-06-02210      0.0        0.0       0.0       0.0     0.0       0.0   \n",
       "\n",
       "gene               18_AIRE  1_COL1A1  21_BLNK  22_C1QA  ...    ZWINT    ZXDA  \\\n",
       "HTMCP-03-06-02075      0.0       0.0      0.0      0.0  ...  18.1712  0.7293   \n",
       "HTMCP-03-06-02210      0.0       0.0      0.0      0.0  ...  52.2486  0.6917   \n",
       "\n",
       "gene                 ZXDB    ZXDC  ZYG11A  ZYG11AP1  ZYG11B      ZYX   ZZEF1  \\\n",
       "HTMCP-03-06-02075  2.4798  4.9006  0.6989       0.0  7.9852  47.7038  2.8363   \n",
       "HTMCP-03-06-02210  2.3739  8.7193  1.6169       0.0  4.2990  49.3276  4.2569   \n",
       "\n",
       "gene                 ZZZ3  \n",
       "HTMCP-03-06-02075  3.5696  \n",
       "HTMCP-03-06-02210  4.8234  \n",
       "\n",
       "[2 rows x 51595 columns]"
      ]
     },
     "execution_count": 8,
     "metadata": {},
     "output_type": "execute_result"
    }
   ],
   "source": [
    "adf[adf.RAB11A >60]"
   ]
  },
  {
   "cell_type": "code",
   "execution_count": 9,
   "metadata": {
    "scrolled": false
   },
   "outputs": [
    {
     "data": {
      "application/vnd.jupyter.widget-view+json": {
       "model_id": "73e032368b35440e9c5830840b9e6c21",
       "version_major": 2,
       "version_minor": 0
      },
      "text/plain": [
       "interactive(children=(Dropdown(description='column', options=('RAB11A', 'KLF12'), value='RAB11A'), IntSlider(v…"
      ]
     },
     "metadata": {},
     "output_type": "display_data"
    }
   ],
   "source": [
    "@interact\n",
    "def show_gene(column=['RAB11A', 'KLF12'], rpkm=(1, 200, 10)):\n",
    "    return adf.loc[(adf[column] > rpkm)][['RAB11A', 'KLF12']]"
   ]
  },
  {
   "cell_type": "markdown",
   "metadata": {},
   "source": [
    "# Genes of interest"
   ]
  },
  {
   "cell_type": "code",
   "execution_count": 7,
   "metadata": {},
   "outputs": [],
   "source": [
    "dct = {'NEGR1': 'HTMCP-03-06-02330',\n",
    "       'LRP1B': 'HTMCP-03-06-02063',\n",
    "       'KLF12': 'HTMCP-03-06-02047_HTMCP-03-06-02040', \n",
    "       'SCAF11': 'HTMCP-03-06-02006',\n",
    "       'POU5F1B': 'HTMCP-03-06-02058_HTMCP-03-06-02110_HTMCP-03-06-02267',\n",
    "       'STK11': 'HTMCP-03-06-02046',\n",
    "       'NFKB1': 'HTMCP-03-06-02020',\n",
    "       'NFKB2': 'HTMCP-03-06-02020',\n",
    "       'ARFGAP3': 'HTMCP-03-06-02002',\n",
    "      'MYC':'HTMCP-03-06-02110_HTMCP-03-06-02058_HTMCP-03-06-02267_HTMCP-03-06-02322_HTMCP-03-06-02149'}"
   ]
  },
  {
   "cell_type": "code",
   "execution_count": 8,
   "metadata": {},
   "outputs": [
    {
     "data": {
      "text/plain": [
       "Index(['NEGR1', 'LRP1B', 'KLF12', 'KLF12', 'SCAF11', 'POU5F1B', 'POU5F1B',\n",
       "       'POU5F1B', 'STK11', 'NFKB1', 'NFKB2', 'ARFGAP3', 'MYC', 'MYC', 'MYC',\n",
       "       'MYC', 'MYC'],\n",
       "      dtype='object')"
      ]
     },
     "execution_count": 8,
     "metadata": {},
     "output_type": "execute_result"
    },
    {
     "data": {
      "text/html": [
       "<div>\n",
       "<style scoped>\n",
       "    .dataframe tbody tr th:only-of-type {\n",
       "        vertical-align: middle;\n",
       "    }\n",
       "\n",
       "    .dataframe tbody tr th {\n",
       "        vertical-align: top;\n",
       "    }\n",
       "\n",
       "    .dataframe thead th {\n",
       "        text-align: right;\n",
       "    }\n",
       "</style>\n",
       "<table border=\"1\" class=\"dataframe\">\n",
       "  <thead>\n",
       "    <tr style=\"text-align: right;\">\n",
       "      <th></th>\n",
       "      <th>gene</th>\n",
       "      <th>integration</th>\n",
       "      <th>patient</th>\n",
       "    </tr>\n",
       "  </thead>\n",
       "  <tbody>\n",
       "    <tr>\n",
       "      <th>0</th>\n",
       "      <td>NEGR1</td>\n",
       "      <td>integrated</td>\n",
       "      <td>HTMCP-03-06-02330</td>\n",
       "    </tr>\n",
       "    <tr>\n",
       "      <th>1</th>\n",
       "      <td>LRP1B</td>\n",
       "      <td>integrated</td>\n",
       "      <td>HTMCP-03-06-02063</td>\n",
       "    </tr>\n",
       "  </tbody>\n",
       "</table>\n",
       "</div>"
      ],
      "text/plain": [
       "    gene integration            patient\n",
       "0  NEGR1  integrated  HTMCP-03-06-02330\n",
       "1  LRP1B  integrated  HTMCP-03-06-02063"
      ]
     },
     "execution_count": 8,
     "metadata": {},
     "output_type": "execute_result"
    }
   ],
   "source": [
    "dfx = pd.DataFrame(dct, index=[0]).T\n",
    "dfx['integration'] = 'integrated'\n",
    "dfx.columns = ['pats', 'integrated']\n",
    "s = dfx.pats.str.split('_', expand=True).stack()\n",
    "idx = s.index.get_level_values(0)\n",
    "dfy = dfx.loc[idx]\n",
    "dfy['patient'] = list(s)\n",
    "idx\n",
    "dfy = (dfy.reset_index()).drop('pats', axis=1)\n",
    "dfy.columns = ['gene', 'integration', 'patient']\n",
    "dfy[:2]\n",
    "# pd.DataFrame.from_dict(dct)"
   ]
  },
  {
   "cell_type": "code",
   "execution_count": 139,
   "metadata": {},
   "outputs": [],
   "source": [
    "# dfy.to_csv('/projects/trans_scratch/validations/workspace/szong/Cervical/integration/integration_cases.txt', index=False)"
   ]
  },
  {
   "cell_type": "code",
   "execution_count": 9,
   "metadata": {},
   "outputs": [],
   "source": [
    "expr = expr.reset_index()\n",
    "df = expr[expr.gene.isin(dct.keys())].set_index('gene').T"
   ]
  },
  {
   "cell_type": "code",
   "execution_count": 10,
   "metadata": {},
   "outputs": [
    {
     "data": {
      "text/html": [
       "<div>\n",
       "<style scoped>\n",
       "    .dataframe tbody tr th:only-of-type {\n",
       "        vertical-align: middle;\n",
       "    }\n",
       "\n",
       "    .dataframe tbody tr th {\n",
       "        vertical-align: top;\n",
       "    }\n",
       "\n",
       "    .dataframe thead th {\n",
       "        text-align: right;\n",
       "    }\n",
       "</style>\n",
       "<table border=\"1\" class=\"dataframe\">\n",
       "  <thead>\n",
       "    <tr style=\"text-align: right;\">\n",
       "      <th>gene</th>\n",
       "      <th>ARFGAP3</th>\n",
       "      <th>KLF12</th>\n",
       "      <th>LRP1B</th>\n",
       "      <th>MYC</th>\n",
       "      <th>NEGR1</th>\n",
       "      <th>NFKB1</th>\n",
       "      <th>NFKB2</th>\n",
       "      <th>POU5F1B</th>\n",
       "      <th>SCAF11</th>\n",
       "      <th>STK11</th>\n",
       "    </tr>\n",
       "  </thead>\n",
       "  <tbody>\n",
       "    <tr>\n",
       "      <th>HTMCP-03-06-02001</th>\n",
       "      <td>19.5059</td>\n",
       "      <td>1.2406</td>\n",
       "      <td>0.0591</td>\n",
       "      <td>44.4223</td>\n",
       "      <td>0.1510</td>\n",
       "      <td>28.2237</td>\n",
       "      <td>25.3240</td>\n",
       "      <td>0.0614</td>\n",
       "      <td>8.1612</td>\n",
       "      <td>7.7324</td>\n",
       "    </tr>\n",
       "    <tr>\n",
       "      <th>HTMCP-03-06-02002</th>\n",
       "      <td>15.5748</td>\n",
       "      <td>0.3155</td>\n",
       "      <td>0.0177</td>\n",
       "      <td>47.1335</td>\n",
       "      <td>0.0664</td>\n",
       "      <td>24.0621</td>\n",
       "      <td>11.3559</td>\n",
       "      <td>0.1385</td>\n",
       "      <td>8.6626</td>\n",
       "      <td>3.7501</td>\n",
       "    </tr>\n",
       "  </tbody>\n",
       "</table>\n",
       "</div>"
      ],
      "text/plain": [
       "gene               ARFGAP3   KLF12   LRP1B      MYC   NEGR1    NFKB1    NFKB2  \\\n",
       "HTMCP-03-06-02001  19.5059  1.2406  0.0591  44.4223  0.1510  28.2237  25.3240   \n",
       "HTMCP-03-06-02002  15.5748  0.3155  0.0177  47.1335  0.0664  24.0621  11.3559   \n",
       "\n",
       "gene               POU5F1B  SCAF11   STK11  \n",
       "HTMCP-03-06-02001   0.0614  8.1612  7.7324  \n",
       "HTMCP-03-06-02002   0.1385  8.6626  3.7501  "
      ]
     },
     "execution_count": 10,
     "metadata": {},
     "output_type": "execute_result"
    }
   ],
   "source": [
    "df.head(2)\n"
   ]
  },
  {
   "cell_type": "code",
   "execution_count": 11,
   "metadata": {},
   "outputs": [
    {
     "data": {
      "text/html": [
       "<div>\n",
       "<style scoped>\n",
       "    .dataframe tbody tr th:only-of-type {\n",
       "        vertical-align: middle;\n",
       "    }\n",
       "\n",
       "    .dataframe tbody tr th {\n",
       "        vertical-align: top;\n",
       "    }\n",
       "\n",
       "    .dataframe thead th {\n",
       "        text-align: right;\n",
       "    }\n",
       "</style>\n",
       "<table border=\"1\" class=\"dataframe\">\n",
       "  <thead>\n",
       "    <tr style=\"text-align: right;\">\n",
       "      <th></th>\n",
       "      <th>Unnamed: 0</th>\n",
       "      <th>ARFGAP3</th>\n",
       "      <th>KLF12</th>\n",
       "      <th>LRP1B</th>\n",
       "      <th>MYC</th>\n",
       "      <th>NEGR1</th>\n",
       "      <th>NFKB1</th>\n",
       "      <th>NFKB2</th>\n",
       "      <th>POU5F1B</th>\n",
       "      <th>SCAF11</th>\n",
       "      <th>STK11</th>\n",
       "    </tr>\n",
       "  </thead>\n",
       "  <tbody>\n",
       "    <tr>\n",
       "      <td>0</td>\n",
       "      <td>HTMCP-03-06-02001</td>\n",
       "      <td>19.5059</td>\n",
       "      <td>1.2406</td>\n",
       "      <td>0.0591</td>\n",
       "      <td>44.4223</td>\n",
       "      <td>0.1510</td>\n",
       "      <td>28.2237</td>\n",
       "      <td>25.3240</td>\n",
       "      <td>0.0614</td>\n",
       "      <td>8.1612</td>\n",
       "      <td>7.7324</td>\n",
       "    </tr>\n",
       "    <tr>\n",
       "      <td>1</td>\n",
       "      <td>HTMCP-03-06-02002</td>\n",
       "      <td>15.5748</td>\n",
       "      <td>0.3155</td>\n",
       "      <td>0.0177</td>\n",
       "      <td>47.1335</td>\n",
       "      <td>0.0664</td>\n",
       "      <td>24.0621</td>\n",
       "      <td>11.3559</td>\n",
       "      <td>0.1385</td>\n",
       "      <td>8.6626</td>\n",
       "      <td>3.7501</td>\n",
       "    </tr>\n",
       "  </tbody>\n",
       "</table>\n",
       "</div>"
      ],
      "text/plain": [
       "          Unnamed: 0  ARFGAP3   KLF12   LRP1B      MYC   NEGR1    NFKB1  \\\n",
       "0  HTMCP-03-06-02001  19.5059  1.2406  0.0591  44.4223  0.1510  28.2237   \n",
       "1  HTMCP-03-06-02002  15.5748  0.3155  0.0177  47.1335  0.0664  24.0621   \n",
       "\n",
       "     NFKB2  POU5F1B  SCAF11   STK11  \n",
       "0  25.3240   0.0614  8.1612  7.7324  \n",
       "1  11.3559   0.1385  8.6626  3.7501  "
      ]
     },
     "execution_count": 11,
     "metadata": {},
     "output_type": "execute_result"
    }
   ],
   "source": [
    "of = '/projects/trans_scratch/validations/workspace/szong/development/genomics_data_analysis/visualization/rpkms.csv'\n",
    "# df.to_csv(of)\n",
    "df = pd.read_csv(of)\n",
    "df.head(2)"
   ]
  },
  {
   "cell_type": "markdown",
   "metadata": {},
   "source": [
    "# plot all genes"
   ]
  },
  {
   "cell_type": "code",
   "execution_count": 12,
   "metadata": {},
   "outputs": [
    {
     "data": {
      "application/vnd.jupyter.widget-view+json": {
       "model_id": "3ef902c6e53a44b8b756213b0a1d8978",
       "version_major": 2,
       "version_minor": 0
      },
      "text/plain": [
       "interactive(children=(Dropdown(description='col', options=('Unnamed: 0', 'ARFGAP3', 'KLF12', 'LRP1B', 'MYC', '…"
      ]
     },
     "metadata": {},
     "output_type": "display_data"
    }
   ],
   "source": [
    "@interact\n",
    "def box_plot(col=list(df.columns), \n",
    "             theme=list(cf.themes.THEMES.keys()), \n",
    "             colorscale=list(cf.colors._scales_names.keys())):\n",
    "    data = go.Box(y=df[col], name=col, boxpoints='all', pointpos=0, jitter=1, text=df[col].index.tolist()) \n",
    "\n",
    "    layout = go.Layout(title=col, width=600, height=600)\n",
    "    fig = go.Figure(data=[data], layout=layout)\n",
    "    iplot(fig)                         "
   ]
  },
  {
   "cell_type": "code",
   "execution_count": null,
   "metadata": {},
   "outputs": [],
   "source": []
  },
  {
   "cell_type": "code",
   "execution_count": 11,
   "metadata": {},
   "outputs": [],
   "source": [
    "# expr = expr.reset_index()\n",
    "df = expr[expr.gene.isin(dct.keys())].set_index('gene').T.reset_index()"
   ]
  },
  {
   "cell_type": "code",
   "execution_count": 12,
   "metadata": {},
   "outputs": [
    {
     "data": {
      "text/html": [
       "<div>\n",
       "<style scoped>\n",
       "    .dataframe tbody tr th:only-of-type {\n",
       "        vertical-align: middle;\n",
       "    }\n",
       "\n",
       "    .dataframe tbody tr th {\n",
       "        vertical-align: top;\n",
       "    }\n",
       "\n",
       "    .dataframe thead th {\n",
       "        text-align: right;\n",
       "    }\n",
       "</style>\n",
       "<table border=\"1\" class=\"dataframe\">\n",
       "  <thead>\n",
       "    <tr style=\"text-align: right;\">\n",
       "      <th></th>\n",
       "      <th>patient</th>\n",
       "      <th>gene</th>\n",
       "      <th>rpkm</th>\n",
       "    </tr>\n",
       "  </thead>\n",
       "  <tbody>\n",
       "    <tr>\n",
       "      <th>0</th>\n",
       "      <td>HTMCP-03-06-02001</td>\n",
       "      <td>ARFGAP3</td>\n",
       "      <td>19.5059</td>\n",
       "    </tr>\n",
       "    <tr>\n",
       "      <th>1</th>\n",
       "      <td>HTMCP-03-06-02002</td>\n",
       "      <td>ARFGAP3</td>\n",
       "      <td>15.5748</td>\n",
       "    </tr>\n",
       "  </tbody>\n",
       "</table>\n",
       "</div>"
      ],
      "text/plain": [
       "             patient     gene     rpkm\n",
       "0  HTMCP-03-06-02001  ARFGAP3  19.5059\n",
       "1  HTMCP-03-06-02002  ARFGAP3  15.5748"
      ]
     },
     "execution_count": 12,
     "metadata": {},
     "output_type": "execute_result"
    }
   ],
   "source": [
    "df1 = pd.melt(df, id_vars='index', value_name='rpkm', var_name='genes')\n",
    "df1.columns = ['patient', 'gene', 'rpkm']\n",
    "df1.head(2)"
   ]
  },
  {
   "cell_type": "code",
   "execution_count": 13,
   "metadata": {},
   "outputs": [
    {
     "data": {
      "text/html": [
       "<div>\n",
       "<style scoped>\n",
       "    .dataframe tbody tr th:only-of-type {\n",
       "        vertical-align: middle;\n",
       "    }\n",
       "\n",
       "    .dataframe tbody tr th {\n",
       "        vertical-align: top;\n",
       "    }\n",
       "\n",
       "    .dataframe thead th {\n",
       "        text-align: right;\n",
       "    }\n",
       "</style>\n",
       "<table border=\"1\" class=\"dataframe\">\n",
       "  <thead>\n",
       "    <tr style=\"text-align: right;\">\n",
       "      <th></th>\n",
       "      <th>patient</th>\n",
       "      <th>gene</th>\n",
       "      <th>rpkm</th>\n",
       "      <th>integration</th>\n",
       "    </tr>\n",
       "  </thead>\n",
       "  <tbody>\n",
       "    <tr>\n",
       "      <th>0</th>\n",
       "      <td>HTMCP-03-06-02001</td>\n",
       "      <td>ARFGAP3</td>\n",
       "      <td>19.5059</td>\n",
       "      <td>wt</td>\n",
       "    </tr>\n",
       "    <tr>\n",
       "      <th>1</th>\n",
       "      <td>HTMCP-03-06-02002</td>\n",
       "      <td>ARFGAP3</td>\n",
       "      <td>15.5748</td>\n",
       "      <td>integrated</td>\n",
       "    </tr>\n",
       "  </tbody>\n",
       "</table>\n",
       "</div>"
      ],
      "text/plain": [
       "             patient     gene     rpkm integration\n",
       "0  HTMCP-03-06-02001  ARFGAP3  19.5059          wt\n",
       "1  HTMCP-03-06-02002  ARFGAP3  15.5748  integrated"
      ]
     },
     "execution_count": 13,
     "metadata": {},
     "output_type": "execute_result"
    }
   ],
   "source": [
    "df2 = pd.merge(df1, dfy, left_on=['patient', 'gene'], right_on=[ 'patient','gene'], how='left').fillna('wt')\n",
    "df2.head(2)"
   ]
  },
  {
   "cell_type": "code",
   "execution_count": 14,
   "metadata": {},
   "outputs": [
    {
     "data": {
      "text/html": [
       "<div>\n",
       "<style scoped>\n",
       "    .dataframe tbody tr th:only-of-type {\n",
       "        vertical-align: middle;\n",
       "    }\n",
       "\n",
       "    .dataframe tbody tr th {\n",
       "        vertical-align: top;\n",
       "    }\n",
       "\n",
       "    .dataframe thead th {\n",
       "        text-align: right;\n",
       "    }\n",
       "</style>\n",
       "<table border=\"1\" class=\"dataframe\">\n",
       "  <thead>\n",
       "    <tr style=\"text-align: right;\">\n",
       "      <th></th>\n",
       "      <th>patient</th>\n",
       "      <th>gene</th>\n",
       "      <th>rpkm</th>\n",
       "      <th>integration</th>\n",
       "    </tr>\n",
       "  </thead>\n",
       "  <tbody>\n",
       "    <tr>\n",
       "      <th>1</th>\n",
       "      <td>HTMCP-03-06-02002</td>\n",
       "      <td>ARFGAP3</td>\n",
       "      <td>15.5748</td>\n",
       "      <td>integrated</td>\n",
       "    </tr>\n",
       "    <tr>\n",
       "      <th>128</th>\n",
       "      <td>HTMCP-03-06-02040</td>\n",
       "      <td>KLF12</td>\n",
       "      <td>3.5184</td>\n",
       "      <td>integrated</td>\n",
       "    </tr>\n",
       "  </tbody>\n",
       "</table>\n",
       "</div>"
      ],
      "text/plain": [
       "               patient     gene     rpkm integration\n",
       "1    HTMCP-03-06-02002  ARFGAP3  15.5748  integrated\n",
       "128  HTMCP-03-06-02040    KLF12   3.5184  integrated"
      ]
     },
     "execution_count": 14,
     "metadata": {},
     "output_type": "execute_result"
    }
   ],
   "source": [
    "df2[df2.integration=='integrated'][:2]\n",
    "# df2.fillna('WT', inplace=True)\n"
   ]
  },
  {
   "cell_type": "code",
   "execution_count": 13,
   "metadata": {},
   "outputs": [
    {
     "data": {
      "text/html": [
       "<div>\n",
       "<style scoped>\n",
       "    .dataframe tbody tr th:only-of-type {\n",
       "        vertical-align: middle;\n",
       "    }\n",
       "\n",
       "    .dataframe tbody tr th {\n",
       "        vertical-align: top;\n",
       "    }\n",
       "\n",
       "    .dataframe thead th {\n",
       "        text-align: right;\n",
       "    }\n",
       "</style>\n",
       "<table border=\"1\" class=\"dataframe\">\n",
       "  <thead>\n",
       "    <tr style=\"text-align: right;\">\n",
       "      <th></th>\n",
       "      <th>patient</th>\n",
       "      <th>gene</th>\n",
       "      <th>rpkm</th>\n",
       "      <th>integration</th>\n",
       "    </tr>\n",
       "  </thead>\n",
       "  <tbody>\n",
       "    <tr>\n",
       "      <td>0</td>\n",
       "      <td>HTMCP-03-06-02001</td>\n",
       "      <td>ARFGAP3</td>\n",
       "      <td>19.5059</td>\n",
       "      <td>wt</td>\n",
       "    </tr>\n",
       "    <tr>\n",
       "      <td>1</td>\n",
       "      <td>HTMCP-03-06-02002</td>\n",
       "      <td>ARFGAP3</td>\n",
       "      <td>15.5748</td>\n",
       "      <td>integrated</td>\n",
       "    </tr>\n",
       "  </tbody>\n",
       "</table>\n",
       "</div>"
      ],
      "text/plain": [
       "             patient     gene     rpkm integration\n",
       "0  HTMCP-03-06-02001  ARFGAP3  19.5059          wt\n",
       "1  HTMCP-03-06-02002  ARFGAP3  15.5748  integrated"
      ]
     },
     "execution_count": 13,
     "metadata": {},
     "output_type": "execute_result"
    }
   ],
   "source": [
    "of = '/projects/trans_scratch/validations/workspace/szong/development/genomics_data_analysis/visualization/rpkms_long.csv'\n",
    "# df2.to_csv(of, index=False)\n",
    "df2 = pd.read_csv(of)\n",
    "df2.head(2)"
   ]
  },
  {
   "cell_type": "code",
   "execution_count": 14,
   "metadata": {
    "scrolled": true
   },
   "outputs": [
    {
     "data": {
      "application/vnd.jupyter.widget-view+json": {
       "model_id": "2c53ebd08b27441ab252dc811a302459",
       "version_major": 2,
       "version_minor": 0
      },
      "text/plain": [
       "interactive(children=(Dropdown(description='genes', options=('ARFGAP3', 'KLF12', 'LRP1B', 'MYC', 'NEGR1', 'NFK…"
      ]
     },
     "metadata": {},
     "output_type": "display_data"
    }
   ],
   "source": [
    "@interact\n",
    "def splot(genes=list(df2['gene'].unique())):\n",
    "    fig = plt.figure(figsize=(6, 8))\n",
    "    ax = fig.add_subplot(111)\n",
    "    ax.set_yscale('log')\n",
    "    dftmp = df2[df2.gene==genes]\n",
    "    sns.boxplot('gene', 'rpkm',  data=dftmp, color='yellow', fliersize=0, width=0.3)\n",
    "    sns.swarmplot('gene', 'rpkm', data=dftmp, hue='integration', palette=[\"#3D9970\",\"#FF4136\"])\n",
    "    sns.set_style(\"ticks\", {\"xtick.major.size\": 8, \"ytick.major.size\": 8})\n",
    "    ax.tick_params(labelsize=15)\n",
    "    ax.set(xlabel='', ylabel='RPKM')\n",
    "    \n",
    "    of = f'/projects/trans_scratch/validations/workspace/szong/Cervical/integration/{genes}_integration_expression_box_swarmplot.png'\n",
    "#     plt.savefig(of, dpi=200, bbox_inches='tight')\n",
    "    plt.show()"
   ]
  },
  {
   "cell_type": "code",
   "execution_count": 25,
   "metadata": {},
   "outputs": [
    {
     "data": {
      "text/plain": [
       "array([[1., 1., 1., 1., 1.]])"
      ]
     },
     "execution_count": 25,
     "metadata": {},
     "output_type": "execute_result"
    },
    {
     "data": {
      "text/plain": [
       "array([1., 1., 1., 1., 1.])"
      ]
     },
     "execution_count": 25,
     "metadata": {},
     "output_type": "execute_result"
    }
   ],
   "source": [
    "np.ones((1,5))\n",
    "np.squeeze(np.ones((1,5)), axis=0)"
   ]
  },
  {
   "cell_type": "code",
   "execution_count": 15,
   "metadata": {},
   "outputs": [
    {
     "data": {
      "image/png": "[encoded data removed]",
      "text/plain": [
       "<Figure size 720x72 with 1 Axes>"
      ]
     },
     "metadata": {},
     "output_type": "display_data"
    }
   ],
   "source": [
    "# default 10 plotly colors \n",
    "clrs = [\n",
    "'#1f77b4',  # muted blue\n",
    "'#ff7f0e',  # safety orange\n",
    "'#2ca02c',  # cooked asparagus green\n",
    "'#d62728',  # brick red\n",
    "'#9467bd',  # muted purple\n",
    "'#8c564b',  # chestnut brown\n",
    "'#e377c2',  # raspberry yogurt pink\n",
    "'#7f7f7f',  # middle gray\n",
    "'#bcbd22',  # curry yellow-green\n",
    "'#17becf'   # blue-teal\n",
    "]\n",
    "sns.palplot(clrs)"
   ]
  },
  {
   "cell_type": "code",
   "execution_count": 16,
   "metadata": {},
   "outputs": [
    {
     "data": {
      "image/png": "[encoded data removed]",
      "text/plain": [
       "<Figure size 432x72 with 1 Axes>"
      ]
     },
     "metadata": {},
     "output_type": "display_data"
    }
   ],
   "source": [
    "# colors = [rgba(93, 164, 214, 0.5), rgba(255, 144, 14, 0.5), rgba(44, 160, 101, 0.5), rgba(255, 65, 54, 0.5), rgba(207, 114, 255, 0.5), rgba(127, 96, 0, 0.5)]\n",
    "colors = ['#CF72FF','#FF4136','#2CA065','#7F6000','#FF900E','#5DA4D6']\n",
    "sns.palplot(colors)"
   ]
  },
  {
   "cell_type": "code",
   "execution_count": 27,
   "metadata": {},
   "outputs": [
    {
     "data": {
      "application/vnd.plotly.v1+json": {
       "config": {
        "linkText": "Export to plot.ly",
        "plotlyServerURL": "https://plot.ly",
        "showLink": false
       },
       "data": [
        {
         "boxpoints": "all",
         "jitter": 0.25,
         "name": "ARFGAP3",
         "pointpos": 0,
         "text": [
          "HTMCP-03-06-02001",
          "HTMCP-03-06-02002",
          "HTMCP-03-06-02003",
          "HTMCP-03-06-02006",
          "HTMCP-03-06-02008",
          "HTMCP-03-06-02012",
          "HTMCP-03-06-02013",
          "HTMCP-03-06-02020",
          "HTMCP-03-06-02036",
          "HTMCP-03-06-02037",
          "HTMCP-03-06-02040",
          "HTMCP-03-06-02042",
          "HTMCP-03-06-02046",
          "HTMCP-03-06-02047",
          "HTMCP-03-06-02054",
          "HTMCP-03-06-02057",
          "HTMCP-03-06-02058",
          "HTMCP-03-06-02063",
          "HTMCP-03-06-02068",
          "HTMCP-03-06-02070",
          "HTMCP-03-06-02071",
          "HTMCP-03-06-02074",
          "HTMCP-03-06-02075",
          "HTMCP-03-06-02076",
          "HTMCP-03-06-02089",
          "HTMCP-03-06-02092",
          "HTMCP-03-06-02097",
          "HTMCP-03-06-02098",
          "HTMCP-03-06-02099",
          "HTMCP-03-06-02103",
          "HTMCP-03-06-02108",
          "HTMCP-03-06-02109",
          "HTMCP-03-06-02110",
          "HTMCP-03-06-02113",
          "HTMCP-03-06-02120",
          "HTMCP-03-06-02125",
          "HTMCP-03-06-02128",
          "HTMCP-03-06-02139",
          "HTMCP-03-06-02144",
          "HTMCP-03-06-02145",
          "HTMCP-03-06-02147",
          "HTMCP-03-06-02148",
          "HTMCP-03-06-02149",
          "HTMCP-03-06-02150",
          "HTMCP-03-06-02151",
          "HTMCP-03-06-02152",
          "HTMCP-03-06-02155",
          "HTMCP-03-06-02156",
          "HTMCP-03-06-02170",
          "HTMCP-03-06-02174",
          "HTMCP-03-06-02175",
          "HTMCP-03-06-02176",
          "HTMCP-03-06-02179",
          "HTMCP-03-06-02180",
          "HTMCP-03-06-02182",
          "HTMCP-03-06-02185",
          "HTMCP-03-06-02194",
          "HTMCP-03-06-02195",
          "HTMCP-03-06-02196",
          "HTMCP-03-06-02197",
          "HTMCP-03-06-02202",
          "HTMCP-03-06-02203",
          "HTMCP-03-06-02204",
          "HTMCP-03-06-02205",
          "HTMCP-03-06-02209",
          "HTMCP-03-06-02210",
          "HTMCP-03-06-02213",
          "HTMCP-03-06-02214",
          "HTMCP-03-06-02215",
          "HTMCP-03-06-02216",
          "HTMCP-03-06-02217",
          "HTMCP-03-06-02219",
          "HTMCP-03-06-02222",
          "HTMCP-03-06-02225",
          "HTMCP-03-06-02230",
          "HTMCP-03-06-02235",
          "HTMCP-03-06-02238",
          "HTMCP-03-06-02239",
          "HTMCP-03-06-02240",
          "HTMCP-03-06-02242",
          "HTMCP-03-06-02256",
          "HTMCP-03-06-02259",
          "HTMCP-03-06-02260",
          "HTMCP-03-06-02261",
          "HTMCP-03-06-02262",
          "HTMCP-03-06-02264",
          "HTMCP-03-06-02266",
          "HTMCP-03-06-02267",
          "HTMCP-03-06-02268",
          "HTMCP-03-06-02320",
          "HTMCP-03-06-02322",
          "HTMCP-03-06-02326",
          "HTMCP-03-06-02328",
          "HTMCP-03-06-02330",
          "HTMCP-03-06-02332",
          "HTMCP-03-06-02333",
          "HTMCP-03-06-02335",
          "HTMCP-03-06-02340",
          "HTMCP-03-06-02341",
          "HTMCP-03-06-02344",
          "HTMCP-03-06-02346",
          "HTMCP-03-06-02354",
          "HTMCP-03-06-02377",
          "HTMCP-03-06-02392",
          "HTMCP-03-06-02393",
          "HTMCP-03-06-02396",
          "HTMCP-03-06-02411",
          "HTMCP-03-06-02414",
          "HTMCP-03-06-02417",
          "HTMCP-03-06-02424",
          "HTMCP-03-06-02427",
          "HTMCP-03-06-02428",
          "HTMCP-03-06-02434",
          "HTMCP-03-06-02435",
          "HTMCP-03-06-02437",
          "HTMCP-03-06-02441",
          "HTMCP-03-06-02442",
          "HTMCP-03-06-02447"
         ],
         "type": "box",
         "y": [
          19.5059,
          15.5748,
          21.6183,
          17.1843,
          26.5971,
          13.2131,
          14.0877,
          12.8769,
          22.2785,
          24.7854,
          12.104,
          19.7328,
          17.7452,
          21.6641,
          16.1032,
          19.2488,
          36.0462,
          18.4969,
          19.8834,
          24.0088,
          15.1194,
          31.7231,
          20.8297,
          22.0327,
          10.1283,
          19.6615,
          18.379,
          15.4283,
          18.7252,
          17.9091,
          17.6029,
          35.2331,
          16.4704,
          16.3221,
          21.6024,
          15.5069,
          32.6614,
          27.8638,
          15.9682,
          30.805,
          15.3308,
          15.3727,
          14.7439,
          28.3816,
          14.0054,
          22.3675,
          14.0913,
          32.3362,
          11.1739,
          16.605999999999998,
          21.3193,
          10.9654,
          16.6646,
          17.1306,
          19.4373,
          12.6469,
          14.6714,
          5.3931,
          14.4291,
          12.5065,
          12.6512,
          31.3506,
          16.7737,
          3.4074,
          11.6414,
          9.3893,
          15.403,
          16.7467,
          18.6571,
          27.8168,
          40.4361,
          17.61,
          24.308000000000003,
          18.683,
          12.5934,
          19.8975,
          11.5772,
          21.3061,
          26.859,
          13.7047,
          18.0855,
          10.0958,
          12.914,
          15.4547,
          24.2848,
          12.7857,
          15.1587,
          18.3178,
          12.1402,
          14.7435,
          19.6877,
          16.1631,
          17.1913,
          21.5425,
          18.5949,
          17.9155,
          14.4259,
          18.486,
          27.3494,
          24.6971,
          14.5506,
          13.8278,
          13.5218,
          19.197,
          7.9084,
          18.3014,
          17.8962,
          15.9041,
          22.0913,
          8.3433,
          9.3243,
          13.4054,
          14.6142,
          20.4705,
          14.5659,
          26.124,
          30.1819,
          17.8885
         ]
        },
        {
         "boxpoints": "all",
         "jitter": 0.25,
         "name": "KLF12",
         "pointpos": 0,
         "text": [
          "HTMCP-03-06-02001",
          "HTMCP-03-06-02002",
          "HTMCP-03-06-02003",
          "HTMCP-03-06-02006",
          "HTMCP-03-06-02008",
          "HTMCP-03-06-02012",
          "HTMCP-03-06-02013",
          "HTMCP-03-06-02020",
          "HTMCP-03-06-02036",
          "HTMCP-03-06-02037",
          "HTMCP-03-06-02040",
          "HTMCP-03-06-02042",
          "HTMCP-03-06-02046",
          "HTMCP-03-06-02047",
          "HTMCP-03-06-02054",
          "HTMCP-03-06-02057",
          "HTMCP-03-06-02058",
          "HTMCP-03-06-02063",
          "HTMCP-03-06-02068",
          "HTMCP-03-06-02070",
          "HTMCP-03-06-02071",
          "HTMCP-03-06-02074",
          "HTMCP-03-06-02075",
          "HTMCP-03-06-02076",
          "HTMCP-03-06-02089",
          "HTMCP-03-06-02092",
          "HTMCP-03-06-02097",
          "HTMCP-03-06-02098",
          "HTMCP-03-06-02099",
          "HTMCP-03-06-02103",
          "HTMCP-03-06-02108",
          "HTMCP-03-06-02109",
          "HTMCP-03-06-02110",
          "HTMCP-03-06-02113",
          "HTMCP-03-06-02120",
          "HTMCP-03-06-02125",
          "HTMCP-03-06-02128",
          "HTMCP-03-06-02139",
          "HTMCP-03-06-02144",
          "HTMCP-03-06-02145",
          "HTMCP-03-06-02147",
          "HTMCP-03-06-02148",
          "HTMCP-03-06-02149",
          "HTMCP-03-06-02150",
          "HTMCP-03-06-02151",
          "HTMCP-03-06-02152",
          "HTMCP-03-06-02155",
          "HTMCP-03-06-02156",
          "HTMCP-03-06-02170",
          "HTMCP-03-06-02174",
          "HTMCP-03-06-02175",
          "HTMCP-03-06-02176",
          "HTMCP-03-06-02179",
          "HTMCP-03-06-02180",
          "HTMCP-03-06-02182",
          "HTMCP-03-06-02185",
          "HTMCP-03-06-02194",
          "HTMCP-03-06-02195",
          "HTMCP-03-06-02196",
          "HTMCP-03-06-02197",
          "HTMCP-03-06-02202",
          "HTMCP-03-06-02203",
          "HTMCP-03-06-02204",
          "HTMCP-03-06-02205",
          "HTMCP-03-06-02209",
          "HTMCP-03-06-02210",
          "HTMCP-03-06-02213",
          "HTMCP-03-06-02214",
          "HTMCP-03-06-02215",
          "HTMCP-03-06-02216",
          "HTMCP-03-06-02217",
          "HTMCP-03-06-02219",
          "HTMCP-03-06-02222",
          "HTMCP-03-06-02225",
          "HTMCP-03-06-02230",
          "HTMCP-03-06-02235",
          "HTMCP-03-06-02238",
          "HTMCP-03-06-02239",
          "HTMCP-03-06-02240",
          "HTMCP-03-06-02242",
          "HTMCP-03-06-02256",
          "HTMCP-03-06-02259",
          "HTMCP-03-06-02260",
          "HTMCP-03-06-02261",
          "HTMCP-03-06-02262",
          "HTMCP-03-06-02264",
          "HTMCP-03-06-02266",
          "HTMCP-03-06-02267",
          "HTMCP-03-06-02268",
          "HTMCP-03-06-02320",
          "HTMCP-03-06-02322",
          "HTMCP-03-06-02326",
          "HTMCP-03-06-02328",
          "HTMCP-03-06-02330",
          "HTMCP-03-06-02332",
          "HTMCP-03-06-02333",
          "HTMCP-03-06-02335",
          "HTMCP-03-06-02340",
          "HTMCP-03-06-02341",
          "HTMCP-03-06-02344",
          "HTMCP-03-06-02346",
          "HTMCP-03-06-02354",
          "HTMCP-03-06-02377",
          "HTMCP-03-06-02392",
          "HTMCP-03-06-02393",
          "HTMCP-03-06-02396",
          "HTMCP-03-06-02411",
          "HTMCP-03-06-02414",
          "HTMCP-03-06-02417",
          "HTMCP-03-06-02424",
          "HTMCP-03-06-02427",
          "HTMCP-03-06-02428",
          "HTMCP-03-06-02434",
          "HTMCP-03-06-02435",
          "HTMCP-03-06-02437",
          "HTMCP-03-06-02441",
          "HTMCP-03-06-02442",
          "HTMCP-03-06-02447"
         ],
         "type": "box",
         "y": [
          1.2406,
          0.3155,
          1.1211,
          2.0507,
          4.4694,
          0.8428,
          2.1703,
          1.2186,
          1.1959,
          2.1777,
          3.5184,
          1.6944,
          2.033,
          165.9154,
          1.7648,
          0.5788,
          1.5511,
          1.3959,
          0.4591,
          1.7436,
          1.9656,
          1.5019999999999998,
          0.3714,
          0.1986,
          0.2344,
          2.7071,
          2.4676,
          1.9251,
          2.9047,
          2.0877,
          1.4955,
          3.3233,
          2.176,
          1.923,
          1.0323,
          0.5202,
          0.7728,
          1.1201,
          0.3067,
          0.8876,
          0.6692,
          0.5113,
          0.6861,
          1.7021,
          0.767,
          3.1216,
          2.4847,
          1.3275,
          0.8314,
          1.0005,
          3.4495,
          0.5309,
          4.8323,
          2.4753,
          4.4821,
          1.6636,
          1.5071,
          0.5251,
          0.5566,
          0.9813,
          0.9144,
          0.8064,
          2.6414,
          0.106,
          0.5579999999999999,
          0.6269,
          1.5325,
          0.3203,
          1.4822,
          1.4467,
          1.8385,
          1.4648,
          0.7854,
          0.8220000000000001,
          3.0805,
          2.8781,
          0.9344,
          0.9452,
          2.7246,
          1.5378,
          0.4794,
          1.0475,
          0.4252,
          1.2243,
          1.5131,
          0.182,
          2.9455,
          1.9705,
          0.8,
          0.7735,
          1.3541,
          1.1455,
          0.5834,
          0.4349,
          2.7507,
          0.3773,
          1.2036,
          1.0537,
          2.0052,
          2.18,
          2.7336,
          0.588,
          0.8385,
          1.2377,
          0.4615,
          0.76,
          1.5443,
          3.4199,
          1.3124,
          0.8462,
          0.0539,
          1.8554,
          0.8487,
          0.5909,
          1.4761,
          4.5691,
          0.4326,
          1.0611
         ]
        },
        {
         "boxpoints": "all",
         "jitter": 0.25,
         "name": "LRP1B",
         "pointpos": 0,
         "text": [
          "HTMCP-03-06-02001",
          "HTMCP-03-06-02002",
          "HTMCP-03-06-02003",
          "HTMCP-03-06-02006",
          "HTMCP-03-06-02008",
          "HTMCP-03-06-02012",
          "HTMCP-03-06-02013",
          "HTMCP-03-06-02020",
          "HTMCP-03-06-02036",
          "HTMCP-03-06-02037",
          "HTMCP-03-06-02040",
          "HTMCP-03-06-02042",
          "HTMCP-03-06-02046",
          "HTMCP-03-06-02047",
          "HTMCP-03-06-02054",
          "HTMCP-03-06-02057",
          "HTMCP-03-06-02058",
          "HTMCP-03-06-02063",
          "HTMCP-03-06-02068",
          "HTMCP-03-06-02070",
          "HTMCP-03-06-02071",
          "HTMCP-03-06-02074",
          "HTMCP-03-06-02075",
          "HTMCP-03-06-02076",
          "HTMCP-03-06-02089",
          "HTMCP-03-06-02092",
          "HTMCP-03-06-02097",
          "HTMCP-03-06-02098",
          "HTMCP-03-06-02099",
          "HTMCP-03-06-02103",
          "HTMCP-03-06-02108",
          "HTMCP-03-06-02109",
          "HTMCP-03-06-02110",
          "HTMCP-03-06-02113",
          "HTMCP-03-06-02120",
          "HTMCP-03-06-02125",
          "HTMCP-03-06-02128",
          "HTMCP-03-06-02139",
          "HTMCP-03-06-02144",
          "HTMCP-03-06-02145",
          "HTMCP-03-06-02147",
          "HTMCP-03-06-02148",
          "HTMCP-03-06-02149",
          "HTMCP-03-06-02150",
          "HTMCP-03-06-02151",
          "HTMCP-03-06-02152",
          "HTMCP-03-06-02155",
          "HTMCP-03-06-02156",
          "HTMCP-03-06-02170",
          "HTMCP-03-06-02174",
          "HTMCP-03-06-02175",
          "HTMCP-03-06-02176",
          "HTMCP-03-06-02179",
          "HTMCP-03-06-02180",
          "HTMCP-03-06-02182",
          "HTMCP-03-06-02185",
          "HTMCP-03-06-02194",
          "HTMCP-03-06-02195",
          "HTMCP-03-06-02196",
          "HTMCP-03-06-02197",
          "HTMCP-03-06-02202",
          "HTMCP-03-06-02203",
          "HTMCP-03-06-02204",
          "HTMCP-03-06-02205",
          "HTMCP-03-06-02209",
          "HTMCP-03-06-02210",
          "HTMCP-03-06-02213",
          "HTMCP-03-06-02214",
          "HTMCP-03-06-02215",
          "HTMCP-03-06-02216",
          "HTMCP-03-06-02217",
          "HTMCP-03-06-02219",
          "HTMCP-03-06-02222",
          "HTMCP-03-06-02225",
          "HTMCP-03-06-02230",
          "HTMCP-03-06-02235",
          "HTMCP-03-06-02238",
          "HTMCP-03-06-02239",
          "HTMCP-03-06-02240",
          "HTMCP-03-06-02242",
          "HTMCP-03-06-02256",
          "HTMCP-03-06-02259",
          "HTMCP-03-06-02260",
          "HTMCP-03-06-02261",
          "HTMCP-03-06-02262",
          "HTMCP-03-06-02264",
          "HTMCP-03-06-02266",
          "HTMCP-03-06-02267",
          "HTMCP-03-06-02268",
          "HTMCP-03-06-02320",
          "HTMCP-03-06-02322",
          "HTMCP-03-06-02326",
          "HTMCP-03-06-02328",
          "HTMCP-03-06-02330",
          "HTMCP-03-06-02332",
          "HTMCP-03-06-02333",
          "HTMCP-03-06-02335",
          "HTMCP-03-06-02340",
          "HTMCP-03-06-02341",
          "HTMCP-03-06-02344",
          "HTMCP-03-06-02346",
          "HTMCP-03-06-02354",
          "HTMCP-03-06-02377",
          "HTMCP-03-06-02392",
          "HTMCP-03-06-02393",
          "HTMCP-03-06-02396",
          "HTMCP-03-06-02411",
          "HTMCP-03-06-02414",
          "HTMCP-03-06-02417",
          "HTMCP-03-06-02424",
          "HTMCP-03-06-02427",
          "HTMCP-03-06-02428",
          "HTMCP-03-06-02434",
          "HTMCP-03-06-02435",
          "HTMCP-03-06-02437",
          "HTMCP-03-06-02441",
          "HTMCP-03-06-02442",
          "HTMCP-03-06-02447"
         ],
         "type": "box",
         "y": [
          0.0591,
          0.0177,
          0.0042,
          0.0274,
          0,
          0.0125,
          0.0012,
          0.0042,
          0.0065,
          0.0584,
          0.0078,
          0.0106,
          0.0041,
          0.0064,
          0.0003,
          0.0109,
          0,
          0.1962,
          0,
          0.0826,
          0.0035,
          0.0072,
          0.0018,
          0.0011,
          0,
          0.0081,
          0.0332,
          0.3299,
          0.0451,
          0.1403,
          0.001,
          0.0025,
          0.0325,
          0.0082,
          0,
          0.0011,
          0.0005,
          0.0021,
          0,
          0,
          0.0017,
          0.0536,
          0.0009,
          0.0024,
          0.1105,
          0.0125,
          0.0013,
          0.0007,
          0.0307,
          0,
          0,
          0.0077,
          0.0086,
          0.2247,
          0.1168,
          0.0026,
          0,
          0.0048,
          0,
          0.0026,
          0.0035,
          0.0007,
          0.0047,
          0.0023,
          0,
          0.0041,
          0.0291,
          0.001,
          0.0008,
          0,
          0.0134,
          0.0021,
          0.0012,
          0.0613,
          0.0088,
          0,
          0.0731,
          0.035,
          0.0236,
          0.0089,
          0.0114,
          0,
          0.0058,
          0.0088,
          0.0178,
          0,
          0.0427,
          0.0018,
          0.006,
          0.0021,
          0,
          0,
          0.001,
          0.0028,
          0.3295,
          0.0123,
          0.0244,
          0.0009,
          0.0131,
          0.0061,
          0.0187,
          0.0163,
          0.0009,
          0,
          0,
          0.0062,
          0.009000000000000001,
          0,
          0.1847,
          0.0111,
          0.0032,
          0.0095,
          0.0263,
          0,
          0.0026,
          0.003,
          0.003,
          0
         ]
        },
        {
         "boxpoints": "all",
         "jitter": 0.25,
         "name": "MYC",
         "pointpos": 0,
         "text": [
          "HTMCP-03-06-02001",
          "HTMCP-03-06-02002",
          "HTMCP-03-06-02003",
          "HTMCP-03-06-02006",
          "HTMCP-03-06-02008",
          "HTMCP-03-06-02012",
          "HTMCP-03-06-02013",
          "HTMCP-03-06-02020",
          "HTMCP-03-06-02036",
          "HTMCP-03-06-02037",
          "HTMCP-03-06-02040",
          "HTMCP-03-06-02042",
          "HTMCP-03-06-02046",
          "HTMCP-03-06-02047",
          "HTMCP-03-06-02054",
          "HTMCP-03-06-02057",
          "HTMCP-03-06-02058",
          "HTMCP-03-06-02063",
          "HTMCP-03-06-02068",
          "HTMCP-03-06-02070",
          "HTMCP-03-06-02071",
          "HTMCP-03-06-02074",
          "HTMCP-03-06-02075",
          "HTMCP-03-06-02076",
          "HTMCP-03-06-02089",
          "HTMCP-03-06-02092",
          "HTMCP-03-06-02097",
          "HTMCP-03-06-02098",
          "HTMCP-03-06-02099",
          "HTMCP-03-06-02103",
          "HTMCP-03-06-02108",
          "HTMCP-03-06-02109",
          "HTMCP-03-06-02110",
          "HTMCP-03-06-02113",
          "HTMCP-03-06-02120",
          "HTMCP-03-06-02125",
          "HTMCP-03-06-02128",
          "HTMCP-03-06-02139",
          "HTMCP-03-06-02144",
          "HTMCP-03-06-02145",
          "HTMCP-03-06-02147",
          "HTMCP-03-06-02148",
          "HTMCP-03-06-02149",
          "HTMCP-03-06-02150",
          "HTMCP-03-06-02151",
          "HTMCP-03-06-02152",
          "HTMCP-03-06-02155",
          "HTMCP-03-06-02156",
          "HTMCP-03-06-02170",
          "HTMCP-03-06-02174",
          "HTMCP-03-06-02175",
          "HTMCP-03-06-02176",
          "HTMCP-03-06-02179",
          "HTMCP-03-06-02180",
          "HTMCP-03-06-02182",
          "HTMCP-03-06-02185",
          "HTMCP-03-06-02194",
          "HTMCP-03-06-02195",
          "HTMCP-03-06-02196",
          "HTMCP-03-06-02197",
          "HTMCP-03-06-02202",
          "HTMCP-03-06-02203",
          "HTMCP-03-06-02204",
          "HTMCP-03-06-02205",
          "HTMCP-03-06-02209",
          "HTMCP-03-06-02210",
          "HTMCP-03-06-02213",
          "HTMCP-03-06-02214",
          "HTMCP-03-06-02215",
          "HTMCP-03-06-02216",
          "HTMCP-03-06-02217",
          "HTMCP-03-06-02219",
          "HTMCP-03-06-02222",
          "HTMCP-03-06-02225",
          "HTMCP-03-06-02230",
          "HTMCP-03-06-02235",
          "HTMCP-03-06-02238",
          "HTMCP-03-06-02239",
          "HTMCP-03-06-02240",
          "HTMCP-03-06-02242",
          "HTMCP-03-06-02256",
          "HTMCP-03-06-02259",
          "HTMCP-03-06-02260",
          "HTMCP-03-06-02261",
          "HTMCP-03-06-02262",
          "HTMCP-03-06-02264",
          "HTMCP-03-06-02266",
          "HTMCP-03-06-02267",
          "HTMCP-03-06-02268",
          "HTMCP-03-06-02320",
          "HTMCP-03-06-02322",
          "HTMCP-03-06-02326",
          "HTMCP-03-06-02328",
          "HTMCP-03-06-02330",
          "HTMCP-03-06-02332",
          "HTMCP-03-06-02333",
          "HTMCP-03-06-02335",
          "HTMCP-03-06-02340",
          "HTMCP-03-06-02341",
          "HTMCP-03-06-02344",
          "HTMCP-03-06-02346",
          "HTMCP-03-06-02354",
          "HTMCP-03-06-02377",
          "HTMCP-03-06-02392",
          "HTMCP-03-06-02393",
          "HTMCP-03-06-02396",
          "HTMCP-03-06-02411",
          "HTMCP-03-06-02414",
          "HTMCP-03-06-02417",
          "HTMCP-03-06-02424",
          "HTMCP-03-06-02427",
          "HTMCP-03-06-02428",
          "HTMCP-03-06-02434",
          "HTMCP-03-06-02435",
          "HTMCP-03-06-02437",
          "HTMCP-03-06-02441",
          "HTMCP-03-06-02442",
          "HTMCP-03-06-02447"
         ],
         "type": "box",
         "y": [
          44.4223,
          47.1335,
          80.766,
          25.2229,
          61.402,
          46.7803,
          70.4637,
          83.4918,
          47.8707,
          60.8798,
          59.6889,
          54.6406,
          21.4314,
          18.2467,
          81.2491,
          46.2847,
          64.2076,
          21.065,
          20.9111,
          36.4102,
          99.988,
          30.0456,
          2.2565,
          58.6825,
          54.6016,
          22.7976,
          85.1239,
          55.4429,
          42.6026,
          55.2636,
          111.6664,
          64.1355,
          105.0579,
          14.3185,
          36.0927,
          116.05,
          81.5787,
          5.6918,
          80.2916,
          36.8536,
          48.5411,
          29.2598,
          125.753,
          1.7669,
          29.785,
          27.9559,
          58.4993,
          34.3671,
          83.4261,
          70.3186,
          37.2017,
          66.1345,
          28.3869,
          109.1748,
          14.0036,
          55.3963,
          92.2698,
          61.4618,
          94.3913,
          132.989,
          56.3509,
          1.682,
          17.69,
          36.8903,
          29.9278,
          29.9808,
          54.7158,
          18.9972,
          35.9064,
          89.705,
          63.0926,
          14.4413,
          21.1442,
          22.4222,
          42.2796,
          4.9673,
          27.4793,
          57.2239,
          70.8113,
          74.1078,
          49.0658,
          113.9352,
          39.8292,
          80.1003,
          50.9809,
          107.8754,
          38.76300000000001,
          160.5809,
          53.2214,
          60.0899,
          37.9248,
          12.2405,
          22.6446,
          91.481,
          55.2053,
          26.9003,
          26.594,
          52.5018,
          8.8408,
          45.2681,
          45.121,
          118.1305,
          87.6108,
          28.6501,
          84.37200000000001,
          1.962,
          187.279,
          14.9728,
          33.2341,
          44.7186,
          56.4884,
          69.4016,
          96.296,
          85.0967,
          40.5085,
          40.3458,
          19.1921,
          38.1877
         ]
        },
        {
         "boxpoints": "all",
         "jitter": 0.25,
         "name": "NEGR1",
         "pointpos": 0,
         "text": [
          "HTMCP-03-06-02001",
          "HTMCP-03-06-02002",
          "HTMCP-03-06-02003",
          "HTMCP-03-06-02006",
          "HTMCP-03-06-02008",
          "HTMCP-03-06-02012",
          "HTMCP-03-06-02013",
          "HTMCP-03-06-02020",
          "HTMCP-03-06-02036",
          "HTMCP-03-06-02037",
          "HTMCP-03-06-02040",
          "HTMCP-03-06-02042",
          "HTMCP-03-06-02046",
          "HTMCP-03-06-02047",
          "HTMCP-03-06-02054",
          "HTMCP-03-06-02057",
          "HTMCP-03-06-02058",
          "HTMCP-03-06-02063",
          "HTMCP-03-06-02068",
          "HTMCP-03-06-02070",
          "HTMCP-03-06-02071",
          "HTMCP-03-06-02074",
          "HTMCP-03-06-02075",
          "HTMCP-03-06-02076",
          "HTMCP-03-06-02089",
          "HTMCP-03-06-02092",
          "HTMCP-03-06-02097",
          "HTMCP-03-06-02098",
          "HTMCP-03-06-02099",
          "HTMCP-03-06-02103",
          "HTMCP-03-06-02108",
          "HTMCP-03-06-02109",
          "HTMCP-03-06-02110",
          "HTMCP-03-06-02113",
          "HTMCP-03-06-02120",
          "HTMCP-03-06-02125",
          "HTMCP-03-06-02128",
          "HTMCP-03-06-02139",
          "HTMCP-03-06-02144",
          "HTMCP-03-06-02145",
          "HTMCP-03-06-02147",
          "HTMCP-03-06-02148",
          "HTMCP-03-06-02149",
          "HTMCP-03-06-02150",
          "HTMCP-03-06-02151",
          "HTMCP-03-06-02152",
          "HTMCP-03-06-02155",
          "HTMCP-03-06-02156",
          "HTMCP-03-06-02170",
          "HTMCP-03-06-02174",
          "HTMCP-03-06-02175",
          "HTMCP-03-06-02176",
          "HTMCP-03-06-02179",
          "HTMCP-03-06-02180",
          "HTMCP-03-06-02182",
          "HTMCP-03-06-02185",
          "HTMCP-03-06-02194",
          "HTMCP-03-06-02195",
          "HTMCP-03-06-02196",
          "HTMCP-03-06-02197",
          "HTMCP-03-06-02202",
          "HTMCP-03-06-02203",
          "HTMCP-03-06-02204",
          "HTMCP-03-06-02205",
          "HTMCP-03-06-02209",
          "HTMCP-03-06-02210",
          "HTMCP-03-06-02213",
          "HTMCP-03-06-02214",
          "HTMCP-03-06-02215",
          "HTMCP-03-06-02216",
          "HTMCP-03-06-02217",
          "HTMCP-03-06-02219",
          "HTMCP-03-06-02222",
          "HTMCP-03-06-02225",
          "HTMCP-03-06-02230",
          "HTMCP-03-06-02235",
          "HTMCP-03-06-02238",
          "HTMCP-03-06-02239",
          "HTMCP-03-06-02240",
          "HTMCP-03-06-02242",
          "HTMCP-03-06-02256",
          "HTMCP-03-06-02259",
          "HTMCP-03-06-02260",
          "HTMCP-03-06-02261",
          "HTMCP-03-06-02262",
          "HTMCP-03-06-02264",
          "HTMCP-03-06-02266",
          "HTMCP-03-06-02267",
          "HTMCP-03-06-02268",
          "HTMCP-03-06-02320",
          "HTMCP-03-06-02322",
          "HTMCP-03-06-02326",
          "HTMCP-03-06-02328",
          "HTMCP-03-06-02330",
          "HTMCP-03-06-02332",
          "HTMCP-03-06-02333",
          "HTMCP-03-06-02335",
          "HTMCP-03-06-02340",
          "HTMCP-03-06-02341",
          "HTMCP-03-06-02344",
          "HTMCP-03-06-02346",
          "HTMCP-03-06-02354",
          "HTMCP-03-06-02377",
          "HTMCP-03-06-02392",
          "HTMCP-03-06-02393",
          "HTMCP-03-06-02396",
          "HTMCP-03-06-02411",
          "HTMCP-03-06-02414",
          "HTMCP-03-06-02417",
          "HTMCP-03-06-02424",
          "HTMCP-03-06-02427",
          "HTMCP-03-06-02428",
          "HTMCP-03-06-02434",
          "HTMCP-03-06-02435",
          "HTMCP-03-06-02437",
          "HTMCP-03-06-02441",
          "HTMCP-03-06-02442",
          "HTMCP-03-06-02447"
         ],
         "type": "box",
         "y": [
          0.151,
          0.0664,
          0.4958,
          0.5199,
          0.9301,
          0.7337,
          0.1497,
          0.7084,
          0.2194,
          0.0667,
          0.3146,
          0.2325,
          0.8254,
          0.2253,
          0.2024,
          0.0205,
          0.0599,
          0.3643,
          0.247,
          0.3357,
          0.1812,
          0.2411,
          0.7266,
          0.0484,
          0.106,
          0.821,
          1.0142,
          0.1829,
          1.3292,
          1.1397,
          0.1833,
          0.9781,
          0.3662,
          1.0609,
          0.1124,
          0.0469,
          0.2122,
          0.1976,
          0.0472,
          0.1073,
          0.0257,
          0.0025,
          0.6459,
          0.1529,
          0.2346,
          1.8567,
          0.6949,
          0.365,
          0.436,
          0.2041,
          0.7097,
          0.1189,
          1.1758,
          0.1814,
          0.2361,
          11.8954,
          0.1591,
          0.1214,
          0.17,
          0.2707,
          0.1425,
          1.3418,
          2.4855,
          0.0031,
          0.0361,
          0.3277,
          0.4512,
          0.1922,
          0.4389,
          3.8504,
          0.1889,
          0.5820000000000001,
          0.1204,
          0.2222,
          0.4469,
          0.2163,
          0.5445,
          0.3497,
          0.3429,
          0.0598,
          0.1651,
          0.2251,
          0.0745,
          3.4897,
          0.1187,
          0.0333,
          0.4565,
          1.9182,
          0.5269,
          2.7985,
          2.0767,
          0.1983,
          0.3019,
          52.4485,
          0.3673,
          0.1312,
          0.5491,
          0.7164,
          1.1361,
          0.2242,
          1.866,
          0.1131,
          2.1304,
          0.1379,
          0.0544,
          0.33,
          0.1701,
          0.0874,
          0.3148,
          0.0343,
          0.1598,
          0.3997,
          0.4448,
          0.0326,
          0.3123,
          0.214,
          0.2354,
          0.8915
         ]
        },
        {
         "boxpoints": "all",
         "jitter": 0.25,
         "name": "NFKB1",
         "pointpos": 0,
         "text": [
          "HTMCP-03-06-02001",
          "HTMCP-03-06-02002",
          "HTMCP-03-06-02003",
          "HTMCP-03-06-02006",
          "HTMCP-03-06-02008",
          "HTMCP-03-06-02012",
          "HTMCP-03-06-02013",
          "HTMCP-03-06-02020",
          "HTMCP-03-06-02036",
          "HTMCP-03-06-02037",
          "HTMCP-03-06-02040",
          "HTMCP-03-06-02042",
          "HTMCP-03-06-02046",
          "HTMCP-03-06-02047",
          "HTMCP-03-06-02054",
          "HTMCP-03-06-02057",
          "HTMCP-03-06-02058",
          "HTMCP-03-06-02063",
          "HTMCP-03-06-02068",
          "HTMCP-03-06-02070",
          "HTMCP-03-06-02071",
          "HTMCP-03-06-02074",
          "HTMCP-03-06-02075",
          "HTMCP-03-06-02076",
          "HTMCP-03-06-02089",
          "HTMCP-03-06-02092",
          "HTMCP-03-06-02097",
          "HTMCP-03-06-02098",
          "HTMCP-03-06-02099",
          "HTMCP-03-06-02103",
          "HTMCP-03-06-02108",
          "HTMCP-03-06-02109",
          "HTMCP-03-06-02110",
          "HTMCP-03-06-02113",
          "HTMCP-03-06-02120",
          "HTMCP-03-06-02125",
          "HTMCP-03-06-02128",
          "HTMCP-03-06-02139",
          "HTMCP-03-06-02144",
          "HTMCP-03-06-02145",
          "HTMCP-03-06-02147",
          "HTMCP-03-06-02148",
          "HTMCP-03-06-02149",
          "HTMCP-03-06-02150",
          "HTMCP-03-06-02151",
          "HTMCP-03-06-02152",
          "HTMCP-03-06-02155",
          "HTMCP-03-06-02156",
          "HTMCP-03-06-02170",
          "HTMCP-03-06-02174",
          "HTMCP-03-06-02175",
          "HTMCP-03-06-02176",
          "HTMCP-03-06-02179",
          "HTMCP-03-06-02180",
          "HTMCP-03-06-02182",
          "HTMCP-03-06-02185",
          "HTMCP-03-06-02194",
          "HTMCP-03-06-02195",
          "HTMCP-03-06-02196",
          "HTMCP-03-06-02197",
          "HTMCP-03-06-02202",
          "HTMCP-03-06-02203",
          "HTMCP-03-06-02204",
          "HTMCP-03-06-02205",
          "HTMCP-03-06-02209",
          "HTMCP-03-06-02210",
          "HTMCP-03-06-02213",
          "HTMCP-03-06-02214",
          "HTMCP-03-06-02215",
          "HTMCP-03-06-02216",
          "HTMCP-03-06-02217",
          "HTMCP-03-06-02219",
          "HTMCP-03-06-02222",
          "HTMCP-03-06-02225",
          "HTMCP-03-06-02230",
          "HTMCP-03-06-02235",
          "HTMCP-03-06-02238",
          "HTMCP-03-06-02239",
          "HTMCP-03-06-02240",
          "HTMCP-03-06-02242",
          "HTMCP-03-06-02256",
          "HTMCP-03-06-02259",
          "HTMCP-03-06-02260",
          "HTMCP-03-06-02261",
          "HTMCP-03-06-02262",
          "HTMCP-03-06-02264",
          "HTMCP-03-06-02266",
          "HTMCP-03-06-02267",
          "HTMCP-03-06-02268",
          "HTMCP-03-06-02320",
          "HTMCP-03-06-02322",
          "HTMCP-03-06-02326",
          "HTMCP-03-06-02328",
          "HTMCP-03-06-02330",
          "HTMCP-03-06-02332",
          "HTMCP-03-06-02333",
          "HTMCP-03-06-02335",
          "HTMCP-03-06-02340",
          "HTMCP-03-06-02341",
          "HTMCP-03-06-02344",
          "HTMCP-03-06-02346",
          "HTMCP-03-06-02354",
          "HTMCP-03-06-02377",
          "HTMCP-03-06-02392",
          "HTMCP-03-06-02393",
          "HTMCP-03-06-02396",
          "HTMCP-03-06-02411",
          "HTMCP-03-06-02414",
          "HTMCP-03-06-02417",
          "HTMCP-03-06-02424",
          "HTMCP-03-06-02427",
          "HTMCP-03-06-02428",
          "HTMCP-03-06-02434",
          "HTMCP-03-06-02435",
          "HTMCP-03-06-02437",
          "HTMCP-03-06-02441",
          "HTMCP-03-06-02442",
          "HTMCP-03-06-02447"
         ],
         "type": "box",
         "y": [
          28.2237,
          24.0621,
          17.0343,
          13.5955,
          16.2171,
          18.397,
          13.4999,
          21.2224,
          12.218,
          19.68,
          26.2583,
          27.6675,
          29.0421,
          6.3334,
          25.6101,
          16.6729,
          19.4434,
          18.7138,
          15.2578,
          18.2283,
          26.6899,
          16.2708,
          8.6915,
          27.2334,
          24.9808,
          20.2707,
          10.2437,
          13.8193,
          13.4672,
          12.0099,
          20.1275,
          12.6562,
          8.6084,
          19.7435,
          17.319000000000006,
          15.5375,
          10.8303,
          8.4289,
          17.9198,
          21.8732,
          18.5624,
          13.7395,
          12.628,
          20.6925,
          13.4859,
          19.0282,
          19.9682,
          6.766,
          20.2401,
          13.192,
          22.4176,
          16.8085,
          8.642000000000001,
          10.5252,
          8.2937,
          20.0927,
          16.3293,
          12.8189,
          36.0301,
          25.7642,
          13.3857,
          8.6315,
          19.5873,
          9.1895,
          22.2918,
          18.2304,
          20.4657,
          19.3432,
          22.4989,
          16.8446,
          28.9681,
          13.4487,
          10.9741,
          14.0941,
          8.3429,
          8.8427,
          20.9951,
          18.8597,
          13.2245,
          14.9272,
          31.1008,
          15.5027,
          45.3536,
          12.6066,
          21.9292,
          23.2066,
          18.4981,
          15.0554,
          16.1171,
          25.3278,
          19.3624,
          16.0973,
          18.5304,
          12.0033,
          17.2456,
          24.9588,
          24.0805,
          19.1381,
          14.9959,
          13.8579,
          21.3617,
          18.6654,
          19.1461,
          15.7555,
          19.3791,
          10.3067,
          16.0834,
          6.1846,
          24.9097,
          12.8734,
          9.9673,
          15.544,
          23.3367,
          13.447,
          11.743,
          13.6395,
          18.1081,
          18.0021
         ]
        },
        {
         "boxpoints": "all",
         "jitter": 0.25,
         "name": "NFKB2",
         "pointpos": 0,
         "text": [
          "HTMCP-03-06-02001",
          "HTMCP-03-06-02002",
          "HTMCP-03-06-02003",
          "HTMCP-03-06-02006",
          "HTMCP-03-06-02008",
          "HTMCP-03-06-02012",
          "HTMCP-03-06-02013",
          "HTMCP-03-06-02020",
          "HTMCP-03-06-02036",
          "HTMCP-03-06-02037",
          "HTMCP-03-06-02040",
          "HTMCP-03-06-02042",
          "HTMCP-03-06-02046",
          "HTMCP-03-06-02047",
          "HTMCP-03-06-02054",
          "HTMCP-03-06-02057",
          "HTMCP-03-06-02058",
          "HTMCP-03-06-02063",
          "HTMCP-03-06-02068",
          "HTMCP-03-06-02070",
          "HTMCP-03-06-02071",
          "HTMCP-03-06-02074",
          "HTMCP-03-06-02075",
          "HTMCP-03-06-02076",
          "HTMCP-03-06-02089",
          "HTMCP-03-06-02092",
          "HTMCP-03-06-02097",
          "HTMCP-03-06-02098",
          "HTMCP-03-06-02099",
          "HTMCP-03-06-02103",
          "HTMCP-03-06-02108",
          "HTMCP-03-06-02109",
          "HTMCP-03-06-02110",
          "HTMCP-03-06-02113",
          "HTMCP-03-06-02120",
          "HTMCP-03-06-02125",
          "HTMCP-03-06-02128",
          "HTMCP-03-06-02139",
          "HTMCP-03-06-02144",
          "HTMCP-03-06-02145",
          "HTMCP-03-06-02147",
          "HTMCP-03-06-02148",
          "HTMCP-03-06-02149",
          "HTMCP-03-06-02150",
          "HTMCP-03-06-02151",
          "HTMCP-03-06-02152",
          "HTMCP-03-06-02155",
          "HTMCP-03-06-02156",
          "HTMCP-03-06-02170",
          "HTMCP-03-06-02174",
          "HTMCP-03-06-02175",
          "HTMCP-03-06-02176",
          "HTMCP-03-06-02179",
          "HTMCP-03-06-02180",
          "HTMCP-03-06-02182",
          "HTMCP-03-06-02185",
          "HTMCP-03-06-02194",
          "HTMCP-03-06-02195",
          "HTMCP-03-06-02196",
          "HTMCP-03-06-02197",
          "HTMCP-03-06-02202",
          "HTMCP-03-06-02203",
          "HTMCP-03-06-02204",
          "HTMCP-03-06-02205",
          "HTMCP-03-06-02209",
          "HTMCP-03-06-02210",
          "HTMCP-03-06-02213",
          "HTMCP-03-06-02214",
          "HTMCP-03-06-02215",
          "HTMCP-03-06-02216",
          "HTMCP-03-06-02217",
          "HTMCP-03-06-02219",
          "HTMCP-03-06-02222",
          "HTMCP-03-06-02225",
          "HTMCP-03-06-02230",
          "HTMCP-03-06-02235",
          "HTMCP-03-06-02238",
          "HTMCP-03-06-02239",
          "HTMCP-03-06-02240",
          "HTMCP-03-06-02242",
          "HTMCP-03-06-02256",
          "HTMCP-03-06-02259",
          "HTMCP-03-06-02260",
          "HTMCP-03-06-02261",
          "HTMCP-03-06-02262",
          "HTMCP-03-06-02264",
          "HTMCP-03-06-02266",
          "HTMCP-03-06-02267",
          "HTMCP-03-06-02268",
          "HTMCP-03-06-02320",
          "HTMCP-03-06-02322",
          "HTMCP-03-06-02326",
          "HTMCP-03-06-02328",
          "HTMCP-03-06-02330",
          "HTMCP-03-06-02332",
          "HTMCP-03-06-02333",
          "HTMCP-03-06-02335",
          "HTMCP-03-06-02340",
          "HTMCP-03-06-02341",
          "HTMCP-03-06-02344",
          "HTMCP-03-06-02346",
          "HTMCP-03-06-02354",
          "HTMCP-03-06-02377",
          "HTMCP-03-06-02392",
          "HTMCP-03-06-02393",
          "HTMCP-03-06-02396",
          "HTMCP-03-06-02411",
          "HTMCP-03-06-02414",
          "HTMCP-03-06-02417",
          "HTMCP-03-06-02424",
          "HTMCP-03-06-02427",
          "HTMCP-03-06-02428",
          "HTMCP-03-06-02434",
          "HTMCP-03-06-02435",
          "HTMCP-03-06-02437",
          "HTMCP-03-06-02441",
          "HTMCP-03-06-02442",
          "HTMCP-03-06-02447"
         ],
         "type": "box",
         "y": [
          25.324,
          11.3559,
          16.5314,
          10.4378,
          17.0621,
          21.2439,
          17.9354,
          19.1262,
          14.5133,
          16.3607,
          16.6973,
          14.2423,
          31.2155,
          22.3231,
          15.8195,
          10.8104,
          34.6696,
          12.8264,
          16.6546,
          19.2065,
          16.9835,
          21.0002,
          13.9419,
          43.7061,
          22.5882,
          20.768,
          31.6109,
          70.5923,
          33.8961,
          23.7576,
          23.5736,
          9.8326,
          8.5763,
          15.6621,
          16.8098,
          25.3204,
          10.5244,
          17.6255,
          23.4842,
          12.5596,
          10.7969,
          6.8849,
          21.6388,
          17.313,
          7.6078,
          19.6632,
          20.2801,
          9.9269,
          33.8267,
          21.3623,
          10.4918,
          22.7539,
          11.4704,
          15.2762,
          24.4268,
          32.6141,
          13.4474,
          7.6684,
          34.934,
          46.1957,
          21.6792,
          7.4582,
          32.4417,
          10.626,
          17.1863,
          17.0346,
          14.0091,
          23.018,
          16.6653,
          51.9974,
          27.7576,
          24.9236,
          11.5512,
          13.4807,
          6.4187,
          25.5049,
          24.9515,
          38.8538,
          16.6213,
          24.5056,
          65.9402,
          27.2108,
          54.3793,
          12.1556,
          31.1875,
          43.4158,
          33.6005,
          42.4444,
          31.7164,
          46.3548,
          34.3901,
          40.715,
          31.9066,
          35.3955,
          28.9313,
          34.96,
          20.4241,
          21.5969,
          24.2161,
          25.2652,
          21.3839,
          53.9141,
          47.1772,
          41.5425,
          30.5432,
          14.0932,
          56.6425,
          10.3356,
          32.5257,
          21.6164,
          34.9443,
          12.390999999999998,
          43.3049,
          13.369000000000002,
          15.5578,
          27.9222,
          49.4812,
          29.1755
         ]
        },
        {
         "boxpoints": "all",
         "jitter": 0.25,
         "name": "POU5F1B",
         "pointpos": 0,
         "text": [
          "HTMCP-03-06-02001",
          "HTMCP-03-06-02002",
          "HTMCP-03-06-02003",
          "HTMCP-03-06-02006",
          "HTMCP-03-06-02008",
          "HTMCP-03-06-02012",
          "HTMCP-03-06-02013",
          "HTMCP-03-06-02020",
          "HTMCP-03-06-02036",
          "HTMCP-03-06-02037",
          "HTMCP-03-06-02040",
          "HTMCP-03-06-02042",
          "HTMCP-03-06-02046",
          "HTMCP-03-06-02047",
          "HTMCP-03-06-02054",
          "HTMCP-03-06-02057",
          "HTMCP-03-06-02058",
          "HTMCP-03-06-02063",
          "HTMCP-03-06-02068",
          "HTMCP-03-06-02070",
          "HTMCP-03-06-02071",
          "HTMCP-03-06-02074",
          "HTMCP-03-06-02075",
          "HTMCP-03-06-02076",
          "HTMCP-03-06-02089",
          "HTMCP-03-06-02092",
          "HTMCP-03-06-02097",
          "HTMCP-03-06-02098",
          "HTMCP-03-06-02099",
          "HTMCP-03-06-02103",
          "HTMCP-03-06-02108",
          "HTMCP-03-06-02109",
          "HTMCP-03-06-02110",
          "HTMCP-03-06-02113",
          "HTMCP-03-06-02120",
          "HTMCP-03-06-02125",
          "HTMCP-03-06-02128",
          "HTMCP-03-06-02139",
          "HTMCP-03-06-02144",
          "HTMCP-03-06-02145",
          "HTMCP-03-06-02147",
          "HTMCP-03-06-02148",
          "HTMCP-03-06-02149",
          "HTMCP-03-06-02150",
          "HTMCP-03-06-02151",
          "HTMCP-03-06-02152",
          "HTMCP-03-06-02155",
          "HTMCP-03-06-02156",
          "HTMCP-03-06-02170",
          "HTMCP-03-06-02174",
          "HTMCP-03-06-02175",
          "HTMCP-03-06-02176",
          "HTMCP-03-06-02179",
          "HTMCP-03-06-02180",
          "HTMCP-03-06-02182",
          "HTMCP-03-06-02185",
          "HTMCP-03-06-02194",
          "HTMCP-03-06-02195",
          "HTMCP-03-06-02196",
          "HTMCP-03-06-02197",
          "HTMCP-03-06-02202",
          "HTMCP-03-06-02203",
          "HTMCP-03-06-02204",
          "HTMCP-03-06-02205",
          "HTMCP-03-06-02209",
          "HTMCP-03-06-02210",
          "HTMCP-03-06-02213",
          "HTMCP-03-06-02214",
          "HTMCP-03-06-02215",
          "HTMCP-03-06-02216",
          "HTMCP-03-06-02217",
          "HTMCP-03-06-02219",
          "HTMCP-03-06-02222",
          "HTMCP-03-06-02225",
          "HTMCP-03-06-02230",
          "HTMCP-03-06-02235",
          "HTMCP-03-06-02238",
          "HTMCP-03-06-02239",
          "HTMCP-03-06-02240",
          "HTMCP-03-06-02242",
          "HTMCP-03-06-02256",
          "HTMCP-03-06-02259",
          "HTMCP-03-06-02260",
          "HTMCP-03-06-02261",
          "HTMCP-03-06-02262",
          "HTMCP-03-06-02264",
          "HTMCP-03-06-02266",
          "HTMCP-03-06-02267",
          "HTMCP-03-06-02268",
          "HTMCP-03-06-02320",
          "HTMCP-03-06-02322",
          "HTMCP-03-06-02326",
          "HTMCP-03-06-02328",
          "HTMCP-03-06-02330",
          "HTMCP-03-06-02332",
          "HTMCP-03-06-02333",
          "HTMCP-03-06-02335",
          "HTMCP-03-06-02340",
          "HTMCP-03-06-02341",
          "HTMCP-03-06-02344",
          "HTMCP-03-06-02346",
          "HTMCP-03-06-02354",
          "HTMCP-03-06-02377",
          "HTMCP-03-06-02392",
          "HTMCP-03-06-02393",
          "HTMCP-03-06-02396",
          "HTMCP-03-06-02411",
          "HTMCP-03-06-02414",
          "HTMCP-03-06-02417",
          "HTMCP-03-06-02424",
          "HTMCP-03-06-02427",
          "HTMCP-03-06-02428",
          "HTMCP-03-06-02434",
          "HTMCP-03-06-02435",
          "HTMCP-03-06-02437",
          "HTMCP-03-06-02441",
          "HTMCP-03-06-02442",
          "HTMCP-03-06-02447"
         ],
         "type": "box",
         "y": [
          0.0614,
          0.1385,
          0.0442,
          0.4897,
          0.0574,
          0.0877,
          0.8728,
          0.0385,
          0.0547,
          0.0763,
          0.0697,
          0.1196,
          0.0307,
          0.0504,
          0.0037,
          0.0166,
          0.0119,
          0.0362,
          0.0611,
          0.0965,
          0.0146,
          0.025,
          0.0341,
          0.0102,
          0.0186,
          0.0391,
          0.0316,
          0.166,
          0.0224,
          0.0165,
          0.0357,
          0.0236,
          0.0102,
          0.0154,
          0.0849,
          0.0266,
          0.0235,
          0.0016,
          0.0393,
          0.0089,
          0.0427,
          0.0602,
          0.0142,
          0.0091,
          0.0497,
          0.0847,
          0.196,
          0.0225,
          0.0228,
          0.0217,
          0.0255,
          0.0331,
          0.0138,
          0.0286,
          0.0099,
          0,
          0.0182,
          0.041,
          0.0064,
          0.033,
          0.1287,
          0.0422,
          0.0324,
          0.0503,
          0.0102,
          0.0738,
          0.052000000000000005,
          0.2332,
          0.0607,
          0.0141,
          0.2262,
          0.0204,
          0.0549,
          0.0566,
          0.1161,
          0.0161,
          0.0154,
          0.0089,
          0.1321,
          0.0176,
          0.0115,
          0.0267,
          0.0226,
          0.0438,
          0.0677,
          0.0325,
          0.3529,
          0.0262,
          0.0455,
          0.0371,
          0.0317,
          0.0297,
          0.0285,
          0.0209,
          0.0361,
          0.0816,
          0.0641,
          0.0224,
          0.0509,
          0.014,
          0.0284,
          0.01,
          0.0119,
          0.0037,
          0.217,
          0.0365,
          0.062,
          0.0448,
          0.0686,
          0.0591,
          0.0441,
          1.6372,
          0.0234,
          0.0632,
          0.0261,
          0.0676,
          0.0194,
          0.0224
         ]
        },
        {
         "boxpoints": "all",
         "jitter": 0.25,
         "name": "SCAF11",
         "pointpos": 0,
         "text": [
          "HTMCP-03-06-02001",
          "HTMCP-03-06-02002",
          "HTMCP-03-06-02003",
          "HTMCP-03-06-02006",
          "HTMCP-03-06-02008",
          "HTMCP-03-06-02012",
          "HTMCP-03-06-02013",
          "HTMCP-03-06-02020",
          "HTMCP-03-06-02036",
          "HTMCP-03-06-02037",
          "HTMCP-03-06-02040",
          "HTMCP-03-06-02042",
          "HTMCP-03-06-02046",
          "HTMCP-03-06-02047",
          "HTMCP-03-06-02054",
          "HTMCP-03-06-02057",
          "HTMCP-03-06-02058",
          "HTMCP-03-06-02063",
          "HTMCP-03-06-02068",
          "HTMCP-03-06-02070",
          "HTMCP-03-06-02071",
          "HTMCP-03-06-02074",
          "HTMCP-03-06-02075",
          "HTMCP-03-06-02076",
          "HTMCP-03-06-02089",
          "HTMCP-03-06-02092",
          "HTMCP-03-06-02097",
          "HTMCP-03-06-02098",
          "HTMCP-03-06-02099",
          "HTMCP-03-06-02103",
          "HTMCP-03-06-02108",
          "HTMCP-03-06-02109",
          "HTMCP-03-06-02110",
          "HTMCP-03-06-02113",
          "HTMCP-03-06-02120",
          "HTMCP-03-06-02125",
          "HTMCP-03-06-02128",
          "HTMCP-03-06-02139",
          "HTMCP-03-06-02144",
          "HTMCP-03-06-02145",
          "HTMCP-03-06-02147",
          "HTMCP-03-06-02148",
          "HTMCP-03-06-02149",
          "HTMCP-03-06-02150",
          "HTMCP-03-06-02151",
          "HTMCP-03-06-02152",
          "HTMCP-03-06-02155",
          "HTMCP-03-06-02156",
          "HTMCP-03-06-02170",
          "HTMCP-03-06-02174",
          "HTMCP-03-06-02175",
          "HTMCP-03-06-02176",
          "HTMCP-03-06-02179",
          "HTMCP-03-06-02180",
          "HTMCP-03-06-02182",
          "HTMCP-03-06-02185",
          "HTMCP-03-06-02194",
          "HTMCP-03-06-02195",
          "HTMCP-03-06-02196",
          "HTMCP-03-06-02197",
          "HTMCP-03-06-02202",
          "HTMCP-03-06-02203",
          "HTMCP-03-06-02204",
          "HTMCP-03-06-02205",
          "HTMCP-03-06-02209",
          "HTMCP-03-06-02210",
          "HTMCP-03-06-02213",
          "HTMCP-03-06-02214",
          "HTMCP-03-06-02215",
          "HTMCP-03-06-02216",
          "HTMCP-03-06-02217",
          "HTMCP-03-06-02219",
          "HTMCP-03-06-02222",
          "HTMCP-03-06-02225",
          "HTMCP-03-06-02230",
          "HTMCP-03-06-02235",
          "HTMCP-03-06-02238",
          "HTMCP-03-06-02239",
          "HTMCP-03-06-02240",
          "HTMCP-03-06-02242",
          "HTMCP-03-06-02256",
          "HTMCP-03-06-02259",
          "HTMCP-03-06-02260",
          "HTMCP-03-06-02261",
          "HTMCP-03-06-02262",
          "HTMCP-03-06-02264",
          "HTMCP-03-06-02266",
          "HTMCP-03-06-02267",
          "HTMCP-03-06-02268",
          "HTMCP-03-06-02320",
          "HTMCP-03-06-02322",
          "HTMCP-03-06-02326",
          "HTMCP-03-06-02328",
          "HTMCP-03-06-02330",
          "HTMCP-03-06-02332",
          "HTMCP-03-06-02333",
          "HTMCP-03-06-02335",
          "HTMCP-03-06-02340",
          "HTMCP-03-06-02341",
          "HTMCP-03-06-02344",
          "HTMCP-03-06-02346",
          "HTMCP-03-06-02354",
          "HTMCP-03-06-02377",
          "HTMCP-03-06-02392",
          "HTMCP-03-06-02393",
          "HTMCP-03-06-02396",
          "HTMCP-03-06-02411",
          "HTMCP-03-06-02414",
          "HTMCP-03-06-02417",
          "HTMCP-03-06-02424",
          "HTMCP-03-06-02427",
          "HTMCP-03-06-02428",
          "HTMCP-03-06-02434",
          "HTMCP-03-06-02435",
          "HTMCP-03-06-02437",
          "HTMCP-03-06-02441",
          "HTMCP-03-06-02442",
          "HTMCP-03-06-02447"
         ],
         "type": "box",
         "y": [
          8.1612,
          8.6626,
          10.6095,
          17.5457,
          9.8895,
          7.7069,
          9.0705,
          11.6783,
          11.6606,
          9.9449,
          13.0205,
          9.554,
          12.4027,
          7.7973,
          6.942,
          6.9804,
          11.8305,
          11.3183,
          10.6327,
          12.8989,
          12.626,
          9.6597,
          6.8097,
          7.7282,
          9.6447,
          14.6886,
          10.4457,
          13.0335,
          8.6666,
          7.2593,
          9.7217,
          14.7047,
          13.0798,
          11.7976,
          13.1697,
          11.2507,
          11.4463,
          9.9692,
          13.1109,
          13.2213,
          6.8499,
          9.2147,
          7.9478,
          9.4566,
          8.0211,
          9.6748,
          8.6587,
          8.4103,
          10.6185,
          9.9861,
          6.3586,
          11.4084,
          10.7574,
          9.1793,
          8.6139,
          8.186,
          7.7456,
          6.7321,
          9.7899,
          12.4333,
          9.7095,
          4.2195,
          11.4118,
          6.1164,
          6.1093,
          6.0195,
          8.1107,
          5.3826,
          13.275,
          5.7036,
          10.534,
          6.3191,
          12.3389,
          7.2434,
          9.7456,
          5.8542,
          9.192,
          8.3421,
          7.8207,
          9.6523,
          9.9389,
          11.1005,
          7.222,
          8.5831,
          9.8488,
          5.6336,
          16.0184,
          8.1264,
          8.5827,
          7.4327,
          7.2010000000000005,
          9.619,
          9.9763,
          6.9703,
          8.2333,
          7.2908,
          8.9212,
          7.0595,
          8.6709,
          7.8477,
          6.7256,
          8.1595,
          9.8791,
          9.1102,
          3.8422,
          6.9154,
          6.6411,
          7.5367,
          8.0652,
          4.5904,
          7.3652,
          12.2561,
          11.743,
          10.665,
          8.9437,
          7.7611,
          6.1294,
          13.2269
         ]
        },
        {
         "boxpoints": "all",
         "jitter": 0.25,
         "name": "STK11",
         "pointpos": 0,
         "text": [
          "HTMCP-03-06-02001",
          "HTMCP-03-06-02002",
          "HTMCP-03-06-02003",
          "HTMCP-03-06-02006",
          "HTMCP-03-06-02008",
          "HTMCP-03-06-02012",
          "HTMCP-03-06-02013",
          "HTMCP-03-06-02020",
          "HTMCP-03-06-02036",
          "HTMCP-03-06-02037",
          "HTMCP-03-06-02040",
          "HTMCP-03-06-02042",
          "HTMCP-03-06-02046",
          "HTMCP-03-06-02047",
          "HTMCP-03-06-02054",
          "HTMCP-03-06-02057",
          "HTMCP-03-06-02058",
          "HTMCP-03-06-02063",
          "HTMCP-03-06-02068",
          "HTMCP-03-06-02070",
          "HTMCP-03-06-02071",
          "HTMCP-03-06-02074",
          "HTMCP-03-06-02075",
          "HTMCP-03-06-02076",
          "HTMCP-03-06-02089",
          "HTMCP-03-06-02092",
          "HTMCP-03-06-02097",
          "HTMCP-03-06-02098",
          "HTMCP-03-06-02099",
          "HTMCP-03-06-02103",
          "HTMCP-03-06-02108",
          "HTMCP-03-06-02109",
          "HTMCP-03-06-02110",
          "HTMCP-03-06-02113",
          "HTMCP-03-06-02120",
          "HTMCP-03-06-02125",
          "HTMCP-03-06-02128",
          "HTMCP-03-06-02139",
          "HTMCP-03-06-02144",
          "HTMCP-03-06-02145",
          "HTMCP-03-06-02147",
          "HTMCP-03-06-02148",
          "HTMCP-03-06-02149",
          "HTMCP-03-06-02150",
          "HTMCP-03-06-02151",
          "HTMCP-03-06-02152",
          "HTMCP-03-06-02155",
          "HTMCP-03-06-02156",
          "HTMCP-03-06-02170",
          "HTMCP-03-06-02174",
          "HTMCP-03-06-02175",
          "HTMCP-03-06-02176",
          "HTMCP-03-06-02179",
          "HTMCP-03-06-02180",
          "HTMCP-03-06-02182",
          "HTMCP-03-06-02185",
          "HTMCP-03-06-02194",
          "HTMCP-03-06-02195",
          "HTMCP-03-06-02196",
          "HTMCP-03-06-02197",
          "HTMCP-03-06-02202",
          "HTMCP-03-06-02203",
          "HTMCP-03-06-02204",
          "HTMCP-03-06-02205",
          "HTMCP-03-06-02209",
          "HTMCP-03-06-02210",
          "HTMCP-03-06-02213",
          "HTMCP-03-06-02214",
          "HTMCP-03-06-02215",
          "HTMCP-03-06-02216",
          "HTMCP-03-06-02217",
          "HTMCP-03-06-02219",
          "HTMCP-03-06-02222",
          "HTMCP-03-06-02225",
          "HTMCP-03-06-02230",
          "HTMCP-03-06-02235",
          "HTMCP-03-06-02238",
          "HTMCP-03-06-02239",
          "HTMCP-03-06-02240",
          "HTMCP-03-06-02242",
          "HTMCP-03-06-02256",
          "HTMCP-03-06-02259",
          "HTMCP-03-06-02260",
          "HTMCP-03-06-02261",
          "HTMCP-03-06-02262",
          "HTMCP-03-06-02264",
          "HTMCP-03-06-02266",
          "HTMCP-03-06-02267",
          "HTMCP-03-06-02268",
          "HTMCP-03-06-02320",
          "HTMCP-03-06-02322",
          "HTMCP-03-06-02326",
          "HTMCP-03-06-02328",
          "HTMCP-03-06-02330",
          "HTMCP-03-06-02332",
          "HTMCP-03-06-02333",
          "HTMCP-03-06-02335",
          "HTMCP-03-06-02340",
          "HTMCP-03-06-02341",
          "HTMCP-03-06-02344",
          "HTMCP-03-06-02346",
          "HTMCP-03-06-02354",
          "HTMCP-03-06-02377",
          "HTMCP-03-06-02392",
          "HTMCP-03-06-02393",
          "HTMCP-03-06-02396",
          "HTMCP-03-06-02411",
          "HTMCP-03-06-02414",
          "HTMCP-03-06-02417",
          "HTMCP-03-06-02424",
          "HTMCP-03-06-02427",
          "HTMCP-03-06-02428",
          "HTMCP-03-06-02434",
          "HTMCP-03-06-02435",
          "HTMCP-03-06-02437",
          "HTMCP-03-06-02441",
          "HTMCP-03-06-02442",
          "HTMCP-03-06-02447"
         ],
         "type": "box",
         "y": [
          7.7324,
          3.7501,
          4.8476,
          10.8022,
          6.268,
          6.6824,
          10.355,
          6.9892,
          7.3519,
          0.9976,
          5.1958,
          10.3195,
          26.917,
          9.4374,
          6.8346,
          5.6644,
          5.6457,
          9.7473,
          7.1472,
          9.8336,
          9.061,
          7.5084,
          3.2056,
          4.1549,
          7.0702,
          6.5703,
          2.5033,
          8.1022,
          1.843,
          6.3811,
          2.4306,
          7.6891,
          5.9612,
          4.6575,
          4.6324,
          2.9723,
          7.1631,
          5.2343,
          7.3439999999999985,
          3.7431,
          12.2283,
          7.0584,
          2.7447,
          17.1284,
          4.3496,
          4.1344,
          4.816,
          0.4334,
          4.3494,
          5.386,
          3.0457,
          3.6215,
          3.7398,
          4.2646,
          17.0934,
          2.1653,
          4.9285,
          4.887,
          7.1831,
          7.174,
          7.0136,
          3.1704,
          6.3749,
          4.1789,
          6.0236,
          5.3041,
          5.2965,
          6.0852,
          6.7010000000000005,
          1.1753,
          4.6948,
          4.3463,
          7.6078,
          5.7412,
          6.6293,
          5.7249,
          6.9282,
          0.4834,
          7.9707,
          4.6979,
          8.3144,
          9.1851,
          11.1848,
          5.1459,
          9.7177,
          19.3426,
          8.9736,
          8.6276,
          8.5613,
          8.9623,
          7.3792,
          1.259,
          8.7339,
          5.6663,
          8.6543,
          9.4481,
          6.8892,
          5.8057,
          5.5229,
          6.1466,
          1.7702,
          1.5074,
          3.3396,
          8.504,
          12.5885,
          4.9097,
          10.0636,
          6.2405,
          10.0551,
          9.0745,
          4.724,
          9.3287,
          0.6321,
          2.8872,
          7.9551,
          5.0829,
          3.2507,
          8.6195
         ]
        }
       ],
       "layout": {
        "height": 400,
        "template": {
         "data": {
          "bar": [
           {
            "error_x": {
             "color": "#2a3f5f"
            },
            "error_y": {
             "color": "#2a3f5f"
            },
            "marker": {
             "line": {
              "color": "#E5ECF6",
              "width": 0.5
             }
            },
            "type": "bar"
           }
          ],
          "barpolar": [
           {
            "marker": {
             "line": {
              "color": "#E5ECF6",
              "width": 0.5
             }
            },
            "type": "barpolar"
           }
          ],
          "carpet": [
           {
            "aaxis": {
             "endlinecolor": "#2a3f5f",
             "gridcolor": "white",
             "linecolor": "white",
             "minorgridcolor": "white",
             "startlinecolor": "#2a3f5f"
            },
            "baxis": {
             "endlinecolor": "#2a3f5f",
             "gridcolor": "white",
             "linecolor": "white",
             "minorgridcolor": "white",
             "startlinecolor": "#2a3f5f"
            },
            "type": "carpet"
           }
          ],
          "choropleth": [
           {
            "colorbar": {
             "outlinewidth": 0,
             "ticks": ""
            },
            "type": "choropleth"
           }
          ],
          "contour": [
           {
            "colorbar": {
             "outlinewidth": 0,
             "ticks": ""
            },
            "colorscale": [
             [
              0,
              "#0d0887"
             ],
             [
              0.1111111111111111,
              "#46039f"
             ],
             [
              0.2222222222222222,
              "#7201a8"
             ],
             [
              0.3333333333333333,
              "#9c179e"
             ],
             [
              0.4444444444444444,
              "#bd3786"
             ],
             [
              0.5555555555555556,
              "#d8576b"
             ],
             [
              0.6666666666666666,
              "#ed7953"
             ],
             [
              0.7777777777777778,
              "#fb9f3a"
             ],
             [
              0.8888888888888888,
              "#fdca26"
             ],
             [
              1,
              "#f0f921"
             ]
            ],
            "type": "contour"
           }
          ],
          "contourcarpet": [
           {
            "colorbar": {
             "outlinewidth": 0,
             "ticks": ""
            },
            "type": "contourcarpet"
           }
          ],
          "heatmap": [
           {
            "colorbar": {
             "outlinewidth": 0,
             "ticks": ""
            },
            "colorscale": [
             [
              0,
              "#0d0887"
             ],
             [
              0.1111111111111111,
              "#46039f"
             ],
             [
              0.2222222222222222,
              "#7201a8"
             ],
             [
              0.3333333333333333,
              "#9c179e"
             ],
             [
              0.4444444444444444,
              "#bd3786"
             ],
             [
              0.5555555555555556,
              "#d8576b"
             ],
             [
              0.6666666666666666,
              "#ed7953"
             ],
             [
              0.7777777777777778,
              "#fb9f3a"
             ],
             [
              0.8888888888888888,
              "#fdca26"
             ],
             [
              1,
              "#f0f921"
             ]
            ],
            "type": "heatmap"
           }
          ],
          "heatmapgl": [
           {
            "colorbar": {
             "outlinewidth": 0,
             "ticks": ""
            },
            "colorscale": [
             [
              0,
              "#0d0887"
             ],
             [
              0.1111111111111111,
              "#46039f"
             ],
             [
              0.2222222222222222,
              "#7201a8"
             ],
             [
              0.3333333333333333,
              "#9c179e"
             ],
             [
              0.4444444444444444,
              "#bd3786"
             ],
             [
              0.5555555555555556,
              "#d8576b"
             ],
             [
              0.6666666666666666,
              "#ed7953"
             ],
             [
              0.7777777777777778,
              "#fb9f3a"
             ],
             [
              0.8888888888888888,
              "#fdca26"
             ],
             [
              1,
              "#f0f921"
             ]
            ],
            "type": "heatmapgl"
           }
          ],
          "histogram": [
           {
            "marker": {
             "colorbar": {
              "outlinewidth": 0,
              "ticks": ""
             }
            },
            "type": "histogram"
           }
          ],
          "histogram2d": [
           {
            "colorbar": {
             "outlinewidth": 0,
             "ticks": ""
            },
            "colorscale": [
             [
              0,
              "#0d0887"
             ],
             [
              0.1111111111111111,
              "#46039f"
             ],
             [
              0.2222222222222222,
              "#7201a8"
             ],
             [
              0.3333333333333333,
              "#9c179e"
             ],
             [
              0.4444444444444444,
              "#bd3786"
             ],
             [
              0.5555555555555556,
              "#d8576b"
             ],
             [
              0.6666666666666666,
              "#ed7953"
             ],
             [
              0.7777777777777778,
              "#fb9f3a"
             ],
             [
              0.8888888888888888,
              "#fdca26"
             ],
             [
              1,
              "#f0f921"
             ]
            ],
            "type": "histogram2d"
           }
          ],
          "histogram2dcontour": [
           {
            "colorbar": {
             "outlinewidth": 0,
             "ticks": ""
            },
            "colorscale": [
             [
              0,
              "#0d0887"
             ],
             [
              0.1111111111111111,
              "#46039f"
             ],
             [
              0.2222222222222222,
              "#7201a8"
             ],
             [
              0.3333333333333333,
              "#9c179e"
             ],
             [
              0.4444444444444444,
              "#bd3786"
             ],
             [
              0.5555555555555556,
              "#d8576b"
             ],
             [
              0.6666666666666666,
              "#ed7953"
             ],
             [
              0.7777777777777778,
              "#fb9f3a"
             ],
             [
              0.8888888888888888,
              "#fdca26"
             ],
             [
              1,
              "#f0f921"
             ]
            ],
            "type": "histogram2dcontour"
           }
          ],
          "mesh3d": [
           {
            "colorbar": {
             "outlinewidth": 0,
             "ticks": ""
            },
            "type": "mesh3d"
           }
          ],
          "parcoords": [
           {
            "line": {
             "colorbar": {
              "outlinewidth": 0,
              "ticks": ""
             }
            },
            "type": "parcoords"
           }
          ],
          "pie": [
           {
            "automargin": true,
            "type": "pie"
           }
          ],
          "scatter": [
           {
            "marker": {
             "colorbar": {
              "outlinewidth": 0,
              "ticks": ""
             }
            },
            "type": "scatter"
           }
          ],
          "scatter3d": [
           {
            "line": {
             "colorbar": {
              "outlinewidth": 0,
              "ticks": ""
             }
            },
            "marker": {
             "colorbar": {
              "outlinewidth": 0,
              "ticks": ""
             }
            },
            "type": "scatter3d"
           }
          ],
          "scattercarpet": [
           {
            "marker": {
             "colorbar": {
              "outlinewidth": 0,
              "ticks": ""
             }
            },
            "type": "scattercarpet"
           }
          ],
          "scattergeo": [
           {
            "marker": {
             "colorbar": {
              "outlinewidth": 0,
              "ticks": ""
             }
            },
            "type": "scattergeo"
           }
          ],
          "scattergl": [
           {
            "marker": {
             "colorbar": {
              "outlinewidth": 0,
              "ticks": ""
             }
            },
            "type": "scattergl"
           }
          ],
          "scattermapbox": [
           {
            "marker": {
             "colorbar": {
              "outlinewidth": 0,
              "ticks": ""
             }
            },
            "type": "scattermapbox"
           }
          ],
          "scatterpolar": [
           {
            "marker": {
             "colorbar": {
              "outlinewidth": 0,
              "ticks": ""
             }
            },
            "type": "scatterpolar"
           }
          ],
          "scatterpolargl": [
           {
            "marker": {
             "colorbar": {
              "outlinewidth": 0,
              "ticks": ""
             }
            },
            "type": "scatterpolargl"
           }
          ],
          "scatterternary": [
           {
            "marker": {
             "colorbar": {
              "outlinewidth": 0,
              "ticks": ""
             }
            },
            "type": "scatterternary"
           }
          ],
          "surface": [
           {
            "colorbar": {
             "outlinewidth": 0,
             "ticks": ""
            },
            "colorscale": [
             [
              0,
              "#0d0887"
             ],
             [
              0.1111111111111111,
              "#46039f"
             ],
             [
              0.2222222222222222,
              "#7201a8"
             ],
             [
              0.3333333333333333,
              "#9c179e"
             ],
             [
              0.4444444444444444,
              "#bd3786"
             ],
             [
              0.5555555555555556,
              "#d8576b"
             ],
             [
              0.6666666666666666,
              "#ed7953"
             ],
             [
              0.7777777777777778,
              "#fb9f3a"
             ],
             [
              0.8888888888888888,
              "#fdca26"
             ],
             [
              1,
              "#f0f921"
             ]
            ],
            "type": "surface"
           }
          ],
          "table": [
           {
            "cells": {
             "fill": {
              "color": "#EBF0F8"
             },
             "line": {
              "color": "white"
             }
            },
            "header": {
             "fill": {
              "color": "#C8D4E3"
             },
             "line": {
              "color": "white"
             }
            },
            "type": "table"
           }
          ]
         },
         "layout": {
          "annotationdefaults": {
           "arrowcolor": "#2a3f5f",
           "arrowhead": 0,
           "arrowwidth": 1
          },
          "coloraxis": {
           "colorbar": {
            "outlinewidth": 0,
            "ticks": ""
           }
          },
          "colorscale": {
           "diverging": [
            [
             0,
             "#8e0152"
            ],
            [
             0.1,
             "#c51b7d"
            ],
            [
             0.2,
             "#de77ae"
            ],
            [
             0.3,
             "#f1b6da"
            ],
            [
             0.4,
             "#fde0ef"
            ],
            [
             0.5,
             "#f7f7f7"
            ],
            [
             0.6,
             "#e6f5d0"
            ],
            [
             0.7,
             "#b8e186"
            ],
            [
             0.8,
             "#7fbc41"
            ],
            [
             0.9,
             "#4d9221"
            ],
            [
             1,
             "#276419"
            ]
           ],
           "sequential": [
            [
             0,
             "#0d0887"
            ],
            [
             0.1111111111111111,
             "#46039f"
            ],
            [
             0.2222222222222222,
             "#7201a8"
            ],
            [
             0.3333333333333333,
             "#9c179e"
            ],
            [
             0.4444444444444444,
             "#bd3786"
            ],
            [
             0.5555555555555556,
             "#d8576b"
            ],
            [
             0.6666666666666666,
             "#ed7953"
            ],
            [
             0.7777777777777778,
             "#fb9f3a"
            ],
            [
             0.8888888888888888,
             "#fdca26"
            ],
            [
             1,
             "#f0f921"
            ]
           ],
           "sequentialminus": [
            [
             0,
             "#0d0887"
            ],
            [
             0.1111111111111111,
             "#46039f"
            ],
            [
             0.2222222222222222,
             "#7201a8"
            ],
            [
             0.3333333333333333,
             "#9c179e"
            ],
            [
             0.4444444444444444,
             "#bd3786"
            ],
            [
             0.5555555555555556,
             "#d8576b"
            ],
            [
             0.6666666666666666,
             "#ed7953"
            ],
            [
             0.7777777777777778,
             "#fb9f3a"
            ],
            [
             0.8888888888888888,
             "#fdca26"
            ],
            [
             1,
             "#f0f921"
            ]
           ]
          },
          "colorway": [
           "#636efa",
           "#EF553B",
           "#00cc96",
           "#ab63fa",
           "#FFA15A",
           "#19d3f3",
           "#FF6692",
           "#B6E880",
           "#FF97FF",
           "#FECB52"
          ],
          "font": {
           "color": "#2a3f5f"
          },
          "geo": {
           "bgcolor": "white",
           "lakecolor": "white",
           "landcolor": "#E5ECF6",
           "showlakes": true,
           "showland": true,
           "subunitcolor": "white"
          },
          "hoverlabel": {
           "align": "left"
          },
          "hovermode": "closest",
          "mapbox": {
           "style": "light"
          },
          "paper_bgcolor": "white",
          "plot_bgcolor": "#E5ECF6",
          "polar": {
           "angularaxis": {
            "gridcolor": "white",
            "linecolor": "white",
            "ticks": ""
           },
           "bgcolor": "#E5ECF6",
           "radialaxis": {
            "gridcolor": "white",
            "linecolor": "white",
            "ticks": ""
           }
          },
          "scene": {
           "xaxis": {
            "backgroundcolor": "#E5ECF6",
            "gridcolor": "white",
            "gridwidth": 2,
            "linecolor": "white",
            "showbackground": true,
            "ticks": "",
            "zerolinecolor": "white"
           },
           "yaxis": {
            "backgroundcolor": "#E5ECF6",
            "gridcolor": "white",
            "gridwidth": 2,
            "linecolor": "white",
            "showbackground": true,
            "ticks": "",
            "zerolinecolor": "white"
           },
           "zaxis": {
            "backgroundcolor": "#E5ECF6",
            "gridcolor": "white",
            "gridwidth": 2,
            "linecolor": "white",
            "showbackground": true,
            "ticks": "",
            "zerolinecolor": "white"
           }
          },
          "shapedefaults": {
           "line": {
            "color": "#2a3f5f"
           }
          },
          "ternary": {
           "aaxis": {
            "gridcolor": "white",
            "linecolor": "white",
            "ticks": ""
           },
           "baxis": {
            "gridcolor": "white",
            "linecolor": "white",
            "ticks": ""
           },
           "bgcolor": "#E5ECF6",
           "caxis": {
            "gridcolor": "white",
            "linecolor": "white",
            "ticks": ""
           }
          },
          "title": {
           "x": 0.05
          },
          "xaxis": {
           "automargin": true,
           "gridcolor": "white",
           "linecolor": "white",
           "ticks": "",
           "title": {
            "standoff": 15
           },
           "zerolinecolor": "white",
           "zerolinewidth": 2
          },
          "yaxis": {
           "automargin": true,
           "gridcolor": "white",
           "linecolor": "white",
           "ticks": "",
           "title": {
            "standoff": 15
           },
           "zerolinecolor": "white",
           "zerolinewidth": 2
          }
         }
        },
        "title": {
         "text": "expression"
        },
        "width": 600,
        "yaxis": {
         "autorange": true,
         "type": "log"
        }
       }
      },
      "text/html": [
       "<div>\n",
       "        \n",
       "        \n",
       "            <div id=\"06612aa2-a173-43e1-b4c9-23191840952a\" class=\"plotly-graph-div\" style=\"height:400px; width:600px;\"></div>\n",
       "            <script type=\"text/javascript\">\n",
       "                require([\"plotly\"], function(Plotly) {\n",
       "                    window.PLOTLYENV=window.PLOTLYENV || {};\n",
       "                    \n",
       "                if (document.getElementById(\"06612aa2-a173-43e1-b4c9-23191840952a\")) {\n",
       "                    Plotly.newPlot(\n",
       "                        '06612aa2-a173-43e1-b4c9-23191840952a',\n",
       "                        [{\"boxpoints\": \"all\", \"jitter\": 0.25, \"name\": \"ARFGAP3\", \"pointpos\": 0, \"text\": [\"HTMCP-03-06-02001\", \"HTMCP-03-06-02002\", \"HTMCP-03-06-02003\", \"HTMCP-03-06-02006\", \"HTMCP-03-06-02008\", \"HTMCP-03-06-02012\", \"HTMCP-03-06-02013\", \"HTMCP-03-06-02020\", \"HTMCP-03-06-02036\", \"HTMCP-03-06-02037\", \"HTMCP-03-06-02040\", \"HTMCP-03-06-02042\", \"HTMCP-03-06-02046\", \"HTMCP-03-06-02047\", \"HTMCP-03-06-02054\", \"HTMCP-03-06-02057\", \"HTMCP-03-06-02058\", \"HTMCP-03-06-02063\", \"HTMCP-03-06-02068\", \"HTMCP-03-06-02070\", \"HTMCP-03-06-02071\", \"HTMCP-03-06-02074\", \"HTMCP-03-06-02075\", \"HTMCP-03-06-02076\", \"HTMCP-03-06-02089\", \"HTMCP-03-06-02092\", \"HTMCP-03-06-02097\", \"HTMCP-03-06-02098\", \"HTMCP-03-06-02099\", \"HTMCP-03-06-02103\", \"HTMCP-03-06-02108\", \"HTMCP-03-06-02109\", \"HTMCP-03-06-02110\", \"HTMCP-03-06-02113\", \"HTMCP-03-06-02120\", \"HTMCP-03-06-02125\", \"HTMCP-03-06-02128\", \"HTMCP-03-06-02139\", \"HTMCP-03-06-02144\", \"HTMCP-03-06-02145\", \"HTMCP-03-06-02147\", \"HTMCP-03-06-02148\", \"HTMCP-03-06-02149\", \"HTMCP-03-06-02150\", \"HTMCP-03-06-02151\", \"HTMCP-03-06-02152\", \"HTMCP-03-06-02155\", \"HTMCP-03-06-02156\", \"HTMCP-03-06-02170\", \"HTMCP-03-06-02174\", \"HTMCP-03-06-02175\", \"HTMCP-03-06-02176\", \"HTMCP-03-06-02179\", \"HTMCP-03-06-02180\", \"HTMCP-03-06-02182\", \"HTMCP-03-06-02185\", \"HTMCP-03-06-02194\", \"HTMCP-03-06-02195\", \"HTMCP-03-06-02196\", \"HTMCP-03-06-02197\", \"HTMCP-03-06-02202\", \"HTMCP-03-06-02203\", \"HTMCP-03-06-02204\", \"HTMCP-03-06-02205\", \"HTMCP-03-06-02209\", \"HTMCP-03-06-02210\", \"HTMCP-03-06-02213\", \"HTMCP-03-06-02214\", \"HTMCP-03-06-02215\", \"HTMCP-03-06-02216\", \"HTMCP-03-06-02217\", \"HTMCP-03-06-02219\", \"HTMCP-03-06-02222\", \"HTMCP-03-06-02225\", \"HTMCP-03-06-02230\", \"HTMCP-03-06-02235\", \"HTMCP-03-06-02238\", \"HTMCP-03-06-02239\", \"HTMCP-03-06-02240\", \"HTMCP-03-06-02242\", \"HTMCP-03-06-02256\", \"HTMCP-03-06-02259\", \"HTMCP-03-06-02260\", \"HTMCP-03-06-02261\", \"HTMCP-03-06-02262\", \"HTMCP-03-06-02264\", \"HTMCP-03-06-02266\", \"HTMCP-03-06-02267\", \"HTMCP-03-06-02268\", \"HTMCP-03-06-02320\", \"HTMCP-03-06-02322\", \"HTMCP-03-06-02326\", \"HTMCP-03-06-02328\", \"HTMCP-03-06-02330\", \"HTMCP-03-06-02332\", \"HTMCP-03-06-02333\", \"HTMCP-03-06-02335\", \"HTMCP-03-06-02340\", \"HTMCP-03-06-02341\", \"HTMCP-03-06-02344\", \"HTMCP-03-06-02346\", \"HTMCP-03-06-02354\", \"HTMCP-03-06-02377\", \"HTMCP-03-06-02392\", \"HTMCP-03-06-02393\", \"HTMCP-03-06-02396\", \"HTMCP-03-06-02411\", \"HTMCP-03-06-02414\", \"HTMCP-03-06-02417\", \"HTMCP-03-06-02424\", \"HTMCP-03-06-02427\", \"HTMCP-03-06-02428\", \"HTMCP-03-06-02434\", \"HTMCP-03-06-02435\", \"HTMCP-03-06-02437\", \"HTMCP-03-06-02441\", \"HTMCP-03-06-02442\", \"HTMCP-03-06-02447\"], \"type\": \"box\", \"y\": [19.5059, 15.5748, 21.6183, 17.1843, 26.5971, 13.2131, 14.0877, 12.8769, 22.2785, 24.7854, 12.104, 19.7328, 17.7452, 21.6641, 16.1032, 19.2488, 36.0462, 18.4969, 19.8834, 24.0088, 15.1194, 31.7231, 20.8297, 22.0327, 10.1283, 19.6615, 18.379, 15.4283, 18.7252, 17.9091, 17.6029, 35.2331, 16.4704, 16.3221, 21.6024, 15.5069, 32.6614, 27.8638, 15.9682, 30.805, 15.3308, 15.3727, 14.7439, 28.3816, 14.0054, 22.3675, 14.0913, 32.3362, 11.1739, 16.605999999999998, 21.3193, 10.9654, 16.6646, 17.1306, 19.4373, 12.6469, 14.6714, 5.3931, 14.4291, 12.5065, 12.6512, 31.3506, 16.7737, 3.4074, 11.6414, 9.3893, 15.403, 16.7467, 18.6571, 27.8168, 40.4361, 17.61, 24.308000000000003, 18.683, 12.5934, 19.8975, 11.5772, 21.3061, 26.859, 13.7047, 18.0855, 10.0958, 12.914, 15.4547, 24.2848, 12.7857, 15.1587, 18.3178, 12.1402, 14.7435, 19.6877, 16.1631, 17.1913, 21.5425, 18.5949, 17.9155, 14.4259, 18.486, 27.3494, 24.6971, 14.5506, 13.8278, 13.5218, 19.197, 7.9084, 18.3014, 17.8962, 15.9041, 22.0913, 8.3433, 9.3243, 13.4054, 14.6142, 20.4705, 14.5659, 26.124, 30.1819, 17.8885]}, {\"boxpoints\": \"all\", \"jitter\": 0.25, \"name\": \"KLF12\", \"pointpos\": 0, \"text\": [\"HTMCP-03-06-02001\", \"HTMCP-03-06-02002\", \"HTMCP-03-06-02003\", \"HTMCP-03-06-02006\", \"HTMCP-03-06-02008\", \"HTMCP-03-06-02012\", \"HTMCP-03-06-02013\", \"HTMCP-03-06-02020\", \"HTMCP-03-06-02036\", \"HTMCP-03-06-02037\", \"HTMCP-03-06-02040\", \"HTMCP-03-06-02042\", \"HTMCP-03-06-02046\", \"HTMCP-03-06-02047\", \"HTMCP-03-06-02054\", \"HTMCP-03-06-02057\", \"HTMCP-03-06-02058\", \"HTMCP-03-06-02063\", \"HTMCP-03-06-02068\", \"HTMCP-03-06-02070\", \"HTMCP-03-06-02071\", \"HTMCP-03-06-02074\", \"HTMCP-03-06-02075\", \"HTMCP-03-06-02076\", \"HTMCP-03-06-02089\", \"HTMCP-03-06-02092\", \"HTMCP-03-06-02097\", \"HTMCP-03-06-02098\", \"HTMCP-03-06-02099\", \"HTMCP-03-06-02103\", \"HTMCP-03-06-02108\", \"HTMCP-03-06-02109\", \"HTMCP-03-06-02110\", \"HTMCP-03-06-02113\", \"HTMCP-03-06-02120\", \"HTMCP-03-06-02125\", \"HTMCP-03-06-02128\", \"HTMCP-03-06-02139\", \"HTMCP-03-06-02144\", \"HTMCP-03-06-02145\", \"HTMCP-03-06-02147\", \"HTMCP-03-06-02148\", \"HTMCP-03-06-02149\", \"HTMCP-03-06-02150\", \"HTMCP-03-06-02151\", \"HTMCP-03-06-02152\", \"HTMCP-03-06-02155\", \"HTMCP-03-06-02156\", \"HTMCP-03-06-02170\", \"HTMCP-03-06-02174\", \"HTMCP-03-06-02175\", \"HTMCP-03-06-02176\", \"HTMCP-03-06-02179\", \"HTMCP-03-06-02180\", \"HTMCP-03-06-02182\", \"HTMCP-03-06-02185\", \"HTMCP-03-06-02194\", \"HTMCP-03-06-02195\", \"HTMCP-03-06-02196\", \"HTMCP-03-06-02197\", \"HTMCP-03-06-02202\", \"HTMCP-03-06-02203\", \"HTMCP-03-06-02204\", \"HTMCP-03-06-02205\", \"HTMCP-03-06-02209\", \"HTMCP-03-06-02210\", \"HTMCP-03-06-02213\", \"HTMCP-03-06-02214\", \"HTMCP-03-06-02215\", \"HTMCP-03-06-02216\", \"HTMCP-03-06-02217\", \"HTMCP-03-06-02219\", \"HTMCP-03-06-02222\", \"HTMCP-03-06-02225\", \"HTMCP-03-06-02230\", \"HTMCP-03-06-02235\", \"HTMCP-03-06-02238\", \"HTMCP-03-06-02239\", \"HTMCP-03-06-02240\", \"HTMCP-03-06-02242\", \"HTMCP-03-06-02256\", \"HTMCP-03-06-02259\", \"HTMCP-03-06-02260\", \"HTMCP-03-06-02261\", \"HTMCP-03-06-02262\", \"HTMCP-03-06-02264\", \"HTMCP-03-06-02266\", \"HTMCP-03-06-02267\", \"HTMCP-03-06-02268\", \"HTMCP-03-06-02320\", \"HTMCP-03-06-02322\", \"HTMCP-03-06-02326\", \"HTMCP-03-06-02328\", \"HTMCP-03-06-02330\", \"HTMCP-03-06-02332\", \"HTMCP-03-06-02333\", \"HTMCP-03-06-02335\", \"HTMCP-03-06-02340\", \"HTMCP-03-06-02341\", \"HTMCP-03-06-02344\", \"HTMCP-03-06-02346\", \"HTMCP-03-06-02354\", \"HTMCP-03-06-02377\", \"HTMCP-03-06-02392\", \"HTMCP-03-06-02393\", \"HTMCP-03-06-02396\", \"HTMCP-03-06-02411\", \"HTMCP-03-06-02414\", \"HTMCP-03-06-02417\", \"HTMCP-03-06-02424\", \"HTMCP-03-06-02427\", \"HTMCP-03-06-02428\", \"HTMCP-03-06-02434\", \"HTMCP-03-06-02435\", \"HTMCP-03-06-02437\", \"HTMCP-03-06-02441\", \"HTMCP-03-06-02442\", \"HTMCP-03-06-02447\"], \"type\": \"box\", \"y\": [1.2406, 0.3155, 1.1211, 2.0507, 4.4694, 0.8428, 2.1703, 1.2186, 1.1959, 2.1777, 3.5184, 1.6944, 2.033, 165.9154, 1.7648, 0.5788, 1.5511, 1.3959, 0.4591, 1.7436, 1.9656, 1.5019999999999998, 0.3714, 0.1986, 0.2344, 2.7071, 2.4676, 1.9251, 2.9047, 2.0877, 1.4955, 3.3233, 2.176, 1.923, 1.0323, 0.5202, 0.7728, 1.1201, 0.3067, 0.8876, 0.6692, 0.5113, 0.6861, 1.7021, 0.767, 3.1216, 2.4847, 1.3275, 0.8314, 1.0005, 3.4495, 0.5309, 4.8323, 2.4753, 4.4821, 1.6636, 1.5071, 0.5251, 0.5566, 0.9813, 0.9144, 0.8064, 2.6414, 0.106, 0.5579999999999999, 0.6269, 1.5325, 0.3203, 1.4822, 1.4467, 1.8385, 1.4648, 0.7854, 0.8220000000000001, 3.0805, 2.8781, 0.9344, 0.9452, 2.7246, 1.5378, 0.4794, 1.0475, 0.4252, 1.2243, 1.5131, 0.182, 2.9455, 1.9705, 0.8, 0.7735, 1.3541, 1.1455, 0.5834, 0.4349, 2.7507, 0.3773, 1.2036, 1.0537, 2.0052, 2.18, 2.7336, 0.588, 0.8385, 1.2377, 0.4615, 0.76, 1.5443, 3.4199, 1.3124, 0.8462, 0.0539, 1.8554, 0.8487, 0.5909, 1.4761, 4.5691, 0.4326, 1.0611]}, {\"boxpoints\": \"all\", \"jitter\": 0.25, \"name\": \"LRP1B\", \"pointpos\": 0, \"text\": [\"HTMCP-03-06-02001\", \"HTMCP-03-06-02002\", \"HTMCP-03-06-02003\", \"HTMCP-03-06-02006\", \"HTMCP-03-06-02008\", \"HTMCP-03-06-02012\", \"HTMCP-03-06-02013\", \"HTMCP-03-06-02020\", \"HTMCP-03-06-02036\", \"HTMCP-03-06-02037\", \"HTMCP-03-06-02040\", \"HTMCP-03-06-02042\", \"HTMCP-03-06-02046\", \"HTMCP-03-06-02047\", \"HTMCP-03-06-02054\", \"HTMCP-03-06-02057\", \"HTMCP-03-06-02058\", \"HTMCP-03-06-02063\", \"HTMCP-03-06-02068\", \"HTMCP-03-06-02070\", \"HTMCP-03-06-02071\", \"HTMCP-03-06-02074\", \"HTMCP-03-06-02075\", \"HTMCP-03-06-02076\", \"HTMCP-03-06-02089\", \"HTMCP-03-06-02092\", \"HTMCP-03-06-02097\", \"HTMCP-03-06-02098\", \"HTMCP-03-06-02099\", \"HTMCP-03-06-02103\", \"HTMCP-03-06-02108\", \"HTMCP-03-06-02109\", \"HTMCP-03-06-02110\", \"HTMCP-03-06-02113\", \"HTMCP-03-06-02120\", \"HTMCP-03-06-02125\", \"HTMCP-03-06-02128\", \"HTMCP-03-06-02139\", \"HTMCP-03-06-02144\", \"HTMCP-03-06-02145\", \"HTMCP-03-06-02147\", \"HTMCP-03-06-02148\", \"HTMCP-03-06-02149\", \"HTMCP-03-06-02150\", \"HTMCP-03-06-02151\", \"HTMCP-03-06-02152\", \"HTMCP-03-06-02155\", \"HTMCP-03-06-02156\", \"HTMCP-03-06-02170\", \"HTMCP-03-06-02174\", \"HTMCP-03-06-02175\", \"HTMCP-03-06-02176\", \"HTMCP-03-06-02179\", \"HTMCP-03-06-02180\", \"HTMCP-03-06-02182\", \"HTMCP-03-06-02185\", \"HTMCP-03-06-02194\", \"HTMCP-03-06-02195\", \"HTMCP-03-06-02196\", \"HTMCP-03-06-02197\", \"HTMCP-03-06-02202\", \"HTMCP-03-06-02203\", \"HTMCP-03-06-02204\", \"HTMCP-03-06-02205\", \"HTMCP-03-06-02209\", \"HTMCP-03-06-02210\", \"HTMCP-03-06-02213\", \"HTMCP-03-06-02214\", \"HTMCP-03-06-02215\", \"HTMCP-03-06-02216\", \"HTMCP-03-06-02217\", \"HTMCP-03-06-02219\", \"HTMCP-03-06-02222\", \"HTMCP-03-06-02225\", \"HTMCP-03-06-02230\", \"HTMCP-03-06-02235\", \"HTMCP-03-06-02238\", \"HTMCP-03-06-02239\", \"HTMCP-03-06-02240\", \"HTMCP-03-06-02242\", \"HTMCP-03-06-02256\", \"HTMCP-03-06-02259\", \"HTMCP-03-06-02260\", \"HTMCP-03-06-02261\", \"HTMCP-03-06-02262\", \"HTMCP-03-06-02264\", \"HTMCP-03-06-02266\", \"HTMCP-03-06-02267\", \"HTMCP-03-06-02268\", \"HTMCP-03-06-02320\", \"HTMCP-03-06-02322\", \"HTMCP-03-06-02326\", \"HTMCP-03-06-02328\", \"HTMCP-03-06-02330\", \"HTMCP-03-06-02332\", \"HTMCP-03-06-02333\", \"HTMCP-03-06-02335\", \"HTMCP-03-06-02340\", \"HTMCP-03-06-02341\", \"HTMCP-03-06-02344\", \"HTMCP-03-06-02346\", \"HTMCP-03-06-02354\", \"HTMCP-03-06-02377\", \"HTMCP-03-06-02392\", \"HTMCP-03-06-02393\", \"HTMCP-03-06-02396\", \"HTMCP-03-06-02411\", \"HTMCP-03-06-02414\", \"HTMCP-03-06-02417\", \"HTMCP-03-06-02424\", \"HTMCP-03-06-02427\", \"HTMCP-03-06-02428\", \"HTMCP-03-06-02434\", \"HTMCP-03-06-02435\", \"HTMCP-03-06-02437\", \"HTMCP-03-06-02441\", \"HTMCP-03-06-02442\", \"HTMCP-03-06-02447\"], \"type\": \"box\", \"y\": [0.0591, 0.0177, 0.0042, 0.0274, 0.0, 0.0125, 0.0012, 0.0042, 0.0065, 0.0584, 0.0078, 0.0106, 0.0041, 0.0064, 0.0003, 0.0109, 0.0, 0.1962, 0.0, 0.0826, 0.0035, 0.0072, 0.0018, 0.0011, 0.0, 0.0081, 0.0332, 0.3299, 0.0451, 0.1403, 0.001, 0.0025, 0.0325, 0.0082, 0.0, 0.0011, 0.0005, 0.0021, 0.0, 0.0, 0.0017, 0.0536, 0.0009, 0.0024, 0.1105, 0.0125, 0.0013, 0.0007, 0.0307, 0.0, 0.0, 0.0077, 0.0086, 0.2247, 0.1168, 0.0026, 0.0, 0.0048, 0.0, 0.0026, 0.0035, 0.0007, 0.0047, 0.0023, 0.0, 0.0041, 0.0291, 0.001, 0.0008, 0.0, 0.0134, 0.0021, 0.0012, 0.0613, 0.0088, 0.0, 0.0731, 0.035, 0.0236, 0.0089, 0.0114, 0.0, 0.0058, 0.0088, 0.0178, 0.0, 0.0427, 0.0018, 0.006, 0.0021, 0.0, 0.0, 0.001, 0.0028, 0.3295, 0.0123, 0.0244, 0.0009, 0.0131, 0.0061, 0.0187, 0.0163, 0.0009, 0.0, 0.0, 0.0062, 0.009000000000000001, 0.0, 0.1847, 0.0111, 0.0032, 0.0095, 0.0263, 0.0, 0.0026, 0.003, 0.003, 0.0]}, {\"boxpoints\": \"all\", \"jitter\": 0.25, \"name\": \"MYC\", \"pointpos\": 0, \"text\": [\"HTMCP-03-06-02001\", \"HTMCP-03-06-02002\", \"HTMCP-03-06-02003\", \"HTMCP-03-06-02006\", \"HTMCP-03-06-02008\", \"HTMCP-03-06-02012\", \"HTMCP-03-06-02013\", \"HTMCP-03-06-02020\", \"HTMCP-03-06-02036\", \"HTMCP-03-06-02037\", \"HTMCP-03-06-02040\", \"HTMCP-03-06-02042\", \"HTMCP-03-06-02046\", \"HTMCP-03-06-02047\", \"HTMCP-03-06-02054\", \"HTMCP-03-06-02057\", \"HTMCP-03-06-02058\", \"HTMCP-03-06-02063\", \"HTMCP-03-06-02068\", \"HTMCP-03-06-02070\", \"HTMCP-03-06-02071\", \"HTMCP-03-06-02074\", \"HTMCP-03-06-02075\", \"HTMCP-03-06-02076\", \"HTMCP-03-06-02089\", \"HTMCP-03-06-02092\", \"HTMCP-03-06-02097\", \"HTMCP-03-06-02098\", \"HTMCP-03-06-02099\", \"HTMCP-03-06-02103\", \"HTMCP-03-06-02108\", \"HTMCP-03-06-02109\", \"HTMCP-03-06-02110\", \"HTMCP-03-06-02113\", \"HTMCP-03-06-02120\", \"HTMCP-03-06-02125\", \"HTMCP-03-06-02128\", \"HTMCP-03-06-02139\", \"HTMCP-03-06-02144\", \"HTMCP-03-06-02145\", \"HTMCP-03-06-02147\", \"HTMCP-03-06-02148\", \"HTMCP-03-06-02149\", \"HTMCP-03-06-02150\", \"HTMCP-03-06-02151\", \"HTMCP-03-06-02152\", \"HTMCP-03-06-02155\", \"HTMCP-03-06-02156\", \"HTMCP-03-06-02170\", \"HTMCP-03-06-02174\", \"HTMCP-03-06-02175\", \"HTMCP-03-06-02176\", \"HTMCP-03-06-02179\", \"HTMCP-03-06-02180\", \"HTMCP-03-06-02182\", \"HTMCP-03-06-02185\", \"HTMCP-03-06-02194\", \"HTMCP-03-06-02195\", \"HTMCP-03-06-02196\", \"HTMCP-03-06-02197\", \"HTMCP-03-06-02202\", \"HTMCP-03-06-02203\", \"HTMCP-03-06-02204\", \"HTMCP-03-06-02205\", \"HTMCP-03-06-02209\", \"HTMCP-03-06-02210\", \"HTMCP-03-06-02213\", \"HTMCP-03-06-02214\", \"HTMCP-03-06-02215\", \"HTMCP-03-06-02216\", \"HTMCP-03-06-02217\", \"HTMCP-03-06-02219\", \"HTMCP-03-06-02222\", \"HTMCP-03-06-02225\", \"HTMCP-03-06-02230\", \"HTMCP-03-06-02235\", \"HTMCP-03-06-02238\", \"HTMCP-03-06-02239\", \"HTMCP-03-06-02240\", \"HTMCP-03-06-02242\", \"HTMCP-03-06-02256\", \"HTMCP-03-06-02259\", \"HTMCP-03-06-02260\", \"HTMCP-03-06-02261\", \"HTMCP-03-06-02262\", \"HTMCP-03-06-02264\", \"HTMCP-03-06-02266\", \"HTMCP-03-06-02267\", \"HTMCP-03-06-02268\", \"HTMCP-03-06-02320\", \"HTMCP-03-06-02322\", \"HTMCP-03-06-02326\", \"HTMCP-03-06-02328\", \"HTMCP-03-06-02330\", \"HTMCP-03-06-02332\", \"HTMCP-03-06-02333\", \"HTMCP-03-06-02335\", \"HTMCP-03-06-02340\", \"HTMCP-03-06-02341\", \"HTMCP-03-06-02344\", \"HTMCP-03-06-02346\", \"HTMCP-03-06-02354\", \"HTMCP-03-06-02377\", \"HTMCP-03-06-02392\", \"HTMCP-03-06-02393\", \"HTMCP-03-06-02396\", \"HTMCP-03-06-02411\", \"HTMCP-03-06-02414\", \"HTMCP-03-06-02417\", \"HTMCP-03-06-02424\", \"HTMCP-03-06-02427\", \"HTMCP-03-06-02428\", \"HTMCP-03-06-02434\", \"HTMCP-03-06-02435\", \"HTMCP-03-06-02437\", \"HTMCP-03-06-02441\", \"HTMCP-03-06-02442\", \"HTMCP-03-06-02447\"], \"type\": \"box\", \"y\": [44.4223, 47.1335, 80.766, 25.2229, 61.402, 46.7803, 70.4637, 83.4918, 47.8707, 60.8798, 59.6889, 54.6406, 21.4314, 18.2467, 81.2491, 46.2847, 64.2076, 21.065, 20.9111, 36.4102, 99.988, 30.0456, 2.2565, 58.6825, 54.6016, 22.7976, 85.1239, 55.4429, 42.6026, 55.2636, 111.6664, 64.1355, 105.0579, 14.3185, 36.0927, 116.05, 81.5787, 5.6918, 80.2916, 36.8536, 48.5411, 29.2598, 125.753, 1.7669, 29.785, 27.9559, 58.4993, 34.3671, 83.4261, 70.3186, 37.2017, 66.1345, 28.3869, 109.1748, 14.0036, 55.3963, 92.2698, 61.4618, 94.3913, 132.989, 56.3509, 1.682, 17.69, 36.8903, 29.9278, 29.9808, 54.7158, 18.9972, 35.9064, 89.705, 63.0926, 14.4413, 21.1442, 22.4222, 42.2796, 4.9673, 27.4793, 57.2239, 70.8113, 74.1078, 49.0658, 113.9352, 39.8292, 80.1003, 50.9809, 107.8754, 38.76300000000001, 160.5809, 53.2214, 60.0899, 37.9248, 12.2405, 22.6446, 91.481, 55.2053, 26.9003, 26.594, 52.5018, 8.8408, 45.2681, 45.121, 118.1305, 87.6108, 28.6501, 84.37200000000001, 1.962, 187.279, 14.9728, 33.2341, 44.7186, 56.4884, 69.4016, 96.296, 85.0967, 40.5085, 40.3458, 19.1921, 38.1877]}, {\"boxpoints\": \"all\", \"jitter\": 0.25, \"name\": \"NEGR1\", \"pointpos\": 0, \"text\": [\"HTMCP-03-06-02001\", \"HTMCP-03-06-02002\", \"HTMCP-03-06-02003\", \"HTMCP-03-06-02006\", \"HTMCP-03-06-02008\", \"HTMCP-03-06-02012\", \"HTMCP-03-06-02013\", \"HTMCP-03-06-02020\", \"HTMCP-03-06-02036\", \"HTMCP-03-06-02037\", \"HTMCP-03-06-02040\", \"HTMCP-03-06-02042\", \"HTMCP-03-06-02046\", \"HTMCP-03-06-02047\", \"HTMCP-03-06-02054\", \"HTMCP-03-06-02057\", \"HTMCP-03-06-02058\", \"HTMCP-03-06-02063\", \"HTMCP-03-06-02068\", \"HTMCP-03-06-02070\", \"HTMCP-03-06-02071\", \"HTMCP-03-06-02074\", \"HTMCP-03-06-02075\", \"HTMCP-03-06-02076\", \"HTMCP-03-06-02089\", \"HTMCP-03-06-02092\", \"HTMCP-03-06-02097\", \"HTMCP-03-06-02098\", \"HTMCP-03-06-02099\", \"HTMCP-03-06-02103\", \"HTMCP-03-06-02108\", \"HTMCP-03-06-02109\", \"HTMCP-03-06-02110\", \"HTMCP-03-06-02113\", \"HTMCP-03-06-02120\", \"HTMCP-03-06-02125\", \"HTMCP-03-06-02128\", \"HTMCP-03-06-02139\", \"HTMCP-03-06-02144\", \"HTMCP-03-06-02145\", \"HTMCP-03-06-02147\", \"HTMCP-03-06-02148\", \"HTMCP-03-06-02149\", \"HTMCP-03-06-02150\", \"HTMCP-03-06-02151\", \"HTMCP-03-06-02152\", \"HTMCP-03-06-02155\", \"HTMCP-03-06-02156\", \"HTMCP-03-06-02170\", \"HTMCP-03-06-02174\", \"HTMCP-03-06-02175\", \"HTMCP-03-06-02176\", \"HTMCP-03-06-02179\", \"HTMCP-03-06-02180\", \"HTMCP-03-06-02182\", \"HTMCP-03-06-02185\", \"HTMCP-03-06-02194\", \"HTMCP-03-06-02195\", \"HTMCP-03-06-02196\", \"HTMCP-03-06-02197\", \"HTMCP-03-06-02202\", \"HTMCP-03-06-02203\", \"HTMCP-03-06-02204\", \"HTMCP-03-06-02205\", \"HTMCP-03-06-02209\", \"HTMCP-03-06-02210\", \"HTMCP-03-06-02213\", \"HTMCP-03-06-02214\", \"HTMCP-03-06-02215\", \"HTMCP-03-06-02216\", \"HTMCP-03-06-02217\", \"HTMCP-03-06-02219\", \"HTMCP-03-06-02222\", \"HTMCP-03-06-02225\", \"HTMCP-03-06-02230\", \"HTMCP-03-06-02235\", \"HTMCP-03-06-02238\", \"HTMCP-03-06-02239\", \"HTMCP-03-06-02240\", \"HTMCP-03-06-02242\", \"HTMCP-03-06-02256\", \"HTMCP-03-06-02259\", \"HTMCP-03-06-02260\", \"HTMCP-03-06-02261\", \"HTMCP-03-06-02262\", \"HTMCP-03-06-02264\", \"HTMCP-03-06-02266\", \"HTMCP-03-06-02267\", \"HTMCP-03-06-02268\", \"HTMCP-03-06-02320\", \"HTMCP-03-06-02322\", \"HTMCP-03-06-02326\", \"HTMCP-03-06-02328\", \"HTMCP-03-06-02330\", \"HTMCP-03-06-02332\", \"HTMCP-03-06-02333\", \"HTMCP-03-06-02335\", \"HTMCP-03-06-02340\", \"HTMCP-03-06-02341\", \"HTMCP-03-06-02344\", \"HTMCP-03-06-02346\", \"HTMCP-03-06-02354\", \"HTMCP-03-06-02377\", \"HTMCP-03-06-02392\", \"HTMCP-03-06-02393\", \"HTMCP-03-06-02396\", \"HTMCP-03-06-02411\", \"HTMCP-03-06-02414\", \"HTMCP-03-06-02417\", \"HTMCP-03-06-02424\", \"HTMCP-03-06-02427\", \"HTMCP-03-06-02428\", \"HTMCP-03-06-02434\", \"HTMCP-03-06-02435\", \"HTMCP-03-06-02437\", \"HTMCP-03-06-02441\", \"HTMCP-03-06-02442\", \"HTMCP-03-06-02447\"], \"type\": \"box\", \"y\": [0.151, 0.0664, 0.4958, 0.5199, 0.9301, 0.7337, 0.1497, 0.7084, 0.2194, 0.0667, 0.3146, 0.2325, 0.8254, 0.2253, 0.2024, 0.0205, 0.0599, 0.3643, 0.247, 0.3357, 0.1812, 0.2411, 0.7266, 0.0484, 0.106, 0.821, 1.0142, 0.1829, 1.3292, 1.1397, 0.1833, 0.9781, 0.3662, 1.0609, 0.1124, 0.0469, 0.2122, 0.1976, 0.0472, 0.1073, 0.0257, 0.0025, 0.6459, 0.1529, 0.2346, 1.8567, 0.6949, 0.365, 0.436, 0.2041, 0.7097, 0.1189, 1.1758, 0.1814, 0.2361, 11.8954, 0.1591, 0.1214, 0.17, 0.2707, 0.1425, 1.3418, 2.4855, 0.0031, 0.0361, 0.3277, 0.4512, 0.1922, 0.4389, 3.8504, 0.1889, 0.5820000000000001, 0.1204, 0.2222, 0.4469, 0.2163, 0.5445, 0.3497, 0.3429, 0.0598, 0.1651, 0.2251, 0.0745, 3.4897, 0.1187, 0.0333, 0.4565, 1.9182, 0.5269, 2.7985, 2.0767, 0.1983, 0.3019, 52.4485, 0.3673, 0.1312, 0.5491, 0.7164, 1.1361, 0.2242, 1.866, 0.1131, 2.1304, 0.1379, 0.0544, 0.33, 0.1701, 0.0874, 0.3148, 0.0343, 0.1598, 0.3997, 0.4448, 0.0326, 0.3123, 0.214, 0.2354, 0.8915]}, {\"boxpoints\": \"all\", \"jitter\": 0.25, \"name\": \"NFKB1\", \"pointpos\": 0, \"text\": [\"HTMCP-03-06-02001\", \"HTMCP-03-06-02002\", \"HTMCP-03-06-02003\", \"HTMCP-03-06-02006\", \"HTMCP-03-06-02008\", \"HTMCP-03-06-02012\", \"HTMCP-03-06-02013\", \"HTMCP-03-06-02020\", \"HTMCP-03-06-02036\", \"HTMCP-03-06-02037\", \"HTMCP-03-06-02040\", \"HTMCP-03-06-02042\", \"HTMCP-03-06-02046\", \"HTMCP-03-06-02047\", \"HTMCP-03-06-02054\", \"HTMCP-03-06-02057\", \"HTMCP-03-06-02058\", \"HTMCP-03-06-02063\", \"HTMCP-03-06-02068\", \"HTMCP-03-06-02070\", \"HTMCP-03-06-02071\", \"HTMCP-03-06-02074\", \"HTMCP-03-06-02075\", \"HTMCP-03-06-02076\", \"HTMCP-03-06-02089\", \"HTMCP-03-06-02092\", \"HTMCP-03-06-02097\", \"HTMCP-03-06-02098\", \"HTMCP-03-06-02099\", \"HTMCP-03-06-02103\", \"HTMCP-03-06-02108\", \"HTMCP-03-06-02109\", \"HTMCP-03-06-02110\", \"HTMCP-03-06-02113\", \"HTMCP-03-06-02120\", \"HTMCP-03-06-02125\", \"HTMCP-03-06-02128\", \"HTMCP-03-06-02139\", \"HTMCP-03-06-02144\", \"HTMCP-03-06-02145\", \"HTMCP-03-06-02147\", \"HTMCP-03-06-02148\", \"HTMCP-03-06-02149\", \"HTMCP-03-06-02150\", \"HTMCP-03-06-02151\", \"HTMCP-03-06-02152\", \"HTMCP-03-06-02155\", \"HTMCP-03-06-02156\", \"HTMCP-03-06-02170\", \"HTMCP-03-06-02174\", \"HTMCP-03-06-02175\", \"HTMCP-03-06-02176\", \"HTMCP-03-06-02179\", \"HTMCP-03-06-02180\", \"HTMCP-03-06-02182\", \"HTMCP-03-06-02185\", \"HTMCP-03-06-02194\", \"HTMCP-03-06-02195\", \"HTMCP-03-06-02196\", \"HTMCP-03-06-02197\", \"HTMCP-03-06-02202\", \"HTMCP-03-06-02203\", \"HTMCP-03-06-02204\", \"HTMCP-03-06-02205\", \"HTMCP-03-06-02209\", \"HTMCP-03-06-02210\", \"HTMCP-03-06-02213\", \"HTMCP-03-06-02214\", \"HTMCP-03-06-02215\", \"HTMCP-03-06-02216\", \"HTMCP-03-06-02217\", \"HTMCP-03-06-02219\", \"HTMCP-03-06-02222\", \"HTMCP-03-06-02225\", \"HTMCP-03-06-02230\", \"HTMCP-03-06-02235\", \"HTMCP-03-06-02238\", \"HTMCP-03-06-02239\", \"HTMCP-03-06-02240\", \"HTMCP-03-06-02242\", \"HTMCP-03-06-02256\", \"HTMCP-03-06-02259\", \"HTMCP-03-06-02260\", \"HTMCP-03-06-02261\", \"HTMCP-03-06-02262\", \"HTMCP-03-06-02264\", \"HTMCP-03-06-02266\", \"HTMCP-03-06-02267\", \"HTMCP-03-06-02268\", \"HTMCP-03-06-02320\", \"HTMCP-03-06-02322\", \"HTMCP-03-06-02326\", \"HTMCP-03-06-02328\", \"HTMCP-03-06-02330\", \"HTMCP-03-06-02332\", \"HTMCP-03-06-02333\", \"HTMCP-03-06-02335\", \"HTMCP-03-06-02340\", \"HTMCP-03-06-02341\", \"HTMCP-03-06-02344\", \"HTMCP-03-06-02346\", \"HTMCP-03-06-02354\", \"HTMCP-03-06-02377\", \"HTMCP-03-06-02392\", \"HTMCP-03-06-02393\", \"HTMCP-03-06-02396\", \"HTMCP-03-06-02411\", \"HTMCP-03-06-02414\", \"HTMCP-03-06-02417\", \"HTMCP-03-06-02424\", \"HTMCP-03-06-02427\", \"HTMCP-03-06-02428\", \"HTMCP-03-06-02434\", \"HTMCP-03-06-02435\", \"HTMCP-03-06-02437\", \"HTMCP-03-06-02441\", \"HTMCP-03-06-02442\", \"HTMCP-03-06-02447\"], \"type\": \"box\", \"y\": [28.2237, 24.0621, 17.0343, 13.5955, 16.2171, 18.397, 13.4999, 21.2224, 12.218, 19.68, 26.2583, 27.6675, 29.0421, 6.3334, 25.6101, 16.6729, 19.4434, 18.7138, 15.2578, 18.2283, 26.6899, 16.2708, 8.6915, 27.2334, 24.9808, 20.2707, 10.2437, 13.8193, 13.4672, 12.0099, 20.1275, 12.6562, 8.6084, 19.7435, 17.319000000000006, 15.5375, 10.8303, 8.4289, 17.9198, 21.8732, 18.5624, 13.7395, 12.628, 20.6925, 13.4859, 19.0282, 19.9682, 6.766, 20.2401, 13.192, 22.4176, 16.8085, 8.642000000000001, 10.5252, 8.2937, 20.0927, 16.3293, 12.8189, 36.0301, 25.7642, 13.3857, 8.6315, 19.5873, 9.1895, 22.2918, 18.2304, 20.4657, 19.3432, 22.4989, 16.8446, 28.9681, 13.4487, 10.9741, 14.0941, 8.3429, 8.8427, 20.9951, 18.8597, 13.2245, 14.9272, 31.1008, 15.5027, 45.3536, 12.6066, 21.9292, 23.2066, 18.4981, 15.0554, 16.1171, 25.3278, 19.3624, 16.0973, 18.5304, 12.0033, 17.2456, 24.9588, 24.0805, 19.1381, 14.9959, 13.8579, 21.3617, 18.6654, 19.1461, 15.7555, 19.3791, 10.3067, 16.0834, 6.1846, 24.9097, 12.8734, 9.9673, 15.544, 23.3367, 13.447, 11.743, 13.6395, 18.1081, 18.0021]}, {\"boxpoints\": \"all\", \"jitter\": 0.25, \"name\": \"NFKB2\", \"pointpos\": 0, \"text\": [\"HTMCP-03-06-02001\", \"HTMCP-03-06-02002\", \"HTMCP-03-06-02003\", \"HTMCP-03-06-02006\", \"HTMCP-03-06-02008\", \"HTMCP-03-06-02012\", \"HTMCP-03-06-02013\", \"HTMCP-03-06-02020\", \"HTMCP-03-06-02036\", \"HTMCP-03-06-02037\", \"HTMCP-03-06-02040\", \"HTMCP-03-06-02042\", \"HTMCP-03-06-02046\", \"HTMCP-03-06-02047\", \"HTMCP-03-06-02054\", \"HTMCP-03-06-02057\", \"HTMCP-03-06-02058\", \"HTMCP-03-06-02063\", \"HTMCP-03-06-02068\", \"HTMCP-03-06-02070\", \"HTMCP-03-06-02071\", \"HTMCP-03-06-02074\", \"HTMCP-03-06-02075\", \"HTMCP-03-06-02076\", \"HTMCP-03-06-02089\", \"HTMCP-03-06-02092\", \"HTMCP-03-06-02097\", \"HTMCP-03-06-02098\", \"HTMCP-03-06-02099\", \"HTMCP-03-06-02103\", \"HTMCP-03-06-02108\", \"HTMCP-03-06-02109\", \"HTMCP-03-06-02110\", \"HTMCP-03-06-02113\", \"HTMCP-03-06-02120\", \"HTMCP-03-06-02125\", \"HTMCP-03-06-02128\", \"HTMCP-03-06-02139\", \"HTMCP-03-06-02144\", \"HTMCP-03-06-02145\", \"HTMCP-03-06-02147\", \"HTMCP-03-06-02148\", \"HTMCP-03-06-02149\", \"HTMCP-03-06-02150\", \"HTMCP-03-06-02151\", \"HTMCP-03-06-02152\", \"HTMCP-03-06-02155\", \"HTMCP-03-06-02156\", \"HTMCP-03-06-02170\", \"HTMCP-03-06-02174\", \"HTMCP-03-06-02175\", \"HTMCP-03-06-02176\", \"HTMCP-03-06-02179\", \"HTMCP-03-06-02180\", \"HTMCP-03-06-02182\", \"HTMCP-03-06-02185\", \"HTMCP-03-06-02194\", \"HTMCP-03-06-02195\", \"HTMCP-03-06-02196\", \"HTMCP-03-06-02197\", \"HTMCP-03-06-02202\", \"HTMCP-03-06-02203\", \"HTMCP-03-06-02204\", \"HTMCP-03-06-02205\", \"HTMCP-03-06-02209\", \"HTMCP-03-06-02210\", \"HTMCP-03-06-02213\", \"HTMCP-03-06-02214\", \"HTMCP-03-06-02215\", \"HTMCP-03-06-02216\", \"HTMCP-03-06-02217\", \"HTMCP-03-06-02219\", \"HTMCP-03-06-02222\", \"HTMCP-03-06-02225\", \"HTMCP-03-06-02230\", \"HTMCP-03-06-02235\", \"HTMCP-03-06-02238\", \"HTMCP-03-06-02239\", \"HTMCP-03-06-02240\", \"HTMCP-03-06-02242\", \"HTMCP-03-06-02256\", \"HTMCP-03-06-02259\", \"HTMCP-03-06-02260\", \"HTMCP-03-06-02261\", \"HTMCP-03-06-02262\", \"HTMCP-03-06-02264\", \"HTMCP-03-06-02266\", \"HTMCP-03-06-02267\", \"HTMCP-03-06-02268\", \"HTMCP-03-06-02320\", \"HTMCP-03-06-02322\", \"HTMCP-03-06-02326\", \"HTMCP-03-06-02328\", \"HTMCP-03-06-02330\", \"HTMCP-03-06-02332\", \"HTMCP-03-06-02333\", \"HTMCP-03-06-02335\", \"HTMCP-03-06-02340\", \"HTMCP-03-06-02341\", \"HTMCP-03-06-02344\", \"HTMCP-03-06-02346\", \"HTMCP-03-06-02354\", \"HTMCP-03-06-02377\", \"HTMCP-03-06-02392\", \"HTMCP-03-06-02393\", \"HTMCP-03-06-02396\", \"HTMCP-03-06-02411\", \"HTMCP-03-06-02414\", \"HTMCP-03-06-02417\", \"HTMCP-03-06-02424\", \"HTMCP-03-06-02427\", \"HTMCP-03-06-02428\", \"HTMCP-03-06-02434\", \"HTMCP-03-06-02435\", \"HTMCP-03-06-02437\", \"HTMCP-03-06-02441\", \"HTMCP-03-06-02442\", \"HTMCP-03-06-02447\"], \"type\": \"box\", \"y\": [25.324, 11.3559, 16.5314, 10.4378, 17.0621, 21.2439, 17.9354, 19.1262, 14.5133, 16.3607, 16.6973, 14.2423, 31.2155, 22.3231, 15.8195, 10.8104, 34.6696, 12.8264, 16.6546, 19.2065, 16.9835, 21.0002, 13.9419, 43.7061, 22.5882, 20.768, 31.6109, 70.5923, 33.8961, 23.7576, 23.5736, 9.8326, 8.5763, 15.6621, 16.8098, 25.3204, 10.5244, 17.6255, 23.4842, 12.5596, 10.7969, 6.8849, 21.6388, 17.313, 7.6078, 19.6632, 20.2801, 9.9269, 33.8267, 21.3623, 10.4918, 22.7539, 11.4704, 15.2762, 24.4268, 32.6141, 13.4474, 7.6684, 34.934, 46.1957, 21.6792, 7.4582, 32.4417, 10.626, 17.1863, 17.0346, 14.0091, 23.018, 16.6653, 51.9974, 27.7576, 24.9236, 11.5512, 13.4807, 6.4187, 25.5049, 24.9515, 38.8538, 16.6213, 24.5056, 65.9402, 27.2108, 54.3793, 12.1556, 31.1875, 43.4158, 33.6005, 42.4444, 31.7164, 46.3548, 34.3901, 40.715, 31.9066, 35.3955, 28.9313, 34.96, 20.4241, 21.5969, 24.2161, 25.2652, 21.3839, 53.9141, 47.1772, 41.5425, 30.5432, 14.0932, 56.6425, 10.3356, 32.5257, 21.6164, 34.9443, 12.390999999999998, 43.3049, 13.369000000000002, 15.5578, 27.9222, 49.4812, 29.1755]}, {\"boxpoints\": \"all\", \"jitter\": 0.25, \"name\": \"POU5F1B\", \"pointpos\": 0, \"text\": [\"HTMCP-03-06-02001\", \"HTMCP-03-06-02002\", \"HTMCP-03-06-02003\", \"HTMCP-03-06-02006\", \"HTMCP-03-06-02008\", \"HTMCP-03-06-02012\", \"HTMCP-03-06-02013\", \"HTMCP-03-06-02020\", \"HTMCP-03-06-02036\", \"HTMCP-03-06-02037\", \"HTMCP-03-06-02040\", \"HTMCP-03-06-02042\", \"HTMCP-03-06-02046\", \"HTMCP-03-06-02047\", \"HTMCP-03-06-02054\", \"HTMCP-03-06-02057\", \"HTMCP-03-06-02058\", \"HTMCP-03-06-02063\", \"HTMCP-03-06-02068\", \"HTMCP-03-06-02070\", \"HTMCP-03-06-02071\", \"HTMCP-03-06-02074\", \"HTMCP-03-06-02075\", \"HTMCP-03-06-02076\", \"HTMCP-03-06-02089\", \"HTMCP-03-06-02092\", \"HTMCP-03-06-02097\", \"HTMCP-03-06-02098\", \"HTMCP-03-06-02099\", \"HTMCP-03-06-02103\", \"HTMCP-03-06-02108\", \"HTMCP-03-06-02109\", \"HTMCP-03-06-02110\", \"HTMCP-03-06-02113\", \"HTMCP-03-06-02120\", \"HTMCP-03-06-02125\", \"HTMCP-03-06-02128\", \"HTMCP-03-06-02139\", \"HTMCP-03-06-02144\", \"HTMCP-03-06-02145\", \"HTMCP-03-06-02147\", \"HTMCP-03-06-02148\", \"HTMCP-03-06-02149\", \"HTMCP-03-06-02150\", \"HTMCP-03-06-02151\", \"HTMCP-03-06-02152\", \"HTMCP-03-06-02155\", \"HTMCP-03-06-02156\", \"HTMCP-03-06-02170\", \"HTMCP-03-06-02174\", \"HTMCP-03-06-02175\", \"HTMCP-03-06-02176\", \"HTMCP-03-06-02179\", \"HTMCP-03-06-02180\", \"HTMCP-03-06-02182\", \"HTMCP-03-06-02185\", \"HTMCP-03-06-02194\", \"HTMCP-03-06-02195\", \"HTMCP-03-06-02196\", \"HTMCP-03-06-02197\", \"HTMCP-03-06-02202\", \"HTMCP-03-06-02203\", \"HTMCP-03-06-02204\", \"HTMCP-03-06-02205\", \"HTMCP-03-06-02209\", \"HTMCP-03-06-02210\", \"HTMCP-03-06-02213\", \"HTMCP-03-06-02214\", \"HTMCP-03-06-02215\", \"HTMCP-03-06-02216\", \"HTMCP-03-06-02217\", \"HTMCP-03-06-02219\", \"HTMCP-03-06-02222\", \"HTMCP-03-06-02225\", \"HTMCP-03-06-02230\", \"HTMCP-03-06-02235\", \"HTMCP-03-06-02238\", \"HTMCP-03-06-02239\", \"HTMCP-03-06-02240\", \"HTMCP-03-06-02242\", \"HTMCP-03-06-02256\", \"HTMCP-03-06-02259\", \"HTMCP-03-06-02260\", \"HTMCP-03-06-02261\", \"HTMCP-03-06-02262\", \"HTMCP-03-06-02264\", \"HTMCP-03-06-02266\", \"HTMCP-03-06-02267\", \"HTMCP-03-06-02268\", \"HTMCP-03-06-02320\", \"HTMCP-03-06-02322\", \"HTMCP-03-06-02326\", \"HTMCP-03-06-02328\", \"HTMCP-03-06-02330\", \"HTMCP-03-06-02332\", \"HTMCP-03-06-02333\", \"HTMCP-03-06-02335\", \"HTMCP-03-06-02340\", \"HTMCP-03-06-02341\", \"HTMCP-03-06-02344\", \"HTMCP-03-06-02346\", \"HTMCP-03-06-02354\", \"HTMCP-03-06-02377\", \"HTMCP-03-06-02392\", \"HTMCP-03-06-02393\", \"HTMCP-03-06-02396\", \"HTMCP-03-06-02411\", \"HTMCP-03-06-02414\", \"HTMCP-03-06-02417\", \"HTMCP-03-06-02424\", \"HTMCP-03-06-02427\", \"HTMCP-03-06-02428\", \"HTMCP-03-06-02434\", \"HTMCP-03-06-02435\", \"HTMCP-03-06-02437\", \"HTMCP-03-06-02441\", \"HTMCP-03-06-02442\", \"HTMCP-03-06-02447\"], \"type\": \"box\", \"y\": [0.0614, 0.1385, 0.0442, 0.4897, 0.0574, 0.0877, 0.8728, 0.0385, 0.0547, 0.0763, 0.0697, 0.1196, 0.0307, 0.0504, 0.0037, 0.0166, 0.0119, 0.0362, 0.0611, 0.0965, 0.0146, 0.025, 0.0341, 0.0102, 0.0186, 0.0391, 0.0316, 0.166, 0.0224, 0.0165, 0.0357, 0.0236, 0.0102, 0.0154, 0.0849, 0.0266, 0.0235, 0.0016, 0.0393, 0.0089, 0.0427, 0.0602, 0.0142, 0.0091, 0.0497, 0.0847, 0.196, 0.0225, 0.0228, 0.0217, 0.0255, 0.0331, 0.0138, 0.0286, 0.0099, 0.0, 0.0182, 0.041, 0.0064, 0.033, 0.1287, 0.0422, 0.0324, 0.0503, 0.0102, 0.0738, 0.052000000000000005, 0.2332, 0.0607, 0.0141, 0.2262, 0.0204, 0.0549, 0.0566, 0.1161, 0.0161, 0.0154, 0.0089, 0.1321, 0.0176, 0.0115, 0.0267, 0.0226, 0.0438, 0.0677, 0.0325, 0.3529, 0.0262, 0.0455, 0.0371, 0.0317, 0.0297, 0.0285, 0.0209, 0.0361, 0.0816, 0.0641, 0.0224, 0.0509, 0.014, 0.0284, 0.01, 0.0119, 0.0037, 0.217, 0.0365, 0.062, 0.0448, 0.0686, 0.0591, 0.0441, 1.6372, 0.0234, 0.0632, 0.0261, 0.0676, 0.0194, 0.0224]}, {\"boxpoints\": \"all\", \"jitter\": 0.25, \"name\": \"SCAF11\", \"pointpos\": 0, \"text\": [\"HTMCP-03-06-02001\", \"HTMCP-03-06-02002\", \"HTMCP-03-06-02003\", \"HTMCP-03-06-02006\", \"HTMCP-03-06-02008\", \"HTMCP-03-06-02012\", \"HTMCP-03-06-02013\", \"HTMCP-03-06-02020\", \"HTMCP-03-06-02036\", \"HTMCP-03-06-02037\", \"HTMCP-03-06-02040\", \"HTMCP-03-06-02042\", \"HTMCP-03-06-02046\", \"HTMCP-03-06-02047\", \"HTMCP-03-06-02054\", \"HTMCP-03-06-02057\", \"HTMCP-03-06-02058\", \"HTMCP-03-06-02063\", \"HTMCP-03-06-02068\", \"HTMCP-03-06-02070\", \"HTMCP-03-06-02071\", \"HTMCP-03-06-02074\", \"HTMCP-03-06-02075\", \"HTMCP-03-06-02076\", \"HTMCP-03-06-02089\", \"HTMCP-03-06-02092\", \"HTMCP-03-06-02097\", \"HTMCP-03-06-02098\", \"HTMCP-03-06-02099\", \"HTMCP-03-06-02103\", \"HTMCP-03-06-02108\", \"HTMCP-03-06-02109\", \"HTMCP-03-06-02110\", \"HTMCP-03-06-02113\", \"HTMCP-03-06-02120\", \"HTMCP-03-06-02125\", \"HTMCP-03-06-02128\", \"HTMCP-03-06-02139\", \"HTMCP-03-06-02144\", \"HTMCP-03-06-02145\", \"HTMCP-03-06-02147\", \"HTMCP-03-06-02148\", \"HTMCP-03-06-02149\", \"HTMCP-03-06-02150\", \"HTMCP-03-06-02151\", \"HTMCP-03-06-02152\", \"HTMCP-03-06-02155\", \"HTMCP-03-06-02156\", \"HTMCP-03-06-02170\", \"HTMCP-03-06-02174\", \"HTMCP-03-06-02175\", \"HTMCP-03-06-02176\", \"HTMCP-03-06-02179\", \"HTMCP-03-06-02180\", \"HTMCP-03-06-02182\", \"HTMCP-03-06-02185\", \"HTMCP-03-06-02194\", \"HTMCP-03-06-02195\", \"HTMCP-03-06-02196\", \"HTMCP-03-06-02197\", \"HTMCP-03-06-02202\", \"HTMCP-03-06-02203\", \"HTMCP-03-06-02204\", \"HTMCP-03-06-02205\", \"HTMCP-03-06-02209\", \"HTMCP-03-06-02210\", \"HTMCP-03-06-02213\", \"HTMCP-03-06-02214\", \"HTMCP-03-06-02215\", \"HTMCP-03-06-02216\", \"HTMCP-03-06-02217\", \"HTMCP-03-06-02219\", \"HTMCP-03-06-02222\", \"HTMCP-03-06-02225\", \"HTMCP-03-06-02230\", \"HTMCP-03-06-02235\", \"HTMCP-03-06-02238\", \"HTMCP-03-06-02239\", \"HTMCP-03-06-02240\", \"HTMCP-03-06-02242\", \"HTMCP-03-06-02256\", \"HTMCP-03-06-02259\", \"HTMCP-03-06-02260\", \"HTMCP-03-06-02261\", \"HTMCP-03-06-02262\", \"HTMCP-03-06-02264\", \"HTMCP-03-06-02266\", \"HTMCP-03-06-02267\", \"HTMCP-03-06-02268\", \"HTMCP-03-06-02320\", \"HTMCP-03-06-02322\", \"HTMCP-03-06-02326\", \"HTMCP-03-06-02328\", \"HTMCP-03-06-02330\", \"HTMCP-03-06-02332\", \"HTMCP-03-06-02333\", \"HTMCP-03-06-02335\", \"HTMCP-03-06-02340\", \"HTMCP-03-06-02341\", \"HTMCP-03-06-02344\", \"HTMCP-03-06-02346\", \"HTMCP-03-06-02354\", \"HTMCP-03-06-02377\", \"HTMCP-03-06-02392\", \"HTMCP-03-06-02393\", \"HTMCP-03-06-02396\", \"HTMCP-03-06-02411\", \"HTMCP-03-06-02414\", \"HTMCP-03-06-02417\", \"HTMCP-03-06-02424\", \"HTMCP-03-06-02427\", \"HTMCP-03-06-02428\", \"HTMCP-03-06-02434\", \"HTMCP-03-06-02435\", \"HTMCP-03-06-02437\", \"HTMCP-03-06-02441\", \"HTMCP-03-06-02442\", \"HTMCP-03-06-02447\"], \"type\": \"box\", \"y\": [8.1612, 8.6626, 10.6095, 17.5457, 9.8895, 7.7069, 9.0705, 11.6783, 11.6606, 9.9449, 13.0205, 9.554, 12.4027, 7.7973, 6.942, 6.9804, 11.8305, 11.3183, 10.6327, 12.8989, 12.626, 9.6597, 6.8097, 7.7282, 9.6447, 14.6886, 10.4457, 13.0335, 8.6666, 7.2593, 9.7217, 14.7047, 13.0798, 11.7976, 13.1697, 11.2507, 11.4463, 9.9692, 13.1109, 13.2213, 6.8499, 9.2147, 7.9478, 9.4566, 8.0211, 9.6748, 8.6587, 8.4103, 10.6185, 9.9861, 6.3586, 11.4084, 10.7574, 9.1793, 8.6139, 8.186, 7.7456, 6.7321, 9.7899, 12.4333, 9.7095, 4.2195, 11.4118, 6.1164, 6.1093, 6.0195, 8.1107, 5.3826, 13.275, 5.7036, 10.534, 6.3191, 12.3389, 7.2434, 9.7456, 5.8542, 9.192, 8.3421, 7.8207, 9.6523, 9.9389, 11.1005, 7.222, 8.5831, 9.8488, 5.6336, 16.0184, 8.1264, 8.5827, 7.4327, 7.2010000000000005, 9.619, 9.9763, 6.9703, 8.2333, 7.2908, 8.9212, 7.0595, 8.6709, 7.8477, 6.7256, 8.1595, 9.8791, 9.1102, 3.8422, 6.9154, 6.6411, 7.5367, 8.0652, 4.5904, 7.3652, 12.2561, 11.743, 10.665, 8.9437, 7.7611, 6.1294, 13.2269]}, {\"boxpoints\": \"all\", \"jitter\": 0.25, \"name\": \"STK11\", \"pointpos\": 0, \"text\": [\"HTMCP-03-06-02001\", \"HTMCP-03-06-02002\", \"HTMCP-03-06-02003\", \"HTMCP-03-06-02006\", \"HTMCP-03-06-02008\", \"HTMCP-03-06-02012\", \"HTMCP-03-06-02013\", \"HTMCP-03-06-02020\", \"HTMCP-03-06-02036\", \"HTMCP-03-06-02037\", \"HTMCP-03-06-02040\", \"HTMCP-03-06-02042\", \"HTMCP-03-06-02046\", \"HTMCP-03-06-02047\", \"HTMCP-03-06-02054\", \"HTMCP-03-06-02057\", \"HTMCP-03-06-02058\", \"HTMCP-03-06-02063\", \"HTMCP-03-06-02068\", \"HTMCP-03-06-02070\", \"HTMCP-03-06-02071\", \"HTMCP-03-06-02074\", \"HTMCP-03-06-02075\", \"HTMCP-03-06-02076\", \"HTMCP-03-06-02089\", \"HTMCP-03-06-02092\", \"HTMCP-03-06-02097\", \"HTMCP-03-06-02098\", \"HTMCP-03-06-02099\", \"HTMCP-03-06-02103\", \"HTMCP-03-06-02108\", \"HTMCP-03-06-02109\", \"HTMCP-03-06-02110\", \"HTMCP-03-06-02113\", \"HTMCP-03-06-02120\", \"HTMCP-03-06-02125\", \"HTMCP-03-06-02128\", \"HTMCP-03-06-02139\", \"HTMCP-03-06-02144\", \"HTMCP-03-06-02145\", \"HTMCP-03-06-02147\", \"HTMCP-03-06-02148\", \"HTMCP-03-06-02149\", \"HTMCP-03-06-02150\", \"HTMCP-03-06-02151\", \"HTMCP-03-06-02152\", \"HTMCP-03-06-02155\", \"HTMCP-03-06-02156\", \"HTMCP-03-06-02170\", \"HTMCP-03-06-02174\", \"HTMCP-03-06-02175\", \"HTMCP-03-06-02176\", \"HTMCP-03-06-02179\", \"HTMCP-03-06-02180\", \"HTMCP-03-06-02182\", \"HTMCP-03-06-02185\", \"HTMCP-03-06-02194\", \"HTMCP-03-06-02195\", \"HTMCP-03-06-02196\", \"HTMCP-03-06-02197\", \"HTMCP-03-06-02202\", \"HTMCP-03-06-02203\", \"HTMCP-03-06-02204\", \"HTMCP-03-06-02205\", \"HTMCP-03-06-02209\", \"HTMCP-03-06-02210\", \"HTMCP-03-06-02213\", \"HTMCP-03-06-02214\", \"HTMCP-03-06-02215\", \"HTMCP-03-06-02216\", \"HTMCP-03-06-02217\", \"HTMCP-03-06-02219\", \"HTMCP-03-06-02222\", \"HTMCP-03-06-02225\", \"HTMCP-03-06-02230\", \"HTMCP-03-06-02235\", \"HTMCP-03-06-02238\", \"HTMCP-03-06-02239\", \"HTMCP-03-06-02240\", \"HTMCP-03-06-02242\", \"HTMCP-03-06-02256\", \"HTMCP-03-06-02259\", \"HTMCP-03-06-02260\", \"HTMCP-03-06-02261\", \"HTMCP-03-06-02262\", \"HTMCP-03-06-02264\", \"HTMCP-03-06-02266\", \"HTMCP-03-06-02267\", \"HTMCP-03-06-02268\", \"HTMCP-03-06-02320\", \"HTMCP-03-06-02322\", \"HTMCP-03-06-02326\", \"HTMCP-03-06-02328\", \"HTMCP-03-06-02330\", \"HTMCP-03-06-02332\", \"HTMCP-03-06-02333\", \"HTMCP-03-06-02335\", \"HTMCP-03-06-02340\", \"HTMCP-03-06-02341\", \"HTMCP-03-06-02344\", \"HTMCP-03-06-02346\", \"HTMCP-03-06-02354\", \"HTMCP-03-06-02377\", \"HTMCP-03-06-02392\", \"HTMCP-03-06-02393\", \"HTMCP-03-06-02396\", \"HTMCP-03-06-02411\", \"HTMCP-03-06-02414\", \"HTMCP-03-06-02417\", \"HTMCP-03-06-02424\", \"HTMCP-03-06-02427\", \"HTMCP-03-06-02428\", \"HTMCP-03-06-02434\", \"HTMCP-03-06-02435\", \"HTMCP-03-06-02437\", \"HTMCP-03-06-02441\", \"HTMCP-03-06-02442\", \"HTMCP-03-06-02447\"], \"type\": \"box\", \"y\": [7.7324, 3.7501, 4.8476, 10.8022, 6.268, 6.6824, 10.355, 6.9892, 7.3519, 0.9976, 5.1958, 10.3195, 26.917, 9.4374, 6.8346, 5.6644, 5.6457, 9.7473, 7.1472, 9.8336, 9.061, 7.5084, 3.2056, 4.1549, 7.0702, 6.5703, 2.5033, 8.1022, 1.843, 6.3811, 2.4306, 7.6891, 5.9612, 4.6575, 4.6324, 2.9723, 7.1631, 5.2343, 7.3439999999999985, 3.7431, 12.2283, 7.0584, 2.7447, 17.1284, 4.3496, 4.1344, 4.816, 0.4334, 4.3494, 5.386, 3.0457, 3.6215, 3.7398, 4.2646, 17.0934, 2.1653, 4.9285, 4.887, 7.1831, 7.174, 7.0136, 3.1704, 6.3749, 4.1789, 6.0236, 5.3041, 5.2965, 6.0852, 6.7010000000000005, 1.1753, 4.6948, 4.3463, 7.6078, 5.7412, 6.6293, 5.7249, 6.9282, 0.4834, 7.9707, 4.6979, 8.3144, 9.1851, 11.1848, 5.1459, 9.7177, 19.3426, 8.9736, 8.6276, 8.5613, 8.9623, 7.3792, 1.259, 8.7339, 5.6663, 8.6543, 9.4481, 6.8892, 5.8057, 5.5229, 6.1466, 1.7702, 1.5074, 3.3396, 8.504, 12.5885, 4.9097, 10.0636, 6.2405, 10.0551, 9.0745, 4.724, 9.3287, 0.6321, 2.8872, 7.9551, 5.0829, 3.2507, 8.6195]}],\n",
       "                        {\"height\": 400, \"template\": {\"data\": {\"bar\": [{\"error_x\": {\"color\": \"#2a3f5f\"}, \"error_y\": {\"color\": \"#2a3f5f\"}, \"marker\": {\"line\": {\"color\": \"#E5ECF6\", \"width\": 0.5}}, \"type\": \"bar\"}], \"barpolar\": [{\"marker\": {\"line\": {\"color\": \"#E5ECF6\", \"width\": 0.5}}, \"type\": \"barpolar\"}], \"carpet\": [{\"aaxis\": {\"endlinecolor\": \"#2a3f5f\", \"gridcolor\": \"white\", \"linecolor\": \"white\", \"minorgridcolor\": \"white\", \"startlinecolor\": \"#2a3f5f\"}, \"baxis\": {\"endlinecolor\": \"#2a3f5f\", \"gridcolor\": \"white\", \"linecolor\": \"white\", \"minorgridcolor\": \"white\", \"startlinecolor\": \"#2a3f5f\"}, \"type\": \"carpet\"}], \"choropleth\": [{\"colorbar\": {\"outlinewidth\": 0, \"ticks\": \"\"}, \"type\": \"choropleth\"}], \"contour\": [{\"colorbar\": {\"outlinewidth\": 0, \"ticks\": \"\"}, \"colorscale\": [[0.0, \"#0d0887\"], [0.1111111111111111, \"#46039f\"], [0.2222222222222222, \"#7201a8\"], [0.3333333333333333, \"#9c179e\"], [0.4444444444444444, \"#bd3786\"], [0.5555555555555556, \"#d8576b\"], [0.6666666666666666, \"#ed7953\"], [0.7777777777777778, \"#fb9f3a\"], [0.8888888888888888, \"#fdca26\"], [1.0, \"#f0f921\"]], \"type\": \"contour\"}], \"contourcarpet\": [{\"colorbar\": {\"outlinewidth\": 0, \"ticks\": \"\"}, \"type\": \"contourcarpet\"}], \"heatmap\": [{\"colorbar\": {\"outlinewidth\": 0, \"ticks\": \"\"}, \"colorscale\": [[0.0, \"#0d0887\"], [0.1111111111111111, \"#46039f\"], [0.2222222222222222, \"#7201a8\"], [0.3333333333333333, \"#9c179e\"], [0.4444444444444444, \"#bd3786\"], [0.5555555555555556, \"#d8576b\"], [0.6666666666666666, \"#ed7953\"], [0.7777777777777778, \"#fb9f3a\"], [0.8888888888888888, \"#fdca26\"], [1.0, \"#f0f921\"]], \"type\": \"heatmap\"}], \"heatmapgl\": [{\"colorbar\": {\"outlinewidth\": 0, \"ticks\": \"\"}, \"colorscale\": [[0.0, \"#0d0887\"], [0.1111111111111111, \"#46039f\"], [0.2222222222222222, \"#7201a8\"], [0.3333333333333333, \"#9c179e\"], [0.4444444444444444, \"#bd3786\"], [0.5555555555555556, \"#d8576b\"], [0.6666666666666666, \"#ed7953\"], [0.7777777777777778, \"#fb9f3a\"], [0.8888888888888888, \"#fdca26\"], [1.0, \"#f0f921\"]], \"type\": \"heatmapgl\"}], \"histogram\": [{\"marker\": {\"colorbar\": {\"outlinewidth\": 0, \"ticks\": \"\"}}, \"type\": \"histogram\"}], \"histogram2d\": [{\"colorbar\": {\"outlinewidth\": 0, \"ticks\": \"\"}, \"colorscale\": [[0.0, \"#0d0887\"], [0.1111111111111111, \"#46039f\"], [0.2222222222222222, \"#7201a8\"], [0.3333333333333333, \"#9c179e\"], [0.4444444444444444, \"#bd3786\"], [0.5555555555555556, \"#d8576b\"], [0.6666666666666666, \"#ed7953\"], [0.7777777777777778, \"#fb9f3a\"], [0.8888888888888888, \"#fdca26\"], [1.0, \"#f0f921\"]], \"type\": \"histogram2d\"}], \"histogram2dcontour\": [{\"colorbar\": {\"outlinewidth\": 0, \"ticks\": \"\"}, \"colorscale\": [[0.0, \"#0d0887\"], [0.1111111111111111, \"#46039f\"], [0.2222222222222222, \"#7201a8\"], [0.3333333333333333, \"#9c179e\"], [0.4444444444444444, \"#bd3786\"], [0.5555555555555556, \"#d8576b\"], [0.6666666666666666, \"#ed7953\"], [0.7777777777777778, \"#fb9f3a\"], [0.8888888888888888, \"#fdca26\"], [1.0, \"#f0f921\"]], \"type\": \"histogram2dcontour\"}], \"mesh3d\": [{\"colorbar\": {\"outlinewidth\": 0, \"ticks\": \"\"}, \"type\": \"mesh3d\"}], \"parcoords\": [{\"line\": {\"colorbar\": {\"outlinewidth\": 0, \"ticks\": \"\"}}, \"type\": \"parcoords\"}], \"pie\": [{\"automargin\": true, \"type\": \"pie\"}], \"scatter\": [{\"marker\": {\"colorbar\": {\"outlinewidth\": 0, \"ticks\": \"\"}}, \"type\": \"scatter\"}], \"scatter3d\": [{\"line\": {\"colorbar\": {\"outlinewidth\": 0, \"ticks\": \"\"}}, \"marker\": {\"colorbar\": {\"outlinewidth\": 0, \"ticks\": \"\"}}, \"type\": \"scatter3d\"}], \"scattercarpet\": [{\"marker\": {\"colorbar\": {\"outlinewidth\": 0, \"ticks\": \"\"}}, \"type\": \"scattercarpet\"}], \"scattergeo\": [{\"marker\": {\"colorbar\": {\"outlinewidth\": 0, \"ticks\": \"\"}}, \"type\": \"scattergeo\"}], \"scattergl\": [{\"marker\": {\"colorbar\": {\"outlinewidth\": 0, \"ticks\": \"\"}}, \"type\": \"scattergl\"}], \"scattermapbox\": [{\"marker\": {\"colorbar\": {\"outlinewidth\": 0, \"ticks\": \"\"}}, \"type\": \"scattermapbox\"}], \"scatterpolar\": [{\"marker\": {\"colorbar\": {\"outlinewidth\": 0, \"ticks\": \"\"}}, \"type\": \"scatterpolar\"}], \"scatterpolargl\": [{\"marker\": {\"colorbar\": {\"outlinewidth\": 0, \"ticks\": \"\"}}, \"type\": \"scatterpolargl\"}], \"scatterternary\": [{\"marker\": {\"colorbar\": {\"outlinewidth\": 0, \"ticks\": \"\"}}, \"type\": \"scatterternary\"}], \"surface\": [{\"colorbar\": {\"outlinewidth\": 0, \"ticks\": \"\"}, \"colorscale\": [[0.0, \"#0d0887\"], [0.1111111111111111, \"#46039f\"], [0.2222222222222222, \"#7201a8\"], [0.3333333333333333, \"#9c179e\"], [0.4444444444444444, \"#bd3786\"], [0.5555555555555556, \"#d8576b\"], [0.6666666666666666, \"#ed7953\"], [0.7777777777777778, \"#fb9f3a\"], [0.8888888888888888, \"#fdca26\"], [1.0, \"#f0f921\"]], \"type\": \"surface\"}], \"table\": [{\"cells\": {\"fill\": {\"color\": \"#EBF0F8\"}, \"line\": {\"color\": \"white\"}}, \"header\": {\"fill\": {\"color\": \"#C8D4E3\"}, \"line\": {\"color\": \"white\"}}, \"type\": \"table\"}]}, \"layout\": {\"annotationdefaults\": {\"arrowcolor\": \"#2a3f5f\", \"arrowhead\": 0, \"arrowwidth\": 1}, \"coloraxis\": {\"colorbar\": {\"outlinewidth\": 0, \"ticks\": \"\"}}, \"colorscale\": {\"diverging\": [[0, \"#8e0152\"], [0.1, \"#c51b7d\"], [0.2, \"#de77ae\"], [0.3, \"#f1b6da\"], [0.4, \"#fde0ef\"], [0.5, \"#f7f7f7\"], [0.6, \"#e6f5d0\"], [0.7, \"#b8e186\"], [0.8, \"#7fbc41\"], [0.9, \"#4d9221\"], [1, \"#276419\"]], \"sequential\": [[0.0, \"#0d0887\"], [0.1111111111111111, \"#46039f\"], [0.2222222222222222, \"#7201a8\"], [0.3333333333333333, \"#9c179e\"], [0.4444444444444444, \"#bd3786\"], [0.5555555555555556, \"#d8576b\"], [0.6666666666666666, \"#ed7953\"], [0.7777777777777778, \"#fb9f3a\"], [0.8888888888888888, \"#fdca26\"], [1.0, \"#f0f921\"]], \"sequentialminus\": [[0.0, \"#0d0887\"], [0.1111111111111111, \"#46039f\"], [0.2222222222222222, \"#7201a8\"], [0.3333333333333333, \"#9c179e\"], [0.4444444444444444, \"#bd3786\"], [0.5555555555555556, \"#d8576b\"], [0.6666666666666666, \"#ed7953\"], [0.7777777777777778, \"#fb9f3a\"], [0.8888888888888888, \"#fdca26\"], [1.0, \"#f0f921\"]]}, \"colorway\": [\"#636efa\", \"#EF553B\", \"#00cc96\", \"#ab63fa\", \"#FFA15A\", \"#19d3f3\", \"#FF6692\", \"#B6E880\", \"#FF97FF\", \"#FECB52\"], \"font\": {\"color\": \"#2a3f5f\"}, \"geo\": {\"bgcolor\": \"white\", \"lakecolor\": \"white\", \"landcolor\": \"#E5ECF6\", \"showlakes\": true, \"showland\": true, \"subunitcolor\": \"white\"}, \"hoverlabel\": {\"align\": \"left\"}, \"hovermode\": \"closest\", \"mapbox\": {\"style\": \"light\"}, \"paper_bgcolor\": \"white\", \"plot_bgcolor\": \"#E5ECF6\", \"polar\": {\"angularaxis\": {\"gridcolor\": \"white\", \"linecolor\": \"white\", \"ticks\": \"\"}, \"bgcolor\": \"#E5ECF6\", \"radialaxis\": {\"gridcolor\": \"white\", \"linecolor\": \"white\", \"ticks\": \"\"}}, \"scene\": {\"xaxis\": {\"backgroundcolor\": \"#E5ECF6\", \"gridcolor\": \"white\", \"gridwidth\": 2, \"linecolor\": \"white\", \"showbackground\": true, \"ticks\": \"\", \"zerolinecolor\": \"white\"}, \"yaxis\": {\"backgroundcolor\": \"#E5ECF6\", \"gridcolor\": \"white\", \"gridwidth\": 2, \"linecolor\": \"white\", \"showbackground\": true, \"ticks\": \"\", \"zerolinecolor\": \"white\"}, \"zaxis\": {\"backgroundcolor\": \"#E5ECF6\", \"gridcolor\": \"white\", \"gridwidth\": 2, \"linecolor\": \"white\", \"showbackground\": true, \"ticks\": \"\", \"zerolinecolor\": \"white\"}}, \"shapedefaults\": {\"line\": {\"color\": \"#2a3f5f\"}}, \"ternary\": {\"aaxis\": {\"gridcolor\": \"white\", \"linecolor\": \"white\", \"ticks\": \"\"}, \"baxis\": {\"gridcolor\": \"white\", \"linecolor\": \"white\", \"ticks\": \"\"}, \"bgcolor\": \"#E5ECF6\", \"caxis\": {\"gridcolor\": \"white\", \"linecolor\": \"white\", \"ticks\": \"\"}}, \"title\": {\"x\": 0.05}, \"xaxis\": {\"automargin\": true, \"gridcolor\": \"white\", \"linecolor\": \"white\", \"ticks\": \"\", \"title\": {\"standoff\": 15}, \"zerolinecolor\": \"white\", \"zerolinewidth\": 2}, \"yaxis\": {\"automargin\": true, \"gridcolor\": \"white\", \"linecolor\": \"white\", \"ticks\": \"\", \"title\": {\"standoff\": 15}, \"zerolinecolor\": \"white\", \"zerolinewidth\": 2}}}, \"title\": {\"text\": \"expression\"}, \"width\": 600, \"yaxis\": {\"autorange\": true, \"type\": \"log\"}},\n",
       "                        {\"responsive\": true}\n",
       "                    ).then(function(){\n",
       "                            \n",
       "var gd = document.getElementById('06612aa2-a173-43e1-b4c9-23191840952a');\n",
       "var x = new MutationObserver(function (mutations, observer) {{\n",
       "        var display = window.getComputedStyle(gd).display;\n",
       "        if (!display || display === 'none') {{\n",
       "            console.log([gd, 'removed!']);\n",
       "            Plotly.purge(gd);\n",
       "            observer.disconnect();\n",
       "        }}\n",
       "}});\n",
       "\n",
       "// Listen for the removal of the full notebook cells\n",
       "var notebookContainer = gd.closest('#notebook-container');\n",
       "if (notebookContainer) {{\n",
       "    x.observe(notebookContainer, {childList: true});\n",
       "}}\n",
       "\n",
       "// Listen for the clearing of the current output cell\n",
       "var outputEl = gd.closest('.output');\n",
       "if (outputEl) {{\n",
       "    x.observe(outputEl, {childList: true});\n",
       "}}\n",
       "\n",
       "                        })\n",
       "                };\n",
       "                });\n",
       "            </script>\n",
       "        </div>"
      ]
     },
     "metadata": {},
     "output_type": "display_data"
    }
   ],
   "source": [
    "data=[go.Box(y=df2[df2.gene==col]['rpkm'], \n",
    "             name=col, boxpoints='all', \n",
    "             pointpos = 0, \n",
    "             jitter=.25, \n",
    "             \n",
    "             text=df2[df2.gene==col]['patient']) for col in df2.gene.unique()]\n",
    "\n",
    "layout=go.Layout(title='expression',\n",
    "                width=600,\n",
    "                height=400,\n",
    "                yaxis=dict(type='log', autorange=True))\n",
    "\n",
    "fig = go.Figure(data=data, layout=layout)\n",
    "\n",
    "iplot(fig) "
   ]
  },
  {
   "cell_type": "markdown",
   "metadata": {},
   "source": [
    "# boxplot and swarmplot"
   ]
  },
  {
   "cell_type": "code",
   "execution_count": 19,
   "metadata": {},
   "outputs": [
    {
     "data": {
      "text/html": [
       "<div>\n",
       "<style scoped>\n",
       "    .dataframe tbody tr th:only-of-type {\n",
       "        vertical-align: middle;\n",
       "    }\n",
       "\n",
       "    .dataframe tbody tr th {\n",
       "        vertical-align: top;\n",
       "    }\n",
       "\n",
       "    .dataframe thead th {\n",
       "        text-align: right;\n",
       "    }\n",
       "</style>\n",
       "<table border=\"1\" class=\"dataframe\">\n",
       "  <thead>\n",
       "    <tr style=\"text-align: right;\">\n",
       "      <th></th>\n",
       "      <th>patient</th>\n",
       "      <th>GPR126</th>\n",
       "      <th>mut_status</th>\n",
       "      <th>xx</th>\n",
       "    </tr>\n",
       "  </thead>\n",
       "  <tbody>\n",
       "    <tr>\n",
       "      <td>0</td>\n",
       "      <td>HTMCP-03-06-02001</td>\n",
       "      <td>11.1634</td>\n",
       "      <td>False</td>\n",
       "      <td>2</td>\n",
       "    </tr>\n",
       "    <tr>\n",
       "      <td>1</td>\n",
       "      <td>HTMCP-03-06-02002</td>\n",
       "      <td>1.8584</td>\n",
       "      <td>False</td>\n",
       "      <td>2</td>\n",
       "    </tr>\n",
       "  </tbody>\n",
       "</table>\n",
       "</div>"
      ],
      "text/plain": [
       "             patient   GPR126  mut_status  xx\n",
       "0  HTMCP-03-06-02001  11.1634       False   2\n",
       "1  HTMCP-03-06-02002   1.8584       False   2"
      ]
     },
     "execution_count": 19,
     "metadata": {},
     "output_type": "execute_result"
    }
   ],
   "source": [
    "f = '/projects/trans_scratch/validations/workspace/szong/development/genomics_data_analysis/visualization/GPR126_expression.csv'\n",
    "df = pd.read_csv(f)\n",
    "df.head(2)"
   ]
  },
  {
   "cell_type": "code",
   "execution_count": 20,
   "metadata": {},
   "outputs": [
    {
     "data": {
      "text/plain": [
       "<matplotlib.axes._subplots.AxesSubplot at 0x7ff7f2988198>"
      ]
     },
     "execution_count": 20,
     "metadata": {},
     "output_type": "execute_result"
    },
    {
     "data": {
      "image/png": "[encoded data removed]",
      "text/plain": [
       "<Figure size 432x288 with 1 Axes>"
      ]
     },
     "metadata": {},
     "output_type": "display_data"
    }
   ],
   "source": [
    "ax = sns.violinplot('mut_status', 'GPR126', data=df, color='yellow')\n",
    "sns.swarmplot('mut_status', 'GPR126', data=df)\n",
    "\n",
    "\n",
    "of = '/projects/trans_scratch/validations/workspace/szong/development/genomics_data_analysis/visualization/GPR126.patients.expression_violin_swarmplot.png'\n",
    "plt.savefig(of, dpi=200)\n",
    "plt.show()"
   ]
  },
  {
   "cell_type": "code",
   "execution_count": 1,
   "metadata": {},
   "outputs": [
    {
     "ename": "NameError",
     "evalue": "name 'pd' is not defined",
     "output_type": "error",
     "traceback": [
      "\u001b[0;31m---------------------------------------------------------------------------\u001b[0m",
      "\u001b[0;31mNameError\u001b[0m                                 Traceback (most recent call last)",
      "\u001b[0;32m<ipython-input-1-27512660bf29>\u001b[0m in \u001b[0;36m<module>\u001b[0;34m\u001b[0m\n\u001b[1;32m      1\u001b[0m \u001b[0;31m### seaborn boxplot overlay points, specify box face and edgecolors\u001b[0m\u001b[0;34m\u001b[0m\u001b[0;34m\u001b[0m\u001b[0;34m\u001b[0m\u001b[0m\n\u001b[1;32m      2\u001b[0m \u001b[0mf\u001b[0m \u001b[0;34m=\u001b[0m \u001b[0;34m'/projects/trans_scratch/validations/workspace/szong/development/genomics_data_analysis/visualization/GPR126_expression.csv'\u001b[0m\u001b[0;34m\u001b[0m\u001b[0;34m\u001b[0m\u001b[0m\n\u001b[0;32m----> 3\u001b[0;31m \u001b[0mdf\u001b[0m \u001b[0;34m=\u001b[0m \u001b[0mpd\u001b[0m\u001b[0;34m.\u001b[0m\u001b[0mread_csv\u001b[0m\u001b[0;34m(\u001b[0m\u001b[0mf\u001b[0m\u001b[0;34m)\u001b[0m\u001b[0;34m\u001b[0m\u001b[0;34m\u001b[0m\u001b[0m\n\u001b[0m\u001b[1;32m      4\u001b[0m \u001b[0mdf\u001b[0m\u001b[0;34m.\u001b[0m\u001b[0mhead\u001b[0m\u001b[0;34m(\u001b[0m\u001b[0;36m2\u001b[0m\u001b[0;34m)\u001b[0m\u001b[0;34m\u001b[0m\u001b[0;34m\u001b[0m\u001b[0m\n\u001b[1;32m      5\u001b[0m \u001b[0max\u001b[0m \u001b[0;34m=\u001b[0m \u001b[0msns\u001b[0m\u001b[0;34m.\u001b[0m\u001b[0mboxplot\u001b[0m\u001b[0;34m(\u001b[0m\u001b[0;34m'xx'\u001b[0m\u001b[0;34m,\u001b[0m \u001b[0;34m'GPR126'\u001b[0m\u001b[0;34m,\u001b[0m \u001b[0mdata\u001b[0m\u001b[0;34m=\u001b[0m\u001b[0mdf\u001b[0m\u001b[0;34m,\u001b[0m \u001b[0mcolor\u001b[0m\u001b[0;34m=\u001b[0m\u001b[0;34m'yellow'\u001b[0m\u001b[0;34m)\u001b[0m\u001b[0;34m\u001b[0m\u001b[0;34m\u001b[0m\u001b[0m\n",
      "\u001b[0;31mNameError\u001b[0m: name 'pd' is not defined"
     ]
    }
   ],
   "source": [
    "### seaborn boxplot overlay points, specify box face and edgecolors\n",
    "f = '/projects/trans_scratch/validations/workspace/szong/development/genomics_data_analysis/visualization/GPR126_expression.csv'\n",
    "df = pd.read_csv(f)\n",
    "df.head(2)\n",
    "ax = sns.boxplot('xx', 'GPR126', data=df, color='yellow')\n",
    "sns.swarmplot('xx', 'GPR126', data=df)\n",
    "# Select which box you want to change    \n",
    "mybox = ax.artists[1]\n",
    "\n",
    "# Change the appearance of that box\n",
    "mybox.set_facecolor('red')\n",
    "mybox.set_edgecolor('gray')\n",
    "# mybox.set_linewidth(2)\n",
    "\n",
    "# Select which box you want to change    \n",
    "mybox = ax.artists[0]\n",
    "\n",
    "# Change the appearance of that box\n",
    "mybox.set_facecolor('blue')\n",
    "mybox.set_edgecolor('gray')\n",
    "# mybox.set_linewidth(2)\n",
    "\n",
    "plt.show()"
   ]
  },
  {
   "cell_type": "code",
   "execution_count": 21,
   "metadata": {},
   "outputs": [
    {
     "data": {
      "text/plain": [
       "<matplotlib.axes._subplots.AxesSubplot at 0x7ff7f29466d8>"
      ]
     },
     "execution_count": 21,
     "metadata": {},
     "output_type": "execute_result"
    },
    {
     "data": {
      "image/png": "[encoded data removed]",
      "text/plain": [
       "<Figure size 432x288 with 1 Axes>"
      ]
     },
     "metadata": {},
     "output_type": "display_data"
    }
   ],
   "source": [
    "ax = sns.boxplot('xx', 'GPR126', data=df, color='yellow')\n",
    "sns.swarmplot('xx', 'GPR126', data=df)\n",
    "# Select which box you want to change    \n",
    "mybox = ax.artists[1]\n",
    "\n",
    "# Change the appearance of that box\n",
    "mybox.set_facecolor('red')\n",
    "mybox.set_edgecolor('gray')\n",
    "# mybox.set_linewidth(2)\n",
    "\n",
    "# Select which box you want to change    \n",
    "mybox = ax.artists[0]\n",
    "\n",
    "# Change the appearance of that box\n",
    "mybox.set_facecolor('blue')\n",
    "mybox.set_edgecolor('gray')\n",
    "# mybox.set_linewidth(2)\n",
    "\n",
    "\n",
    "of = '/projects/trans_scratch/validations/workspace/szong/development/genomics_data_analysis/visualization/GPR126.patients.expression_box_swarmplot.png'\n",
    "# plt.savefig(of, dpi=200)\n",
    "plt.show()"
   ]
  },
  {
   "cell_type": "markdown",
   "metadata": {},
   "source": [
    "# plotly box plot with points"
   ]
  },
  {
   "cell_type": "code",
   "execution_count": 34,
   "metadata": {
    "scrolled": true
   },
   "outputs": [
    {
     "data": {
      "text/html": [
       "<div>\n",
       "<style scoped>\n",
       "    .dataframe tbody tr th:only-of-type {\n",
       "        vertical-align: middle;\n",
       "    }\n",
       "\n",
       "    .dataframe tbody tr th {\n",
       "        vertical-align: top;\n",
       "    }\n",
       "\n",
       "    .dataframe thead th {\n",
       "        text-align: right;\n",
       "    }\n",
       "</style>\n",
       "<table border=\"1\" class=\"dataframe\">\n",
       "  <thead>\n",
       "    <tr style=\"text-align: right;\">\n",
       "      <th></th>\n",
       "      <th>patient</th>\n",
       "      <th>GPR126</th>\n",
       "      <th>mut_status</th>\n",
       "      <th>xx</th>\n",
       "    </tr>\n",
       "  </thead>\n",
       "  <tbody>\n",
       "    <tr>\n",
       "      <th>0</th>\n",
       "      <td>HTMCP-03-06-02001</td>\n",
       "      <td>11.1634</td>\n",
       "      <td>False</td>\n",
       "      <td>2</td>\n",
       "    </tr>\n",
       "    <tr>\n",
       "      <th>1</th>\n",
       "      <td>HTMCP-03-06-02002</td>\n",
       "      <td>1.8584</td>\n",
       "      <td>False</td>\n",
       "      <td>2</td>\n",
       "    </tr>\n",
       "    <tr>\n",
       "      <th>2</th>\n",
       "      <td>HTMCP-03-06-02003</td>\n",
       "      <td>7.9967</td>\n",
       "      <td>False</td>\n",
       "      <td>2</td>\n",
       "    </tr>\n",
       "    <tr>\n",
       "      <th>3</th>\n",
       "      <td>HTMCP-03-06-02006</td>\n",
       "      <td>4.7846</td>\n",
       "      <td>False</td>\n",
       "      <td>2</td>\n",
       "    </tr>\n",
       "    <tr>\n",
       "      <th>4</th>\n",
       "      <td>HTMCP-03-06-02008</td>\n",
       "      <td>6.0840</td>\n",
       "      <td>False</td>\n",
       "      <td>2</td>\n",
       "    </tr>\n",
       "  </tbody>\n",
       "</table>\n",
       "</div>"
      ],
      "text/plain": [
       "             patient   GPR126  mut_status  xx\n",
       "0  HTMCP-03-06-02001  11.1634       False   2\n",
       "1  HTMCP-03-06-02002   1.8584       False   2\n",
       "2  HTMCP-03-06-02003   7.9967       False   2\n",
       "3  HTMCP-03-06-02006   4.7846       False   2\n",
       "4  HTMCP-03-06-02008   6.0840       False   2"
      ]
     },
     "execution_count": 34,
     "metadata": {},
     "output_type": "execute_result"
    }
   ],
   "source": [
    "df.head()"
   ]
  },
  {
   "cell_type": "code",
   "execution_count": 28,
   "metadata": {
    "scrolled": true
   },
   "outputs": [
    {
     "data": {
      "text/html": [
       "<div>\n",
       "<style scoped>\n",
       "    .dataframe tbody tr th:only-of-type {\n",
       "        vertical-align: middle;\n",
       "    }\n",
       "\n",
       "    .dataframe tbody tr th {\n",
       "        vertical-align: top;\n",
       "    }\n",
       "\n",
       "    .dataframe thead th {\n",
       "        text-align: right;\n",
       "    }\n",
       "</style>\n",
       "<table border=\"1\" class=\"dataframe\">\n",
       "  <thead>\n",
       "    <tr style=\"text-align: right;\">\n",
       "      <th></th>\n",
       "      <th>mut</th>\n",
       "      <th>wt</th>\n",
       "    </tr>\n",
       "    <tr>\n",
       "      <th>patient</th>\n",
       "      <th></th>\n",
       "      <th></th>\n",
       "    </tr>\n",
       "  </thead>\n",
       "  <tbody>\n",
       "    <tr>\n",
       "      <td>HTMCP-03-06-02001</td>\n",
       "      <td>NaN</td>\n",
       "      <td>11.1634</td>\n",
       "    </tr>\n",
       "    <tr>\n",
       "      <td>HTMCP-03-06-02002</td>\n",
       "      <td>NaN</td>\n",
       "      <td>1.8584</td>\n",
       "    </tr>\n",
       "  </tbody>\n",
       "</table>\n",
       "</div>"
      ],
      "text/plain": [
       "                   mut       wt\n",
       "patient                        \n",
       "HTMCP-03-06-02001  NaN  11.1634\n",
       "HTMCP-03-06-02002  NaN   1.8584"
      ]
     },
     "execution_count": 28,
     "metadata": {},
     "output_type": "execute_result"
    },
    {
     "data": {
      "application/vnd.plotly.v1+json": {
       "config": {
        "linkText": "Export to plot.ly",
        "plotlyServerURL": "https://plot.ly",
        "showLink": false
       },
       "data": [
        {
         "boxpoints": "all",
         "jitter": 1,
         "name": "mut",
         "pointpos": 0,
         "text": [
          "HTMCP-03-06-02001",
          "HTMCP-03-06-02002",
          "HTMCP-03-06-02003",
          "HTMCP-03-06-02006",
          "HTMCP-03-06-02008",
          "HTMCP-03-06-02012",
          "HTMCP-03-06-02013",
          "HTMCP-03-06-02020",
          "HTMCP-03-06-02036",
          "HTMCP-03-06-02037",
          "HTMCP-03-06-02040",
          "HTMCP-03-06-02042",
          "HTMCP-03-06-02046",
          "HTMCP-03-06-02047",
          "HTMCP-03-06-02054",
          "HTMCP-03-06-02057",
          "HTMCP-03-06-02058",
          "HTMCP-03-06-02063",
          "HTMCP-03-06-02068",
          "HTMCP-03-06-02070",
          "HTMCP-03-06-02071",
          "HTMCP-03-06-02074",
          "HTMCP-03-06-02075",
          "HTMCP-03-06-02076",
          "HTMCP-03-06-02089",
          "HTMCP-03-06-02092",
          "HTMCP-03-06-02097",
          "HTMCP-03-06-02098",
          "HTMCP-03-06-02099",
          "HTMCP-03-06-02103",
          "HTMCP-03-06-02108",
          "HTMCP-03-06-02109",
          "HTMCP-03-06-02110",
          "HTMCP-03-06-02113",
          "HTMCP-03-06-02120",
          "HTMCP-03-06-02125",
          "HTMCP-03-06-02128",
          "HTMCP-03-06-02139",
          "HTMCP-03-06-02144",
          "HTMCP-03-06-02145",
          "HTMCP-03-06-02147",
          "HTMCP-03-06-02148",
          "HTMCP-03-06-02149",
          "HTMCP-03-06-02150",
          "HTMCP-03-06-02151",
          "HTMCP-03-06-02152",
          "HTMCP-03-06-02155",
          "HTMCP-03-06-02156",
          "HTMCP-03-06-02170",
          "HTMCP-03-06-02174",
          "HTMCP-03-06-02175",
          "HTMCP-03-06-02176",
          "HTMCP-03-06-02179",
          "HTMCP-03-06-02180",
          "HTMCP-03-06-02182",
          "HTMCP-03-06-02185",
          "HTMCP-03-06-02194",
          "HTMCP-03-06-02195",
          "HTMCP-03-06-02196",
          "HTMCP-03-06-02197",
          "HTMCP-03-06-02202",
          "HTMCP-03-06-02203",
          "HTMCP-03-06-02204",
          "HTMCP-03-06-02205",
          "HTMCP-03-06-02209",
          "HTMCP-03-06-02210",
          "HTMCP-03-06-02213",
          "HTMCP-03-06-02214",
          "HTMCP-03-06-02215",
          "HTMCP-03-06-02216",
          "HTMCP-03-06-02217",
          "HTMCP-03-06-02219",
          "HTMCP-03-06-02222",
          "HTMCP-03-06-02225",
          "HTMCP-03-06-02230",
          "HTMCP-03-06-02235",
          "HTMCP-03-06-02238",
          "HTMCP-03-06-02239",
          "HTMCP-03-06-02240",
          "HTMCP-03-06-02242",
          "HTMCP-03-06-02256",
          "HTMCP-03-06-02259",
          "HTMCP-03-06-02260",
          "HTMCP-03-06-02261",
          "HTMCP-03-06-02262",
          "HTMCP-03-06-02264",
          "HTMCP-03-06-02266",
          "HTMCP-03-06-02267",
          "HTMCP-03-06-02268",
          "HTMCP-03-06-02320",
          "HTMCP-03-06-02322",
          "HTMCP-03-06-02326",
          "HTMCP-03-06-02328",
          "HTMCP-03-06-02330",
          "HTMCP-03-06-02332",
          "HTMCP-03-06-02333",
          "HTMCP-03-06-02335",
          "HTMCP-03-06-02340",
          "HTMCP-03-06-02341",
          "HTMCP-03-06-02344",
          "HTMCP-03-06-02346",
          "HTMCP-03-06-02354",
          "HTMCP-03-06-02377",
          "HTMCP-03-06-02392",
          "HTMCP-03-06-02393",
          "HTMCP-03-06-02396",
          "HTMCP-03-06-02411",
          "HTMCP-03-06-02414",
          "HTMCP-03-06-02417",
          "HTMCP-03-06-02424",
          "HTMCP-03-06-02427",
          "HTMCP-03-06-02428",
          "HTMCP-03-06-02434",
          "HTMCP-03-06-02435",
          "HTMCP-03-06-02437",
          "HTMCP-03-06-02441",
          "HTMCP-03-06-02442",
          "HTMCP-03-06-02447"
         ],
         "type": "box",
         "y": [
          null,
          null,
          null,
          null,
          null,
          null,
          null,
          null,
          null,
          null,
          null,
          null,
          null,
          null,
          null,
          null,
          4.9589,
          2.7595,
          null,
          null,
          null,
          null,
          6.7948,
          null,
          null,
          null,
          null,
          null,
          null,
          null,
          null,
          null,
          null,
          null,
          null,
          null,
          null,
          null,
          null,
          null,
          null,
          1.2999,
          null,
          null,
          null,
          null,
          null,
          null,
          null,
          null,
          null,
          null,
          null,
          null,
          null,
          null,
          null,
          null,
          null,
          null,
          null,
          3.1968,
          null,
          null,
          null,
          2.5417,
          null,
          1.6223,
          null,
          null,
          null,
          null,
          null,
          null,
          null,
          null,
          null,
          null,
          null,
          null,
          null,
          null,
          7.2101,
          null,
          null,
          null,
          null,
          null,
          null,
          null,
          null,
          11.5659,
          null,
          null,
          null,
          5.9647,
          null,
          null,
          null,
          null,
          6.5996,
          null,
          null,
          null,
          null,
          null,
          null,
          null,
          null,
          null,
          null,
          null,
          null,
          null,
          null,
          null,
          null,
          null
         ]
        },
        {
         "boxpoints": "all",
         "jitter": 1,
         "name": "wt",
         "pointpos": 0,
         "text": [
          "HTMCP-03-06-02001",
          "HTMCP-03-06-02002",
          "HTMCP-03-06-02003",
          "HTMCP-03-06-02006",
          "HTMCP-03-06-02008",
          "HTMCP-03-06-02012",
          "HTMCP-03-06-02013",
          "HTMCP-03-06-02020",
          "HTMCP-03-06-02036",
          "HTMCP-03-06-02037",
          "HTMCP-03-06-02040",
          "HTMCP-03-06-02042",
          "HTMCP-03-06-02046",
          "HTMCP-03-06-02047",
          "HTMCP-03-06-02054",
          "HTMCP-03-06-02057",
          "HTMCP-03-06-02058",
          "HTMCP-03-06-02063",
          "HTMCP-03-06-02068",
          "HTMCP-03-06-02070",
          "HTMCP-03-06-02071",
          "HTMCP-03-06-02074",
          "HTMCP-03-06-02075",
          "HTMCP-03-06-02076",
          "HTMCP-03-06-02089",
          "HTMCP-03-06-02092",
          "HTMCP-03-06-02097",
          "HTMCP-03-06-02098",
          "HTMCP-03-06-02099",
          "HTMCP-03-06-02103",
          "HTMCP-03-06-02108",
          "HTMCP-03-06-02109",
          "HTMCP-03-06-02110",
          "HTMCP-03-06-02113",
          "HTMCP-03-06-02120",
          "HTMCP-03-06-02125",
          "HTMCP-03-06-02128",
          "HTMCP-03-06-02139",
          "HTMCP-03-06-02144",
          "HTMCP-03-06-02145",
          "HTMCP-03-06-02147",
          "HTMCP-03-06-02148",
          "HTMCP-03-06-02149",
          "HTMCP-03-06-02150",
          "HTMCP-03-06-02151",
          "HTMCP-03-06-02152",
          "HTMCP-03-06-02155",
          "HTMCP-03-06-02156",
          "HTMCP-03-06-02170",
          "HTMCP-03-06-02174",
          "HTMCP-03-06-02175",
          "HTMCP-03-06-02176",
          "HTMCP-03-06-02179",
          "HTMCP-03-06-02180",
          "HTMCP-03-06-02182",
          "HTMCP-03-06-02185",
          "HTMCP-03-06-02194",
          "HTMCP-03-06-02195",
          "HTMCP-03-06-02196",
          "HTMCP-03-06-02197",
          "HTMCP-03-06-02202",
          "HTMCP-03-06-02203",
          "HTMCP-03-06-02204",
          "HTMCP-03-06-02205",
          "HTMCP-03-06-02209",
          "HTMCP-03-06-02210",
          "HTMCP-03-06-02213",
          "HTMCP-03-06-02214",
          "HTMCP-03-06-02215",
          "HTMCP-03-06-02216",
          "HTMCP-03-06-02217",
          "HTMCP-03-06-02219",
          "HTMCP-03-06-02222",
          "HTMCP-03-06-02225",
          "HTMCP-03-06-02230",
          "HTMCP-03-06-02235",
          "HTMCP-03-06-02238",
          "HTMCP-03-06-02239",
          "HTMCP-03-06-02240",
          "HTMCP-03-06-02242",
          "HTMCP-03-06-02256",
          "HTMCP-03-06-02259",
          "HTMCP-03-06-02260",
          "HTMCP-03-06-02261",
          "HTMCP-03-06-02262",
          "HTMCP-03-06-02264",
          "HTMCP-03-06-02266",
          "HTMCP-03-06-02267",
          "HTMCP-03-06-02268",
          "HTMCP-03-06-02320",
          "HTMCP-03-06-02322",
          "HTMCP-03-06-02326",
          "HTMCP-03-06-02328",
          "HTMCP-03-06-02330",
          "HTMCP-03-06-02332",
          "HTMCP-03-06-02333",
          "HTMCP-03-06-02335",
          "HTMCP-03-06-02340",
          "HTMCP-03-06-02341",
          "HTMCP-03-06-02344",
          "HTMCP-03-06-02346",
          "HTMCP-03-06-02354",
          "HTMCP-03-06-02377",
          "HTMCP-03-06-02392",
          "HTMCP-03-06-02393",
          "HTMCP-03-06-02396",
          "HTMCP-03-06-02411",
          "HTMCP-03-06-02414",
          "HTMCP-03-06-02417",
          "HTMCP-03-06-02424",
          "HTMCP-03-06-02427",
          "HTMCP-03-06-02428",
          "HTMCP-03-06-02434",
          "HTMCP-03-06-02435",
          "HTMCP-03-06-02437",
          "HTMCP-03-06-02441",
          "HTMCP-03-06-02442",
          "HTMCP-03-06-02447"
         ],
         "type": "box",
         "y": [
          11.1634,
          1.8584,
          7.9967,
          4.7846,
          6.084,
          9.0988,
          4.3152,
          4.371,
          9.6589,
          2.9684,
          4.232,
          6.142,
          4.5886,
          5.1561,
          3.625,
          4.8441,
          null,
          null,
          2.2578,
          7.9648,
          6.5583,
          6.8242,
          null,
          23.5194,
          3.2431,
          6.9616,
          3.8085,
          4.8781,
          1.9489,
          15.137,
          7.4436,
          2.4930000000000003,
          11.2253,
          6.8976,
          3.9431,
          3.8176,
          4.0048,
          4.6739999999999995,
          4.4483,
          5.8672,
          5.7006,
          null,
          2.1696,
          3.1162,
          5.3912,
          9.2989,
          1.0511,
          6.0982,
          5.3537,
          4.4791,
          6.7853,
          5.5859,
          0.6882,
          0.9420000000000001,
          0.9875,
          12.62,
          3.8912,
          1.4801,
          3.4930000000000003,
          24.1684,
          1.3953,
          null,
          4.2836,
          1.246,
          2.9673,
          null,
          6.4984,
          null,
          5.2498,
          14.2121,
          6.4565,
          2.4318,
          1.5736,
          2.8198,
          10.9876,
          0.11599999999999999,
          2.7310000000000003,
          2.256,
          4.8459,
          3.7247,
          9.4996,
          4.974,
          null,
          1.1438,
          5.0812,
          1.8881,
          7.1219,
          16.4646,
          6.0488,
          13.0108,
          4.5694,
          null,
          1.2842,
          10.6998,
          6.8867,
          null,
          7.9966,
          6.0226,
          6.3553,
          4.9169,
          null,
          5.1797,
          11.9633,
          8.3017,
          4.6703,
          6.7872,
          4.0269,
          0.4869,
          1.3768,
          2.6492,
          2.8117,
          4.5344,
          6.6339,
          6.162000000000001,
          3.57,
          0.5511,
          1.6851,
          4.0439
         ]
        }
       ],
       "layout": {
        "height": 600,
        "template": {
         "data": {
          "bar": [
           {
            "error_x": {
             "color": "#2a3f5f"
            },
            "error_y": {
             "color": "#2a3f5f"
            },
            "marker": {
             "line": {
              "color": "#E5ECF6",
              "width": 0.5
             }
            },
            "type": "bar"
           }
          ],
          "barpolar": [
           {
            "marker": {
             "line": {
              "color": "#E5ECF6",
              "width": 0.5
             }
            },
            "type": "barpolar"
           }
          ],
          "carpet": [
           {
            "aaxis": {
             "endlinecolor": "#2a3f5f",
             "gridcolor": "white",
             "linecolor": "white",
             "minorgridcolor": "white",
             "startlinecolor": "#2a3f5f"
            },
            "baxis": {
             "endlinecolor": "#2a3f5f",
             "gridcolor": "white",
             "linecolor": "white",
             "minorgridcolor": "white",
             "startlinecolor": "#2a3f5f"
            },
            "type": "carpet"
           }
          ],
          "choropleth": [
           {
            "colorbar": {
             "outlinewidth": 0,
             "ticks": ""
            },
            "type": "choropleth"
           }
          ],
          "contour": [
           {
            "colorbar": {
             "outlinewidth": 0,
             "ticks": ""
            },
            "colorscale": [
             [
              0,
              "#0d0887"
             ],
             [
              0.1111111111111111,
              "#46039f"
             ],
             [
              0.2222222222222222,
              "#7201a8"
             ],
             [
              0.3333333333333333,
              "#9c179e"
             ],
             [
              0.4444444444444444,
              "#bd3786"
             ],
             [
              0.5555555555555556,
              "#d8576b"
             ],
             [
              0.6666666666666666,
              "#ed7953"
             ],
             [
              0.7777777777777778,
              "#fb9f3a"
             ],
             [
              0.8888888888888888,
              "#fdca26"
             ],
             [
              1,
              "#f0f921"
             ]
            ],
            "type": "contour"
           }
          ],
          "contourcarpet": [
           {
            "colorbar": {
             "outlinewidth": 0,
             "ticks": ""
            },
            "type": "contourcarpet"
           }
          ],
          "heatmap": [
           {
            "colorbar": {
             "outlinewidth": 0,
             "ticks": ""
            },
            "colorscale": [
             [
              0,
              "#0d0887"
             ],
             [
              0.1111111111111111,
              "#46039f"
             ],
             [
              0.2222222222222222,
              "#7201a8"
             ],
             [
              0.3333333333333333,
              "#9c179e"
             ],
             [
              0.4444444444444444,
              "#bd3786"
             ],
             [
              0.5555555555555556,
              "#d8576b"
             ],
             [
              0.6666666666666666,
              "#ed7953"
             ],
             [
              0.7777777777777778,
              "#fb9f3a"
             ],
             [
              0.8888888888888888,
              "#fdca26"
             ],
             [
              1,
              "#f0f921"
             ]
            ],
            "type": "heatmap"
           }
          ],
          "heatmapgl": [
           {
            "colorbar": {
             "outlinewidth": 0,
             "ticks": ""
            },
            "colorscale": [
             [
              0,
              "#0d0887"
             ],
             [
              0.1111111111111111,
              "#46039f"
             ],
             [
              0.2222222222222222,
              "#7201a8"
             ],
             [
              0.3333333333333333,
              "#9c179e"
             ],
             [
              0.4444444444444444,
              "#bd3786"
             ],
             [
              0.5555555555555556,
              "#d8576b"
             ],
             [
              0.6666666666666666,
              "#ed7953"
             ],
             [
              0.7777777777777778,
              "#fb9f3a"
             ],
             [
              0.8888888888888888,
              "#fdca26"
             ],
             [
              1,
              "#f0f921"
             ]
            ],
            "type": "heatmapgl"
           }
          ],
          "histogram": [
           {
            "marker": {
             "colorbar": {
              "outlinewidth": 0,
              "ticks": ""
             }
            },
            "type": "histogram"
           }
          ],
          "histogram2d": [
           {
            "colorbar": {
             "outlinewidth": 0,
             "ticks": ""
            },
            "colorscale": [
             [
              0,
              "#0d0887"
             ],
             [
              0.1111111111111111,
              "#46039f"
             ],
             [
              0.2222222222222222,
              "#7201a8"
             ],
             [
              0.3333333333333333,
              "#9c179e"
             ],
             [
              0.4444444444444444,
              "#bd3786"
             ],
             [
              0.5555555555555556,
              "#d8576b"
             ],
             [
              0.6666666666666666,
              "#ed7953"
             ],
             [
              0.7777777777777778,
              "#fb9f3a"
             ],
             [
              0.8888888888888888,
              "#fdca26"
             ],
             [
              1,
              "#f0f921"
             ]
            ],
            "type": "histogram2d"
           }
          ],
          "histogram2dcontour": [
           {
            "colorbar": {
             "outlinewidth": 0,
             "ticks": ""
            },
            "colorscale": [
             [
              0,
              "#0d0887"
             ],
             [
              0.1111111111111111,
              "#46039f"
             ],
             [
              0.2222222222222222,
              "#7201a8"
             ],
             [
              0.3333333333333333,
              "#9c179e"
             ],
             [
              0.4444444444444444,
              "#bd3786"
             ],
             [
              0.5555555555555556,
              "#d8576b"
             ],
             [
              0.6666666666666666,
              "#ed7953"
             ],
             [
              0.7777777777777778,
              "#fb9f3a"
             ],
             [
              0.8888888888888888,
              "#fdca26"
             ],
             [
              1,
              "#f0f921"
             ]
            ],
            "type": "histogram2dcontour"
           }
          ],
          "mesh3d": [
           {
            "colorbar": {
             "outlinewidth": 0,
             "ticks": ""
            },
            "type": "mesh3d"
           }
          ],
          "parcoords": [
           {
            "line": {
             "colorbar": {
              "outlinewidth": 0,
              "ticks": ""
             }
            },
            "type": "parcoords"
           }
          ],
          "pie": [
           {
            "automargin": true,
            "type": "pie"
           }
          ],
          "scatter": [
           {
            "marker": {
             "colorbar": {
              "outlinewidth": 0,
              "ticks": ""
             }
            },
            "type": "scatter"
           }
          ],
          "scatter3d": [
           {
            "line": {
             "colorbar": {
              "outlinewidth": 0,
              "ticks": ""
             }
            },
            "marker": {
             "colorbar": {
              "outlinewidth": 0,
              "ticks": ""
             }
            },
            "type": "scatter3d"
           }
          ],
          "scattercarpet": [
           {
            "marker": {
             "colorbar": {
              "outlinewidth": 0,
              "ticks": ""
             }
            },
            "type": "scattercarpet"
           }
          ],
          "scattergeo": [
           {
            "marker": {
             "colorbar": {
              "outlinewidth": 0,
              "ticks": ""
             }
            },
            "type": "scattergeo"
           }
          ],
          "scattergl": [
           {
            "marker": {
             "colorbar": {
              "outlinewidth": 0,
              "ticks": ""
             }
            },
            "type": "scattergl"
           }
          ],
          "scattermapbox": [
           {
            "marker": {
             "colorbar": {
              "outlinewidth": 0,
              "ticks": ""
             }
            },
            "type": "scattermapbox"
           }
          ],
          "scatterpolar": [
           {
            "marker": {
             "colorbar": {
              "outlinewidth": 0,
              "ticks": ""
             }
            },
            "type": "scatterpolar"
           }
          ],
          "scatterpolargl": [
           {
            "marker": {
             "colorbar": {
              "outlinewidth": 0,
              "ticks": ""
             }
            },
            "type": "scatterpolargl"
           }
          ],
          "scatterternary": [
           {
            "marker": {
             "colorbar": {
              "outlinewidth": 0,
              "ticks": ""
             }
            },
            "type": "scatterternary"
           }
          ],
          "surface": [
           {
            "colorbar": {
             "outlinewidth": 0,
             "ticks": ""
            },
            "colorscale": [
             [
              0,
              "#0d0887"
             ],
             [
              0.1111111111111111,
              "#46039f"
             ],
             [
              0.2222222222222222,
              "#7201a8"
             ],
             [
              0.3333333333333333,
              "#9c179e"
             ],
             [
              0.4444444444444444,
              "#bd3786"
             ],
             [
              0.5555555555555556,
              "#d8576b"
             ],
             [
              0.6666666666666666,
              "#ed7953"
             ],
             [
              0.7777777777777778,
              "#fb9f3a"
             ],
             [
              0.8888888888888888,
              "#fdca26"
             ],
             [
              1,
              "#f0f921"
             ]
            ],
            "type": "surface"
           }
          ],
          "table": [
           {
            "cells": {
             "fill": {
              "color": "#EBF0F8"
             },
             "line": {
              "color": "white"
             }
            },
            "header": {
             "fill": {
              "color": "#C8D4E3"
             },
             "line": {
              "color": "white"
             }
            },
            "type": "table"
           }
          ]
         },
         "layout": {
          "annotationdefaults": {
           "arrowcolor": "#2a3f5f",
           "arrowhead": 0,
           "arrowwidth": 1
          },
          "coloraxis": {
           "colorbar": {
            "outlinewidth": 0,
            "ticks": ""
           }
          },
          "colorscale": {
           "diverging": [
            [
             0,
             "#8e0152"
            ],
            [
             0.1,
             "#c51b7d"
            ],
            [
             0.2,
             "#de77ae"
            ],
            [
             0.3,
             "#f1b6da"
            ],
            [
             0.4,
             "#fde0ef"
            ],
            [
             0.5,
             "#f7f7f7"
            ],
            [
             0.6,
             "#e6f5d0"
            ],
            [
             0.7,
             "#b8e186"
            ],
            [
             0.8,
             "#7fbc41"
            ],
            [
             0.9,
             "#4d9221"
            ],
            [
             1,
             "#276419"
            ]
           ],
           "sequential": [
            [
             0,
             "#0d0887"
            ],
            [
             0.1111111111111111,
             "#46039f"
            ],
            [
             0.2222222222222222,
             "#7201a8"
            ],
            [
             0.3333333333333333,
             "#9c179e"
            ],
            [
             0.4444444444444444,
             "#bd3786"
            ],
            [
             0.5555555555555556,
             "#d8576b"
            ],
            [
             0.6666666666666666,
             "#ed7953"
            ],
            [
             0.7777777777777778,
             "#fb9f3a"
            ],
            [
             0.8888888888888888,
             "#fdca26"
            ],
            [
             1,
             "#f0f921"
            ]
           ],
           "sequentialminus": [
            [
             0,
             "#0d0887"
            ],
            [
             0.1111111111111111,
             "#46039f"
            ],
            [
             0.2222222222222222,
             "#7201a8"
            ],
            [
             0.3333333333333333,
             "#9c179e"
            ],
            [
             0.4444444444444444,
             "#bd3786"
            ],
            [
             0.5555555555555556,
             "#d8576b"
            ],
            [
             0.6666666666666666,
             "#ed7953"
            ],
            [
             0.7777777777777778,
             "#fb9f3a"
            ],
            [
             0.8888888888888888,
             "#fdca26"
            ],
            [
             1,
             "#f0f921"
            ]
           ]
          },
          "colorway": [
           "#636efa",
           "#EF553B",
           "#00cc96",
           "#ab63fa",
           "#FFA15A",
           "#19d3f3",
           "#FF6692",
           "#B6E880",
           "#FF97FF",
           "#FECB52"
          ],
          "font": {
           "color": "#2a3f5f"
          },
          "geo": {
           "bgcolor": "white",
           "lakecolor": "white",
           "landcolor": "#E5ECF6",
           "showlakes": true,
           "showland": true,
           "subunitcolor": "white"
          },
          "hoverlabel": {
           "align": "left"
          },
          "hovermode": "closest",
          "mapbox": {
           "style": "light"
          },
          "paper_bgcolor": "white",
          "plot_bgcolor": "#E5ECF6",
          "polar": {
           "angularaxis": {
            "gridcolor": "white",
            "linecolor": "white",
            "ticks": ""
           },
           "bgcolor": "#E5ECF6",
           "radialaxis": {
            "gridcolor": "white",
            "linecolor": "white",
            "ticks": ""
           }
          },
          "scene": {
           "xaxis": {
            "backgroundcolor": "#E5ECF6",
            "gridcolor": "white",
            "gridwidth": 2,
            "linecolor": "white",
            "showbackground": true,
            "ticks": "",
            "zerolinecolor": "white"
           },
           "yaxis": {
            "backgroundcolor": "#E5ECF6",
            "gridcolor": "white",
            "gridwidth": 2,
            "linecolor": "white",
            "showbackground": true,
            "ticks": "",
            "zerolinecolor": "white"
           },
           "zaxis": {
            "backgroundcolor": "#E5ECF6",
            "gridcolor": "white",
            "gridwidth": 2,
            "linecolor": "white",
            "showbackground": true,
            "ticks": "",
            "zerolinecolor": "white"
           }
          },
          "shapedefaults": {
           "line": {
            "color": "#2a3f5f"
           }
          },
          "ternary": {
           "aaxis": {
            "gridcolor": "white",
            "linecolor": "white",
            "ticks": ""
           },
           "baxis": {
            "gridcolor": "white",
            "linecolor": "white",
            "ticks": ""
           },
           "bgcolor": "#E5ECF6",
           "caxis": {
            "gridcolor": "white",
            "linecolor": "white",
            "ticks": ""
           }
          },
          "title": {
           "x": 0.05
          },
          "xaxis": {
           "automargin": true,
           "gridcolor": "white",
           "linecolor": "white",
           "ticks": "",
           "title": {
            "standoff": 15
           },
           "zerolinecolor": "white",
           "zerolinewidth": 2
          },
          "yaxis": {
           "automargin": true,
           "gridcolor": "white",
           "linecolor": "white",
           "ticks": "",
           "title": {
            "standoff": 15
           },
           "zerolinecolor": "white",
           "zerolinewidth": 2
          }
         }
        },
        "title": {
         "text": "expression of gpr126"
        },
        "width": 600
       }
      },
      "text/html": [
       "<div>\n",
       "        \n",
       "        \n",
       "            <div id=\"1c2bdd9d-c5ca-4719-a157-df7c4c89255c\" class=\"plotly-graph-div\" style=\"height:600px; width:600px;\"></div>\n",
       "            <script type=\"text/javascript\">\n",
       "                require([\"plotly\"], function(Plotly) {\n",
       "                    window.PLOTLYENV=window.PLOTLYENV || {};\n",
       "                    \n",
       "                if (document.getElementById(\"1c2bdd9d-c5ca-4719-a157-df7c4c89255c\")) {\n",
       "                    Plotly.newPlot(\n",
       "                        '1c2bdd9d-c5ca-4719-a157-df7c4c89255c',\n",
       "                        [{\"boxpoints\": \"all\", \"jitter\": 1, \"name\": \"mut\", \"pointpos\": 0, \"text\": [\"HTMCP-03-06-02001\", \"HTMCP-03-06-02002\", \"HTMCP-03-06-02003\", \"HTMCP-03-06-02006\", \"HTMCP-03-06-02008\", \"HTMCP-03-06-02012\", \"HTMCP-03-06-02013\", \"HTMCP-03-06-02020\", \"HTMCP-03-06-02036\", \"HTMCP-03-06-02037\", \"HTMCP-03-06-02040\", \"HTMCP-03-06-02042\", \"HTMCP-03-06-02046\", \"HTMCP-03-06-02047\", \"HTMCP-03-06-02054\", \"HTMCP-03-06-02057\", \"HTMCP-03-06-02058\", \"HTMCP-03-06-02063\", \"HTMCP-03-06-02068\", \"HTMCP-03-06-02070\", \"HTMCP-03-06-02071\", \"HTMCP-03-06-02074\", \"HTMCP-03-06-02075\", \"HTMCP-03-06-02076\", \"HTMCP-03-06-02089\", \"HTMCP-03-06-02092\", \"HTMCP-03-06-02097\", \"HTMCP-03-06-02098\", \"HTMCP-03-06-02099\", \"HTMCP-03-06-02103\", \"HTMCP-03-06-02108\", \"HTMCP-03-06-02109\", \"HTMCP-03-06-02110\", \"HTMCP-03-06-02113\", \"HTMCP-03-06-02120\", \"HTMCP-03-06-02125\", \"HTMCP-03-06-02128\", \"HTMCP-03-06-02139\", \"HTMCP-03-06-02144\", \"HTMCP-03-06-02145\", \"HTMCP-03-06-02147\", \"HTMCP-03-06-02148\", \"HTMCP-03-06-02149\", \"HTMCP-03-06-02150\", \"HTMCP-03-06-02151\", \"HTMCP-03-06-02152\", \"HTMCP-03-06-02155\", \"HTMCP-03-06-02156\", \"HTMCP-03-06-02170\", \"HTMCP-03-06-02174\", \"HTMCP-03-06-02175\", \"HTMCP-03-06-02176\", \"HTMCP-03-06-02179\", \"HTMCP-03-06-02180\", \"HTMCP-03-06-02182\", \"HTMCP-03-06-02185\", \"HTMCP-03-06-02194\", \"HTMCP-03-06-02195\", \"HTMCP-03-06-02196\", \"HTMCP-03-06-02197\", \"HTMCP-03-06-02202\", \"HTMCP-03-06-02203\", \"HTMCP-03-06-02204\", \"HTMCP-03-06-02205\", \"HTMCP-03-06-02209\", \"HTMCP-03-06-02210\", \"HTMCP-03-06-02213\", \"HTMCP-03-06-02214\", \"HTMCP-03-06-02215\", \"HTMCP-03-06-02216\", \"HTMCP-03-06-02217\", \"HTMCP-03-06-02219\", \"HTMCP-03-06-02222\", \"HTMCP-03-06-02225\", \"HTMCP-03-06-02230\", \"HTMCP-03-06-02235\", \"HTMCP-03-06-02238\", \"HTMCP-03-06-02239\", \"HTMCP-03-06-02240\", \"HTMCP-03-06-02242\", \"HTMCP-03-06-02256\", \"HTMCP-03-06-02259\", \"HTMCP-03-06-02260\", \"HTMCP-03-06-02261\", \"HTMCP-03-06-02262\", \"HTMCP-03-06-02264\", \"HTMCP-03-06-02266\", \"HTMCP-03-06-02267\", \"HTMCP-03-06-02268\", \"HTMCP-03-06-02320\", \"HTMCP-03-06-02322\", \"HTMCP-03-06-02326\", \"HTMCP-03-06-02328\", \"HTMCP-03-06-02330\", \"HTMCP-03-06-02332\", \"HTMCP-03-06-02333\", \"HTMCP-03-06-02335\", \"HTMCP-03-06-02340\", \"HTMCP-03-06-02341\", \"HTMCP-03-06-02344\", \"HTMCP-03-06-02346\", \"HTMCP-03-06-02354\", \"HTMCP-03-06-02377\", \"HTMCP-03-06-02392\", \"HTMCP-03-06-02393\", \"HTMCP-03-06-02396\", \"HTMCP-03-06-02411\", \"HTMCP-03-06-02414\", \"HTMCP-03-06-02417\", \"HTMCP-03-06-02424\", \"HTMCP-03-06-02427\", \"HTMCP-03-06-02428\", \"HTMCP-03-06-02434\", \"HTMCP-03-06-02435\", \"HTMCP-03-06-02437\", \"HTMCP-03-06-02441\", \"HTMCP-03-06-02442\", \"HTMCP-03-06-02447\"], \"type\": \"box\", \"y\": [null, null, null, null, null, null, null, null, null, null, null, null, null, null, null, null, 4.9589, 2.7595, null, null, null, null, 6.7948, null, null, null, null, null, null, null, null, null, null, null, null, null, null, null, null, null, null, 1.2999, null, null, null, null, null, null, null, null, null, null, null, null, null, null, null, null, null, null, null, 3.1968, null, null, null, 2.5417, null, 1.6223, null, null, null, null, null, null, null, null, null, null, null, null, null, null, 7.2101, null, null, null, null, null, null, null, null, 11.5659, null, null, null, 5.9647, null, null, null, null, 6.5996, null, null, null, null, null, null, null, null, null, null, null, null, null, null, null, null, null]}, {\"boxpoints\": \"all\", \"jitter\": 1, \"name\": \"wt\", \"pointpos\": 0, \"text\": [\"HTMCP-03-06-02001\", \"HTMCP-03-06-02002\", \"HTMCP-03-06-02003\", \"HTMCP-03-06-02006\", \"HTMCP-03-06-02008\", \"HTMCP-03-06-02012\", \"HTMCP-03-06-02013\", \"HTMCP-03-06-02020\", \"HTMCP-03-06-02036\", \"HTMCP-03-06-02037\", \"HTMCP-03-06-02040\", \"HTMCP-03-06-02042\", \"HTMCP-03-06-02046\", \"HTMCP-03-06-02047\", \"HTMCP-03-06-02054\", \"HTMCP-03-06-02057\", \"HTMCP-03-06-02058\", \"HTMCP-03-06-02063\", \"HTMCP-03-06-02068\", \"HTMCP-03-06-02070\", \"HTMCP-03-06-02071\", \"HTMCP-03-06-02074\", \"HTMCP-03-06-02075\", \"HTMCP-03-06-02076\", \"HTMCP-03-06-02089\", \"HTMCP-03-06-02092\", \"HTMCP-03-06-02097\", \"HTMCP-03-06-02098\", \"HTMCP-03-06-02099\", \"HTMCP-03-06-02103\", \"HTMCP-03-06-02108\", \"HTMCP-03-06-02109\", \"HTMCP-03-06-02110\", \"HTMCP-03-06-02113\", \"HTMCP-03-06-02120\", \"HTMCP-03-06-02125\", \"HTMCP-03-06-02128\", \"HTMCP-03-06-02139\", \"HTMCP-03-06-02144\", \"HTMCP-03-06-02145\", \"HTMCP-03-06-02147\", \"HTMCP-03-06-02148\", \"HTMCP-03-06-02149\", \"HTMCP-03-06-02150\", \"HTMCP-03-06-02151\", \"HTMCP-03-06-02152\", \"HTMCP-03-06-02155\", \"HTMCP-03-06-02156\", \"HTMCP-03-06-02170\", \"HTMCP-03-06-02174\", \"HTMCP-03-06-02175\", \"HTMCP-03-06-02176\", \"HTMCP-03-06-02179\", \"HTMCP-03-06-02180\", \"HTMCP-03-06-02182\", \"HTMCP-03-06-02185\", \"HTMCP-03-06-02194\", \"HTMCP-03-06-02195\", \"HTMCP-03-06-02196\", \"HTMCP-03-06-02197\", \"HTMCP-03-06-02202\", \"HTMCP-03-06-02203\", \"HTMCP-03-06-02204\", \"HTMCP-03-06-02205\", \"HTMCP-03-06-02209\", \"HTMCP-03-06-02210\", \"HTMCP-03-06-02213\", \"HTMCP-03-06-02214\", \"HTMCP-03-06-02215\", \"HTMCP-03-06-02216\", \"HTMCP-03-06-02217\", \"HTMCP-03-06-02219\", \"HTMCP-03-06-02222\", \"HTMCP-03-06-02225\", \"HTMCP-03-06-02230\", \"HTMCP-03-06-02235\", \"HTMCP-03-06-02238\", \"HTMCP-03-06-02239\", \"HTMCP-03-06-02240\", \"HTMCP-03-06-02242\", \"HTMCP-03-06-02256\", \"HTMCP-03-06-02259\", \"HTMCP-03-06-02260\", \"HTMCP-03-06-02261\", \"HTMCP-03-06-02262\", \"HTMCP-03-06-02264\", \"HTMCP-03-06-02266\", \"HTMCP-03-06-02267\", \"HTMCP-03-06-02268\", \"HTMCP-03-06-02320\", \"HTMCP-03-06-02322\", \"HTMCP-03-06-02326\", \"HTMCP-03-06-02328\", \"HTMCP-03-06-02330\", \"HTMCP-03-06-02332\", \"HTMCP-03-06-02333\", \"HTMCP-03-06-02335\", \"HTMCP-03-06-02340\", \"HTMCP-03-06-02341\", \"HTMCP-03-06-02344\", \"HTMCP-03-06-02346\", \"HTMCP-03-06-02354\", \"HTMCP-03-06-02377\", \"HTMCP-03-06-02392\", \"HTMCP-03-06-02393\", \"HTMCP-03-06-02396\", \"HTMCP-03-06-02411\", \"HTMCP-03-06-02414\", \"HTMCP-03-06-02417\", \"HTMCP-03-06-02424\", \"HTMCP-03-06-02427\", \"HTMCP-03-06-02428\", \"HTMCP-03-06-02434\", \"HTMCP-03-06-02435\", \"HTMCP-03-06-02437\", \"HTMCP-03-06-02441\", \"HTMCP-03-06-02442\", \"HTMCP-03-06-02447\"], \"type\": \"box\", \"y\": [11.1634, 1.8584, 7.9967, 4.7846, 6.084, 9.0988, 4.3152, 4.371, 9.6589, 2.9684, 4.232, 6.142, 4.5886, 5.1561, 3.625, 4.8441, null, null, 2.2578, 7.9648, 6.5583, 6.8242, null, 23.5194, 3.2431, 6.9616, 3.8085, 4.8781, 1.9489, 15.137, 7.4436, 2.4930000000000003, 11.2253, 6.8976, 3.9431, 3.8176, 4.0048, 4.6739999999999995, 4.4483, 5.8672, 5.7006, null, 2.1696, 3.1162, 5.3912, 9.2989, 1.0511, 6.0982, 5.3537, 4.4791, 6.7853, 5.5859, 0.6882, 0.9420000000000001, 0.9875, 12.62, 3.8912, 1.4801, 3.4930000000000003, 24.1684, 1.3953, null, 4.2836, 1.246, 2.9673, null, 6.4984, null, 5.2498, 14.2121, 6.4565, 2.4318, 1.5736, 2.8198, 10.9876, 0.11599999999999999, 2.7310000000000003, 2.256, 4.8459, 3.7247, 9.4996, 4.974, null, 1.1438, 5.0812, 1.8881, 7.1219, 16.4646, 6.0488, 13.0108, 4.5694, null, 1.2842, 10.6998, 6.8867, null, 7.9966, 6.0226, 6.3553, 4.9169, null, 5.1797, 11.9633, 8.3017, 4.6703, 6.7872, 4.0269, 0.4869, 1.3768, 2.6492, 2.8117, 4.5344, 6.6339, 6.162000000000001, 3.57, 0.5511, 1.6851, 4.0439]}],\n",
       "                        {\"height\": 600, \"template\": {\"data\": {\"bar\": [{\"error_x\": {\"color\": \"#2a3f5f\"}, \"error_y\": {\"color\": \"#2a3f5f\"}, \"marker\": {\"line\": {\"color\": \"#E5ECF6\", \"width\": 0.5}}, \"type\": \"bar\"}], \"barpolar\": [{\"marker\": {\"line\": {\"color\": \"#E5ECF6\", \"width\": 0.5}}, \"type\": \"barpolar\"}], \"carpet\": [{\"aaxis\": {\"endlinecolor\": \"#2a3f5f\", \"gridcolor\": \"white\", \"linecolor\": \"white\", \"minorgridcolor\": \"white\", \"startlinecolor\": \"#2a3f5f\"}, \"baxis\": {\"endlinecolor\": \"#2a3f5f\", \"gridcolor\": \"white\", \"linecolor\": \"white\", \"minorgridcolor\": \"white\", \"startlinecolor\": \"#2a3f5f\"}, \"type\": \"carpet\"}], \"choropleth\": [{\"colorbar\": {\"outlinewidth\": 0, \"ticks\": \"\"}, \"type\": \"choropleth\"}], \"contour\": [{\"colorbar\": {\"outlinewidth\": 0, \"ticks\": \"\"}, \"colorscale\": [[0.0, \"#0d0887\"], [0.1111111111111111, \"#46039f\"], [0.2222222222222222, \"#7201a8\"], [0.3333333333333333, \"#9c179e\"], [0.4444444444444444, \"#bd3786\"], [0.5555555555555556, \"#d8576b\"], [0.6666666666666666, \"#ed7953\"], [0.7777777777777778, \"#fb9f3a\"], [0.8888888888888888, \"#fdca26\"], [1.0, \"#f0f921\"]], \"type\": \"contour\"}], \"contourcarpet\": [{\"colorbar\": {\"outlinewidth\": 0, \"ticks\": \"\"}, \"type\": \"contourcarpet\"}], \"heatmap\": [{\"colorbar\": {\"outlinewidth\": 0, \"ticks\": \"\"}, \"colorscale\": [[0.0, \"#0d0887\"], [0.1111111111111111, \"#46039f\"], [0.2222222222222222, \"#7201a8\"], [0.3333333333333333, \"#9c179e\"], [0.4444444444444444, \"#bd3786\"], [0.5555555555555556, \"#d8576b\"], [0.6666666666666666, \"#ed7953\"], [0.7777777777777778, \"#fb9f3a\"], [0.8888888888888888, \"#fdca26\"], [1.0, \"#f0f921\"]], \"type\": \"heatmap\"}], \"heatmapgl\": [{\"colorbar\": {\"outlinewidth\": 0, \"ticks\": \"\"}, \"colorscale\": [[0.0, \"#0d0887\"], [0.1111111111111111, \"#46039f\"], [0.2222222222222222, \"#7201a8\"], [0.3333333333333333, \"#9c179e\"], [0.4444444444444444, \"#bd3786\"], [0.5555555555555556, \"#d8576b\"], [0.6666666666666666, \"#ed7953\"], [0.7777777777777778, \"#fb9f3a\"], [0.8888888888888888, \"#fdca26\"], [1.0, \"#f0f921\"]], \"type\": \"heatmapgl\"}], \"histogram\": [{\"marker\": {\"colorbar\": {\"outlinewidth\": 0, \"ticks\": \"\"}}, \"type\": \"histogram\"}], \"histogram2d\": [{\"colorbar\": {\"outlinewidth\": 0, \"ticks\": \"\"}, \"colorscale\": [[0.0, \"#0d0887\"], [0.1111111111111111, \"#46039f\"], [0.2222222222222222, \"#7201a8\"], [0.3333333333333333, \"#9c179e\"], [0.4444444444444444, \"#bd3786\"], [0.5555555555555556, \"#d8576b\"], [0.6666666666666666, \"#ed7953\"], [0.7777777777777778, \"#fb9f3a\"], [0.8888888888888888, \"#fdca26\"], [1.0, \"#f0f921\"]], \"type\": \"histogram2d\"}], \"histogram2dcontour\": [{\"colorbar\": {\"outlinewidth\": 0, \"ticks\": \"\"}, \"colorscale\": [[0.0, \"#0d0887\"], [0.1111111111111111, \"#46039f\"], [0.2222222222222222, \"#7201a8\"], [0.3333333333333333, \"#9c179e\"], [0.4444444444444444, \"#bd3786\"], [0.5555555555555556, \"#d8576b\"], [0.6666666666666666, \"#ed7953\"], [0.7777777777777778, \"#fb9f3a\"], [0.8888888888888888, \"#fdca26\"], [1.0, \"#f0f921\"]], \"type\": \"histogram2dcontour\"}], \"mesh3d\": [{\"colorbar\": {\"outlinewidth\": 0, \"ticks\": \"\"}, \"type\": \"mesh3d\"}], \"parcoords\": [{\"line\": {\"colorbar\": {\"outlinewidth\": 0, \"ticks\": \"\"}}, \"type\": \"parcoords\"}], \"pie\": [{\"automargin\": true, \"type\": \"pie\"}], \"scatter\": [{\"marker\": {\"colorbar\": {\"outlinewidth\": 0, \"ticks\": \"\"}}, \"type\": \"scatter\"}], \"scatter3d\": [{\"line\": {\"colorbar\": {\"outlinewidth\": 0, \"ticks\": \"\"}}, \"marker\": {\"colorbar\": {\"outlinewidth\": 0, \"ticks\": \"\"}}, \"type\": \"scatter3d\"}], \"scattercarpet\": [{\"marker\": {\"colorbar\": {\"outlinewidth\": 0, \"ticks\": \"\"}}, \"type\": \"scattercarpet\"}], \"scattergeo\": [{\"marker\": {\"colorbar\": {\"outlinewidth\": 0, \"ticks\": \"\"}}, \"type\": \"scattergeo\"}], \"scattergl\": [{\"marker\": {\"colorbar\": {\"outlinewidth\": 0, \"ticks\": \"\"}}, \"type\": \"scattergl\"}], \"scattermapbox\": [{\"marker\": {\"colorbar\": {\"outlinewidth\": 0, \"ticks\": \"\"}}, \"type\": \"scattermapbox\"}], \"scatterpolar\": [{\"marker\": {\"colorbar\": {\"outlinewidth\": 0, \"ticks\": \"\"}}, \"type\": \"scatterpolar\"}], \"scatterpolargl\": [{\"marker\": {\"colorbar\": {\"outlinewidth\": 0, \"ticks\": \"\"}}, \"type\": \"scatterpolargl\"}], \"scatterternary\": [{\"marker\": {\"colorbar\": {\"outlinewidth\": 0, \"ticks\": \"\"}}, \"type\": \"scatterternary\"}], \"surface\": [{\"colorbar\": {\"outlinewidth\": 0, \"ticks\": \"\"}, \"colorscale\": [[0.0, \"#0d0887\"], [0.1111111111111111, \"#46039f\"], [0.2222222222222222, \"#7201a8\"], [0.3333333333333333, \"#9c179e\"], [0.4444444444444444, \"#bd3786\"], [0.5555555555555556, \"#d8576b\"], [0.6666666666666666, \"#ed7953\"], [0.7777777777777778, \"#fb9f3a\"], [0.8888888888888888, \"#fdca26\"], [1.0, \"#f0f921\"]], \"type\": \"surface\"}], \"table\": [{\"cells\": {\"fill\": {\"color\": \"#EBF0F8\"}, \"line\": {\"color\": \"white\"}}, \"header\": {\"fill\": {\"color\": \"#C8D4E3\"}, \"line\": {\"color\": \"white\"}}, \"type\": \"table\"}]}, \"layout\": {\"annotationdefaults\": {\"arrowcolor\": \"#2a3f5f\", \"arrowhead\": 0, \"arrowwidth\": 1}, \"coloraxis\": {\"colorbar\": {\"outlinewidth\": 0, \"ticks\": \"\"}}, \"colorscale\": {\"diverging\": [[0, \"#8e0152\"], [0.1, \"#c51b7d\"], [0.2, \"#de77ae\"], [0.3, \"#f1b6da\"], [0.4, \"#fde0ef\"], [0.5, \"#f7f7f7\"], [0.6, \"#e6f5d0\"], [0.7, \"#b8e186\"], [0.8, \"#7fbc41\"], [0.9, \"#4d9221\"], [1, \"#276419\"]], \"sequential\": [[0.0, \"#0d0887\"], [0.1111111111111111, \"#46039f\"], [0.2222222222222222, \"#7201a8\"], [0.3333333333333333, \"#9c179e\"], [0.4444444444444444, \"#bd3786\"], [0.5555555555555556, \"#d8576b\"], [0.6666666666666666, \"#ed7953\"], [0.7777777777777778, \"#fb9f3a\"], [0.8888888888888888, \"#fdca26\"], [1.0, \"#f0f921\"]], \"sequentialminus\": [[0.0, \"#0d0887\"], [0.1111111111111111, \"#46039f\"], [0.2222222222222222, \"#7201a8\"], [0.3333333333333333, \"#9c179e\"], [0.4444444444444444, \"#bd3786\"], [0.5555555555555556, \"#d8576b\"], [0.6666666666666666, \"#ed7953\"], [0.7777777777777778, \"#fb9f3a\"], [0.8888888888888888, \"#fdca26\"], [1.0, \"#f0f921\"]]}, \"colorway\": [\"#636efa\", \"#EF553B\", \"#00cc96\", \"#ab63fa\", \"#FFA15A\", \"#19d3f3\", \"#FF6692\", \"#B6E880\", \"#FF97FF\", \"#FECB52\"], \"font\": {\"color\": \"#2a3f5f\"}, \"geo\": {\"bgcolor\": \"white\", \"lakecolor\": \"white\", \"landcolor\": \"#E5ECF6\", \"showlakes\": true, \"showland\": true, \"subunitcolor\": \"white\"}, \"hoverlabel\": {\"align\": \"left\"}, \"hovermode\": \"closest\", \"mapbox\": {\"style\": \"light\"}, \"paper_bgcolor\": \"white\", \"plot_bgcolor\": \"#E5ECF6\", \"polar\": {\"angularaxis\": {\"gridcolor\": \"white\", \"linecolor\": \"white\", \"ticks\": \"\"}, \"bgcolor\": \"#E5ECF6\", \"radialaxis\": {\"gridcolor\": \"white\", \"linecolor\": \"white\", \"ticks\": \"\"}}, \"scene\": {\"xaxis\": {\"backgroundcolor\": \"#E5ECF6\", \"gridcolor\": \"white\", \"gridwidth\": 2, \"linecolor\": \"white\", \"showbackground\": true, \"ticks\": \"\", \"zerolinecolor\": \"white\"}, \"yaxis\": {\"backgroundcolor\": \"#E5ECF6\", \"gridcolor\": \"white\", \"gridwidth\": 2, \"linecolor\": \"white\", \"showbackground\": true, \"ticks\": \"\", \"zerolinecolor\": \"white\"}, \"zaxis\": {\"backgroundcolor\": \"#E5ECF6\", \"gridcolor\": \"white\", \"gridwidth\": 2, \"linecolor\": \"white\", \"showbackground\": true, \"ticks\": \"\", \"zerolinecolor\": \"white\"}}, \"shapedefaults\": {\"line\": {\"color\": \"#2a3f5f\"}}, \"ternary\": {\"aaxis\": {\"gridcolor\": \"white\", \"linecolor\": \"white\", \"ticks\": \"\"}, \"baxis\": {\"gridcolor\": \"white\", \"linecolor\": \"white\", \"ticks\": \"\"}, \"bgcolor\": \"#E5ECF6\", \"caxis\": {\"gridcolor\": \"white\", \"linecolor\": \"white\", \"ticks\": \"\"}}, \"title\": {\"x\": 0.05}, \"xaxis\": {\"automargin\": true, \"gridcolor\": \"white\", \"linecolor\": \"white\", \"ticks\": \"\", \"title\": {\"standoff\": 15}, \"zerolinecolor\": \"white\", \"zerolinewidth\": 2}, \"yaxis\": {\"automargin\": true, \"gridcolor\": \"white\", \"linecolor\": \"white\", \"ticks\": \"\", \"title\": {\"standoff\": 15}, \"zerolinecolor\": \"white\", \"zerolinewidth\": 2}}}, \"title\": {\"text\": \"expression of gpr126\"}, \"width\": 600},\n",
       "                        {\"responsive\": true}\n",
       "                    ).then(function(){\n",
       "                            \n",
       "var gd = document.getElementById('1c2bdd9d-c5ca-4719-a157-df7c4c89255c');\n",
       "var x = new MutationObserver(function (mutations, observer) {{\n",
       "        var display = window.getComputedStyle(gd).display;\n",
       "        if (!display || display === 'none') {{\n",
       "            console.log([gd, 'removed!']);\n",
       "            Plotly.purge(gd);\n",
       "            observer.disconnect();\n",
       "        }}\n",
       "}});\n",
       "\n",
       "// Listen for the removal of the full notebook cells\n",
       "var notebookContainer = gd.closest('#notebook-container');\n",
       "if (notebookContainer) {{\n",
       "    x.observe(notebookContainer, {childList: true});\n",
       "}}\n",
       "\n",
       "// Listen for the clearing of the current output cell\n",
       "var outputEl = gd.closest('.output');\n",
       "if (outputEl) {{\n",
       "    x.observe(outputEl, {childList: true});\n",
       "}}\n",
       "\n",
       "                        })\n",
       "                };\n",
       "                });\n",
       "            </script>\n",
       "        </div>"
      ]
     },
     "metadata": {},
     "output_type": "display_data"
    }
   ],
   "source": [
    "dfm = df.pivot(index='patient', columns='xx', values='GPR126')\n",
    "dfm.columns = ['mut', 'wt']\n",
    "dfm.head(2)\n",
    "\n",
    "data=[go.Box(y=dfm[col], name=col, boxpoints='all', pointpos = 0, jitter=1, text=dfm[col].index.tolist()) for col in dfm.columns]\n",
    "\n",
    "layout=go.Layout(title='expression of gpr126',\n",
    "                width=600,\n",
    "                height=600)\n",
    "\n",
    "fig = go.Figure(data=data, layout=layout)\n",
    "\n",
    "iplot(fig)                                              \n",
    "                                                                                                                          "
   ]
  },
  {
   "cell_type": "markdown",
   "metadata": {},
   "source": [
    "# plotly group bar plot"
   ]
  },
  {
   "cell_type": "code",
   "execution_count": 55,
   "metadata": {},
   "outputs": [],
   "source": [
    "# plotly.io.orca.config.executable = '/projects/da_workspace/software/miniconda/envs/dlpy3/bin/orca'\n",
    "plotly.io.orca.config.executable = '/projects/da_workspace/software/miniconda/envs/da/bin/orca'    \n"
   ]
  },
  {
   "cell_type": "code",
   "execution_count": 29,
   "metadata": {},
   "outputs": [],
   "source": [
    "f = '/projects/trans_scratch/validations/workspace/szong/development/genomics_data_analysis/visualization/gene_frequency.txt'\n",
    "dfsmg = pd.read_csv(f)"
   ]
  },
  {
   "cell_type": "code",
   "execution_count": 30,
   "metadata": {},
   "outputs": [
    {
     "data": {
      "text/html": [
       "<div>\n",
       "<style scoped>\n",
       "    .dataframe tbody tr th:only-of-type {\n",
       "        vertical-align: middle;\n",
       "    }\n",
       "\n",
       "    .dataframe tbody tr th {\n",
       "        vertical-align: top;\n",
       "    }\n",
       "\n",
       "    .dataframe thead th {\n",
       "        text-align: right;\n",
       "    }\n",
       "</style>\n",
       "<table border=\"1\" class=\"dataframe\">\n",
       "  <thead>\n",
       "    <tr style=\"text-align: right;\">\n",
       "      <th></th>\n",
       "      <th>gene</th>\n",
       "      <th>mutation_frequency_x</th>\n",
       "      <th>mutation_frequency_y</th>\n",
       "    </tr>\n",
       "  </thead>\n",
       "  <tbody>\n",
       "    <tr>\n",
       "      <td>0</td>\n",
       "      <td>PIK3CA</td>\n",
       "      <td>0.347458</td>\n",
       "      <td>0.333333</td>\n",
       "    </tr>\n",
       "    <tr>\n",
       "      <td>1</td>\n",
       "      <td>FAT1</td>\n",
       "      <td>0.186441</td>\n",
       "      <td>0.126437</td>\n",
       "    </tr>\n",
       "    <tr>\n",
       "      <td>2</td>\n",
       "      <td>MLL2</td>\n",
       "      <td>0.144068</td>\n",
       "      <td>NaN</td>\n",
       "    </tr>\n",
       "    <tr>\n",
       "      <td>3</td>\n",
       "      <td>FBXW7</td>\n",
       "      <td>0.101695</td>\n",
       "      <td>0.172414</td>\n",
       "    </tr>\n",
       "    <tr>\n",
       "      <td>4</td>\n",
       "      <td>SLC35G5</td>\n",
       "      <td>0.067797</td>\n",
       "      <td>0.034483</td>\n",
       "    </tr>\n",
       "    <tr>\n",
       "      <td>5</td>\n",
       "      <td>CASP8</td>\n",
       "      <td>0.067797</td>\n",
       "      <td>0.091954</td>\n",
       "    </tr>\n",
       "    <tr>\n",
       "      <td>6</td>\n",
       "      <td>PSPC1</td>\n",
       "      <td>0.050847</td>\n",
       "      <td>NaN</td>\n",
       "    </tr>\n",
       "    <tr>\n",
       "      <td>7</td>\n",
       "      <td>PCDHGA12</td>\n",
       "      <td>0.050847</td>\n",
       "      <td>0.045977</td>\n",
       "    </tr>\n",
       "    <tr>\n",
       "      <td>8</td>\n",
       "      <td>MAPK1</td>\n",
       "      <td>0.050847</td>\n",
       "      <td>0.022989</td>\n",
       "    </tr>\n",
       "    <tr>\n",
       "      <td>9</td>\n",
       "      <td>ZNF750</td>\n",
       "      <td>0.042373</td>\n",
       "      <td>0.011494</td>\n",
       "    </tr>\n",
       "    <tr>\n",
       "      <td>10</td>\n",
       "      <td>ZC3H6</td>\n",
       "      <td>0.033898</td>\n",
       "      <td>0.034483</td>\n",
       "    </tr>\n",
       "    <tr>\n",
       "      <td>11</td>\n",
       "      <td>PCDHA9</td>\n",
       "      <td>0.025424</td>\n",
       "      <td>0.034483</td>\n",
       "    </tr>\n",
       "  </tbody>\n",
       "</table>\n",
       "</div>"
      ],
      "text/plain": [
       "        gene  mutation_frequency_x  mutation_frequency_y\n",
       "0     PIK3CA              0.347458              0.333333\n",
       "1       FAT1              0.186441              0.126437\n",
       "2       MLL2              0.144068                   NaN\n",
       "3      FBXW7              0.101695              0.172414\n",
       "4    SLC35G5              0.067797              0.034483\n",
       "5      CASP8              0.067797              0.091954\n",
       "6      PSPC1              0.050847                   NaN\n",
       "7   PCDHGA12              0.050847              0.045977\n",
       "8      MAPK1              0.050847              0.022989\n",
       "9     ZNF750              0.042373              0.011494\n",
       "10     ZC3H6              0.033898              0.034483\n",
       "11    PCDHA9              0.025424              0.034483"
      ]
     },
     "execution_count": 30,
     "metadata": {},
     "output_type": "execute_result"
    }
   ],
   "source": [
    "dfsmg"
   ]
  },
  {
   "cell_type": "code",
   "execution_count": 50,
   "metadata": {},
   "outputs": [
    {
     "ename": "ValueError",
     "evalue": "Image generation requires the psutil package.\n\nInstall using pip:\n    $ pip install psutil\n\nInstall using conda:\n    $ conda install psutil\n",
     "output_type": "error",
     "traceback": [
      "\u001b[0;31m---------------------------------------------------------------------------\u001b[0m",
      "\u001b[0;31mValueError\u001b[0m                                Traceback (most recent call last)",
      "\u001b[0;32m<ipython-input-50-6415c4890259>\u001b[0m in \u001b[0;36m<module>\u001b[0;34m\u001b[0m\n\u001b[1;32m     16\u001b[0m \u001b[0;34m\u001b[0m\u001b[0m\n\u001b[1;32m     17\u001b[0m \u001b[0;31m# iplot(fig, filename='xxx.pdf')\u001b[0m\u001b[0;34m\u001b[0m\u001b[0;34m\u001b[0m\u001b[0;34m\u001b[0m\u001b[0m\n\u001b[0;32m---> 18\u001b[0;31m \u001b[0mpio\u001b[0m\u001b[0;34m.\u001b[0m\u001b[0mwrite_image\u001b[0m\u001b[0;34m(\u001b[0m\u001b[0mfig\u001b[0m\u001b[0;34m,\u001b[0m \u001b[0;34m'/projects/trans_scratch/validations/workspace/szong/Cervical/variant_bwamem/124_patients_new/mutation_frequency_discovery_vs_validation.pdf'\u001b[0m\u001b[0;34m)\u001b[0m\u001b[0;34m\u001b[0m\u001b[0;34m\u001b[0m\u001b[0m\n\u001b[0m",
      "\u001b[0;32m/projects/da_workspace/software/miniconda/envs/da/lib/python3.7/site-packages/plotly/io/_orca.py\u001b[0m in \u001b[0;36mwrite_image\u001b[0;34m(fig, file, format, scale, width, height, validate)\u001b[0m\n\u001b[1;32m   1765\u001b[0m     \u001b[0;31m# Do this first so we don't create a file if image conversion fails\u001b[0m\u001b[0;34m\u001b[0m\u001b[0;34m\u001b[0m\u001b[0;34m\u001b[0m\u001b[0m\n\u001b[1;32m   1766\u001b[0m     img_data = to_image(\n\u001b[0;32m-> 1767\u001b[0;31m         \u001b[0mfig\u001b[0m\u001b[0;34m,\u001b[0m \u001b[0mformat\u001b[0m\u001b[0;34m=\u001b[0m\u001b[0mformat\u001b[0m\u001b[0;34m,\u001b[0m \u001b[0mscale\u001b[0m\u001b[0;34m=\u001b[0m\u001b[0mscale\u001b[0m\u001b[0;34m,\u001b[0m \u001b[0mwidth\u001b[0m\u001b[0;34m=\u001b[0m\u001b[0mwidth\u001b[0m\u001b[0;34m,\u001b[0m \u001b[0mheight\u001b[0m\u001b[0;34m=\u001b[0m\u001b[0mheight\u001b[0m\u001b[0;34m,\u001b[0m \u001b[0mvalidate\u001b[0m\u001b[0;34m=\u001b[0m\u001b[0mvalidate\u001b[0m\u001b[0;34m\u001b[0m\u001b[0;34m\u001b[0m\u001b[0m\n\u001b[0m\u001b[1;32m   1768\u001b[0m     )\n\u001b[1;32m   1769\u001b[0m \u001b[0;34m\u001b[0m\u001b[0m\n",
      "\u001b[0;32m/projects/da_workspace/software/miniconda/envs/da/lib/python3.7/site-packages/plotly/io/_orca.py\u001b[0m in \u001b[0;36mto_image\u001b[0;34m(fig, format, width, height, scale, validate)\u001b[0m\n\u001b[1;32m   1530\u001b[0m     \u001b[0;31m# Make sure orca sever is running\u001b[0m\u001b[0;34m\u001b[0m\u001b[0;34m\u001b[0m\u001b[0;34m\u001b[0m\u001b[0m\n\u001b[1;32m   1531\u001b[0m     \u001b[0;31m# -------------------------------\u001b[0m\u001b[0;34m\u001b[0m\u001b[0;34m\u001b[0m\u001b[0;34m\u001b[0m\u001b[0m\n\u001b[0;32m-> 1532\u001b[0;31m     \u001b[0mensure_server\u001b[0m\u001b[0;34m(\u001b[0m\u001b[0;34m)\u001b[0m\u001b[0;34m\u001b[0m\u001b[0;34m\u001b[0m\u001b[0m\n\u001b[0m\u001b[1;32m   1533\u001b[0m \u001b[0;34m\u001b[0m\u001b[0m\n\u001b[1;32m   1534\u001b[0m     \u001b[0;31m# Handle defaults\u001b[0m\u001b[0;34m\u001b[0m\u001b[0;34m\u001b[0m\u001b[0;34m\u001b[0m\u001b[0m\n",
      "\u001b[0;32m/projects/da_workspace/software/miniconda/envs/da/lib/python3.7/site-packages/plotly/io/_orca.py\u001b[0m in \u001b[0;36mensure_server\u001b[0;34m()\u001b[0m\n\u001b[1;32m   1368\u001b[0m \u001b[0mInstall\u001b[0m \u001b[0musing\u001b[0m \u001b[0mconda\u001b[0m\u001b[0;34m:\u001b[0m\u001b[0;34m\u001b[0m\u001b[0;34m\u001b[0m\u001b[0m\n\u001b[1;32m   1369\u001b[0m     \u001b[0;31m$\u001b[0m \u001b[0mconda\u001b[0m \u001b[0minstall\u001b[0m \u001b[0mpsutil\u001b[0m\u001b[0;34m\u001b[0m\u001b[0;34m\u001b[0m\u001b[0m\n\u001b[0;32m-> 1370\u001b[0;31m \"\"\"\n\u001b[0m\u001b[1;32m   1371\u001b[0m         )\n\u001b[1;32m   1372\u001b[0m \u001b[0;34m\u001b[0m\u001b[0m\n",
      "\u001b[0;31mValueError\u001b[0m: Image generation requires the psutil package.\n\nInstall using pip:\n    $ pip install psutil\n\nInstall using conda:\n    $ conda install psutil\n"
     ]
    }
   ],
   "source": [
    "trace1 = go.Bar(x=dfsmg.gene,\n",
    "                y=dfsmg.mutation_frequency_x,\n",
    "                name='HTMCP discovery')\n",
    "trace2 = go.Bar(x=dfsmg.gene,\n",
    "                y=dfsmg.mutation_frequency_y,\n",
    "                name='HTMCP validation')\n",
    "\n",
    "data = [trace1, trace2]\n",
    "layout = go.Layout(barmode='group',\n",
    "                   width=700,\n",
    "                   height=500,\n",
    "                  yaxis=dict(type='-', title='mutation frequency'),\n",
    "                  xaxis=dict(title=''))\n",
    "\n",
    "fig = go.Figure(data=data, layout=layout)\n",
    "\n",
    "# iplot(fig, filename='xxx.pdf')\n",
    "pio.write_image(fig, '/projects/trans_scratch/validations/workspace/szong/Cervical/variant_bwamem/124_patients_new/mutation_frequency_discovery_vs_validation.pdf')"
   ]
  },
  {
   "cell_type": "code",
   "execution_count": null,
   "metadata": {},
   "outputs": [],
   "source": []
  },
  {
   "cell_type": "code",
   "execution_count": null,
   "metadata": {},
   "outputs": [],
   "source": []
  }
 ],
 "metadata": {
  "kernelspec": {
   "display_name": "Python 3",
   "language": "python",
   "name": "python3"
  },
  "language_info": {
   "codemirror_mode": {
    "name": "ipython",
    "version": 3
   },
   "file_extension": ".py",
   "mimetype": "text/x-python",
   "name": "python",
   "nbconvert_exporter": "python",
   "pygments_lexer": "ipython3",
   "version": "3.7.3"
  }
 },
 "nbformat": 4,
 "nbformat_minor": 2
}
