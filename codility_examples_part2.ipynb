{
 "cells": [
  {
   "cell_type": "markdown",
   "metadata": {},
   "source": [
    "sed 's/ /'$'\\t''/' filename\n",
    "\n",
    "replace the first space with tab"
   ]
  },
  {
   "cell_type": "markdown",
   "metadata": {},
   "source": [
    "A prime is a positive integer X that has exactly two distinct divisors: 1 and X. The first few prime integers are 2, 3, 5, 7, 11 and 13.\n",
    "\n",
    "A semiprime is a natural number that is the product of two (not necessarily distinct) prime numbers. The first few semiprimes are 4, 6, 9, 10, 14, 15, 21, 22, 25, 26.\n",
    "\n",
    "You are given two non-empty arrays P and Q, each consisting of M integers. These arrays represent queries about the number of semiprimes within specified ranges.\n",
    "\n",
    "Query K requires you to find the number of semiprimes within the range (P[K], Q[K]), where 1 ≤ P[K] ≤ Q[K] ≤ N.\n",
    "\n",
    "For example, consider an integer N = 26 and arrays P, Q such that:\n",
    "\n",
    "    P[0] = 1    Q[0] = 26  \n",
    "    P[1] = 4    Q[1] = 10  \n",
    "    P[2] = 16   Q[2] = 20  \n",
    "The number of semiprimes within each of these ranges is as follows:\n",
    "\n",
    "(1, 26) is 10,  \n",
    "(4, 10) is 4,  \n",
    "(16, 20) is 0.  \n",
    "Write a function:\n",
    "\n",
    "def solution(N, P, Q)\n",
    "\n",
    "that, given an integer N and two non-empty arrays P and Q consisting of M integers, returns an array consisting of M elements specifying the consecutive answers to all the queries.\n",
    "\n",
    "For example, given an integer N = 26 and arrays P, Q such that:\n",
    "\n",
    "    P[0] = 1    Q[0] = 26  \n",
    "    P[1] = 4    Q[1] = 10  \n",
    "    P[2] = 16   Q[2] = 20  \n",
    "the function should return the values [10, 4, 0], as explained above.\n",
    "\n",
    "Write an efficient algorithm for the following assumptions:\n",
    "\n",
    "N is an integer within the range [1..50,000];\n",
    "\n",
    "M is an integer within the range [1..30,000];\n",
    "\n",
    "each element of arrays P, Q is an integer within the range [1..N];\n",
    "P[i] ≤ Q[i]."
   ]
  },
  {
   "cell_type": "code",
   "execution_count": 7,
   "metadata": {},
   "outputs": [
    {
     "data": {
      "text/plain": [
       "[10, 4, 0]"
      ]
     },
     "execution_count": 7,
     "metadata": {},
     "output_type": "execute_result"
    }
   ],
   "source": [
    "P = [1,4,16]\n",
    "Q = [26, 10, 20]\n",
    "N = 26\n",
    "solution(N, P, Q)"
   ]
  },
  {
   "cell_type": "markdown",
   "metadata": {},
   "source": [
    "### sieve of Eratosthenes, prime and semiprime number"
   ]
  },
  {
   "cell_type": "markdown",
   "metadata": {},
   "source": [
    "First get all semiprimes from an adaptation of the Sieve of Eratosthenes. Because we will be computing the difference many times a prefix sum is adequate. Get the number of semiprimes up to the point. The index P is decreased by 1 because we want to know all primes that start from P."
   ]
  },
  {
   "cell_type": "code",
   "execution_count": 6,
   "metadata": {},
   "outputs": [],
   "source": [
    "# 100% both\n",
    "def sieve(N):\n",
    "    semi = set()\n",
    "    sieve = [True]* (N+1)\n",
    "    sieve[0] = sieve[1] = False\n",
    " \n",
    "    i = 2\n",
    "    while (i*i <= N):\n",
    "        if sieve[i] == True:\n",
    "            for j in range(i*i, N+1, i):\n",
    "                sieve[j] = False\n",
    "        i += 1\n",
    " \n",
    "    i = 2\n",
    "    while (i*i <= N):\n",
    "        if sieve[i] == True:\n",
    "            for j in range(i*i, N+1, i):\n",
    "                if (j % i == 0 and sieve[int(j/i)] == True):\n",
    "                    semi.add(j)\n",
    "        i += 1\n",
    " \n",
    "    return semi\n",
    " \n",
    "def solution(N, P, Q):\n",
    " \n",
    "    semi_set = sieve(N)\n",
    " \n",
    "    prefix = []\n",
    " \n",
    "    prefix.append(0) # 0\n",
    "    prefix.append(0) # 1\n",
    "    prefix.append(0) # 2\n",
    "    prefix.append(0) # 3\n",
    "    prefix.append(1) # 4\n",
    " \n",
    "    for idx in range(5, max(Q)+1):\n",
    "        if idx in semi_set:\n",
    "            prefix.append(prefix[-1]+1)\n",
    "        else:\n",
    "            prefix.append(prefix[-1])\n",
    " \n",
    "    solution = []\n",
    " \n",
    "    for idx in range(len(Q)):\n",
    "        solution.append(prefix[Q[idx]] - prefix[P[idx]-1])\n",
    " \n",
    "    return solution\n"
   ]
  },
  {
   "cell_type": "markdown",
   "metadata": {},
   "source": [
    "### non-divisors"
   ]
  },
  {
   "cell_type": "markdown",
   "metadata": {},
   "source": [
    "You are given an array A consisting of N integers.\n",
    "\n",
    "For each number A[i] such that 0 ≤ i < N, we want to count the number of elements of the array that are not the divisors of A[i]. We say that these elements are non-divisors.\n",
    "\n",
    "For example, consider integer N = 5 and array A such that:\n",
    "\n",
    "    A[0] = 3  \n",
    "    A[1] = 1  \n",
    "    A[2] = 2  \n",
    "    A[3] = 3  \n",
    "    A[4] = 6  \n",
    "For the following elements:\n",
    "\n",
    "A[0] = 3, the non-divisors are: 2, 6,  \n",
    "A[1] = 1, the non-divisors are: 3, 2, 3, 6,  \n",
    "A[2] = 2, the non-divisors are: 3, 3, 6,  \n",
    "A[3] = 3, the non-divisors are: 2, 6,  \n",
    "A[4] = 6, there aren't any non-divisors.  \n",
    "Write a function:\n",
    "\n",
    "def solution(A)\n",
    "\n",
    "that, given an array A consisting of N integers, returns a sequence of integers representing the amount of non-divisors.\n",
    "\n",
    "Result array should be returned as an array of integers.\n",
    "\n",
    "For example, given:\n",
    "\n",
    "    A[0] = 3  \n",
    "    A[1] = 1  \n",
    "    A[2] = 2  \n",
    "    A[3] = 3  \n",
    "    A[4] = 6  \n",
    "the function should return [2, 4, 3, 2, 0], as explained above.\n",
    "\n",
    "Write an efficient algorithm for the following assumptions:\n",
    "\n",
    "N is an integer within the range [1..50,000];\n",
    "\n",
    "each element of array A is an integer within the range [1..2 * N]."
   ]
  },
  {
   "cell_type": "markdown",
   "metadata": {},
   "source": [
    "Using the Sieve of Eratosthenes, you generate divisors for all input elements of A. If a given number x is a divisor of element (x*N == element), then N also is a divisor. (N = element//x). After all divisors are computed, we simply subtract those (multiplied by their counts or 0) from the total number of elements in A."
   ]
  },
  {
   "cell_type": "code",
   "execution_count": 10,
   "metadata": {},
   "outputs": [],
   "source": [
    "# 100% both\n",
    "def solution(A):\n",
    "  \n",
    "    A_max = max(A)\n",
    "  \n",
    "    count = {}\n",
    "    for element in A:\n",
    "        if element not in count:\n",
    "            count[element] = 1\n",
    "        else:\n",
    "            count[element] += 1\n",
    "  \n",
    "    divisors = {}\n",
    "    for element in A:\n",
    "        divisors[element] = set([1, element])\n",
    "  \n",
    "    # start the Sieve of Eratosthenes\n",
    "    divisor = 2\n",
    "    while divisor*divisor <= A_max:\n",
    "        element_candidate = divisor\n",
    "        while element_candidate  <= A_max:\n",
    "            if element_candidate in divisors and not divisor in divisors[element_candidate]:\n",
    "                divisors[element_candidate].add(divisor)\n",
    "                divisors[element_candidate].add(element_candidate//divisor)\n",
    "            element_candidate += divisor\n",
    "        divisor += 1\n",
    "  \n",
    "    result = [0] * len(A)\n",
    "    for idx, element in enumerate(A):\n",
    "        result[idx] = (len(A)-sum([count.get(divisor,0) for divisor in divisors[element]]))\n",
    "  \n",
    "    return result"
   ]
  },
  {
   "cell_type": "code",
   "execution_count": 9,
   "metadata": {},
   "outputs": [
    {
     "data": {
      "text/plain": [
       "[2, 4, 3, 2, 0]"
      ]
     },
     "execution_count": 9,
     "metadata": {},
     "output_type": "execute_result"
    }
   ],
   "source": [
    "A = [3,1,2,3,6]\n",
    "solution(A)"
   ]
  },
  {
   "cell_type": "markdown",
   "metadata": {},
   "source": [
    "### chocolate in circle"
   ]
  },
  {
   "cell_type": "markdown",
   "metadata": {},
   "source": [
    "Two positive integers N and M are given. Integer N represents the number of chocolates arranged in a circle, numbered from 0 to N − 1.\n",
    "\n",
    "You start to eat the chocolates. After eating a chocolate you leave only a wrapper.\n",
    "\n",
    "You begin with eating chocolate number 0. Then you omit the next M − 1 chocolates or wrappers on the circle, and eat the following one.\n",
    "\n",
    "More precisely, if you ate chocolate number X, then you will next eat the chocolate with number (X + M) modulo N (remainder of division).\n",
    "\n",
    "You stop eating when you encounter an empty wrapper.\n",
    "\n",
    "For example, given integers N = 10 and M = 4. You will eat the following chocolates: 0, 4, 8, 2, 6.\n",
    "\n",
    "The goal is to count the number of chocolates that you will eat, following the above rules.\n",
    "\n",
    "Write a function:\n",
    "\n",
    "def solution(N, M)\n",
    "\n",
    "that, given two positive integers N and M, returns the number of chocolates that you will eat.\n",
    "\n",
    "For example, given integers N = 10 and M = 4. the function should return 5, as explained above.\n",
    "\n",
    "Write an efficient algorithm for the following assumptions:\n",
    "\n",
    "N and M are integers within the range [1..1,000,000,000]."
   ]
  },
  {
   "cell_type": "code",
   "execution_count": 16,
   "metadata": {},
   "outputs": [],
   "source": [
    "#  100% both\n",
    "def gcd(p, q):\n",
    "    if q == 0:\n",
    "        return p\n",
    "    return gcd(q, p % q)\n",
    " \n",
    "def lcm(p,q):\n",
    "    return p * (q / gcd(p,q))\n",
    " \n",
    "def solution(N, M):\n",
    "    return int(lcm(N,M)/M)"
   ]
  },
  {
   "cell_type": "code",
   "execution_count": 17,
   "metadata": {},
   "outputs": [
    {
     "data": {
      "text/plain": [
       "5"
      ]
     },
     "execution_count": 17,
     "metadata": {},
     "output_type": "execute_result"
    }
   ],
   "source": [
    "N =10\n",
    "M = 4\n",
    "solution(N, M)"
   ]
  },
  {
   "cell_type": "markdown",
   "metadata": {},
   "source": [
    "### prime divisors"
   ]
  },
  {
   "cell_type": "markdown",
   "metadata": {},
   "source": [
    "A prime is a positive integer X that has exactly two distinct divisors: 1 and X. The first few prime integers are 2, 3, 5, 7, 11 and 13.\n",
    "\n",
    "A prime D is called a prime divisor of a positive integer P if there exists a positive integer K such that D * K = P. For example, 2 and 5 are prime divisors of 20.\n",
    "\n",
    "You are given two positive integers N and M. The goal is to check whether the sets of prime divisors of integers N and M are exactly the same.\n",
    "\n",
    "For example, given:\n",
    "\n",
    "N = 15 and M = 75, the prime divisors are the same: {3, 5};  \n",
    "N = 10 and M = 30, the prime divisors aren't the same: {2, 5} is not equal to {2, 3, 5};  \n",
    "N = 9 and M = 5, the prime divisors aren't the same: {3} is not equal to {5}.  \n",
    "Write a function:\n",
    "\n",
    "def solution(A, B)\n",
    "\n",
    "that, given two non-empty arrays A and B of Z integers, returns the number of positions K for which the prime divisors of A[K] and B[K] are exactly the same.\n",
    "\n",
    "For example, given:\n",
    "\n",
    "    A[0] = 15   B[0] = 75  \n",
    "    A[1] = 10   B[1] = 30  \n",
    "    A[2] = 3    B[2] = 5  \n",
    "the function should return 1, because only one pair (15, 75) has the same set of prime divisors.\n",
    "\n",
    "Write an efficient algorithm for the following assumptions:\n",
    "\n",
    "Z is an integer within the range [1..6,000];\n",
    "\n",
    "each element of arrays A, B is an integer within the range [1..2,147,483,647]."
   ]
  },
  {
   "cell_type": "code",
   "execution_count": 21,
   "metadata": {},
   "outputs": [],
   "source": [
    "# 100% both\n",
    "def gcd(p, q):\n",
    "  if q == 0:\n",
    "    return p\n",
    "  return gcd(q, p % q)\n",
    " \n",
    "def hasSameFactors(p, q):\n",
    "    if p == q == 0:\n",
    "        return True\n",
    "     \n",
    "    denom = gcd(p,q)\n",
    "     \n",
    "    while (p != 1):\n",
    "        p_gcd = gcd(p,denom)\n",
    "        if p_gcd == 1:\n",
    "            break\n",
    "        p /= p_gcd\n",
    "    else:\n",
    "        while (q != 1):\n",
    "            q_gcd = gcd(q,denom)\n",
    "            if q_gcd == 1:\n",
    "                break\n",
    "            q /= q_gcd\n",
    "        else:\n",
    "            return True\n",
    "     \n",
    "    return False\n",
    " \n",
    " \n",
    "def solution(A, B):\n",
    "    if len(A) != len(B):\n",
    "        raise Exception(\"Invalid input\")\n",
    "    cnt = 0\n",
    "    for idx in range(len(A)):\n",
    "        if A[idx] < 0 or B[idx] < 0:\n",
    "            raise Exception(\"Invalid value\")\n",
    "        if hasSameFactors(A[idx], B[idx]):\n",
    "            cnt += 1\n",
    "     \n",
    "    return cnt"
   ]
  },
  {
   "cell_type": "code",
   "execution_count": 20,
   "metadata": {},
   "outputs": [
    {
     "data": {
      "text/plain": [
       "1"
      ]
     },
     "execution_count": 20,
     "metadata": {},
     "output_type": "execute_result"
    }
   ],
   "source": [
    "A = [15, 10,3]\n",
    "B = [75, 30, 5]\n",
    "solution(A, B)"
   ]
  },
  {
   "cell_type": "markdown",
   "metadata": {},
   "source": [
    "### frog jump over Fibonacci sequence, minimal jumps"
   ]
  },
  {
   "cell_type": "markdown",
   "metadata": {},
   "source": [
    "The Fibonacci sequence is defined using the following recursive formula:\n",
    "\n",
    "    F(0) = 0  \n",
    "    F(1) = 1  \n",
    "    F(M) = F(M - 1) + F(M - 2) if M >= 2  \n",
    "A small frog wants to get to the other side of a river. The frog is initially located at one bank of the river (position −1) and wants to get to the other bank (position N). The frog can jump over any distance F(K), where F(K) is the K-th Fibonacci number. Luckily, there are many leaves on the river, and the frog can jump between the leaves, but only in the direction of the bank at position N.\n",
    "\n",
    "The leaves on the river are represented in an array A consisting of N integers. Consecutive elements of array A represent consecutive positions from 0 to N − 1 on the river. Array A contains only 0s and/or 1s:\n",
    "\n",
    "0 represents a position without a leaf;\n",
    "\n",
    "1 represents a position containing a leaf.\n",
    "\n",
    "The goal is to count the minimum number of jumps in which the frog can get to the other side of the river (from position −1 to position N). The frog can jump between positions −1 and N (the banks of the river) and every position containing a leaf.\n",
    "\n",
    "For example, consider array A such that:\n",
    "\n",
    "    A[0] = 0  \n",
    "    A[1] = 0  \n",
    "    A[2] = 0  \n",
    "    A[3] = 1  \n",
    "    A[4] = 1  \n",
    "    A[5] = 0  \n",
    "    A[6] = 1  \n",
    "    A[7] = 0  \n",
    "    A[8] = 0  \n",
    "    A[9] = 0  \n",
    "    A[10] = 0  \n",
    "The frog can make three jumps of length F(5) = 5, F(3) = 2 and F(5) = 5.\n",
    "\n",
    "Write a function:\n",
    "\n",
    "def solution(A)\n",
    "\n",
    "that, given an array A consisting of N integers, returns the minimum number of jumps by which the frog can get to the other side of the river. If the frog cannot reach the other side of the river, the function should return −1.\n",
    "\n",
    "For example, given:\n",
    "\n",
    "    A[0] = 0  \n",
    "    A[1] = 0  \n",
    "    A[2] = 0  \n",
    "    A[3] = 1  \n",
    "    A[4] = 1  \n",
    "    A[5] = 0  \n",
    "    A[6] = 1  \n",
    "    A[7] = 0  \n",
    "    A[8] = 0  \n",
    "    A[9] = 0  \n",
    "    A[10] = 0  \n",
    "the function should return 3, as explained above.\n",
    "\n",
    "Write an efficient algorithm for the following assumptions:\n",
    "\n",
    "N is an integer within the range [0..100,000];\n",
    "\n",
    "each element of array A is an integer that can have one of the following values: 0, 1."
   ]
  },
  {
   "cell_type": "code",
   "execution_count": null,
   "metadata": {},
   "outputs": [],
   "source": [
    "def get_fib_seq_up_to_n(N):\n",
    "    # there are 26 numbers smaller than 100k\n",
    "    fib = [0] * (27)\n",
    "    fib[1] = 1\n",
    "    for i in range(2, 27):\n",
    "        fib[i] = fib[i - 1] + fib[i - 2]\n",
    "        if fib[i] > N:\n",
    "            return fib[2:i]\n",
    "        else:\n",
    "            last_valid = i\n",
    "     \n",
    "     \n",
    "     \n",
    "def solution(A):\n",
    "    # you can always step on the other shore, this simplifies the algorithm\n",
    "    A.append(1)\n",
    " \n",
    "    fib_set = get_fib_seq_up_to_n(len(A))\n",
    "     \n",
    "    # this array will hold the optimal jump count that reaches this index\n",
    "    reachable = [-1] * (len(A))\n",
    "     \n",
    "    # get the leafs that can be reached from the starting shore\n",
    "    for jump in fib_set:\n",
    "        if A[jump-1] == 1:\n",
    "            reachable[jump-1] = 1\n",
    "     \n",
    "    # iterate all the positions until you reach the other shore\n",
    "    for idx in range(len(A)):\n",
    "        # ignore non-leafs and already found paths\n",
    "        if A[idx] == 0 or reachable[idx] > 0:\n",
    "            continue\n",
    " \n",
    "        # get the optimal jump count to reach this leaf\n",
    "        min_idx = -1\n",
    "        min_value = 100000\n",
    "        for jump in fib_set:\n",
    "            previous_idx = idx - jump\n",
    "            if previous_idx < 0:\n",
    "                break\n",
    "            if reachable[previous_idx] > 0 and min_value > reachable[previous_idx]:\n",
    "                min_value = reachable[previous_idx]\n",
    "                min_idx = previous_idx\n",
    "        if min_idx != -1:\n",
    "            reachable[idx] = min_value +1\n",
    " \n",
    "    return reachable[len(A)-1]"
   ]
  },
  {
   "cell_type": "markdown",
   "metadata": {},
   "source": [
    "### number different ways climbing up a ladder"
   ]
  },
  {
   "cell_type": "markdown",
   "metadata": {},
   "source": [
    "You have to climb up a ladder. The ladder has exactly N rungs, numbered from 1 to N. With each step, you can ascend by one or two rungs. More precisely:\n",
    "\n",
    "with your first step you can stand on rung 1 or 2,  \n",
    "if you are on rung K, you can move to rungs K + 1 or K + 2,  \n",
    "finally you have to stand on rung N.  \n",
    "Your task is to count the number of different ways of climbing to the top of the ladder.\n",
    "\n",
    "For example, given N = 4, you have five different ways of climbing, ascending by:\n",
    "\n",
    "1, 1, 1 and 1 rung,  \n",
    "1, 1 and 2 rungs,  \n",
    "1, 2 and 1 rung,  \n",
    "2, 1 and 1 rungs, and  \n",
    "2 and 2 rungs.  \n",
    "Given N = 5, you have eight different ways of climbing, ascending by:\n",
    "\n",
    "1, 1, 1, 1 and 1 rung,  \n",
    "1, 1, 1 and 2 rungs,  \n",
    "1, 1, 2 and 1 rung,  \n",
    "1, 2, 1 and 1 rung,  \n",
    "1, 2 and 2 rungs,  \n",
    "2, 1, 1 and 1 rungs,  \n",
    "2, 1 and 2 rungs, and  \n",
    "2, 2 and 1 rung.  \n",
    "The number of different ways can be very large, so it is sufficient to return the result modulo $2^P$, for a given integer P.\n",
    "\n",
    "Write a function:\n",
    "\n",
    "def solution(A, B)\n",
    "\n",
    "that, given two non-empty arrays A and B of L integers, returns an array consisting of L integers specifying the consecutive answers; position I should contain the number of different ways of climbing the ladder with A[I] rungs modulo $2^B[I]$.\n",
    "\n",
    "For example, given L = 5 and:\n",
    "\n",
    "    A[0] = 4   B[0] = 3  \n",
    "    A[1] = 4   B[1] = 2  \n",
    "    A[2] = 5   B[2] = 4  \n",
    "    A[3] = 5   B[3] = 3  \n",
    "    A[4] = 1   B[4] = 1  \n",
    "the function should return the sequence [5, 1, 8, 0, 1], as explained above.\n",
    "\n",
    "Write an efficient algorithm for the following assumptions:\n",
    "\n",
    "L is an integer within the range [1..50,000];\n",
    "\n",
    "each element of array A is an integer within the range [1..L];\n",
    "\n",
    "each element of array B is an integer within the range [1..30]."
   ]
  },
  {
   "cell_type": "code",
   "execution_count": 22,
   "metadata": {},
   "outputs": [],
   "source": [
    "def solution(A, B):\n",
    "    L = max(A)\n",
    "    P_max = max(B)\n",
    "  \n",
    "    fib = [0] * (L+2)\n",
    "    fib[1] = 1\n",
    "    for i in range(2, L + 2):\n",
    "        fib[i] = (fib[i-1] + fib[i-2]) & ((1 << P_max) - 1)\n",
    "  \n",
    "    return_arr = [0] * len(A)\n",
    "  \n",
    "    for idx in range(len(A)):\n",
    "        return_arr[idx] = fib[A[idx]+1] & ((1 << B[idx]) - 1)\n",
    "  \n",
    "    return return_arr"
   ]
  },
  {
   "cell_type": "code",
   "execution_count": 23,
   "metadata": {},
   "outputs": [
    {
     "data": {
      "text/plain": [
       "[5, 1, 8, 0, 1]"
      ]
     },
     "execution_count": 23,
     "metadata": {},
     "output_type": "execute_result"
    }
   ],
   "source": [
    "A = [4,4,5,5,1]\n",
    "B = [3,2,4,3,1]\n",
    "solution(A, B)"
   ]
  },
  {
   "cell_type": "markdown",
   "metadata": {},
   "source": [
    "### binary search, minimize the block sum"
   ]
  },
  {
   "cell_type": "markdown",
   "metadata": {},
   "source": [
    "You are given integers K, M and a non-empty array A consisting of N integers. Every element of the array is not greater than M.\n",
    "\n",
    "You should divide this array into K blocks of consecutive elements. The size of the block is any integer between 0 and N. Every element of the array should belong to some block.\n",
    "\n",
    "The sum of the block from X to Y equals A[X] + A[X + 1] + ... + A[Y]. The sum of empty block equals 0.\n",
    "\n",
    "The large sum is the maximal sum of any block.\n",
    "\n",
    "For example, you are given integers K = 3, M = 5 and array A such that:\n",
    "\n",
    "  A[0] = 2  \n",
    "  A[1] = 1    \n",
    "  A[2] = 5  \n",
    "  A[3] = 1  \n",
    "  A[4] = 2  \n",
    "  A[5] = 2  \n",
    "  A[6] = 2  \n",
    "The array can be divided, for example, into the following blocks:\n",
    "\n",
    "[2, 1, 5, 1, 2, 2, 2], [], [] with a large sum of 15;  \n",
    "[2], [1, 5, 1, 2], [2, 2] with a large sum of 9;  \n",
    "[2, 1, 5], [], [1, 2, 2, 2] with a large sum of 8;  \n",
    "[2, 1], [5, 1], [2, 2, 2] with a large sum of 6.  \n",
    "The goal is to minimize the large sum. In the above example, 6 is the minimal large sum.\n",
    "\n",
    "Write a function:\n",
    "\n",
    "def solution(K, M, A)\n",
    "\n",
    "that, given integers K, M and a non-empty array A consisting of N integers, returns the minimal large sum.\n",
    "\n",
    "For example, given K = 3, M = 5 and array A such that:\n",
    "\n",
    "  A[0] = 2  \n",
    "  A[1] = 1    \n",
    "  A[2] = 5  \n",
    "  A[3] = 1  \n",
    "  A[4] = 2  \n",
    "  A[5] = 2  \n",
    "  A[6] = 2  \n",
    "the function should return 6, as explained above.\n",
    "\n",
    "Write an efficient algorithm for the following assumptions:\n",
    "\n",
    "N and K are integers within the range [1..100,000];   \n",
    "M is an integer within the range [0..10,000];  \n",
    "each element of array A is an integer within the range [0..M]."
   ]
  },
  {
   "cell_type": "code",
   "execution_count": 65,
   "metadata": {},
   "outputs": [],
   "source": [
    "def exceed_max_sum(A, max_num_blocks, max_block_sum):\n",
    "    block_sum = 0\n",
    "    num_blocks = 0 \n",
    "    for element in A:\n",
    "        if block_sum + element > max_block_sum:\n",
    "            block_sum = element\n",
    "            num_blocks += 1\n",
    "        else:\n",
    "            block_sum += element\n",
    "        if num_blocks >= max_num_blocks:\n",
    "            return True\n",
    "#         print(\"xxx\", element, block_sum, max_num_blocks, max_block_sum)\n",
    "    return False\n",
    " \n",
    "def binary_search(A, max_num_blocks, using_M_will_give_you_wrong_results):\n",
    "    lower_bound = max(A)\n",
    "    upper_bound = sum(A)\n",
    "    if max_num_blocks == 1:      return upper_bound\n",
    "    if max_num_blocks >= len(A): return lower_bound \n",
    "    while lower_bound <= upper_bound:\n",
    "        midpoint = (lower_bound + upper_bound) // 2\n",
    "#         print(\"yyyy\",lower_bound, upper_bound,  max_num_blocks, lower_bound, upper_bound, midpoint)\n",
    "        if not exceed_max_sum(A, max_num_blocks, midpoint):            \n",
    "            upper_bound = midpoint - 1\n",
    "#             print('blocksize valid, adjust upper bound to ', upper_bound)\n",
    "        else:\n",
    "            lower_bound = midpoint + 1\n",
    "#             print('blocksize invalid, adjust lower bound to', lower_bound) \n",
    "#     print('zzz', lower_bound, upper_bound)\n",
    "    return lower_bound\n",
    " \n",
    "def solution(K, M, A):\n",
    "    return binary_search(A,K,M)\n"
   ]
  },
  {
   "cell_type": "code",
   "execution_count": 66,
   "metadata": {},
   "outputs": [
    {
     "name": "stdout",
     "output_type": "stream",
     "text": [
      "yyyy 8 22 3 8 22 15\n",
      "xxx 2 2 3 15\n",
      "xxx 8 10 3 15\n",
      "xxx 5 15 3 15\n",
      "xxx 1 1 3 15\n",
      "xxx 2 3 3 15\n",
      "xxx 2 5 3 15\n",
      "xxx 2 7 3 15\n",
      "blocksize valid, adjust upper bound to  14\n",
      "yyyy 8 14 3 8 14 11\n",
      "xxx 2 2 3 11\n",
      "xxx 8 10 3 11\n",
      "xxx 5 5 3 11\n",
      "xxx 1 6 3 11\n",
      "xxx 2 8 3 11\n",
      "xxx 2 10 3 11\n",
      "xxx 2 2 3 11\n",
      "blocksize valid, adjust upper bound to  10\n",
      "yyyy 8 10 3 8 10 9\n",
      "xxx 2 2 3 9\n",
      "xxx 8 8 3 9\n",
      "xxx 5 5 3 9\n",
      "xxx 1 6 3 9\n",
      "xxx 2 8 3 9\n",
      "blocksize invalid, adjust lower bound to 10\n",
      "yyyy 10 10 3 10 10 10\n",
      "xxx 2 2 3 10\n",
      "xxx 8 10 3 10\n",
      "xxx 5 5 3 10\n",
      "xxx 1 6 3 10\n",
      "xxx 2 8 3 10\n",
      "xxx 2 10 3 10\n",
      "xxx 2 2 3 10\n",
      "blocksize valid, adjust upper bound to  9\n",
      "zzz 10 9\n"
     ]
    },
    {
     "data": {
      "text/plain": [
       "10"
      ]
     },
     "execution_count": 66,
     "metadata": {},
     "output_type": "execute_result"
    }
   ],
   "source": [
    "K = 3\n",
    "M = 5\n",
    "A = [2,8,5,1,2,2,2]\n",
    "solution(K, M , A)"
   ]
  },
  {
   "cell_type": "markdown",
   "metadata": {},
   "source": [
    "### planks"
   ]
  },
  {
   "cell_type": "markdown",
   "metadata": {},
   "source": [
    "You are given two non-empty arrays A and B consisting of N integers. These arrays represent N planks. More precisely, A[K] is the start and B[K] the end of the K−th plank.\n",
    "\n",
    "Next, you are given a non-empty array C consisting of M integers. This array represents M nails. More precisely, C[I] is the position where you can hammer in the I−th nail.\n",
    "\n",
    "We say that a plank (A[K], B[K]) is nailed if there exists a nail C[I] such that A[K] ≤ C[I] ≤ B[K].\n",
    "\n",
    "The goal is to find the minimum number of nails that must be used until all the planks are nailed. In other words, you should find a value J such that all planks will be nailed after using only the first J nails. More precisely, for every plank (A[K], B[K]) such that 0 ≤ K < N, there should exist a nail C[I] such that I < J and A[K] ≤ C[I] ≤ B[K].\n",
    "\n",
    "For example, given arrays A, B such that:\n",
    "\n",
    "    A[0] = 1    B[0] = 4  \n",
    "    A[1] = 4    B[1] = 5  \n",
    "    A[2] = 5    B[2] = 9  \n",
    "    A[3] = 8    B[3] = 10  \n",
    "four planks are represented: [1, 4], [4, 5], [5, 9] and [8, 10].\n",
    "\n",
    "Given array C such that:\n",
    "\n",
    "    C[0] = 4  \n",
    "    C[1] = 6  \n",
    "    C[2] = 7  \n",
    "    C[3] = 10  \n",
    "    C[4] = 2  \n",
    "if we use the following nails:\n",
    "\n",
    "0, then planks [1, 4] and [4, 5] will both be nailed.  \n",
    "0, 1, then planks [1, 4], [4, 5] and [5, 9] will be nailed.  \n",
    "0, 1, 2, then planks [1, 4], [4, 5] and [5, 9] will be nailed.  \n",
    "0, 1, 2, 3, then all the planks will be nailed.  \n",
    "Thus, four is the minimum number of nails that, used sequentially, allow all the planks to be nailed.\n",
    "\n",
    "Write a function:\n",
    "\n",
    "def solution(A, B, C)\n",
    "\n",
    "that, given two non-empty arrays A and B consisting of N integers and a non-empty array C consisting of M integers, returns the minimum number of nails that, used sequentially, allow all the planks to be nailed.\n",
    "\n",
    "If it is not possible to nail all the planks, the function should return −1.\n",
    "\n",
    "For example, given arrays A, B, C such that:\n",
    "\n",
    "    A[0] = 1    B[0] = 4  \n",
    "    A[1] = 4    B[1] = 5  \n",
    "    A[2] = 5    B[2] = 9  \n",
    "    A[3] = 8    B[3] = 10  \n",
    "\n",
    "    C[0] = 4  \n",
    "    C[1] = 6  \n",
    "    C[2] = 7   \n",
    "    C[3] = 10  \n",
    "    C[4] = 2  \n",
    "the function should return 4, as explained above.\n",
    "\n",
    "Write an efficient algorithm for the following assumptions:\n",
    "\n",
    "N and M are integers within the range [1..30,000];\n",
    "\n",
    "each element of arrays A, B, C is an integer within the range [1..2*M];\n",
    "A[K] ≤ B[K].\n"
   ]
  },
  {
   "cell_type": "code",
   "execution_count": 68,
   "metadata": {},
   "outputs": [],
   "source": [
    "import math\n",
    "class RMQ:\n",
    "    def __init__(self, n):\n",
    "        self.sz = 1\n",
    "        self.inf = (1 << 31) - 1\n",
    "        self.sz = (1 << int(math.ceil(math.log(n) / math.log(2))))\n",
    "        self.dat = [self.inf] * (2 * self.sz - 1)\n",
    "\n",
    "    def update(self, idx, x):\n",
    "        idx += self.sz - 1\n",
    "        if self.dat[idx] < x:\n",
    "            return\n",
    "        self.dat[idx] = x\n",
    "        while idx > 0:\n",
    "            idx = (idx - 1) >> 1\n",
    "            self.dat[idx] = min(self.dat[idx * 2 + 1], self.dat[idx * 2 + 2])\n",
    "\n",
    "    def fill(self, A):\n",
    "        for index,value in enumerate(A):\n",
    "            self.update(index,(value, index))\n",
    "\n",
    "    def query(self, a, b):\n",
    "        return self.query_help(a, b, 0, 0, self.sz)\n",
    "\n",
    "    def query_help(self, a, b, k, l, r):\n",
    "        if r <= a or b <= l:\n",
    "            return self.inf\n",
    "        elif a <= l and r <= b:\n",
    "            return self.dat[k]\n",
    "        else:\n",
    "            return min(self.query_help(a, b, 2 * k + 1, l, (l + r)>>1),\n",
    "                        self.query_help(a, b, 2 * k + 2, (l + r) >> 1, r))\n",
    "    def __str__(self):\n",
    "        return  \"RMQ of size \" + str(self.sz) + \" with \" + str(self.dat)\n",
    "\n",
    "def solution(A, B, C):\n",
    "    r = RMQ(max(C)+1)\n",
    "    for idx in  range(len(C)):\n",
    "        r.update(C[idx], idx)\n",
    "        \n",
    "    min_nail_idx = 0\n",
    "    for idx in  range(len(A)):\n",
    "        min_nail_idx = max(min_nail_idx, r.query(A[idx], B[idx]+1))\n",
    "\n",
    "    if min_nail_idx == r.inf:\n",
    "        return -1\n",
    "    else:\n",
    "        return min_nail_idx+1"
   ]
  },
  {
   "cell_type": "markdown",
   "metadata": {},
   "source": [
    "### greedy, maximum number of sub arrays with sum greater than a fix number"
   ]
  },
  {
   "cell_type": "markdown",
   "metadata": {},
   "source": [
    "There are N ropes numbered from 0 to N − 1, whose lengths are given in an array A, lying on the floor in a line. For each I (0 ≤ I < N), the length of rope I on the line is A[I].\n",
    "\n",
    "We say that two ropes I and I + 1 are adjacent. Two adjacent ropes can be tied together with a knot, and the length of the tied rope is the sum of lengths of both ropes. The resulting new rope can then be tied again.\n",
    "\n",
    "For a given integer K, the goal is to tie the ropes in such a way that the number of ropes whose length is greater than or equal to K is maximal.\n",
    "\n",
    "For example, consider K = 4 and array A such that:\n",
    "\n",
    "    A[0] = 1  \n",
    "    A[1] = 2  \n",
    "    A[2] = 3  \n",
    "    A[3] = 4  \n",
    "    A[4] = 1  \n",
    "    A[5] = 1  \n",
    "    A[6] = 3  \n",
    "The ropes are shown in the figure below.\n",
    "\n",
    "\n",
    "\n",
    "We can tie:\n",
    "\n",
    "rope 1 with rope 2 to produce a rope of length A[1] + A[2] = 5;  \n",
    "rope 4 with rope 5 with rope 6 to produce a rope of length A[4] + A[5] + A[6] = 5.  \n",
    "After that, there will be three ropes whose lengths are greater than or equal to K = 4. It is not possible to produce four such ropes.\n",
    "\n",
    "Write a function:\n",
    "\n",
    "def solution(K, A)\n",
    "\n",
    "that, given an integer K and a non-empty array A of N integers, returns the maximum number of ropes of length greater than or equal to K that can be created.\n",
    "\n",
    "For example, given K = 4 and array A such that:\n",
    "\n",
    "    A[0] = 1  \n",
    "    A[1] = 2  \n",
    "    A[2] = 3  \n",
    "    A[3] = 4  \n",
    "    A[4] = 1  \n",
    "    A[5] = 1  \n",
    "    A[6] = 3  \n",
    "the function should return 3, as explained above.\n",
    "\n",
    "Write an efficient algorithm for the following assumptions:\n",
    "\n",
    "N is an integer within the range [1..100,000];  \n",
    "K is an integer within the range [1..1,000,000,000];  \n",
    "each element of array A is an integer within the range [1..1,000,000,000]."
   ]
  },
  {
   "cell_type": "code",
   "execution_count": 4,
   "metadata": {},
   "outputs": [],
   "source": [
    "def solution(K, A):\n",
    "    long_ropes = 0\n",
    "    merge_length = 0\n",
    "    for single_length in A:\n",
    "        merge_length += single_length\n",
    "        if merge_length >= K:\n",
    "            long_ropes +=1\n",
    "            merge_length = 0 \n",
    "    return long_ropes"
   ]
  },
  {
   "cell_type": "code",
   "execution_count": 6,
   "metadata": {},
   "outputs": [
    {
     "data": {
      "text/plain": [
       "0"
      ]
     },
     "execution_count": 6,
     "metadata": {},
     "output_type": "execute_result"
    }
   ],
   "source": [
    "A = [1,2,3,4,1,1,3]\n",
    "A = []\n",
    "K = 4\n",
    "solution(K, A)"
   ]
  },
  {
   "cell_type": "markdown",
   "metadata": {},
   "source": [
    "### find non overlapping segments"
   ]
  },
  {
   "cell_type": "markdown",
   "metadata": {},
   "source": [
    "Located on a line are N segments, numbered from 0 to N − 1, whose positions are given in arrays A and B. For each I (0 ≤ I < N) the position of segment I is from A[I] to B[I] (inclusive). The segments are sorted by their ends, which means that B[K] ≤ B[K + 1] for K such that 0 ≤ K < N − 1.\n",
    "\n",
    "Two segments I and J, such that I ≠ J, are overlapping if they share at least one common point. In other words, A[I] ≤ A[J] ≤ B[I] or A[J] ≤ A[I] ≤ B[J].\n",
    "\n",
    "We say that the set of segments is non-overlapping if it contains no two overlapping segments. The goal is to find the size of a non-overlapping set containing the maximal number of segments.\n",
    "\n",
    "For example, consider arrays A, B such that:\n",
    "\n",
    "    A[0] = 1    B[0] = 5  \n",
    "    A[1] = 3    B[1] = 6    \n",
    "    A[2] = 7    B[2] = 8  \n",
    "    A[3] = 9    B[3] = 9  \n",
    "    A[4] = 9    B[4] = 10  \n",
    "The segments are shown in the figure below.\n",
    "\n",
    "\n",
    "\n",
    "The size of a non-overlapping set containing a maximal number of segments is 3. For example, possible sets are {0, 2, 3}, {0, 2, 4}, {1, 2, 3} or {1, 2, 4}. There is no non-overlapping set with four segments.\n",
    "\n",
    "Write a function:\n",
    "\n",
    "def solution(A, B)\n",
    "\n",
    "that, given two arrays A and B consisting of N integers, returns the size of a non-overlapping set containing a maximal number of segments.\n",
    "\n",
    "For example, given arrays A, B shown above, the function should return 3, as explained above.\n",
    "\n",
    "Write an efficient algorithm for the following assumptions:\n",
    "\n",
    "N is an integer within the range [0..30,000];  \n",
    "each element of arrays A, B is an integer within the range [0..1,000,000,000];  \n",
    "A[I] ≤ B[I], for each I (0 ≤ I < N);  \n",
    "B[K] ≤ B[K + 1], for each K (0 ≤ K < N − 1)."
   ]
  },
  {
   "cell_type": "code",
   "execution_count": 12,
   "metadata": {},
   "outputs": [],
   "source": [
    "def solution(A, B):\n",
    "    if len(A) < 1:\n",
    "        return 0     \n",
    "    nono_segs = 1\n",
    "    prev_end = B[0]     \n",
    "    for idx in range(1, len(A)):\n",
    "        if A[idx] > prev_end:\n",
    "            nono_segs += 1\n",
    "            prev_end = B[idx]     \n",
    "    return nono_segs"
   ]
  },
  {
   "cell_type": "code",
   "execution_count": 13,
   "metadata": {
    "scrolled": true
   },
   "outputs": [
    {
     "data": {
      "text/plain": [
       "3"
      ]
     },
     "execution_count": 13,
     "metadata": {},
     "output_type": "execute_result"
    }
   ],
   "source": [
    "A = [1,3,7,9,9]\n",
    "B = [5,6,8,9,10]\n",
    "solution(A, B)"
   ]
  },
  {
   "cell_type": "markdown",
   "metadata": {},
   "source": [
    "### dynamic programming, different ways to target, frog jump, can jump over any distance in an array"
   ]
  },
  {
   "cell_type": "markdown",
   "metadata": {},
   "source": [
    "Problem: A small frog wants to get from position 0 to k (1 ¬ k ¬ 10 000). The frog can\n",
    "jump over any one of n fixed distances s0, s1, . . . , sn−1 (1 ¬ si ¬ k). The goal is to count the\n",
    "number of different ways in which the frog can jump to position k. To avoid overflow, it is\n",
    "sufficient to return the result modulo q, where q is a given number.\n",
    "We assume that two patterns of jumps are different if, in one pattern, the frog visits\n",
    "a position which is not visited in the other pattern.\n",
    "Solution O(n · k): The task can be solved by using dynamic programming. Let’s create an\n",
    "array dp consisting of k elements, such that dp[j] will be the number of ways in which the\n",
    "frog can jump to position j.\n",
    "\n",
    "We update consecutive cells of array dp. There is exactly one way for the frog to jump to\n",
    "position 0, so dp[0] = 1. Next, consider some position j > 0.\n",
    "The number of ways in which the frog can jump to position j with a final jump of si\n",
    "is\n",
    "dp[j − si\n",
    "]. Thus, the number of ways in which the frog can get to position j is increased by\n",
    "the number of ways of getting to position j − si\n",
    ", for every jump si\n",
    ".\n"
   ]
  },
  {
   "cell_type": "code",
   "execution_count": 11,
   "metadata": {},
   "outputs": [],
   "source": [
    "def frog(leap_dists, dest, mod_factor):\n",
    "    n = len(leap_dists)\n",
    "    leap_combs = [1] + [0] * dest\n",
    "    for post in range(1, dest + 1):\n",
    "        for leap_idx in range(n):\n",
    "            if leap_dists[leap_idx] <= post:\n",
    "#                 leap_combs[post] = (leap_combs[post] + leap_combs[post - leap_dists[i]]) % mod_factor;\n",
    "                leap_combs[post] = (leap_combs[post] + leap_combs[post - leap_dists[leap_idx]]);\n",
    "                print(f'updating leap_combs[{post}] to {leap_combs[post]}')\n",
    "        print(post, leap_idx, leap_combs)\n",
    "    return leap_combs[dest]\n"
   ]
  },
  {
   "cell_type": "code",
   "execution_count": 12,
   "metadata": {},
   "outputs": [
    {
     "name": "stdout",
     "output_type": "stream",
     "text": [
      "updating leap_combs[1] to 1\n",
      "1 2 [1, 1, 0, 0, 0, 0, 0]\n",
      "updating leap_combs[2] to 1\n",
      "2 2 [1, 1, 1, 0, 0, 0, 0]\n",
      "updating leap_combs[3] to 1\n",
      "updating leap_combs[3] to 2\n",
      "3 2 [1, 1, 1, 2, 0, 0, 0]\n",
      "updating leap_combs[4] to 2\n",
      "updating leap_combs[4] to 3\n",
      "4 2 [1, 1, 1, 2, 3, 0, 0]\n",
      "updating leap_combs[5] to 3\n",
      "updating leap_combs[5] to 4\n",
      "updating leap_combs[5] to 5\n",
      "5 2 [1, 1, 1, 2, 3, 5, 0]\n",
      "updating leap_combs[6] to 5\n",
      "updating leap_combs[6] to 7\n",
      "updating leap_combs[6] to 8\n",
      "6 2 [1, 1, 1, 2, 3, 5, 8]\n"
     ]
    },
    {
     "data": {
      "text/plain": [
       "8"
      ]
     },
     "execution_count": 12,
     "metadata": {},
     "output_type": "execute_result"
    }
   ],
   "source": [
    "S = [1, 3, 5]\n",
    "k = 6\n",
    "q = 1\n",
    "frog(S, k, q)"
   ]
  },
  {
   "cell_type": "code",
   "execution_count": null,
   "metadata": {},
   "outputs": [],
   "source": []
  },
  {
   "cell_type": "markdown",
   "metadata": {},
   "source": [
    "### caterpillar, sum of subsequnce equates an fix number"
   ]
  },
  {
   "cell_type": "markdown",
   "metadata": {},
   "source": [
    "Let’s check whether a sequence a0, a1,...,an≠1 (1 ˛ ai ˛ 109) contains a contiguous subsequence whose sum of elements equals s. For example, in the following sequence we are looking\n",
    "for a subsequence whose total equals s = 12\n",
    "\n",
    "Each position of the caterpillar will represent a dierent contiguous subsequence in which\n",
    "the total of the elements is not greater than s. Let’s initially set the caterpillar on the first\n",
    "element. Next we will perform the following steps:\n",
    "\n",
    "• if we can, we move the right end (front) forward and increase the size of the caterpillar;\n",
    "\n",
    "• otherwise, we move the left end (back) forward and decrease the size of the caterpillar.\n",
    "\n",
    "In this way, for every position of the left end we know the longest caterpillar that covers\n",
    "elements whose total is not greater than s. If there is a subsequence whose total of elements\n",
    "equals s, then there certainly is a moment when the caterpillar covers all its elements"
   ]
  },
  {
   "cell_type": "code",
   "execution_count": 20,
   "metadata": {},
   "outputs": [],
   "source": [
    "def caterpillarMethod(A, target):\n",
    "    n = len(A)\n",
    "    head, total = 0, 0\n",
    "    for tail in range(n):\n",
    "        while (head < n and total + A[head] <= target):\n",
    "            total += A[head]\n",
    "            head += 1\n",
    "        if total == target:\n",
    "            return True\n",
    "        total -= A[tail]\n",
    "    return False"
   ]
  },
  {
   "cell_type": "code",
   "execution_count": 21,
   "metadata": {},
   "outputs": [
    {
     "data": {
      "text/plain": [
       "False"
      ]
     },
     "execution_count": 21,
     "metadata": {},
     "output_type": "execute_result"
    }
   ],
   "source": [
    "A = [5,2,3,6,20,3,2,3,6]\n",
    "s = 1\n",
    "caterpillarMethod(A, s)"
   ]
  }
 ],
 "metadata": {
  "kernelspec": {
   "display_name": "Python 3",
   "language": "python",
   "name": "python3"
  },
  "language_info": {
   "codemirror_mode": {
    "name": "ipython",
    "version": 3
   },
   "file_extension": ".py",
   "mimetype": "text/x-python",
   "name": "python",
   "nbconvert_exporter": "python",
   "pygments_lexer": "ipython3",
   "version": "3.6.7"
  }
 },
 "nbformat": 4,
 "nbformat_minor": 2
}
