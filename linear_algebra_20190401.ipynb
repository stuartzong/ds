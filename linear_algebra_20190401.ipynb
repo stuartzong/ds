{
 "cells": [
  {
   "cell_type": "markdown",
   "metadata": {},
   "source": [
    "$$ \\sigma_i^2 = \\frac{1}{m} \\sum_{j=1}^m \\left( x_i^{(j)} - \\mu_i \\right)^2.$$"
   ]
  },
  {
   "cell_type": "markdown",
   "metadata": {},
   "source": [
    "### trace function tr"
   ]
  },
  {
   "cell_type": "markdown",
   "metadata": {},
   "source": [
    "$$ trA = \\sum_{i}^n A_{ii} $$"
   ]
  },
  {
   "cell_type": "markdown",
   "metadata": {},
   "source": [
    "### matrix calculus"
   ]
  },
  {
   "cell_type": "markdown",
   "metadata": {},
   "source": [
    "$f(x) \\in \\mathbb{R}, X \\in \\mathbb{R^{m \\times n}}$, derivative of f(x) with respect to matrix X is also a mxn matrix."
   ]
  },
  {
   "cell_type": "markdown",
   "metadata": {},
   "source": [
    "$$ \\frac{\\partial f}{\\partial X}  = \n",
    "\\begin{bmatrix}\n",
    "\\frac{\\partial f}{\\partial X_{11}}   \\frac{\\partial f}{\\partial X_{12}} ... \\frac{\\partial f}{\\partial X_{1n}}\\\\\n",
    "\\frac{\\partial f}{\\partial X_{21}} \\frac{\\partial f}{\\partial X_{22}} ... \\frac{\\partial f}{\\partial X_{2n}}\\\\\n",
    "\\vdots \\\\\n",
    "\\frac{\\partial f}{\\partial X_{m1}} \\frac{\\partial f}{\\partial X_{m2}} ... \\frac{\\partial f}{\\partial X_{mn}}\n",
    "\\end{bmatrix}$$"
   ]
  },
  {
   "cell_type": "markdown",
   "metadata": {},
   "source": [
    "### single-variable chain rule"
   ]
  },
  {
   "cell_type": "markdown",
   "metadata": {},
   "source": [
    "multiply the derivative of the outer expression by the derivative of the inner expression\n",
    "\n",
    "chain the pieces together\n",
    "* introduce intermediate variables for nested subexpressions\n",
    "* compute the derivatives of the intermediate variables with respect to their parameters\n",
    "* multiply all derivatives together\n",
    "* substitue the intermediate variables \n"
   ]
  },
  {
   "cell_type": "markdown",
   "metadata": {},
   "source": [
    "![image](images/blkeqn-A153933499426CFC383D252C30A87953.svg)"
   ]
  },
  {
   "cell_type": "code",
   "execution_count": null,
   "metadata": {},
   "outputs": [],
   "source": []
  },
  {
   "cell_type": "code",
   "execution_count": null,
   "metadata": {},
   "outputs": [],
   "source": []
  },
  {
   "cell_type": "code",
   "execution_count": 5,
   "metadata": {},
   "outputs": [],
   "source": [
    "import pandas as pd\n",
    "import numpy as np\n",
    "df = pd.DataFrame({'A': [1, 1, 2, 1, 2],\n",
    "                    'B': [np.nan, 2, 3, 4, 5],\n",
    "                    'C': [1, 2, 1, 1, 2]}, columns=['A', 'B', 'C'])"
   ]
  },
  {
   "cell_type": "code",
   "execution_count": 7,
   "metadata": {},
   "outputs": [
    {
     "data": {
      "text/html": [
       "<div>\n",
       "<style scoped>\n",
       "    .dataframe tbody tr th:only-of-type {\n",
       "        vertical-align: middle;\n",
       "    }\n",
       "\n",
       "    .dataframe tbody tr th {\n",
       "        vertical-align: top;\n",
       "    }\n",
       "\n",
       "    .dataframe thead th {\n",
       "        text-align: right;\n",
       "    }\n",
       "</style>\n",
       "<table border=\"1\" class=\"dataframe\">\n",
       "  <thead>\n",
       "    <tr style=\"text-align: right;\">\n",
       "      <th></th>\n",
       "      <th>A</th>\n",
       "      <th>B</th>\n",
       "      <th>C</th>\n",
       "    </tr>\n",
       "  </thead>\n",
       "  <tbody>\n",
       "    <tr>\n",
       "      <th>0</th>\n",
       "      <td>1</td>\n",
       "      <td>NaN</td>\n",
       "      <td>1</td>\n",
       "    </tr>\n",
       "    <tr>\n",
       "      <th>1</th>\n",
       "      <td>1</td>\n",
       "      <td>2.0</td>\n",
       "      <td>2</td>\n",
       "    </tr>\n",
       "    <tr>\n",
       "      <th>2</th>\n",
       "      <td>2</td>\n",
       "      <td>3.0</td>\n",
       "      <td>1</td>\n",
       "    </tr>\n",
       "    <tr>\n",
       "      <th>3</th>\n",
       "      <td>1</td>\n",
       "      <td>4.0</td>\n",
       "      <td>1</td>\n",
       "    </tr>\n",
       "    <tr>\n",
       "      <th>4</th>\n",
       "      <td>2</td>\n",
       "      <td>5.0</td>\n",
       "      <td>2</td>\n",
       "    </tr>\n",
       "  </tbody>\n",
       "</table>\n",
       "</div>"
      ],
      "text/plain": [
       "   A    B  C\n",
       "0  1  NaN  1\n",
       "1  1  2.0  2\n",
       "2  2  3.0  1\n",
       "3  1  4.0  1\n",
       "4  2  5.0  2"
      ]
     },
     "execution_count": 7,
     "metadata": {},
     "output_type": "execute_result"
    }
   ],
   "source": [
    "df"
   ]
  },
  {
   "cell_type": "code",
   "execution_count": 6,
   "metadata": {},
   "outputs": [
    {
     "data": {
      "text/html": [
       "<div>\n",
       "<style scoped>\n",
       "    .dataframe tbody tr th:only-of-type {\n",
       "        vertical-align: middle;\n",
       "    }\n",
       "\n",
       "    .dataframe tbody tr th {\n",
       "        vertical-align: top;\n",
       "    }\n",
       "\n",
       "    .dataframe thead th {\n",
       "        text-align: right;\n",
       "    }\n",
       "</style>\n",
       "<table border=\"1\" class=\"dataframe\">\n",
       "  <thead>\n",
       "    <tr style=\"text-align: right;\">\n",
       "      <th></th>\n",
       "      <th>B</th>\n",
       "      <th>C</th>\n",
       "    </tr>\n",
       "    <tr>\n",
       "      <th>A</th>\n",
       "      <th></th>\n",
       "      <th></th>\n",
       "    </tr>\n",
       "  </thead>\n",
       "  <tbody>\n",
       "    <tr>\n",
       "      <th>1</th>\n",
       "      <td>3.0</td>\n",
       "      <td>1.333333</td>\n",
       "    </tr>\n",
       "    <tr>\n",
       "      <th>2</th>\n",
       "      <td>4.0</td>\n",
       "      <td>1.500000</td>\n",
       "    </tr>\n",
       "  </tbody>\n",
       "</table>\n",
       "</div>"
      ],
      "text/plain": [
       "     B         C\n",
       "A               \n",
       "1  3.0  1.333333\n",
       "2  4.0  1.500000"
      ]
     },
     "execution_count": 6,
     "metadata": {},
     "output_type": "execute_result"
    }
   ],
   "source": [
    "df.groupby('A').mean()"
   ]
  },
  {
   "cell_type": "markdown",
   "metadata": {},
   "source": [
    "### binominal distribution"
   ]
  },
  {
   "cell_type": "markdown",
   "metadata": {},
   "source": [
    "\n",
    "The binomial distribution gives the discrete probability distribution $P_p(n|N)$ of obtaining exactly n successes out of N Bernoulli trials (where the result of each Bernoulli trial is true with probability p and false with probability q=1-p). The binomial distribution is therefore given by\n",
    "\n",
    "\\begin{equation*}P_p(n|N)=  \\left(\\begin{matrix}\n",
    "N \\\\ n \n",
    "\\end{matrix}\\right)p^nq^{N-n} = \\frac{N!}{n!(N-n)!}p^nq^{N-n}\\end{equation*}\n",
    "\n",
    "\n",
    "where (N; n) is a binomial coefficient. The above plot shows the distribution of n successes out of  N=20 trials with p=q=1/2.\n",
    "\n",
    "if only two outcomes success/fail, the probability of success is p, and fail is 1-p. In another word, each trial satisfies Bernoulli distribution. \n",
    "probability of N trials with exactly n successes is $P_p(n|N)$"
   ]
  },
  {
   "cell_type": "markdown",
   "metadata": {},
   "source": [
    "\\begin{equation*} \\left(\\begin{matrix}\n",
    "1 \\\\ 2 \\\\ 1 \\\\ 3\n",
    "\\end{matrix}\\right) \\end{equation*}"
   ]
  },
  {
   "cell_type": "markdown",
   "metadata": {},
   "source": [
    "Original equation:\n",
    "\\begin{equation*}\n",
    "  \\pi(X) = \\mathbf{N}_4 \\Bigg\\{ \\left("
   ]
  },
  {
   "cell_type": "markdown",
   "metadata": {},
   "source": [
    "Original equation:\n",
    "\\begin{equation*}\n",
    "  \\pi(X) = \\mathbf{N}_4 \\Bigg\\{ \\left(\n",
    "  \\begin{matrix}\n",
    "    1 \\\\ 2 \\\\ 1 \\\\ 3\n",
    "  \\end{matrix}\n",
    "  \\right), \\left(\n",
    "  \\begin{matrix}\n",
    "    2 & 1 & 2 & 3 \\\\\n",
    "    1 & 2 & 1 & 3 \\\\\n",
    "    2 & 1 & 3 & 3 \\\\\n",
    "    3 & 3 & 3 & 7\n",
    "  \\end{matrix}\n",
    "  \\right) \\Bigg\\}\n",
    "\\end{equation*}"
   ]
  },
  {
   "cell_type": "markdown",
   "metadata": {},
   "source": [
    "\n",
    "\n",
    "Original equation:\n",
    "\\begin{equation*}\n",
    "  \\pi(X) = \\mathbf{N}_4 \\Bigg\\{ \\left(\n",
    "  \\begin{matrix}\n",
    "    1 \\\\ 2 \\\\ 1 \\\\ 3\n",
    "  \\end{matrix}\n",
    "  \\right), \\left(\n",
    "  \\begin{matrix}\n",
    "    2 & 1 & 2 & 3 \\\\\n",
    "    1 & 2 & 1 & 3 \\\\\n",
    "    2 & 1 & 3 & 3 \\\\\n",
    "    3 & 3 & 3 & 7\n",
    "  \\end{matrix}\n",
    "  \\right) \\Bigg\\}\n",
    "\\end{equation*}\n",
    "\n",
    "Updated equation:\n",
    "\\begin{equation*}\n",
    "  \\pi(X) = \\mathbf{N}_4 \\left\\{ \\left(\n",
    "  \\begin{matrix}\n",
    "    1 \\\\ 2 \\\\ 1 \\\\ 3\n",
    "  \\end{matrix}\n",
    "  \\right), \\left(\n",
    "  \\begin{matrix}\n",
    "    2 & 1 & 2 & 3 \\\\\n",
    "    1 & 2 & 1 & 3 \\\\\n",
    "    2 & 1 & 3 & 3 \\\\\n",
    "    3 & 3 & 3 & 7\n",
    "  \\end{matrix}\n",
    "  \\right) \\right\\}\n",
    "\\end{equation*}\n",
    "\n",
    "\\end{document}"
   ]
  }
 ],
 "metadata": {
  "kernelspec": {
   "display_name": "Python 3",
   "language": "python",
   "name": "python3"
  },
  "language_info": {
   "codemirror_mode": {
    "name": "ipython",
    "version": 3
   },
   "file_extension": ".py",
   "mimetype": "text/x-python",
   "name": "python",
   "nbconvert_exporter": "python",
   "pygments_lexer": "ipython3",
   "version": "3.7.3"
  }
 },
 "nbformat": 4,
 "nbformat_minor": 2
}
