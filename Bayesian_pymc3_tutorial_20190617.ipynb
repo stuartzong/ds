{
 "cells": [
  {
   "cell_type": "markdown",
   "metadata": {},
   "source": [
    "a good source:  \n",
    "https://discourse.pymc.io/t/advance-bayesian-modelling-with-pymc3/1439"
   ]
  },
  {
   "cell_type": "code",
   "execution_count": 41,
   "metadata": {},
   "outputs": [],
   "source": [
    "import pymc3 as pm\n",
    "import numpy as np\n",
    "import scipy.stats as st\n",
    "import matplotlib.pyplot as plt\n",
    "from scipy.special import comb\n",
    "from IPython.core.interactiveshell import InteractiveShell\n",
    "InteractiveShell.ast_node_interactivity = \"all\""
   ]
  },
  {
   "cell_type": "markdown",
   "metadata": {},
   "source": [
    "### flip a coin, stop when you have 5 heads"
   ]
  },
  {
   "cell_type": "markdown",
   "metadata": {},
   "source": [
    "rvs means random variates"
   ]
  },
  {
   "cell_type": "code",
   "execution_count": 3,
   "metadata": {},
   "outputs": [],
   "source": [
    "p = 0.5\n",
    "flips = []\n",
    "# do this experiment 1000 times\n",
    "for i in range(1000):\n",
    "    flip_sq = st.bernoulli.rvs(p, size=5)\n",
    "#     print(f'flip gets {flip_sq}')\n",
    "    while flip_sq.sum() !=5:\n",
    "        flip_sq = np.append(flip_sq, st.bernoulli.rvs(p))\n",
    "#     print(len(flip_sq))\n",
    "    flips.append(len(flip_sq))"
   ]
  },
  {
   "cell_type": "code",
   "execution_count": 7,
   "metadata": {},
   "outputs": [],
   "source": [
    "st.bernoulli.rvs??"
   ]
  },
  {
   "cell_type": "code",
   "execution_count": 4,
   "metadata": {},
   "outputs": [
    {
     "data": {
      "text/plain": [
       "(array([210., 309., 280., 124.,  57.,  10.,   5.,   3.,   1.,   1.]),\n",
       " array([ 5. ,  7.5, 10. , 12.5, 15. , 17.5, 20. , 22.5, 25. , 27.5, 30. ]),\n",
       " <a list of 10 Patch objects>)"
      ]
     },
     "execution_count": 4,
     "metadata": {},
     "output_type": "execute_result"
    },
    {
     "data": {
      "image/png": "[encoded data removed]",
      "text/plain": [
       "<Figure size 432x288 with 1 Axes>"
      ]
     },
     "metadata": {
      "needs_background": "light"
     },
     "output_type": "display_data"
    }
   ],
   "source": [
    "plt.hist(flips)"
   ]
  },
  {
   "cell_type": "code",
   "execution_count": 8,
   "metadata": {},
   "outputs": [
    {
     "data": {
      "text/plain": [
       "array([0, 0, 0, 0, 0, 1, 1, 1, 0, 1])"
      ]
     },
     "execution_count": 8,
     "metadata": {},
     "output_type": "execute_result"
    }
   ],
   "source": [
    "st.bernoulli.rvs(p, size=10)"
   ]
  },
  {
   "cell_type": "code",
   "execution_count": 13,
   "metadata": {},
   "outputs": [],
   "source": [
    "st.norm.ppf??"
   ]
  },
  {
   "cell_type": "code",
   "execution_count": 14,
   "metadata": {},
   "outputs": [],
   "source": [
    "st.norm.pdf??"
   ]
  },
  {
   "cell_type": "markdown",
   "metadata": {},
   "source": [
    "ppf: percent point function. this is the inerse of cdf\n",
    "\n",
    "pdf: probability density function"
   ]
  },
  {
   "cell_type": "code",
   "execution_count": 9,
   "metadata": {},
   "outputs": [
    {
     "data": {
      "text/plain": [
       "[<matplotlib.lines.Line2D at 0x7f165d53c9b0>]"
      ]
     },
     "execution_count": 9,
     "metadata": {},
     "output_type": "execute_result"
    },
    {
     "data": {
      "image/png": "[encoded data removed]",
      "text/plain": [
       "<Figure size 432x288 with 1 Axes>"
      ]
     },
     "metadata": {
      "needs_background": "light"
     },
     "output_type": "display_data"
    }
   ],
   "source": [
    "x = np.linspace(st.norm.ppf(0.01),\n",
    "                st.norm.ppf(0.99), 100)\n",
    "f, ax = plt.subplots()\n",
    "ax.plot(x, st.norm.pdf(x),\n",
    "       'r-', lw=5, alpha=.6, label='norm pdf')"
   ]
  },
  {
   "cell_type": "code",
   "execution_count": 15,
   "metadata": {},
   "outputs": [
    {
     "data": {
      "text/plain": [
       "array([-2.32634787, -2.27935095, -2.23235402, -2.18535709, -2.13836017,\n",
       "       -2.09136324, -2.04436631, -1.99736939, -1.95037246, -1.90337553,\n",
       "       -1.85637861, -1.80938168, -1.76238475, -1.71538783, -1.6683909 ,\n",
       "       -1.62139397, -1.57439705, -1.52740012, -1.48040319, -1.43340627,\n",
       "       -1.38640934, -1.33941241, -1.29241549, -1.24541856, -1.19842163,\n",
       "       -1.15142471, -1.10442778, -1.05743085, -1.01043393, -0.963437  ,\n",
       "       -0.91644007, -0.86944314, -0.82244622, -0.77544929, -0.72845236,\n",
       "       -0.68145544, -0.63445851, -0.58746158, -0.54046466, -0.49346773,\n",
       "       -0.4464708 , -0.39947388, -0.35247695, -0.30548002, -0.2584831 ,\n",
       "       -0.21148617, -0.16448924, -0.11749232, -0.07049539, -0.02349846,\n",
       "        0.02349846,  0.07049539,  0.11749232,  0.16448924,  0.21148617,\n",
       "        0.2584831 ,  0.30548002,  0.35247695,  0.39947388,  0.4464708 ,\n",
       "        0.49346773,  0.54046466,  0.58746158,  0.63445851,  0.68145544,\n",
       "        0.72845236,  0.77544929,  0.82244622,  0.86944314,  0.91644007,\n",
       "        0.963437  ,  1.01043393,  1.05743085,  1.10442778,  1.15142471,\n",
       "        1.19842163,  1.24541856,  1.29241549,  1.33941241,  1.38640934,\n",
       "        1.43340627,  1.48040319,  1.52740012,  1.57439705,  1.62139397,\n",
       "        1.6683909 ,  1.71538783,  1.76238475,  1.80938168,  1.85637861,\n",
       "        1.90337553,  1.95037246,  1.99736939,  2.04436631,  2.09136324,\n",
       "        2.13836017,  2.18535709,  2.23235402,  2.27935095,  2.32634787])"
      ]
     },
     "execution_count": 15,
     "metadata": {},
     "output_type": "execute_result"
    },
    {
     "data": {
      "text/plain": [
       "100"
      ]
     },
     "execution_count": 15,
     "metadata": {},
     "output_type": "execute_result"
    }
   ],
   "source": [
    "x;len(x)"
   ]
  },
  {
   "cell_type": "code",
   "execution_count": 42,
   "metadata": {
    "scrolled": true
   },
   "outputs": [
    {
     "data": {
      "text/plain": [
       "(array([  2.,  15.,  37., 118., 228., 236., 218., 108.,  28.,  10.]),\n",
       " array([-3.59703336, -2.93083124, -2.26462912, -1.598427  , -0.93222488,\n",
       "        -0.26602276,  0.40017936,  1.06638148,  1.7325836 ,  2.39878572,\n",
       "         3.06498784]),\n",
       " <a list of 10 Patch objects>)"
      ]
     },
     "execution_count": 42,
     "metadata": {},
     "output_type": "execute_result"
    },
    {
     "data": {
      "image/png": "[encoded data removed]",
      "text/plain": [
       "<Figure size 432x288 with 1 Axes>"
      ]
     },
     "metadata": {
      "needs_background": "light"
     },
     "output_type": "display_data"
    }
   ],
   "source": [
    "r = st.norm.rvs(size=1000)\n",
    "plt.hist(r)"
   ]
  },
  {
   "cell_type": "code",
   "execution_count": 44,
   "metadata": {},
   "outputs": [
    {
     "data": {
      "text/plain": [
       "array([ 0.20150189,  0.2718786 ,  0.90350611, -0.77364252, -0.29463555,\n",
       "       -0.38978597, -0.07416038,  1.64901889,  0.21169287, -0.30050536])"
      ]
     },
     "execution_count": 44,
     "metadata": {},
     "output_type": "execute_result"
    }
   ],
   "source": [
    "r[:10]"
   ]
  },
  {
   "cell_type": "markdown",
   "metadata": {},
   "source": [
    "### use pymc3 distribution without a model: dist method"
   ]
  },
  {
   "cell_type": "markdown",
   "metadata": {},
   "source": [
    "    n is the number of bernoulli trials, p is the probability of success, y describes how many successes."
   ]
  },
  {
   "cell_type": "code",
   "execution_count": 28,
   "metadata": {},
   "outputs": [
    {
     "data": {
      "text/latex": [
       "$\\text{None} \\sim \\text{Binomial}(\\mathit{n}=100,~\\mathit{p}=0.5)$"
      ],
      "text/plain": [
       "<pymc3.distributions.discrete.Binomial at 0x7f165bb9c8d0>"
      ]
     },
     "execution_count": 28,
     "metadata": {},
     "output_type": "execute_result"
    },
    {
     "data": {
      "text/plain": [
       "array([55, 52, 42, 46, 51, 51, 48, 47, 48, 49, 41, 50, 54, 52, 48, 46, 49,\n",
       "       49, 51, 44, 48, 53, 40, 55, 57, 43, 49, 50, 55, 45])"
      ]
     },
     "execution_count": 28,
     "metadata": {},
     "output_type": "execute_result"
    },
    {
     "data": {
      "text/plain": [
       "array(-4.52415649)"
      ]
     },
     "execution_count": 28,
     "metadata": {},
     "output_type": "execute_result"
    }
   ],
   "source": [
    "y = pm.Binomial.dist(n=100, p=0.5)\n",
    "y\n",
    "\n",
    "y.random(size=30)\n",
    "\n",
    "y.logp(40).eval() # what is this?\n",
    "\n",
    "# np.exp(-1.5843639)\n",
    "# np.log(np.exp(-1.5843639))"
   ]
  },
  {
   "cell_type": "code",
   "execution_count": 38,
   "metadata": {},
   "outputs": [
    {
     "data": {
      "text/plain": [
       "array(44)"
      ]
     },
     "execution_count": 38,
     "metadata": {},
     "output_type": "execute_result"
    }
   ],
   "source": [
    "y.random(size=1)"
   ]
  },
  {
   "cell_type": "code",
   "execution_count": 39,
   "metadata": {},
   "outputs": [],
   "source": [
    "# y = pm.Bernoulli.dist(p=0.3)\n",
    "y = pm.Bernoulli.dist(p=0.3, shape=(2,3))"
   ]
  },
  {
   "cell_type": "code",
   "execution_count": 40,
   "metadata": {},
   "outputs": [
    {
     "data": {
      "text/plain": [
       "array([[[0, 0, 0],\n",
       "        [0, 0, 1]],\n",
       "\n",
       "       [[1, 1, 1],\n",
       "        [0, 0, 0]]])"
      ]
     },
     "execution_count": 40,
     "metadata": {},
     "output_type": "execute_result"
    }
   ],
   "source": [
    "y.random(size=2)"
   ]
  },
  {
   "cell_type": "code",
   "execution_count": 21,
   "metadata": {},
   "outputs": [
    {
     "data": {
      "text/plain": [
       "(array([ 11.,  24.,  73., 153., 217., 226., 187.,  83.,  21.,   5.]),\n",
       " array([-1.099837  , -0.48517096,  0.12949508,  0.74416111,  1.35882715,\n",
       "         1.97349319,  2.58815923,  3.20282527,  3.81749131,  4.43215735,\n",
       "         5.04682339]),\n",
       " <a list of 10 Patch objects>)"
      ]
     },
     "execution_count": 21,
     "metadata": {},
     "output_type": "execute_result"
    },
    {
     "data": {
      "image/png": "[encoded data removed]",
      "text/plain": [
       "<Figure size 432x288 with 1 Axes>"
      ]
     },
     "metadata": {
      "needs_background": "light"
     },
     "output_type": "display_data"
    }
   ],
   "source": [
    "y = pm.Normal.dist(mu=2, sd=1)# shape=(2,3))\n",
    "\n",
    "plt.hist(y.random(size=1000))"
   ]
  },
  {
   "cell_type": "markdown",
   "metadata": {},
   "source": [
    "exclusivity:   \n",
    "let Apobec H/notH = H/L  = 20/98\n",
    "    hrd H/notH    = B/S  = 15/103\n",
    "    \n",
    "the question to ask is: what is the probability of seeing 0 H/B combination if you toss the two coins 118 time?"
   ]
  },
  {
   "cell_type": "markdown",
   "metadata": {},
   "source": [
    "### priors"
   ]
  },
  {
   "cell_type": "code",
   "execution_count": 156,
   "metadata": {},
   "outputs": [
    {
     "name": "stderr",
     "output_type": "stream",
     "text": [
      "Auto-assigning NUTS sampler...\n",
      "Initializing NUTS using jitter+adapt_diag...\n"
     ]
    },
    {
     "name": "stdout",
     "output_type": "stream",
     "text": [
      "starting sampling\n"
     ]
    },
    {
     "name": "stderr",
     "output_type": "stream",
     "text": [
      "Multiprocess sampling (4 chains in 4 jobs)\n",
      "NUTS: [p1]\n",
      "Sampling 4 chains: 100%|██████████| 42000/42000 [00:12<00:00, 3327.29draws/s]\n"
     ]
    },
    {
     "data": {
      "text/plain": [
       "<Figure size 504x504 with 0 Axes>"
      ]
     },
     "metadata": {},
     "output_type": "display_data"
    },
    {
     "data": {
      "image/png": "[encoded data removed]",
      "text/plain": [
       "<Figure size 864x144 with 2 Axes>"
      ]
     },
     "metadata": {},
     "output_type": "display_data"
    }
   ],
   "source": [
    "n=118\n",
    "heads=0\n",
    "\n",
    "with pm.Model() as model:\n",
    "    p1 = pm.Uniform('p1', lower=0, upper=0.5) # non-informative prior\n",
    "    y1 = pm.Binomial('y1', n=n, p=p1, observed=heads)\n",
    "    print('starting sampling')\n",
    "    trace = pm.sample(10000)\n",
    "\n",
    "plt.figure(figsize=(7, 7))\n",
    "pm.traceplot(trace[100:], \n",
    "          combined=True, \n",
    "          priors=[pm.Uniform.dist(0,1)])\n",
    "\n",
    "\n",
    "plt.tight_layout();"
   ]
  },
  {
   "cell_type": "code",
   "execution_count": 157,
   "metadata": {},
   "outputs": [
    {
     "data": {
      "text/html": [
       "<div>\n",
       "<style scoped>\n",
       "    .dataframe tbody tr th:only-of-type {\n",
       "        vertical-align: middle;\n",
       "    }\n",
       "\n",
       "    .dataframe tbody tr th {\n",
       "        vertical-align: top;\n",
       "    }\n",
       "\n",
       "    .dataframe thead th {\n",
       "        text-align: right;\n",
       "    }\n",
       "</style>\n",
       "<table border=\"1\" class=\"dataframe\">\n",
       "  <thead>\n",
       "    <tr style=\"text-align: right;\">\n",
       "      <th></th>\n",
       "      <th>mean</th>\n",
       "      <th>sd</th>\n",
       "      <th>mc_error</th>\n",
       "      <th>hpd_2.5</th>\n",
       "      <th>hpd_97.5</th>\n",
       "      <th>n_eff</th>\n",
       "      <th>Rhat</th>\n",
       "    </tr>\n",
       "  </thead>\n",
       "  <tbody>\n",
       "    <tr>\n",
       "      <th>p1</th>\n",
       "      <td>0.00828</td>\n",
       "      <td>0.008195</td>\n",
       "      <td>0.000066</td>\n",
       "      <td>2.599392e-07</td>\n",
       "      <td>0.024768</td>\n",
       "      <td>16006.128902</td>\n",
       "      <td>1.000027</td>\n",
       "    </tr>\n",
       "  </tbody>\n",
       "</table>\n",
       "</div>"
      ],
      "text/plain": [
       "       mean        sd  mc_error       hpd_2.5  hpd_97.5         n_eff  \\\n",
       "p1  0.00828  0.008195  0.000066  2.599392e-07  0.024768  16006.128902   \n",
       "\n",
       "        Rhat  \n",
       "p1  1.000027  "
      ]
     },
     "execution_count": 157,
     "metadata": {},
     "output_type": "execute_result"
    }
   ],
   "source": [
    "pm.summary(trace)"
   ]
  },
  {
   "cell_type": "markdown",
   "metadata": {},
   "source": [
    "### model the exclusivity as bernoulli events. "
   ]
  },
  {
   "cell_type": "code",
   "execution_count": 129,
   "metadata": {},
   "outputs": [
    {
     "data": {
      "text/plain": [
       "0.021545532892846882"
      ]
     },
     "execution_count": 129,
     "metadata": {},
     "output_type": "execute_result"
    }
   ],
   "source": [
    "a = 20/118\n",
    "b = 15/118\n",
    "p = a * b\n",
    "p"
   ]
  },
  {
   "cell_type": "code",
   "execution_count": 130,
   "metadata": {},
   "outputs": [
    {
     "data": {
      "text/plain": [
       "array([3, 7, 1, 5, 1, 3, 3, 0, 3, 2, 4, 6, 2, 2, 2, 1, 3, 1, 5, 5, 3, 3,\n",
       "       1, 2, 4, 1, 6, 2, 1, 2, 1, 4, 2, 2, 0, 1, 3, 3, 4, 4, 4, 1, 4, 3,\n",
       "       5, 0, 3, 6, 3, 3, 2, 2, 2, 2, 0, 4, 3, 3, 2, 4, 0, 7, 5, 2, 3, 2,\n",
       "       3, 1, 6, 3, 3, 7, 4, 2, 2, 2, 2, 1, 4, 2, 1, 1, 4, 1, 5, 1, 4, 5,\n",
       "       2, 1, 2, 3, 4, 1, 1, 4, 2, 2, 4, 2])"
      ]
     },
     "execution_count": 130,
     "metadata": {},
     "output_type": "execute_result"
    },
    {
     "data": {
      "text/plain": [
       "0.07652321367264624"
      ]
     },
     "execution_count": 130,
     "metadata": {},
     "output_type": "execute_result"
    }
   ],
   "source": [
    "y = pm.Binomial.dist(n=118, p=p)\n",
    "y.random(size=100)\n",
    "logp = y.logp(0).eval()\n",
    "np.exp(logp)"
   ]
  },
  {
   "cell_type": "code",
   "execution_count": null,
   "metadata": {},
   "outputs": [],
   "source": []
  },
  {
   "cell_type": "markdown",
   "metadata": {},
   "source": [
    "### example binomial probability mass function:"
   ]
  },
  {
   "cell_type": "markdown",
   "metadata": {},
   "source": [
    "$f(x|n,p)  = \\binom{n}{k} p^x  (1-p)^{n-x} = \\frac{n!}{k!(n-k)!} p^x  (1-p)^{n-x}$\n"
   ]
  },
  {
   "cell_type": "code",
   "execution_count": 172,
   "metadata": {},
   "outputs": [],
   "source": [
    "n=118\n",
    "p1= 20/118.0\n",
    "pmfs = []\n",
    "for i in range(118):\n",
    "    k=i\n",
    "    p = comb(n,k,exact=True)*p1**k * (1-p1)**(n-k)\n",
    "    pmfs.append(p)"
   ]
  },
  {
   "cell_type": "code",
   "execution_count": 173,
   "metadata": {
    "scrolled": true
   },
   "outputs": [
    {
     "data": {
      "text/plain": [
       "[<matplotlib.lines.Line2D at 0x7fce15d787f0>]"
      ]
     },
     "execution_count": 173,
     "metadata": {},
     "output_type": "execute_result"
    },
    {
     "data": {
      "image/png": "[encoded data removed]",
      "text/plain": [
       "<Figure size 432x288 with 1 Axes>"
      ]
     },
     "metadata": {},
     "output_type": "display_data"
    }
   ],
   "source": [
    "plt.plot(range(118), pmfs)"
   ]
  },
  {
   "cell_type": "code",
   "execution_count": 175,
   "metadata": {},
   "outputs": [
    {
     "data": {
      "text/plain": [
       "0.09746552619758393"
      ]
     },
     "execution_count": 175,
     "metadata": {},
     "output_type": "execute_result"
    }
   ],
   "source": [
    "n=118\n",
    "p1= 20/118.0\n",
    "k=20\n",
    "comb(n,k,exact=True)*p1**k * (1-p1)**(n-k)"
   ]
  },
  {
   "cell_type": "markdown",
   "metadata": {},
   "source": [
    "### the other way to look at this"
   ]
  },
  {
   "cell_type": "code",
   "execution_count": 176,
   "metadata": {},
   "outputs": [
    {
     "data": {
      "text/plain": [
       "0.1694915254237288"
      ]
     },
     "execution_count": 176,
     "metadata": {},
     "output_type": "execute_result"
    },
    {
     "data": {
      "text/plain": [
       "array([0, 1, 0, 0, 0, 0, 0, 0, 0, 0, 0, 0, 0, 0, 1, 0, 0, 0, 0, 0, 1, 0,\n",
       "       0, 0, 0, 1, 1, 0, 1, 1, 0, 0, 0, 0, 0, 0, 0, 1, 0, 0, 0, 0, 0, 0,\n",
       "       0, 0, 1, 0, 0, 0, 0, 0, 0, 0, 0, 1, 0, 0, 0, 1, 0, 1, 0, 0, 0, 0,\n",
       "       0, 1, 0, 0, 0, 1, 0, 0, 0, 0, 0, 1, 0, 0, 1, 0, 0, 0, 0, 1, 1, 0,\n",
       "       0, 1, 1, 1, 0, 0, 1, 0, 0, 0, 1, 1])"
      ]
     },
     "execution_count": 176,
     "metadata": {},
     "output_type": "execute_result"
    }
   ],
   "source": [
    "# apobec \n",
    "p1 = 20/118.0\n",
    "p1\n",
    "y1 = pm.Bernoulli.dist(p=p1)\n",
    "y1.random(size=100)\n"
   ]
  },
  {
   "cell_type": "code",
   "execution_count": 159,
   "metadata": {},
   "outputs": [
    {
     "data": {
      "text/plain": [
       "0.1271186440677966"
      ]
     },
     "execution_count": 159,
     "metadata": {},
     "output_type": "execute_result"
    },
    {
     "data": {
      "text/plain": [
       "array([0, 0, 0, 0, 0, 0, 0, 0, 0, 0, 0, 0, 0, 1, 0, 0, 0, 0, 0, 0, 0, 0,\n",
       "       0, 0, 0, 0, 0, 0, 0, 0, 1, 0, 0, 0, 0, 0, 0, 0, 0, 0, 1, 1, 0, 0,\n",
       "       0, 1, 0, 0, 0, 1, 0, 0, 0, 0, 0, 0, 0, 0, 0, 0, 0, 0, 0, 0, 0, 0,\n",
       "       0, 0, 0, 0, 1, 0, 0, 0, 0, 1, 0, 0, 0, 0, 0, 0, 0, 0, 0, 0, 0, 0,\n",
       "       0, 0, 0, 0, 0, 0, 1, 0, 0, 0, 1, 0])"
      ]
     },
     "execution_count": 159,
     "metadata": {},
     "output_type": "execute_result"
    }
   ],
   "source": [
    "p2 = 15/118.0\n",
    "p2\n",
    "y2 = pm.Bernoulli.dist(p=p2)\n",
    "y2.random(size=100)"
   ]
  },
  {
   "cell_type": "code",
   "execution_count": 160,
   "metadata": {},
   "outputs": [],
   "source": [
    "# simulate for 1000 times\n",
    "trials = []\n",
    "for i in range(10000):\n",
    "    s1 = y1.random(size=118)\n",
    "    s2 = y2.random(size=118)\n",
    "    num_suc = (s1 + s2 == 2).sum()\n",
    "    trials.append(num_suc)"
   ]
  },
  {
   "cell_type": "code",
   "execution_count": 161,
   "metadata": {
    "scrolled": true
   },
   "outputs": [
    {
     "data": {
      "text/plain": [
       "(array([ 746., 1978., 2549., 2165., 1396.,  686.,  328.,  116.,   27.,\n",
       "           9.]),\n",
       " array([ 0.,  1.,  2.,  3.,  4.,  5.,  6.,  7.,  8.,  9., 10.]),\n",
       " <a list of 10 Patch objects>)"
      ]
     },
     "execution_count": 161,
     "metadata": {},
     "output_type": "execute_result"
    },
    {
     "data": {
      "image/png": "[encoded data removed]",
      "text/plain": [
       "<Figure size 432x288 with 1 Axes>"
      ]
     },
     "metadata": {},
     "output_type": "display_data"
    }
   ],
   "source": [
    "plt.hist(trials)"
   ]
  },
  {
   "cell_type": "code",
   "execution_count": 162,
   "metadata": {},
   "outputs": [
    {
     "data": {
      "text/plain": [
       "0.0746"
      ]
     },
     "execution_count": 162,
     "metadata": {},
     "output_type": "execute_result"
    }
   ],
   "source": [
    "(np.array(trials) == 0).mean()"
   ]
  },
  {
   "cell_type": "code",
   "execution_count": null,
   "metadata": {},
   "outputs": [],
   "source": []
  }
 ],
 "metadata": {
  "kernelspec": {
   "display_name": "Python 3",
   "language": "python",
   "name": "python3"
  },
  "language_info": {
   "codemirror_mode": {
    "name": "ipython",
    "version": 3
   },
   "file_extension": ".py",
   "mimetype": "text/x-python",
   "name": "python",
   "nbconvert_exporter": "python",
   "pygments_lexer": "ipython3",
   "version": "3.7.3"
  }
 },
 "nbformat": 4,
 "nbformat_minor": 2
}
