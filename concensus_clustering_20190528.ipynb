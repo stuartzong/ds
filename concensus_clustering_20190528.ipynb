{
 "cells": [
  {
   "cell_type": "markdown",
   "metadata": {},
   "source": [
    "https://ieeexplore.ieee.org/stamp/stamp.jsp?arnumber=4470298"
   ]
  },
  {
   "cell_type": "markdown",
   "metadata": {},
   "source": [
    "\n",
    "formalize the question:\n",
    "N data points, $X = \\{x_1, x_2, .... X_N\\} $\n",
    "\n",
    "C clustering solutions, $Π = \\{π_1, π_2, ... π_C\\}$, cluster these data points with various algorithms in C different ways, so C clustering solutions\n",
    "\n",
    "$π_i$ map X to n clusters, $π_i > \\{1_{π_i}, 2_{π_i}, .. n_{π_i}\\}$ \n",
    "\n",
    "after C clustering, we get a C-dimensional vector $Y = \\{y_1, y_2, ... y_N\\}$, For each data point, $y_i = <π_1(x_i), π_2(x_i), ..., π_C(x_i)>$. Essentially, you get a N x C matrix, the values are the cluster memberships for each data point and each cluster solution. you need to cluster the matrix again to decide the best assignment of cluster membership.  \n",
    "\n",
    "so concensus clustering is to find a new clustering $π^*$ to best summarize teh clustering ensemble Π."
   ]
  }
 ],
 "metadata": {
  "kernelspec": {
   "display_name": "Python 3",
   "language": "python",
   "name": "python3"
  },
  "language_info": {
   "codemirror_mode": {
    "name": "ipython",
    "version": 3
   },
   "file_extension": ".py",
   "mimetype": "text/x-python",
   "name": "python",
   "nbconvert_exporter": "python",
   "pygments_lexer": "ipython3",
   "version": "3.7.3"
  }
 },
 "nbformat": 4,
 "nbformat_minor": 2
}
