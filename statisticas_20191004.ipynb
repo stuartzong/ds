{
 "cells": [
  {
   "cell_type": "code",
   "execution_count": 3,
   "metadata": {},
   "outputs": [],
   "source": [
    "import numpy as np\n",
    "from tqdm import tqdm\n",
    "from IPython.core.interactiveshell import InteractiveShell\n",
    "InteractiveShell.ast_node_interactivity = \"all\"\n",
    "%load_ext blackcellmagic\n"
   ]
  },
  {
   "cell_type": "code",
   "execution_count": 8,
   "metadata": {},
   "outputs": [
    {
     "name": "stderr",
     "output_type": "stream",
     "text": [
      "100%|██████████| 100000/100000 [00:00<00:00, 1263192.39it/s]\n"
     ]
    }
   ],
   "source": [
    "for i in tqdm(range(int(1e5))):\n",
    "    pass"
   ]
  },
  {
   "cell_type": "markdown",
   "metadata": {},
   "source": [
    "# p value"
   ]
  },
  {
   "cell_type": "markdown",
   "metadata": {},
   "source": [
    "In statistic hypothesis testing, p value is the probability of oberserving the results or more extreme results if the null hypothesis is true."
   ]
  },
  {
   "cell_type": "markdown",
   "metadata": {},
   "source": [
    "# central limit theorem"
   ]
  },
  {
   "cell_type": "markdown",
   "metadata": {},
   "source": [
    "# q value"
   ]
  },
  {
   "cell_type": "code",
   "execution_count": null,
   "metadata": {},
   "outputs": [],
   "source": []
  },
  {
   "cell_type": "markdown",
   "metadata": {},
   "source": [
    "# FDR\n",
    "control the false discovery rate for multiple hyothesis testings"
   ]
  },
  {
   "cell_type": "markdown",
   "metadata": {},
   "source": [
    "https://www.jstor.org/stable/2346101?seq=1#metadata_info_tab_contents"
   ]
  },
  {
   "cell_type": "code",
   "execution_count": 35,
   "metadata": {},
   "outputs": [
    {
     "data": {
      "text/plain": [
       "array([1.000e-03, 4.000e-04, 1.900e-03, 9.500e-03, 2.010e-02, 2.780e-02,\n",
       "       2.980e-02, 3.440e-02, 4.590e-02, 3.240e-01, 4.262e-01, 5.719e-01,\n",
       "       6.528e-01, 7.590e-01, 1.000e+00])"
      ]
     },
     "execution_count": 35,
     "metadata": {},
     "output_type": "execute_result"
    }
   ],
   "source": [
    "# order p values in ascending order\n",
    "p = np.array([0.001, 0.0004, 0.0019, 0.0095, 0.0201, 0.0278, 0.0298, 0.0344, 0.0459, 0.3240, 0.4262, 0.5719, 0.6528, 0.7590, 1.000])\n",
    "p"
   ]
  },
  {
   "cell_type": "markdown",
   "metadata": {},
   "source": [
    "## procedure 1: Bonferroni approach\n",
    "use 0.05/15 as cutoff. I think this is very stringent. it means if i do 15 tests, to reject the null hypotheses, the p value must < 0.05 (significant level)/15 (the number of tests.)\n"
   ]
  },
  {
   "cell_type": "code",
   "execution_count": 34,
   "metadata": {},
   "outputs": [
    {
     "data": {
      "text/plain": [
       "0.0033333333333333335"
      ]
     },
     "execution_count": 34,
     "metadata": {},
     "output_type": "execute_result"
    },
    {
     "data": {
      "text/plain": [
       "array([ True,  True,  True, False, False, False, False, False, False,\n",
       "       False, False, False, False, False, False])"
      ]
     },
     "execution_count": 34,
     "metadata": {},
     "output_type": "execute_result"
    }
   ],
   "source": [
    "bon = 0.05/15; bon\n",
    "p < bon # reject the first 3 hypothesis"
   ]
  },
  {
   "cell_type": "markdown",
   "metadata": {},
   "source": [
    "## Hocheberge procedure\n",
    "order p value from smallest to largest, then compare p value to its Hochberge value alpha/(k-j+1), k is number of tests, j is the order of p vlaue."
   ]
  },
  {
   "cell_type": "code",
   "execution_count": 51,
   "metadata": {},
   "outputs": [
    {
     "data": {
      "text/plain": [
       "array([0.00333333, 0.00357143, 0.00384615, 0.00416667, 0.00454545,\n",
       "       0.005     , 0.00555556, 0.00625   , 0.00714286, 0.00833333,\n",
       "       0.01      , 0.0125    , 0.01666667, 0.025     , 0.05      ])"
      ]
     },
     "execution_count": 51,
     "metadata": {},
     "output_type": "execute_result"
    },
    {
     "data": {
      "text/plain": [
       "array([ True,  True,  True, False, False, False, False, False, False,\n",
       "       False, False, False, False, False, False])"
      ]
     },
     "execution_count": 51,
     "metadata": {},
     "output_type": "execute_result"
    }
   ],
   "source": [
    "alpha = 0.05\n",
    "hs = np.array([alpha / (15 - j + 1) for j in range(1, 16)])\n",
    "hs\n",
    "\n",
    "p < hs"
   ]
  },
  {
   "cell_type": "markdown",
   "metadata": {},
   "source": [
    "## Benjamini–Hochberg FDR controlling procedure"
   ]
  },
  {
   "cell_type": "code",
   "execution_count": 53,
   "metadata": {},
   "outputs": [
    {
     "data": {
      "text/plain": [
       "array([0.00333333, 0.00666667, 0.01      , 0.01333333, 0.01666667,\n",
       "       0.02      , 0.02333333, 0.02666667, 0.03      , 0.03333333,\n",
       "       0.03666667, 0.04      , 0.04333333, 0.04666667, 0.05      ])"
      ]
     },
     "execution_count": 53,
     "metadata": {},
     "output_type": "execute_result"
    },
    {
     "data": {
      "text/plain": [
       "array([ True,  True,  True,  True, False, False, False, False, False,\n",
       "       False, False, False, False, False, False])"
      ]
     },
     "execution_count": 53,
     "metadata": {},
     "output_type": "execute_result"
    }
   ],
   "source": [
    "# pick a q threshold false discovery rate is 5%\n",
    "q = 0.05\n",
    "# compare p with q*i/15 sequentially starting from the largest p\n",
    "bhs = np.array([q * j / 15 for j in range(1, 16)])\n",
    "bhs\n",
    "\n",
    "\n",
    "p < bhs  # reject first 4 hypothesis"
   ]
  },
  {
   "cell_type": "code",
   "execution_count": null,
   "metadata": {},
   "outputs": [],
   "source": []
  },
  {
   "cell_type": "code",
   "execution_count": 9,
   "metadata": {},
   "outputs": [
    {
     "name": "stdout",
     "output_type": "stream",
     "text": [
      "this is a test cell!\n"
     ]
    }
   ],
   "source": [
    "#export\n",
    "print('this is a test cell!')"
   ]
  },
  {
   "cell_type": "markdown",
   "metadata": {},
   "source": [
    "# EXPORT"
   ]
  },
  {
   "cell_type": "code",
   "execution_count": 12,
   "metadata": {},
   "outputs": [
    {
     "name": "stdout",
     "output_type": "stream",
     "text": [
      "Converted statisticas_20191004.ipynb to exp/nb_statisticas_20191004.py\r\n"
     ]
    }
   ],
   "source": [
    "!python notebook2script.py statisticas_20191004.ipynb"
   ]
  }
 ],
 "metadata": {
  "kernelspec": {
   "display_name": "Python 3",
   "language": "python",
   "name": "python3"
  },
  "language_info": {
   "codemirror_mode": {
    "name": "ipython",
    "version": 3
   },
   "file_extension": ".py",
   "mimetype": "text/x-python",
   "name": "python",
   "nbconvert_exporter": "python",
   "pygments_lexer": "ipython3",
   "version": "3.7.3"
  }
 },
 "nbformat": 4,
 "nbformat_minor": 2
}
